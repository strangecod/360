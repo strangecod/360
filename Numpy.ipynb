{
  "cells": [
    {
      "cell_type": "markdown",
      "metadata": {
        "id": "view-in-github",
        "colab_type": "text"
      },
      "source": [
        "<a href=\"https://colab.research.google.com/github/strangecod/360/blob/main/Numpy.ipynb\" target=\"_parent\"><img src=\"https://colab.research.google.com/assets/colab-badge.svg\" alt=\"Open In Colab\"/></a>"
      ]
    },
    {
      "cell_type": "code",
      "source": [
        "import numpy as np\n",
        "l=[1,2,3,4]\n",
        "np.array(l)\n"
      ],
      "metadata": {
        "id": "8hjDu05o-9UU",
        "outputId": "832592cd-3f55-4ebd-f6bc-68d547ac9674",
        "colab": {
          "base_uri": "https://localhost:8080/"
        }
      },
      "execution_count": null,
      "outputs": [
        {
          "output_type": "execute_result",
          "data": {
            "text/plain": [
              "array([1, 2, 3, 4])"
            ]
          },
          "metadata": {},
          "execution_count": 3
        }
      ]
    },
    {
      "cell_type": "code",
      "source": [
        "np.array(l)"
      ],
      "metadata": {
        "id": "s4i-PC1BAS8s",
        "outputId": "a7014fe6-2dd8-42c0-f20b-c18fcdbc86ad",
        "colab": {
          "base_uri": "https://localhost:8080/"
        }
      },
      "execution_count": null,
      "outputs": [
        {
          "output_type": "execute_result",
          "data": {
            "text/plain": [
              "array([1, 2, 3, 4])"
            ]
          },
          "metadata": {},
          "execution_count": 4
        }
      ]
    },
    {
      "cell_type": "code",
      "source": [
        "arr1=np.asarray(l)"
      ],
      "metadata": {
        "id": "YSqqWBq_A-bD"
      },
      "execution_count": null,
      "outputs": []
    },
    {
      "cell_type": "code",
      "source": [
        "arr=np.array([[1,2,3,],[2,3,4]])"
      ],
      "metadata": {
        "id": "H9arpD-WBEFP"
      },
      "execution_count": null,
      "outputs": []
    },
    {
      "cell_type": "code",
      "source": [
        "arr.ndim"
      ],
      "metadata": {
        "id": "XMQ8PFYhBKnF",
        "outputId": "53ad364b-ae5c-4d11-aba6-df85dab92496",
        "colab": {
          "base_uri": "https://localhost:8080/"
        }
      },
      "execution_count": null,
      "outputs": [
        {
          "output_type": "execute_result",
          "data": {
            "text/plain": [
              "2"
            ]
          },
          "metadata": {},
          "execution_count": 9
        }
      ]
    },
    {
      "cell_type": "code",
      "source": [
        "print(type(arr))"
      ],
      "metadata": {
        "id": "PzT10tFYBTzf",
        "outputId": "00ccf85a-bf18-4100-f712-e038e841339b",
        "colab": {
          "base_uri": "https://localhost:8080/"
        }
      },
      "execution_count": null,
      "outputs": [
        {
          "output_type": "stream",
          "name": "stdout",
          "text": [
            "<class 'numpy.ndarray'>\n"
          ]
        }
      ]
    },
    {
      "cell_type": "code",
      "source": [
        "print(type(arr1))"
      ],
      "metadata": {
        "id": "poG5vn7XBl6W",
        "outputId": "14e17265-5a05-4200-80fe-058cf69a786d",
        "colab": {
          "base_uri": "https://localhost:8080/"
        }
      },
      "execution_count": null,
      "outputs": [
        {
          "output_type": "stream",
          "name": "stdout",
          "text": [
            "<class 'numpy.ndarray'>\n"
          ]
        }
      ]
    },
    {
      "cell_type": "code",
      "source": [
        "np.asanarray([mat])"
      ],
      "metadata": {
        "id": "rKbNZYgaFfRa",
        "outputId": "12df9c06-8888-4f57-cf2d-f6663570f7b7",
        "colab": {
          "base_uri": "https://localhost:8080/",
          "height": 141
        }
      },
      "execution_count": null,
      "outputs": [
        {
          "output_type": "error",
          "ename": "NameError",
          "evalue": "name 'mat' is not defined",
          "traceback": [
            "\u001b[0;31m---------------------------------------------------------------------------\u001b[0m",
            "\u001b[0;31mNameError\u001b[0m                                 Traceback (most recent call last)",
            "\u001b[0;32m<ipython-input-13-b5b14611e0f7>\u001b[0m in \u001b[0;36m<cell line: 1>\u001b[0;34m()\u001b[0m\n\u001b[0;32m----> 1\u001b[0;31m \u001b[0mnp\u001b[0m\u001b[0;34m.\u001b[0m\u001b[0masanyarray\u001b[0m\u001b[0;34m(\u001b[0m\u001b[0;34m[\u001b[0m\u001b[0mmat\u001b[0m\u001b[0;34m]\u001b[0m\u001b[0;34m)\u001b[0m\u001b[0;34m\u001b[0m\u001b[0;34m\u001b[0m\u001b[0m\n\u001b[0m",
            "\u001b[0;31mNameError\u001b[0m: name 'mat' is not defined"
          ]
        }
      ]
    },
    {
      "cell_type": "code",
      "source": [
        "a=arr"
      ],
      "metadata": {
        "id": "A9qXggyyFxCO"
      },
      "execution_count": null,
      "outputs": []
    },
    {
      "cell_type": "code",
      "source": [
        "print(a)"
      ],
      "metadata": {
        "id": "iy69iYnaF0Pd",
        "outputId": "831d3ffb-542a-48d4-8609-ce56740adc6f",
        "colab": {
          "base_uri": "https://localhost:8080/"
        }
      },
      "execution_count": null,
      "outputs": [
        {
          "output_type": "stream",
          "name": "stdout",
          "text": [
            "[[1 2 3]\n",
            " [2 3 4]]\n"
          ]
        }
      ]
    },
    {
      "cell_type": "code",
      "source": [
        "a[0][0]=100"
      ],
      "metadata": {
        "id": "mAeq3FrHF4EH"
      },
      "execution_count": null,
      "outputs": []
    },
    {
      "cell_type": "code",
      "source": [
        "print(a)"
      ],
      "metadata": {
        "id": "1A5bqIliF8U0",
        "outputId": "9d153320-688e-4f20-d7ed-88482d468ce4",
        "colab": {
          "base_uri": "https://localhost:8080/"
        }
      },
      "execution_count": null,
      "outputs": [
        {
          "output_type": "stream",
          "name": "stdout",
          "text": [
            "[[100   2   3]\n",
            " [  2   3   4]]\n"
          ]
        }
      ]
    },
    {
      "cell_type": "code",
      "source": [
        "print(arr)"
      ],
      "metadata": {
        "id": "QRkDJp2mF_Tu",
        "outputId": "511826f4-f8ff-4b4c-a773-16dab6c53b9a",
        "colab": {
          "base_uri": "https://localhost:8080/"
        }
      },
      "execution_count": null,
      "outputs": [
        {
          "output_type": "stream",
          "name": "stdout",
          "text": [
            "[[100   2   3]\n",
            " [  2   3   4]]\n"
          ]
        }
      ]
    },
    {
      "cell_type": "code",
      "source": [
        "b=np.copy(arr)"
      ],
      "metadata": {
        "id": "qYd9_6cvGBlM"
      },
      "execution_count": null,
      "outputs": []
    },
    {
      "cell_type": "code",
      "source": [
        "b[0][1]=200"
      ],
      "metadata": {
        "id": "gAnqZkeBGKju"
      },
      "execution_count": null,
      "outputs": []
    },
    {
      "cell_type": "code",
      "source": [
        "print(b)"
      ],
      "metadata": {
        "id": "BIQKlvw8GQw6",
        "outputId": "5818fbfb-4252-4126-a864-d33bfb9877b6",
        "colab": {
          "base_uri": "https://localhost:8080/"
        }
      },
      "execution_count": null,
      "outputs": [
        {
          "output_type": "stream",
          "name": "stdout",
          "text": [
            "[[100 200   3]\n",
            " [  2   3   4]]\n"
          ]
        }
      ]
    },
    {
      "cell_type": "code",
      "source": [
        "print(arr)"
      ],
      "metadata": {
        "id": "gtkwn4NQGTMO",
        "outputId": "2507a356-f1b0-4163-d007-05474e7bed5a",
        "colab": {
          "base_uri": "https://localhost:8080/"
        }
      },
      "execution_count": null,
      "outputs": [
        {
          "output_type": "stream",
          "name": "stdout",
          "text": [
            "[[100   2   3]\n",
            " [  2   3   4]]\n"
          ]
        }
      ]
    },
    {
      "cell_type": "code",
      "source": [
        "np.fromfunction(lambda i,j : i==j , (3,3))"
      ],
      "metadata": {
        "id": "0aw_8BeUGWy6",
        "outputId": "20d0df01-633d-4287-a0e4-439631a42cf4",
        "colab": {
          "base_uri": "https://localhost:8080/"
        }
      },
      "execution_count": null,
      "outputs": [
        {
          "output_type": "execute_result",
          "data": {
            "text/plain": [
              "array([[ True, False, False],\n",
              "       [False,  True, False],\n",
              "       [False, False,  True]])"
            ]
          },
          "metadata": {},
          "execution_count": 26
        }
      ]
    },
    {
      "cell_type": "code",
      "source": [
        "iterable=(i*3 for i in range(5))"
      ],
      "metadata": {
        "id": "nY2BRuXHGxkq"
      },
      "execution_count": null,
      "outputs": []
    },
    {
      "cell_type": "code",
      "source": [
        "np.fromiter(iterable,float)"
      ],
      "metadata": {
        "id": "HdvohyDQHn_T",
        "outputId": "1356e37c-fba6-4c0e-e91c-6df01abdc6d2",
        "colab": {
          "base_uri": "https://localhost:8080/"
        }
      },
      "execution_count": null,
      "outputs": [
        {
          "output_type": "execute_result",
          "data": {
            "text/plain": [
              "array([], dtype=float64)"
            ]
          },
          "metadata": {},
          "execution_count": 40
        }
      ]
    },
    {
      "cell_type": "code",
      "source": [
        "np.fromstring('23,45,34',sep = ',')  //converting the string into array"
      ],
      "metadata": {
        "id": "fbmkncg0H3Zu",
        "outputId": "81ac3b2a-0d62-4dd1-ebea-6a2502d3d93c",
        "colab": {
          "base_uri": "https://localhost:8080/"
        }
      },
      "execution_count": null,
      "outputs": [
        {
          "output_type": "execute_result",
          "data": {
            "text/plain": [
              "array([23., 45., 34.])"
            ]
          },
          "metadata": {},
          "execution_count": 43
        }
      ]
    },
    {
      "cell_type": "code",
      "source": [
        "arr.size"
      ],
      "metadata": {
        "id": "63GoHIb9IZx6",
        "outputId": "e24a3993-8fe3-4e89-b51e-c96a043edb00",
        "colab": {
          "base_uri": "https://localhost:8080/"
        }
      },
      "execution_count": null,
      "outputs": [
        {
          "output_type": "execute_result",
          "data": {
            "text/plain": [
              "6"
            ]
          },
          "metadata": {},
          "execution_count": 45
        }
      ]
    },
    {
      "cell_type": "code",
      "source": [
        "arr.shape"
      ],
      "metadata": {
        "id": "WCZ8jN0dImIn",
        "outputId": "52555bed-e2ab-42fe-e3ea-e250ff0f0590",
        "colab": {
          "base_uri": "https://localhost:8080/"
        }
      },
      "execution_count": null,
      "outputs": [
        {
          "output_type": "execute_result",
          "data": {
            "text/plain": [
              "(2, 3)"
            ]
          },
          "metadata": {},
          "execution_count": 49
        }
      ]
    },
    {
      "cell_type": "code",
      "source": [
        "np.arange(.4, 10.4, 0.2)  //for forming the array"
      ],
      "metadata": {
        "id": "ZXkdEF-GLXgC",
        "outputId": "d04e730c-aa5a-44f2-9fdb-7e2d73a5fd98",
        "colab": {
          "base_uri": "https://localhost:8080/"
        }
      },
      "execution_count": null,
      "outputs": [
        {
          "output_type": "execute_result",
          "data": {
            "text/plain": [
              "array([ 0.4,  0.6,  0.8,  1. ,  1.2,  1.4,  1.6,  1.8,  2. ,  2.2,  2.4,\n",
              "        2.6,  2.8,  3. ,  3.2,  3.4,  3.6,  3.8,  4. ,  4.2,  4.4,  4.6,\n",
              "        4.8,  5. ,  5.2,  5.4,  5.6,  5.8,  6. ,  6.2,  6.4,  6.6,  6.8,\n",
              "        7. ,  7.2,  7.4,  7.6,  7.8,  8. ,  8.2,  8.4,  8.6,  8.8,  9. ,\n",
              "        9.2,  9.4,  9.6,  9.8, 10. , 10.2])"
            ]
          },
          "metadata": {},
          "execution_count": 51
        }
      ]
    },
    {
      "cell_type": "code",
      "source": [
        "np.linspace(1,5, 20)"
      ],
      "metadata": {
        "id": "Zi3WlFgZLX4B",
        "outputId": "d7582eca-c1da-4c9f-c4de-7c1528e06230",
        "colab": {
          "base_uri": "https://localhost:8080/"
        }
      },
      "execution_count": null,
      "outputs": [
        {
          "output_type": "execute_result",
          "data": {
            "text/plain": [
              "array([1.        , 1.21052632, 1.42105263, 1.63157895, 1.84210526,\n",
              "       2.05263158, 2.26315789, 2.47368421, 2.68421053, 2.89473684,\n",
              "       3.10526316, 3.31578947, 3.52631579, 3.73684211, 3.94736842,\n",
              "       4.15789474, 4.36842105, 4.57894737, 4.78947368, 5.        ])"
            ]
          },
          "metadata": {},
          "execution_count": 53
        }
      ]
    },
    {
      "cell_type": "code",
      "source": [
        "np.logspace(1,5, 10, base=2)"
      ],
      "metadata": {
        "id": "827un0w2L-8N",
        "outputId": "fa2ac0b7-bf85-4451-e440-6d11cf96f99b",
        "colab": {
          "base_uri": "https://localhost:8080/"
        }
      },
      "execution_count": null,
      "outputs": [
        {
          "output_type": "execute_result",
          "data": {
            "text/plain": [
              "array([ 2.        ,  2.72158   ,  3.70349885,  5.0396842 ,  6.85795186,\n",
              "        9.33223232, 12.69920842, 17.28095582, 23.51575188, 32.        ])"
            ]
          },
          "metadata": {},
          "execution_count": 55
        }
      ]
    },
    {
      "cell_type": "code",
      "source": [
        "np.zeros(5)"
      ],
      "metadata": {
        "id": "sIjoiD8IMDRR",
        "outputId": "95c644d3-13c4-447a-ddbe-1d6b95c88923",
        "colab": {
          "base_uri": "https://localhost:8080/"
        }
      },
      "execution_count": null,
      "outputs": [
        {
          "output_type": "execute_result",
          "data": {
            "text/plain": [
              "array([0., 0., 0., 0., 0.])"
            ]
          },
          "metadata": {},
          "execution_count": 56
        }
      ]
    },
    {
      "cell_type": "code",
      "source": [
        "np.zeros((3,4))"
      ],
      "metadata": {
        "id": "o5I8TISEMIX3",
        "outputId": "7f26a18f-87f2-421e-c7e5-8f242080df76",
        "colab": {
          "base_uri": "https://localhost:8080/"
        }
      },
      "execution_count": null,
      "outputs": [
        {
          "output_type": "execute_result",
          "data": {
            "text/plain": [
              "array([[0., 0., 0., 0.],\n",
              "       [0., 0., 0., 0.],\n",
              "       [0., 0., 0., 0.]])"
            ]
          },
          "metadata": {},
          "execution_count": 57
        }
      ]
    },
    {
      "cell_type": "code",
      "source": [
        "np.zeros((3,4,2))"
      ],
      "metadata": {
        "id": "N3r0ARo4MIt0",
        "outputId": "0ca0efe5-6c0e-4341-cf21-90ee47df3cc5",
        "colab": {
          "base_uri": "https://localhost:8080/"
        }
      },
      "execution_count": null,
      "outputs": [
        {
          "output_type": "execute_result",
          "data": {
            "text/plain": [
              "array([[[0., 0.],\n",
              "        [0., 0.],\n",
              "        [0., 0.],\n",
              "        [0., 0.]],\n",
              "\n",
              "       [[0., 0.],\n",
              "        [0., 0.],\n",
              "        [0., 0.],\n",
              "        [0., 0.]],\n",
              "\n",
              "       [[0., 0.],\n",
              "        [0., 0.],\n",
              "        [0., 0.],\n",
              "        [0., 0.]]])"
            ]
          },
          "metadata": {},
          "execution_count": 58
        }
      ]
    },
    {
      "cell_type": "code",
      "source": [
        "np.ones(5)"
      ],
      "metadata": {
        "id": "O45PMPjpMI1T",
        "outputId": "81d949b4-355c-4c84-aad1-ffe57ca458aa",
        "colab": {
          "base_uri": "https://localhost:8080/"
        }
      },
      "execution_count": null,
      "outputs": [
        {
          "output_type": "execute_result",
          "data": {
            "text/plain": [
              "array([1., 1., 1., 1., 1.])"
            ]
          },
          "metadata": {},
          "execution_count": 60
        }
      ]
    },
    {
      "cell_type": "code",
      "source": [
        "arr4=np.ones((3,4))"
      ],
      "metadata": {
        "id": "7J7Ci5wyMI8a"
      },
      "execution_count": null,
      "outputs": []
    },
    {
      "cell_type": "code",
      "source": [
        "arr4+5"
      ],
      "metadata": {
        "id": "bndqIp88MJft",
        "outputId": "d08e4da2-6509-497f-c96f-c4b3649983f5",
        "colab": {
          "base_uri": "https://localhost:8080/"
        }
      },
      "execution_count": null,
      "outputs": [
        {
          "output_type": "execute_result",
          "data": {
            "text/plain": [
              "array([[6., 6., 6., 6.],\n",
              "       [6., 6., 6., 6.],\n",
              "       [6., 6., 6., 6.]])"
            ]
          },
          "metadata": {},
          "execution_count": 65
        }
      ]
    },
    {
      "cell_type": "code",
      "source": [
        "np.empty((3,4))"
      ],
      "metadata": {
        "id": "TdvMNXVqMKbB",
        "outputId": "b7b7e3a6-49ce-4292-9db2-471976e8339e",
        "colab": {
          "base_uri": "https://localhost:8080/"
        }
      },
      "execution_count": null,
      "outputs": [
        {
          "output_type": "execute_result",
          "data": {
            "text/plain": [
              "array([[6., 6., 6., 6.],\n",
              "       [6., 6., 6., 6.],\n",
              "       [6., 6., 6., 6.]])"
            ]
          },
          "metadata": {},
          "execution_count": 66
        }
      ]
    },
    {
      "cell_type": "code",
      "source": [
        "arr5=np.eye(5) //for forming the diagonal shape aray"
      ],
      "metadata": {
        "id": "d-dzDoCyMK0C"
      },
      "execution_count": 17,
      "outputs": []
    },
    {
      "cell_type": "code",
      "source": [
        "import pandas as pd\n"
      ],
      "metadata": {
        "id": "h9sG-7qZMLC5"
      },
      "execution_count": null,
      "outputs": []
    },
    {
      "cell_type": "code",
      "source": [
        "pd.DataFrame(arr5)"
      ],
      "metadata": {
        "id": "CQ-9NyDwMLnx",
        "outputId": "a6d0db56-7bdf-4f72-a5f7-37fd81e4aed9",
        "colab": {
          "base_uri": "https://localhost:8080/",
          "height": 1389
        }
      },
      "execution_count": null,
      "outputs": [
        {
          "output_type": "execute_result",
          "data": {
            "text/plain": [
              "     0    1    2    3    4\n",
              "0  1.0  0.0  0.0  0.0  0.0\n",
              "1  0.0  1.0  0.0  0.0  0.0\n",
              "2  0.0  0.0  1.0  0.0  0.0\n",
              "3  0.0  0.0  0.0  1.0  0.0\n",
              "4  0.0  0.0  0.0  0.0  1.0"
            ],
            "text/html": [
              "\n",
              "  <div id=\"df-cd7b3558-39e3-4445-b0ed-58b598b29564\" class=\"colab-df-container\">\n",
              "    <div>\n",
              "<style scoped>\n",
              "    .dataframe tbody tr th:only-of-type {\n",
              "        vertical-align: middle;\n",
              "    }\n",
              "\n",
              "    .dataframe tbody tr th {\n",
              "        vertical-align: top;\n",
              "    }\n",
              "\n",
              "    .dataframe thead th {\n",
              "        text-align: right;\n",
              "    }\n",
              "</style>\n",
              "<table border=\"1\" class=\"dataframe\">\n",
              "  <thead>\n",
              "    <tr style=\"text-align: right;\">\n",
              "      <th></th>\n",
              "      <th>0</th>\n",
              "      <th>1</th>\n",
              "      <th>2</th>\n",
              "      <th>3</th>\n",
              "      <th>4</th>\n",
              "    </tr>\n",
              "  </thead>\n",
              "  <tbody>\n",
              "    <tr>\n",
              "      <th>0</th>\n",
              "      <td>1.0</td>\n",
              "      <td>0.0</td>\n",
              "      <td>0.0</td>\n",
              "      <td>0.0</td>\n",
              "      <td>0.0</td>\n",
              "    </tr>\n",
              "    <tr>\n",
              "      <th>1</th>\n",
              "      <td>0.0</td>\n",
              "      <td>1.0</td>\n",
              "      <td>0.0</td>\n",
              "      <td>0.0</td>\n",
              "      <td>0.0</td>\n",
              "    </tr>\n",
              "    <tr>\n",
              "      <th>2</th>\n",
              "      <td>0.0</td>\n",
              "      <td>0.0</td>\n",
              "      <td>1.0</td>\n",
              "      <td>0.0</td>\n",
              "      <td>0.0</td>\n",
              "    </tr>\n",
              "    <tr>\n",
              "      <th>3</th>\n",
              "      <td>0.0</td>\n",
              "      <td>0.0</td>\n",
              "      <td>0.0</td>\n",
              "      <td>1.0</td>\n",
              "      <td>0.0</td>\n",
              "    </tr>\n",
              "    <tr>\n",
              "      <th>4</th>\n",
              "      <td>0.0</td>\n",
              "      <td>0.0</td>\n",
              "      <td>0.0</td>\n",
              "      <td>0.0</td>\n",
              "      <td>1.0</td>\n",
              "    </tr>\n",
              "  </tbody>\n",
              "</table>\n",
              "</div>\n",
              "    <div class=\"colab-df-buttons\">\n",
              "\n",
              "  <div class=\"colab-df-container\">\n",
              "    <button class=\"colab-df-convert\" onclick=\"convertToInteractive('df-cd7b3558-39e3-4445-b0ed-58b598b29564')\"\n",
              "            title=\"Convert this dataframe to an interactive table.\"\n",
              "            style=\"display:none;\">\n",
              "\n",
              "  <svg xmlns=\"http://www.w3.org/2000/svg\" height=\"24px\" viewBox=\"0 -960 960 960\">\n",
              "    <path d=\"M120-120v-720h720v720H120Zm60-500h600v-160H180v160Zm220 220h160v-160H400v160Zm0 220h160v-160H400v160ZM180-400h160v-160H180v160Zm440 0h160v-160H620v160ZM180-180h160v-160H180v160Zm440 0h160v-160H620v160Z\"/>\n",
              "  </svg>\n",
              "    </button>\n",
              "\n",
              "  <style>\n",
              "    .colab-df-container {\n",
              "      display:flex;\n",
              "      gap: 12px;\n",
              "    }\n",
              "\n",
              "    .colab-df-convert {\n",
              "      background-color: #E8F0FE;\n",
              "      border: none;\n",
              "      border-radius: 50%;\n",
              "      cursor: pointer;\n",
              "      display: none;\n",
              "      fill: #1967D2;\n",
              "      height: 32px;\n",
              "      padding: 0 0 0 0;\n",
              "      width: 32px;\n",
              "    }\n",
              "\n",
              "    .colab-df-convert:hover {\n",
              "      background-color: #E2EBFA;\n",
              "      box-shadow: 0px 1px 2px rgba(60, 64, 67, 0.3), 0px 1px 3px 1px rgba(60, 64, 67, 0.15);\n",
              "      fill: #174EA6;\n",
              "    }\n",
              "\n",
              "    .colab-df-buttons div {\n",
              "      margin-bottom: 4px;\n",
              "    }\n",
              "\n",
              "    [theme=dark] .colab-df-convert {\n",
              "      background-color: #3B4455;\n",
              "      fill: #D2E3FC;\n",
              "    }\n",
              "\n",
              "    [theme=dark] .colab-df-convert:hover {\n",
              "      background-color: #434B5C;\n",
              "      box-shadow: 0px 1px 3px 1px rgba(0, 0, 0, 0.15);\n",
              "      filter: drop-shadow(0px 1px 2px rgba(0, 0, 0, 0.3));\n",
              "      fill: #FFFFFF;\n",
              "    }\n",
              "  </style>\n",
              "\n",
              "    <script>\n",
              "      const buttonEl =\n",
              "        document.querySelector('#df-cd7b3558-39e3-4445-b0ed-58b598b29564 button.colab-df-convert');\n",
              "      buttonEl.style.display =\n",
              "        google.colab.kernel.accessAllowed ? 'block' : 'none';\n",
              "\n",
              "      async function convertToInteractive(key) {\n",
              "        const element = document.querySelector('#df-cd7b3558-39e3-4445-b0ed-58b598b29564');\n",
              "        const dataTable =\n",
              "          await google.colab.kernel.invokeFunction('convertToInteractive',\n",
              "                                                    [key], {});\n",
              "        if (!dataTable) return;\n",
              "\n",
              "        const docLinkHtml = 'Like what you see? Visit the ' +\n",
              "          '<a target=\"_blank\" href=https://colab.research.google.com/notebooks/data_table.ipynb>data table notebook</a>'\n",
              "          + ' to learn more about interactive tables.';\n",
              "        element.innerHTML = '';\n",
              "        dataTable['output_type'] = 'display_data';\n",
              "        await google.colab.output.renderOutput(dataTable, element);\n",
              "        const docLink = document.createElement('div');\n",
              "        docLink.innerHTML = docLinkHtml;\n",
              "        element.appendChild(docLink);\n",
              "      }\n",
              "    </script>\n",
              "  </div>\n",
              "\n",
              "\n",
              "<div id=\"df-e3e7cbef-1fde-41a6-910e-3dcc281bdadb\">\n",
              "  <button class=\"colab-df-quickchart\" onclick=\"quickchart('df-e3e7cbef-1fde-41a6-910e-3dcc281bdadb')\"\n",
              "            title=\"Suggest charts\"\n",
              "            style=\"display:none;\">\n",
              "\n",
              "<svg xmlns=\"http://www.w3.org/2000/svg\" height=\"24px\"viewBox=\"0 0 24 24\"\n",
              "     width=\"24px\">\n",
              "    <g>\n",
              "        <path d=\"M19 3H5c-1.1 0-2 .9-2 2v14c0 1.1.9 2 2 2h14c1.1 0 2-.9 2-2V5c0-1.1-.9-2-2-2zM9 17H7v-7h2v7zm4 0h-2V7h2v10zm4 0h-2v-4h2v4z\"/>\n",
              "    </g>\n",
              "</svg>\n",
              "  </button>\n",
              "\n",
              "<style>\n",
              "  .colab-df-quickchart {\n",
              "      --bg-color: #E8F0FE;\n",
              "      --fill-color: #1967D2;\n",
              "      --hover-bg-color: #E2EBFA;\n",
              "      --hover-fill-color: #174EA6;\n",
              "      --disabled-fill-color: #AAA;\n",
              "      --disabled-bg-color: #DDD;\n",
              "  }\n",
              "\n",
              "  [theme=dark] .colab-df-quickchart {\n",
              "      --bg-color: #3B4455;\n",
              "      --fill-color: #D2E3FC;\n",
              "      --hover-bg-color: #434B5C;\n",
              "      --hover-fill-color: #FFFFFF;\n",
              "      --disabled-bg-color: #3B4455;\n",
              "      --disabled-fill-color: #666;\n",
              "  }\n",
              "\n",
              "  .colab-df-quickchart {\n",
              "    background-color: var(--bg-color);\n",
              "    border: none;\n",
              "    border-radius: 50%;\n",
              "    cursor: pointer;\n",
              "    display: none;\n",
              "    fill: var(--fill-color);\n",
              "    height: 32px;\n",
              "    padding: 0;\n",
              "    width: 32px;\n",
              "  }\n",
              "\n",
              "  .colab-df-quickchart:hover {\n",
              "    background-color: var(--hover-bg-color);\n",
              "    box-shadow: 0 1px 2px rgba(60, 64, 67, 0.3), 0 1px 3px 1px rgba(60, 64, 67, 0.15);\n",
              "    fill: var(--button-hover-fill-color);\n",
              "  }\n",
              "\n",
              "  .colab-df-quickchart-complete:disabled,\n",
              "  .colab-df-quickchart-complete:disabled:hover {\n",
              "    background-color: var(--disabled-bg-color);\n",
              "    fill: var(--disabled-fill-color);\n",
              "    box-shadow: none;\n",
              "  }\n",
              "\n",
              "  .colab-df-spinner {\n",
              "    border: 2px solid var(--fill-color);\n",
              "    border-color: transparent;\n",
              "    border-bottom-color: var(--fill-color);\n",
              "    animation:\n",
              "      spin 1s steps(1) infinite;\n",
              "  }\n",
              "\n",
              "  @keyframes spin {\n",
              "    0% {\n",
              "      border-color: transparent;\n",
              "      border-bottom-color: var(--fill-color);\n",
              "      border-left-color: var(--fill-color);\n",
              "    }\n",
              "    20% {\n",
              "      border-color: transparent;\n",
              "      border-left-color: var(--fill-color);\n",
              "      border-top-color: var(--fill-color);\n",
              "    }\n",
              "    30% {\n",
              "      border-color: transparent;\n",
              "      border-left-color: var(--fill-color);\n",
              "      border-top-color: var(--fill-color);\n",
              "      border-right-color: var(--fill-color);\n",
              "    }\n",
              "    40% {\n",
              "      border-color: transparent;\n",
              "      border-right-color: var(--fill-color);\n",
              "      border-top-color: var(--fill-color);\n",
              "    }\n",
              "    60% {\n",
              "      border-color: transparent;\n",
              "      border-right-color: var(--fill-color);\n",
              "    }\n",
              "    80% {\n",
              "      border-color: transparent;\n",
              "      border-right-color: var(--fill-color);\n",
              "      border-bottom-color: var(--fill-color);\n",
              "    }\n",
              "    90% {\n",
              "      border-color: transparent;\n",
              "      border-bottom-color: var(--fill-color);\n",
              "    }\n",
              "  }\n",
              "</style>\n",
              "\n",
              "  <script>\n",
              "    async function quickchart(key) {\n",
              "      const quickchartButtonEl =\n",
              "        document.querySelector('#' + key + ' button');\n",
              "      quickchartButtonEl.disabled = true;  // To prevent multiple clicks.\n",
              "      quickchartButtonEl.classList.add('colab-df-spinner');\n",
              "      try {\n",
              "        const charts = await google.colab.kernel.invokeFunction(\n",
              "            'suggestCharts', [key], {});\n",
              "      } catch (error) {\n",
              "        console.error('Error during call to suggestCharts:', error);\n",
              "      }\n",
              "      quickchartButtonEl.classList.remove('colab-df-spinner');\n",
              "      quickchartButtonEl.classList.add('colab-df-quickchart-complete');\n",
              "    }\n",
              "    (() => {\n",
              "      let quickchartButtonEl =\n",
              "        document.querySelector('#df-e3e7cbef-1fde-41a6-910e-3dcc281bdadb button');\n",
              "      quickchartButtonEl.style.display =\n",
              "        google.colab.kernel.accessAllowed ? 'block' : 'none';\n",
              "    })();\n",
              "  </script>\n",
              "</div>\n",
              "    </div>\n",
              "  </div>\n"
            ],
            "application/vnd.google.colaboratory.intrinsic+json": {
              "type": "dataframe",
              "summary": "{\n  \"name\": \"pd\",\n  \"rows\": 5,\n  \"fields\": [\n    {\n      \"column\": 0,\n      \"properties\": {\n        \"dtype\": \"number\",\n        \"std\": 0.44721359549995804,\n        \"min\": 0.0,\n        \"max\": 1.0,\n        \"num_unique_values\": 2,\n        \"samples\": [\n          0.0,\n          1.0\n        ],\n        \"semantic_type\": \"\",\n        \"description\": \"\"\n      }\n    },\n    {\n      \"column\": 1,\n      \"properties\": {\n        \"dtype\": \"number\",\n        \"std\": 0.44721359549995804,\n        \"min\": 0.0,\n        \"max\": 1.0,\n        \"num_unique_values\": 2,\n        \"samples\": [\n          1.0,\n          0.0\n        ],\n        \"semantic_type\": \"\",\n        \"description\": \"\"\n      }\n    },\n    {\n      \"column\": 2,\n      \"properties\": {\n        \"dtype\": \"number\",\n        \"std\": 0.44721359549995804,\n        \"min\": 0.0,\n        \"max\": 1.0,\n        \"num_unique_values\": 2,\n        \"samples\": [\n          1.0,\n          0.0\n        ],\n        \"semantic_type\": \"\",\n        \"description\": \"\"\n      }\n    },\n    {\n      \"column\": 3,\n      \"properties\": {\n        \"dtype\": \"number\",\n        \"std\": 0.447213595499958,\n        \"min\": 0.0,\n        \"max\": 1.0,\n        \"num_unique_values\": 2,\n        \"samples\": [\n          1.0,\n          0.0\n        ],\n        \"semantic_type\": \"\",\n        \"description\": \"\"\n      }\n    },\n    {\n      \"column\": 4,\n      \"properties\": {\n        \"dtype\": \"number\",\n        \"std\": 0.447213595499958,\n        \"min\": 0.0,\n        \"max\": 1.0,\n        \"num_unique_values\": 2,\n        \"samples\": [\n          1.0,\n          0.0\n        ],\n        \"semantic_type\": \"\",\n        \"description\": \"\"\n      }\n    }\n  ]\n}"
            }
          },
          "metadata": {},
          "execution_count": 78
        },
        {
          "output_type": "display_data",
          "data": {
            "text/plain": [
              "<google.colab._quickchart_helpers.SectionTitle at 0x7857dd19c430>"
            ],
            "text/html": [
              "<h4 class=\"colab-quickchart-section-title\">Distributions</h4>\n",
              "<style>\n",
              "  .colab-quickchart-section-title {\n",
              "      clear: both;\n",
              "  }\n",
              "</style>"
            ]
          },
          "metadata": {}
        },
        {
          "output_type": "display_data",
          "data": {
            "text/plain": [
              "from matplotlib import pyplot as plt\n",
              "_df_0['index'].plot(kind='hist', bins=20, title='index')\n",
              "plt.gca().spines[['top', 'right',]].set_visible(False)"
            ],
            "text/html": [
              "      <div class=\"colab-quickchart-chart-with-code\" id=\"chart-c9136a48-c1b7-42e6-9343-938571d97447\">\n",
              "        <img style=\"width: 180px;\" src=\"data:image/png;base64,iVBORw0KGgoAAAANSUhEUgAAAioAAAGrCAYAAADuNLxTAAAAOXRFWHRTb2Z0d2FyZQBNYXRwbG90\n",
              "bGliIHZlcnNpb24zLjcuMSwgaHR0cHM6Ly9tYXRwbG90bGliLm9yZy/bCgiHAAAACXBIWXMAAA9h\n",
              "AAAPYQGoP6dpAAAf6ElEQVR4nO3de3BU5f3H8c+S2FXRJIKkRJIlDbkAahKCSWOg3hhbtAKWOFZs\n",
              "NKnmItqhndhCIzICtgZttVIcJBAnFZl6KYmaguhUQUVFIV4xiBAgbMBIHClJWiGQzfn9wbg/tiGa\n",
              "jXuyz4b3a2ZnspvHw/fp6c68Z/dk12FZliUAAAADDQr2AAAAAD0hVAAAgLEIFQAAYCxCBQAAGItQ\n",
              "AQAAxiJUAACAsQgVAABgLEIFAAAYi1ABAADGIlQA2Oaqq67Svffe2+f/fuLEiZo/f37gBgIQcsKD\n",
              "PQCAgWvdunXBHgFAiOMVFQAAYCxCBYBtLrvsMt19992SJIfDoSVLlmjChAk666yzdOGFF+qNN97w\n",
              "ru3s7NTs2bM1fPhwDRs2TGVlZd2Ot3//ft14440aMWKEoqOjNWPGDH3xxReSpFdffVWDBw/Wli1b\n",
              "JEmWZemnP/2ppkyZIr57FQhdhAqAflNZWanHH39chw4d0qRJk/SLX/zC+7sHHnhAzzzzjNavX699\n",
              "+/YpPDxc77zzjvf3HR0dmjRpks477zzt2LFDu3fvVnh4uG688UZJx6No/vz5uu666/Tll1/q3nvv\n",
              "1fbt2/XEE0/I4XD0+14BBAahAqDf3HnnnUpMTFR4eLiKiorkdrt14MABSVJVVZXuvPNOjR07Vk6n\n",
              "U/Pnz9c555zj/W/Xrl2r9vZ2/elPf9LgwYN11llnadGiRXr55Ze1b98+SdLvfvc7ZWZmatKkSXrg\n",
              "gQdUXV2tqKioYGwVQIBwMS2AfnPeeed5fx48eLAkqb29Xd///ve1b98+/eAHP/D+PiwsTC6Xy3t/\n",
              "586dOnDggE+8SJLT6ZTb7VZsbKwkqbS0VBMmTNCMGTOUnp5u424A9AdCBYARYmNj1djY6L3v8XjU\n",
              "1NTkvT98+HCNHDlSu3bt6vEYra2tys/P16233qpnnnlG//znPzVlyhQ7xwZgM976AWCE/Px8Pfjg\n",
              "g9q+fbs6Ojq0cOFCHTx40Pv76dOn69ixY5o3b55aW1slSS0tLXr66aclHb94Nj8/XykpKVqxYoUq\n",
              "Kip08803a/fu3UHZD4DAIFQAGGHOnDmaPn26Lr30UsXGxuro0aP64Q9/6P392WefrU2bNsntduvC\n",
              "Cy9URESEcnJy9Prrr0uS7r//fn300Ufei2dnzJihvLw85ebm6vDhw8HaFoDvyGHxd3sAAMBQvKIC\n",
              "AACMRagAAABjESoAAMBYhAoAADAWoQIAAIxFqAAAAGMRKgAAwFgDIlQWL14c7BEAAIANBkSo7N27\n",
              "N9gjAAAAGwyIUAEAAAMToQIAAIxFqAAAAGMRKgAAwFiECgAAMBahAgAAjEWoAAAAYxEqAADAWIQK\n",
              "AAAwFqECAACMRagAAABjESoAAMBYtobKrFmzFB8fL4fDoQ8++KDHdY899piSkpI0atQoFRUV6dix\n",
              "Y3aOBQAAQoStoXLdddfpjTfe0MiRI3tcs2fPHs2bN08bN25UQ0ODDhw4oOXLl9s5FgAACBG2hsol\n",
              "l1yi2NjYb1yzevVqTZ06VcOHD5fD4dBtt92mJ598ssf1HR0damtr87l5PJ5Ajw4AAAwQHuwB3G63\n",
              "zysu8fHxcrvdPa4vLy/XggULfB7Lzs62Zbb436+15biS1Ljop7YdG/+Pcxj67DqHnL/+wznsHwP1\n",
              "f+eQu5i2rKxMra2tPresrKxgjwUAAGwQ9FdUXC6Xdu3a5b3f2Ngol8vV43qn0ymn0+nzWFhYmG3z\n",
              "AQCA4An6Kyq5ubmqra3V559/LsuytGzZMt1www3BHgsAABjA1lApKSlRbGys9u3bp5/85CdKTEyU\n",
              "JBUWFqq2tlaSlJCQoAULFmjChAlKTEzUsGHDVFJSYudYAAAgRNj61k9FRcVJH6+srPS5X1RUpKKi\n",
              "IjtHAQAAISjob/0AAAD0hFABAADGIlQAAICxCBUAAGAsQgUAABiLUAEAAMYiVAAAgLEIFQAAYCxC\n",
              "BQAAGItQAQAAxiJUAACAsQgVAABgLEIFAAAYi1ABAADGIlQAAICxCBUAAGAsQgUAABiLUAEAAMYi\n",
              "VAAAgLEIFQAAYCxCBQAAGItQAQAAxiJUAACAsQgVAABgLEIFAAAYi1ABAADGIlQAAICxCBUAAGAs\n",
              "QgUAABiLUAEAAMYiVAAAgLEIFQAAYCxCBQAAGItQAQAAxiJUAACAsQgVAABgLEIFAAAYi1ABAADG\n",
              "IlQAAICxCBUAAGAsQgUAABiLUAEAAMYiVAAAgLEIFQAAYCxCBQAAGItQAQAAxiJUAACAsQgVAABg\n",
              "LEIFAAAYi1ABAADGIlQAAICxCBUAAGAsQgUAABiLUAEAAMYiVAAAgLEIFQAAYCxCBQAAGItQAQAA\n",
              "xiJUAACAsQgVAABgLEIFAAAYy9ZQ2blzp3JycpScnKzMzEzV19d3W9PV1aXS0lKNHTtWqampuvzy\n",
              "y9XQ0GDnWAAAIETYGiolJSUqLi7Wjh07NGfOHBUUFHRbU1tbqzfffFMffvihPvroI02aNEl33XWX\n",
              "nWMBAIAQYVuotLS0qK6uTnl5eZKk3NxcNTU1dXu1xOFwqKOjQ0eOHJFlWWpra1NsbKxdYwEAgBAS\n",
              "bteBm5qaFBMTo/Dw4/+Ew+GQy+WS2+1WYmKid92UKVO0YcMGDR8+XGeffbZGjBih1157rcfjdnR0\n",
              "qKOjw+cxj8djzyYAAEBQBf1i2rq6On388cfav3+/PvvsM02aNEm33XZbj+vLy8sVGRnpc9u8eXM/\n",
              "TgwAAPqLbaESFxen5uZmdXZ2SpIsy5Lb7ZbL5fJZt3LlSl1xxRWKiorSoEGDlJ+frw0bNvR43LKy\n",
              "MrW2tvrcsrKy7NoGAAAIIttCJTo6WhkZGVq1apUkqbq6WrGxsT5v+0hSQkKC1q9fr6NHj0qS1qxZ\n",
              "owsuuKDH4zqdTkVERPjcwsLC7NoGAAAIItuuUZGkiooKFRQU6L777lNERISqqqokSYWFhZo6daqm\n",
              "Tp2qO+64Q5988onS0tJ02mmnafjw4Vq2bJmdYwEAgBBha6ikpKRo06ZN3R6vrKz0/ux0OrVixQo7\n",
              "xwAAACEq6BfTAgAA9IRQAQAAxiJUAACAsQgVAABgLEIFAAAYi1ABAADGIlQAAICxCBUAAGAsQgUA\n",
              "ABiLUAEAAMYiVAAAgLEIFQAAYCxCBQAAGItQAQAAxiJUAACAsQgVAABgLEIFAAAYi1ABAADGIlQA\n",
              "AICxCBUAAGAsQgUAABiLUAEAAMYiVAAAgLEIFQAAYCxCBQAAGItQAQAAxiJUAACAsQgVAABgLEIF\n",
              "AAAYi1ABAADGIlQAAICxCBUAAGAsQgUAABiLUAEAAMYiVAAAgLEIFQAAYCxCBQAAGItQAQAAxiJU\n",
              "AACAsQgVAABgLEIFAAAYi1ABAADGIlQAAICxCBUAAGAsQgUAABiLUAEAAMYiVAAAgLEIFQAAYCxC\n",
              "BQAAGItQAQAAxiJUAACAsQgVAABgLEIFAAAYi1ABAADGIlQAAICxCBUAAGAsQgUAABiLUAEAAMYi\n",
              "VAAAgLEIFQAAYCxCBQAAGItQAQAAxrI1VHbu3KmcnBwlJycrMzNT9fX1J123detWXXbZZRozZozG\n",
              "jBmjmpoaO8cCAAAhItzOg5eUlKi4uFgFBQVavXq1CgoKtGXLFp81X331laZNm6aVK1dq4sSJ8ng8\n",
              "OnjwoJ1jAQCAEGHbKyotLS2qq6tTXl6eJCk3N1dNTU1qaGjwWff3v/9d2dnZmjhxoiQpLCxMw4YN\n",
              "6/G4HR0damtr87l5PB67tgEAAILItlBpampSTEyMwsOPv2jjcDjkcrnkdrt91m3btk1Op1PXXHON\n",
              "0tPTdfPNN+uLL77o8bjl5eWKjIz0uW3evNmubQAAgCDyO1ReeumlgA7Q2dmpl19+WRUVFXr//fc1\n",
              "YsQIzZw5s8f1ZWVlam1t9bllZWUFdCYAAGAGv0Nl4cKFSklJ0eLFi9XW1tbjuri4ODU3N6uzs1OS\n",
              "ZFmW3G63XC6XzzqXy6XLL79cI0aMkMPhUF5ent5+++0ej+t0OhUREeFzCwsL83cbAAAgBPgdKm++\n",
              "+aaeeuopffzxx0pOTtbtt9+ubdu2dVsXHR2tjIwMrVq1SpJUXV2t2NhYJSYm+qy7/vrrtWXLFm/0\n",
              "vPDCC0pLS+vLXgAAwADTp2tUxo0bpxUrVujFF1/UmjVrlJqaqiuvvFJbt271WVdRUaGKigolJydr\n",
              "0aJFqqqqkiQVFhaqtrZW0vFXVO666y7l5OQoNTVV69ev17Jly77jtgAAwEDQpz9Pfvnll7VkyRJt\n",
              "3bpVd9xxh2699Va9+uqr+tnPfubzVz0pKSnatGlTt/++srLS5/5NN92km266qS+jAACAAczvUBkz\n",
              "ZozOPfdczZo1S9OnT/deH3LdddfpscceC/iAAADg1OV3qKxatUrjx48/6e/WrVv3nQcCAAD4mt/X\n",
              "qLz77rs+nxz75ZdfasWKFQEdCgAAQOpDqCxdulRDhgzx3h86dKiWLl0a0KEAAACkPoSKZVndHuMj\n",
              "7AEAgB38DpWYmBg988wz3vtPP/20YmJiAjoUAACA1IeLaR9++GFNmzZNs2fPliSdeeaZev755wM+\n",
              "GAAAgN+hMnr0aG3btk2ffvqppOOflcJH2AMAADv06QPfHA6HoqKi1NnZqf3790tSt+/wAQAA+K78\n",
              "DpW//e1vmjVrlk477TQNGnT8EheHw6GWlpaADwcAAE5tfofKvffeqy1btiglJcWOeQAAALz8/quf\n",
              "c889l0gBAAD9wu9Qufbaa/Xwww+rpaVFbW1t3hsAAECg+f3Wz9y5cyVJpaWlcjgcsixLDoeDD30D\n",
              "AAAB53eodHV12TEHAABAN36/9SMd/2LCJ554QpJ06NAhNTc3B3QoAAAAqY9fSnjLLbdo/vz5ko5/\n",
              "e/KNN94Y6LkAAAD8D5Xly5fr7bffVkREhCRp1KhR+uKLLwI+GAAAgN+h4nQ6dcYZZ/g8Fh7epw+4\n",
              "BQAA+EZ+h8qwYcO0Y8cOORwOScc/qZaPzwcAAHbo07cnz5gxQ9u3b1dcXJwiIiK0Zs0aO2YDAACn\n",
              "OL9DJTExUe+8844+/fRTWZbFtycDAADb+B0qbrdbkjR48GBJ4tuTAQCAbfwOlfHjx3s/kfbIkSP6\n",
              "6quvNHToUL49GQAABJzfofK/f4pcU1OjDz/8MGADAQAAfK1Pn0x7ounTp2vt2rWBmAUAAMCH36+o\n",
              "nPhNyR6PR++88w7fngwAAGzhd6hERUV5r1EJCwtTUlKS/vrXv9oxGwAAOMXx7ckAAMBY3/kaFQAA\n",
              "ALv4/YrKoEGDvB+ffyLLsuRwOOTxeAIyGAAAgN+hsnDhQh0+fFgzZ86UJC1btkxnnHGGfvOb3wR6\n",
              "NgAAcIrzO1SeffZZvfvuu977f/jDHzR+/HjNnTs3oIMBAAD4fY1Ke3u7z6fQtrS0qL29PaBDAQAA\n",
              "SH14ReXOO+9UWlqarr76aknSiy++qPnz5wd6LgAAAP9DpaSkRBMmTNCGDRskSaWlpTr//PMDPhgA\n",
              "AIDfoSJJQ4cO1YUXXqjLLrtMnZ2dOnr0qL73ve8FejYAAHCK8/saldWrVys7O1u//OUvJUn19fW6\n",
              "9tprAz0XAACA/6FSXl6u9957T1FRUZKktLQ07d27N9BzAQAA+B8qYWFhGjp0qM9jvO0DAADs4Heo\n",
              "nH322Tpw4ID302lfeeUVDRkyJOCDAQAA+H0x7f3336+rrrpKu3fv1sSJE7Vnzx6tXbvWjtkAAMAp\n",
              "zq9Q6erqksfj0YYNG/TWW2/Jsizl5OR4r1cBAAAIJL9CZdCgQSouLtaHH36oq666yq6ZAAAAJPXh\n",
              "GpWkpCQ1NDTYMQsAAIAPv69ROXjwoNLT05WTk6OzzjrL+3hNTU1ABwMAAOh1qBQXF2v58uXKz8/X\n",
              "1KlTdc4559g5FwAAQO9Dpa6uTpKUn5+vjIwMvffee7YNBQAAIPXhGhVJsiwr0HMAAAB00+tXVA4f\n",
              "PqytW7fKsiwdOXLE+/PXUlNTbRkQAACcuvwKlalTp3rvn/izw+HQ7t27AzsZAAA45fU6VBobG20c\n",
              "AwAAoLs+XaMCAADQHwgVAABgLEIFAAAYi1ABAADGIlQAAICxCBUAAGAsQgUAABiLUAEAAMYiVAAA\n",
              "gLFsDZWdO3cqJydHycnJyszMVH19fY9rLcvSFVdcoaioKDtHAgAAIcTWUCkpKVFxcbF27NihOXPm\n",
              "qKCgoMe1f/nLXzRq1Cg7xwEAACHGtlBpaWlRXV2d8vLyJEm5ublqampSQ0NDt7X19fV67rnn9Pvf\n",
              "//5bj9vR0aG2tjafm8fjCfj8AAAg+GwLlaamJsXExCg8/Pj3HjocDrlcLrndbp91x44dU1FRkSoq\n",
              "KhQWFvatxy0vL1dkZKTPbfPmzbbsAQAABFfQL6ZdsGCBpk+frjFjxvRqfVlZmVpbW31uWVlZNk8J\n",
              "AACCIdyuA8fFxam5uVmdnZ0KDw+XZVlyu91yuVw+61577TW53W498sgj6uzsVFtbm+Lj47VlyxYN\n",
              "Gzas23GdTqecTqfPY715JQYAAIQe215RiY6OVkZGhlatWiVJqq6uVmxsrBITE33Wbdy4UXv37lVj\n",
              "Y6PeeOMNRUREqLGx8aSRAgAATi22vvVTUVGhiooKJScna9GiRaqqqpIkFRYWqra21s5/GgAADAC2\n",
              "vfUjSSkpKdq0aVO3xysrK0+6Pj4+XocOHbJzJAAAEEKCfjEtAABATwgVAABgLEIFAAAYi1ABAADG\n",
              "IlQAAICxCBUAAGAsQgUAABiLUAEAAMYiVAAAgLEIFQAAYCxCBQAAGItQAQAAxiJUAACAsQgVAABg\n",
              "LEIFAAAYi1ABAADGIlQAAICxCBUAAGAsQgUAABiLUAEAAMYiVAAAgLEIFQAAYCxCBQAAGItQAQAA\n",
              "xiJUAACAsQgVAABgLEIFAAAYi1ABAADGIlQAAICxCBUAAGAsQgUAABiLUAEAAMYiVAAAgLEIFQAA\n",
              "YCxCBQAAGItQAQAAxiJUAACAsQgVAABgLEIFAAAYi1ABAADGIlQAAICxCBUAAGAsQgUAABiLUAEA\n",
              "AMYiVAAAgLEIFQAAYCxCBQAAGItQAQAAxiJUAACAsQgVAABgLEIFAAAYi1ABAADGIlQAAICxCBUA\n",
              "AGAsQgUAABiLUAEAAMYiVAAAgLEIFQAAYCxCBQAAGItQAQAAxiJUAACAsQgVAABgLFtDZefOncrJ\n",
              "yVFycrIyMzNVX1/fbc369euVlZWlsWPH6vzzz9fs2bPV1dVl51gAACBE2BoqJSUlKi4u1o4dOzRn\n",
              "zhwVFBR0W3POOefoqaee0rZt2/Tuu+/qrbfe0sqVK+0cCwAAhAjbQqWlpUV1dXXKy8uTJOXm5qqp\n",
              "qUkNDQ0+68aNG6eEhARJ0umnn6709HQ1Njb2eNyOjg61tbX53Dwej13bAAAAQWRbqDQ1NSkmJkbh\n",
              "4eGSJIfDIZfLJbfb3eN/8/nnn2v16tW65pprelxTXl6uyMhIn9vmzZsDPj8AAAg+Yy6mbWtr05Qp\n",
              "UzR79mxddNFFPa4rKytTa2urzy0rK6sfJwUAAP0l3K4Dx8XFqbm5WZ2dnQoPD5dlWXK73XK5XN3W\n",
              "tre3a/LkyZo2bZpKS0u/8bhOp1NOp9PnsbCwsIDODgAAzGDbKyrR0dHKyMjQqlWrJEnV1dWKjY1V\n",
              "YmKiz7r//Oc/mjx5siZPnqy7777brnEAAEAIsvWtn4qKClVUVCg5OVmLFi1SVVWVJKmwsFC1tbWS\n",
              "pMWLF2vz5s2qqalRenq60tPT9cc//tHOsQAAQIiw7a0fSUpJSdGmTZu6PV5ZWen9ee7cuZo7d66d\n",
              "YwAAgBBlzMW0AAAA/4tQAQAAxiJUAACAsQgVAABgLEIFAAAYi1ABAADGIlQAAICxCBUAAGAsQgUA\n",
              "ABiLUAEAAMYiVAAAgLEIFQAAYCxCBQAAGItQAQAAxiJUAACAsQgVAABgLEIFAAAYi1ABAADGIlQA\n",
              "AICxCBUAAGAsQgUAABiLUAEAAMYiVAAAgLEIFQAAYCxCBQAAGItQAQAAxiJUAACAsQgVAABgLEIF\n",
              "AAAYi1ABAADGIlQAAICxCBUAAGAsQgUAABiLUAEAAMYiVAAAgLEIFQAAYCxCBQAAGItQAQAAxiJU\n",
              "AACAsQgVAABgLEIFAAAYi1ABAADGIlQAAICxCBUAAGAsQgUAABiLUAEAAMYiVAAAgLEIFQAAYCxC\n",
              "BQAAGItQAQAAxiJUAACAsQgVAABgLEIFAAAYi1ABAADGIlQAAICxCBUAAGAsQgUAABiLUAEAAMYi\n",
              "VAAAgLEIFQAAYCxCBQAAGMvWUNm5c6dycnKUnJyszMxM1dfXn3TdY489pqSkJI0aNUpFRUU6duyY\n",
              "nWMBAIAQYWuolJSUqLi4WDt27NCcOXNUUFDQbc2ePXs0b948bdy4UQ0NDTpw4ICWL19u51gAACBE\n",
              "2BYqLS0tqqurU15eniQpNzdXTU1Namho8Fm3evVqTZ06VcOHD5fD4dBtt92mJ598ssfjdnR0qK2t\n",
              "zefm8Xjs2gYAAAiicLsO3NTUpJiYGIWHH/8nHA6HXC6X3G63EhMTvevcbrdGjhzpvR8fHy+3293j\n",
              "ccvLy7VgwQKfx0aPHq3S0tKAzu/xeBSzebOysrIUFhYW0GNLUmnpKwE/pr88Ho8227jHYBvo53Cg\n",
              "nz/J3nMY7PMncQ6/K86hr+k2HNPj8ejii/9g2/5GjhypX//619+4xrZQsUtZWVm3KHE6nXI6nQH9\n",
              "d9ra2hQZGamXXnpJERERAT22KQb6Htlf6Bvoexzo+5MG/h7Zn/1sC5W4uDg1Nzers7NT4eHhsixL\n",
              "brdbLpfLZ53L5dKuXbu89xsbG7utOZEdUQIAAMxk2zUq0dHRysjI0KpVqyRJ1dXVio2N9XnbRzp+\n",
              "7Uptba0+//xzWZalZcuW6YYbbrBrLAAAEEJs/aufiooKVVRUKDk5WYsWLVJVVZUkqbCwULW1tZKk\n",
              "hIQELViwQBMmTFBiYqKGDRumkpISO8cCAAAhwtZrVFJSUrRp06Zuj1dWVvrcLyoqUlFRkZ2j+M3p\n",
              "dOqee+4Z0G8zDfQ9sr/QN9D3OND3Jw38PbI/+zksy7KC9q8DAAB8Az5CHwAAGItQAQAAxiJUAACA\n",
              "sQgVAABgrFM+VE6Fb3juzR5fffVVnXHGGUpPT/feDh8+HIRp/TNr1izFx8fL4XDogw8+6HFdKJ+/\n",
              "3uwxVM+fJB05ckTXXnutkpOTlZaWpiuvvLLbd4J9bc2aNRo9erSSkpI0ffp0tbW19fO0/uvt/hob\n",
              "GxUWFuZzDk/8MEzT/fjHP1ZqaqrS09P1ox/9SO+///5J14Xqc7E3+wvl5+HXqqqq5HA49Nxzz530\n",
              "90F5DlqnuMsvv9yqqqqyLMuy/vGPf1gXXXRRtzW7d++2YmJirObmZqurq8uaMmWK9cgjj/TzpH3X\n",
              "mz1u2LDBSktL69/BAuC1116zmpqarJEjR1rvv//+SdeE+vnrzR5D9fxZlmUdPnzYWrt2rdXV1WVZ\n",
              "lmUtWbLEuvTSS7uta29vt6Kjo61PPvnEsizLuuOOO6zf/va3/Tlqn/R2f3v27LEiIyP7d7gA+ve/\n",
              "/+39uaamxkpNTe22JpSfi73ZXyg/Dy3r+P8HL774Yis7O9t69tlnu/0+WM/BU/oVFbu+4dkkvd1j\n",
              "qLrkkksUGxv7jWtC+fxJvdtjKDv99NN19dVXy+FwSJKys7PV2NjYbd26des0btw4jR49WpJ0++23\n",
              "h8R57O3+Ql1UVJT359bWVu9+TxTKz8Xe7C+UdXV1qbCwUEuWLOnxM1OC9Rw8pUPlm77h+UT+fsOz\n",
              "SXq7R0natWuXMjIylJmZqaVLl/b3qLYJ5fPnj4Fy/hYvXqxp06Z1e/xk5/Hr7xMLJT3tT5L++9//\n",
              "KjMzUxkZGVq4cKE8Hk8/T/fd3HzzzYqLi9O8efP0xBNPdPt9qD8Xv21/Uug+Dx966CFNmDBB48eP\n",
              "73FNsJ6DIfftybBHRkaG9u3bp8jISO3bt09XX321zj33XF1//fXBHg29MFDO33333aeGhga98sor\n",
              "wR7FFt+0v5iYGO3fv1/R0dE6ePCgfv7zn+vBBx/U7NmzgzBp36xcuVKS9Pjjj2vOnDl64YUXgjxR\n",
              "YH3b/kL1efjxxx+rurpar7/+erBHOalT+hWVE7/hWdI3fsPz3r17vfe/7RueTdLbPUZERCgyMlKS\n",
              "FBsbqxkzZmjjxo39Pq8dQvn89dZAOH9//vOfVVNTo3Xr1unMM8/s9vuTnccTXy003bftz+l0Kjo6\n",
              "WpI0ZMgQ3XLLLSF3Dr+Wn5+vDRs26Msvv/R5fKA8F3vaX6g+Dzdu3KjGxkYlJSUpPj5eb7/9toqL\n",
              "i/Xoo4/6rAvWc/CUDpVT4Ruee7vH5uZmdXV1SZLa29u1Zs0ajRs3rt/ntUMon7/eCvXz99BDD+nJ\n",
              "J5/Uv/71L59rAU40efJkvffee9q+fbskaenSpSFzHnuzv5aWFu9fwHR0dKimpiZkzuGhQ4f02Wef\n",
              "ee8/99xzGjp0qIYMGeKzLlSfi73dX6g+D2fOnKnm5mY1NjaqsbFR2dnZWr58uWbOnOmzLmjPQdsv\n",
              "1zXc9u3brezsbCspKckaP3689dFHH1mWZVm33nqr9fzzz3vXLV++3EpISLASEhKsW265xTp69Giw\n",
              "RvZbb/a4ZMkSa+zYsVZqaqo1duxY65577vH+lYLJiouLrREjRlhhYWFWdHS0NWrUKMuyBtb5680e\n",
              "Q/X8WZZlNTU1WZKshIQEKy0tzUpLS7OysrIsy7KsefPmWY8++qh37fPPP2+lpKRYo0aNsqZNm2Yd\n",
              "OnQoWGP3Wm/3V11dbZ1//vnec/irX/3KOnLkSDBH77XGxkYrMzPTuuCCC6zU1FRr0qRJ3r9QGwjP\n",
              "xd7uL5Sfhye69NJLvX/1Y8JzkC8lBAAAxjql3/oBAABmI1QAAICxCBUAAGAsQgUAABiLUAEAAMYi\n",
              "VAAAgLEIFQAAYCxCBQAAGItQAQAAxiJUAACAsf4PossIu1w2MQ4AAAAASUVORK5CYII=\n",
              "\">\n",
              "      </div>\n",
              "      <script type=\"text/javascript\">\n",
              "        (() => {\n",
              "          const chartElement = document.getElementById(\"chart-c9136a48-c1b7-42e6-9343-938571d97447\");\n",
              "          async function getCodeForChartHandler(event) {\n",
              "            const chartCodeResponse =  await google.colab.kernel.invokeFunction(\n",
              "                'getCodeForChart', [\"chart-c9136a48-c1b7-42e6-9343-938571d97447\"], {});\n",
              "            const responseJson = chartCodeResponse.data['application/json'];\n",
              "            await google.colab.notebook.addCell(responseJson.code, 'code');\n",
              "          }\n",
              "          chartElement.onclick = getCodeForChartHandler;\n",
              "        })();\n",
              "      </script>\n",
              "      <style>\n",
              "        .colab-quickchart-chart-with-code  {\n",
              "            display: block;\n",
              "            float: left;\n",
              "            border: 1px solid transparent;\n",
              "        }\n",
              "\n",
              "        .colab-quickchart-chart-with-code:hover {\n",
              "            cursor: pointer;\n",
              "            border: 1px solid #aaa;\n",
              "        }\n",
              "      </style>"
            ]
          },
          "metadata": {}
        },
        {
          "output_type": "display_data",
          "data": {
            "text/plain": [
              "from matplotlib import pyplot as plt\n",
              "_df_1[0].plot(kind='hist', bins=20, title=0)\n",
              "plt.gca().spines[['top', 'right',]].set_visible(False)"
            ],
            "text/html": [
              "      <div class=\"colab-quickchart-chart-with-code\" id=\"chart-6c744f9c-a491-49fb-a8b4-4ff700806989\">\n",
              "        <img style=\"width: 180px;\" src=\"data:image/png;base64,iVBORw0KGgoAAAANSUhEUgAAAioAAAGZCAYAAACnhhr1AAAAOXRFWHRTb2Z0d2FyZQBNYXRwbG90\n",
              "bGliIHZlcnNpb24zLjcuMSwgaHR0cHM6Ly9tYXRwbG90bGliLm9yZy/bCgiHAAAACXBIWXMAAA9h\n",
              "AAAPYQGoP6dpAAAfyUlEQVR4nO3df2xV9f3H8del3a7oaCsIo1jaDvoLFfoD6foFNbAFrb8KK7LA\n",
              "YgS0P0AN22qGaxS1wCxblMg0rC0QJpp0Y1CwKaIBBVM3FVgBRYLSyuWCFmp09KIrlbbn+wfhxvtt\n",
              "y7cX7rn3c8vzkZyEe/vZp++eLOtz957e47AsyxIAAICBBoR6AAAAgN4QKgAAwFiECgAAMBahAgAA\n",
              "jEWoAAAAYxEqAADAWIQKAAAwFqECAACMRagAAABj9YtQWblyZahHAAAANugXoXLs2LFQjwAAAGzQ\n",
              "L0IFAAD0T4QKAAAwFqECAACMRagAAABjESoAAMBYhAoAADAWoQIAAIxFqAAAAGMRKgAAwFiECgAA\n",
              "MBahAgAAjEWoAAAAYwUlVNatWyeHw6EtW7b0+PW6ujqlpaUpOTlZ+fn58ng8wRgLAAAYzvZQcblc\n",
              "Wr16tXJycnr8+jfffKOHHnpIW7Zs0ZEjRzRixAgtXbrU7rEAAEAYsDVUurq6VFBQoBdffFFOp7PH\n",
              "Ndu2bVNmZqbS0tIkSQ8//LCqq6t73bO9vV0ej8fn6OzstGV+AAAQWpF2br5ixQpNmjRJ48eP73WN\n",
              "2+1WQkKC93FiYqKam5vV0dGhyMju45WXl6usrMznud5erblcib/fasu+kuRafrdtewMA0F/Y9orK\n",
              "wYMHtWnTJj355JMB3be0tFStra0+R3Z2dkC/BwAAMINtr6jU19fL5XIpOTlZknTy5EkVFRWpublZ\n",
              "CxYs8K6Lj4/X9u3bvY9dLpdiY2N7fDVFkpxOZ7e3kSIiImz4CQAAQKjZ9orKggUL1NzcLJfLJZfL\n",
              "pZycHFVVVflEiiTl5uaqoaFBhw8fliStWrVKs2bNsmssAAAQRmy9RqU3Tz31lEaMGKH58+dr0KBB\n",
              "WrNmjaZPn66Ojg7ddNNNevnll0MxFgAAMEzQQmXXrl3efy9ZssTna3l5ecrLywvWKAAAIEzwybQA\n",
              "AMBYhAoAADAWoQIAAIxFqAAAAGMRKgAAwFiECgAAMBahAgAAjEWoAAAAYxEqAADAWIQKAAAwFqEC\n",
              "AACMRagAAABjESoAAMBYhAoAADAWoQIAAIxFqAAAAGMRKgAAwFiECgAAMBahAgAAjEWoAAAAYxEq\n",
              "AADAWIQKAAAwFqECAACMRagAAABjESoAAMBYhAoAADAWoQIAAIxFqAAAAGMRKgAAwFiECgAAMBah\n",
              "AgAAjEWoAAAAYxEqAADAWIQKAAAwFqECAACMZWuo3H777Ro3bpwyMjJ06623at++fd3W7Nq1SwMH\n",
              "DlRGRob3aGtrs3MsAAAQJiLt3HzDhg2KiYmRJG3evFlz587VgQMHuq1LTU3V/v377RwFAACEIVtD\n",
              "5UKkSFJra6scDsdl79ne3q729naf5zo7Oy97XwAAYB7br1F54IEHNHLkSC1evFivvPJKj2uampqU\n",
              "lZWlCRMmaNWqVRfdr7y8XNHR0T7H7t277RgdAACEmO2hsn79eh0/flzLli3T448/3u3rWVlZOnHi\n",
              "hBoaGrR582ZVVFRow4YNve5XWlqq1tZWnyM7O9vOHwEAAIRI0P7qZ86cOdq5c6e++uorn+ejoqIU\n",
              "HR0tSYqLi9Ps2bNVX1/f6z5Op1NRUVE+R0REhK2zAwCA0LAtVE6fPq0vvvjC+3jLli0aMmSIBg8e\n",
              "7LOuublZXV1dkqQzZ86orq5OmZmZdo0FAADCiG0X07a2tmrmzJlqa2vTgAEDNHToUNXV1cnhcKig\n",
              "oEB5eXnKy8vTpk2b9Je//EWRkZHq6OjQzJkzNW/ePLvGAgAAYcRhWZYV6iEuV0lJiVasWBHwfRN/\n",
              "vzXge17gWn63bXsDANBf8Mm0AADAWIQKAAAwFqECAACMRagAAABjESoAAMBYhAoAADAWoQIAAIxF\n",
              "qAAAAGMRKgAAwFiECgAAMBahAgAAjEWoAAAAYxEqAADAWIQKAAAwFqECAACMRagAAABjESoAAMBY\n",
              "hAoAADAWoQIAAIxFqAAAAGMRKgAAwFiECgAAMBahAgAAjEWoAAAAYxEqAADAWIQKAAAwFqECAACM\n",
              "RagAAABjESoAAMBYhAoAADAWoQIAAIxFqAAAAGMRKgAAwFiECgAAMBahAgAAjGVrqNx+++0aN26c\n",
              "MjIydOutt2rfvn09rlu7dq2Sk5M1evRoFRYW6ty5c3aOBQAAwoStobJhwwZ9+OGH2r9/v0pKSjR3\n",
              "7txua44eParFixervr5ejY2NOnXqlKqqquwcCwAAhAlbQyUmJsb779bWVjkcjm5rNm7cqLy8PA0f\n",
              "PlwOh0Pz589XdXV1r3u2t7fL4/H4HJ2dnXaMDwAAQizS7m/wwAMPaOfOnZKk119/vdvX3W63EhIS\n",
              "vI8TExPldrt73a+8vFxlZWU+z+Xk5ARoWgAAYBLbL6Zdv369jh8/rmXLlunxxx+/7P1KS0vV2trq\n",
              "c2RnZwdgUgAAYJqg/dXPnDlztHPnTn311Vc+z8fHx+vYsWPexy6XS/Hx8b3u43Q6FRUV5XNERETY\n",
              "NjcAAAgd20Ll9OnT+uKLL7yPt2zZoiFDhmjw4ME+62bMmKHa2lqdPHlSlmWpoqJCs2bNsmssAAAQ\n",
              "Rmy7RqW1tVUzZ85UW1ubBgwYoKFDh6qurk4Oh0MFBQXKy8tTXl6eRo0apbKyMk2aNEmSNHnyZBUX\n",
              "F9s1FgAACCMOy7KsUA9xuUpKSrRixYqA75v4+60B3/MC1/K7bdsbAID+gk+mBQAAxiJUAACAsQgV\n",
              "AABgLEIFAAAYi1ABAADGIlQAAICxCBUAAGAsQgUAABiLUAEAAMYiVAAAgLEIFQAAYCxCBQAAGItQ\n",
              "AQAAxiJUAACAsQgVAABgLEIFAAAYi1ABAADGIlQAAICxCBUAAGAsQgUAABiLUAEAAMYiVAAAgLEI\n",
              "FQAAYCxCBQAAGItQAQAAxiJUAACAsQgVAABgLEIFAAAYi1ABAADGIlQAAICxCBUAAGAsQgUAABiL\n",
              "UAEAAMYiVAAAgLEIFQAAYCzbQuXs2bOaPn26UlJSlJ6erqlTp6qxsbHbOpfLpYiICGVkZHiPpqYm\n",
              "u8YCAABhJNLOzYuKinTnnXfK4XDopZdeUkFBgXbt2tVt3aBBg7R//347RwEAAGHItldUrrrqKt11\n",
              "111yOBySpJycHLlcrsvet729XR6Px+fo7Oy87H0BAIB5gnaNysqVKzVt2rQev/btt99qwoQJysrK\n",
              "0pIlSy4aHuXl5YqOjvY5du/ebdfYAAAghIISKs8++6waGxtVXl7e7WuxsbH6/PPPtWfPHu3YsUP1\n",
              "9fV6/vnne92rtLRUra2tPkd2drad4wMAgBCxPVSee+451dTUaNu2bbr66qu7fd3pdGrYsGGSpMGD\n",
              "B+vBBx9UfX19r/s5nU5FRUX5HBEREbbNDwAAQsfWUFmxYoWqq6u1fft2xcTE9LimpaVF586dk3T+\n",
              "+pOamhplZmbaORYAAAgTtoXKiRMn9Nhjj+n06dOaMmWKMjIy9NOf/lSS9NRTT6miokKS9O677yoz\n",
              "M1Pp6enKysrS8OHD9cQTT9g1FgAACCO2/XlyXFycLMvq8WtLlizx/js/P1/5+fl2jQEAAMIYn0wL\n",
              "AACMRagAAABjESoAAMBYhAoAADCW36Hy5ptv2jEHAABAN36HypIlS5SamqqVK1fK4/HYMRMAAICk\n",
              "SwiVf/7zn/rb3/6mgwcPKiUlRQ8//LAOHTpkx2wAAOAKd0nXqGRmZmr16tV64403VFdXp3Hjxmnq\n",
              "1Kn66KOPAj0fAAC4gl1SqOzYsUPTpk1Tfn6+HnnkEZ08eVLFxcX6xS9+Eej5AADAFczvT6YdM2aM\n",
              "rrvuOi1cuFD5+fneGwLed999Wrt2bcAHBAAAVy6/Q+XVV1/V+PHje/zatm3bLnsgAACAC/x+6+ff\n",
              "//63vv76a+/jr776SqtXrw7oUAAAANIlhMqqVas0ePBg7+MhQ4Zo1apVAR0KAABAuoRQ6emOyJ2d\n",
              "nQEZBgAA4Pv8DpXY2Fht2LDB+/jvf/+7YmNjAzoUAACAdAkX077wwguaNm2aFi1aJEm6+uqr9dpr\n",
              "rwV8MAAAAL9DJS0tTYcOHdInn3wiSUpNTfX+iTIAAEAg+R0qkuRwOBQTE6OOjg59/vnnkqT4+PiA\n",
              "DgYAAOB3qPz1r3/VwoUL9YMf/EADBpy/xMXhcKilpSXgwwEAgCub36GydOlS7dmzR6mpqXbMAwAA\n",
              "4OX3X/1cd911RAoAAAgKv0Nl+vTpeuGFF9TS0iKPx+M9AAAAAs3vt36eeOIJSVJJSYkcDocsy5LD\n",
              "4eBD3wAAQMD5HSpdXV12zAEAANCN32/9SOdvTPjKK69Ikk6fPq3m5uaADgUAACBd4k0JH3zwQT3z\n",
              "zDOSzt89+Ve/+lWg5wIAAPA/VKqqqvT+++8rKipKkjR69Gh9+eWXAR8MAADA71BxOp0aOHCgz3OR\n",
              "kZf0AbcAAAAX5XeoDB06VJ9++qkcDoek859Uy8fnAwAAO1zS3ZNnz56tw4cPa+TIkYqKilJdXZ0d\n",
              "swEAgCuc36GSlJSkDz74QJ988oksy+LuyQAAwDZ+h4rb7ZYkXXPNNZLE3ZMBAIBt/A6V8ePHez+R\n",
              "9uzZs/rvf/+rIUOGcPdkAAAQcH6Hyv/9U+SamhodOHAgYAMBAABccEmfTPt9+fn52rp1ayBmAQAA\n",
              "8OF3qHz/jsn/+c9/9MYbb/R49+SzZ89q+vTpSklJUXp6uqZOnarGxsYe96yrq1NaWpqSk5OVn5/P\n",
              "3ZgBAICkSwiVmJgYXXvttYqJidGwYcNUUlKiP//5zz2uLSoq0ieffKIDBw5o2rRpKigo6Lbmm2++\n",
              "0UMPPaQtW7boyJEjGjFihJYuXer/TwIAAPodv0Olq6tLnZ2d6urq0rlz53To0CHl5uZ2W3fVVVfp\n",
              "rrvu8n4wXE5OjlwuV7d127ZtU2ZmptLS0iRJDz/8sKqrq3v9/u3t7T6v6ng8HnV2dvr7YwAAgDBw\n",
              "2deo9NXKlSs1bdq0bs+73W4lJCR4HycmJqq5uVkdHR097lNeXq7o6GifY/fu3bbNDQAAQsfvUBkw\n",
              "YIAiIiK6HRee78mzzz6rxsZGlZeXX/bApaWlam1t9Tmys7Mve18AAGAev/88ecmSJWpra9OCBQsk\n",
              "SRUVFRo4cKB+85vf9Lj+ueeeU01NjXbs2KGrr76629fj4+O1fft272OXy6XY2Nheb3TodDrldDp9\n",
              "nuOTcQEA6J/8fkVl8+bN+sMf/qC4uDjFxcVp2bJlqqmp0TXXXOP9tNoLVqxYoerqam3fvl0xMTE9\n",
              "7pebm6uGhgYdPnxYkrRq1SrNmjXL/58EAAD0O36/onLmzBm1tLRo2LBhkqSWlhadOXOm27oTJ07o\n",
              "scce06hRozRlyhRJ518N+eCDD/TUU09pxIgRmj9/vgYNGqQ1a9Zo+vTp6ujo0E033aSXX375Mn8s\n",
              "AADQH/gdKo899pjS09N11113SZLeeOMNPfPMM93WxcXFybKsHvdYsmSJz+O8vDzl5eX5OwoAAOjn\n",
              "/A6V4uJiTZo0STt37pQklZSU6MYbbwz4YAAAAH6HiiQNGTJEY8eO1eTJk9XR0aHvvvtOP/zhDwM9\n",
              "GwAAuML5fTHtxo0blZOTo3nz5kmSPv74Y02fPj3QcwEAAPgfKuXl5WpoaPD+FU96erqOHTsW6LkA\n",
              "AAD8D5WIiAgNGTLE5zne9gEAAHbwO1QGDRqkU6dOee/h89Zbb2nw4MEBHwwAAMDvi2n/+Mc/6s47\n",
              "79Rnn32mW265RUePHtXWrVvtmA0AAFzh/AqVC3dO3rlzp/71r3/JsixNnDix10+dBQAAuBx+hcqA\n",
              "AQNUVFSkAwcO6M4777RrJgAAAEmXcI1KcnKyGhsb7ZgFAADAh9/XqHz99dfKyMjQxIkT9aMf/cj7\n",
              "fE1NTUAHAwAA6HOoFBUVqaqqSnPmzFFeXp6uvfZaO+cCAADoe6js3btXkjRnzhxlZWWpoaHBtqEA\n",
              "AACkS7hGRVKvd0UGAAAIpD6/otLW1qaPPvpIlmXp7Nmz3n9fMG7cOFsGBAAAVy6/QiUvL8/7+Pv/\n",
              "djgc+uyzzwI7GQAAuOL1OVRcLpeNYwAAAHR3SdeoAAAABAOhAgAAjEWoAAAAYxEqAADAWIQKAAAw\n",
              "FqECAACMRagAAABjESoAAMBYhAoAADAWoQIAAIxFqAAAAGMRKgAAwFiECgAAMBahAgAAjEWoAAAA\n",
              "YxEqAADAWIQKAAAwFqECAACMZWuoLFy4UImJiXI4HNq/f3+Pa3bt2qWBAwcqIyPDe7S1tdk5FgAA\n",
              "CBORdm5+3333adGiRbrlllsuui41NbXXkAEAAFcuW0PltttuC/ie7e3tam9v93mus7Mz4N8HAACE\n",
              "nhHXqDQ1NSkrK0sTJkzQqlWrLrq2vLxc0dHRPsfu3buDNCkAAAimkIdKVlaWTpw4oYaGBm3evFkV\n",
              "FRXasGFDr+tLS0vV2trqc2RnZwdxYgAAECwhD5WoqChFR0dLkuLi4jR79mzV19f3ut7pdCoqKsrn\n",
              "iIiICNa4AAAgiEIeKs3Nzerq6pIknTlzRnV1dcrMzAzxVAAAwAS2hkpxcbHi4uJ04sQJ3XHHHUpK\n",
              "SpIkFRQUqLa2VpK0adMmjR07Vunp6crJydHUqVM1b948O8cCAABhwmFZlhXqIS5XSUmJVqxYEfB9\n",
              "E3+/NeB7XuBafrdtewMA0F+E/K0fAACA3hAqAADAWIQKAAAwFqECAACMRagAAABjESoAAMBYhAoA\n",
              "ADAWoQIAAIxFqAAAAGMRKgAAwFiECgAAMBahAgAAjEWoAAAAYxEqAADAWIQKAAAwFqECAACMRagA\n",
              "AABjESoAAMBYhAoAADAWoQIAAIxFqAAAAGMRKgAAwFiECgAAMBahAgAAjEWoAAAAYxEqAADAWIQK\n",
              "AAAwFqECAACMRagAAABjESoAAMBYhAoAADAWoQIAAIxFqAAAAGMRKgAAwFiECgAAMJatobJw4UIl\n",
              "JibK4XBo//79va5bu3atkpOTNXr0aBUWFurcuXN2jgUAAMKEraFy33336d1331VCQkKva44eParF\n",
              "ixervr5ejY2NOnXqlKqqquwcCwAAhAlbQ+W2225TXFzcRdds3LhReXl5Gj58uBwOh+bPn6/q6upe\n",
              "17e3t8vj8fgcnZ2dgR4dAAAYIDLUA7jdbp9XXBITE+V2u3tdX15errKyMp/ncnJybJsPAIBwkPj7\n",
              "rbbs61p+ty379lXYXUxbWlqq1tZWnyM7OzvUYwEAABuE/BWV+Ph4NTU1eR+7XC7Fx8f3ut7pdMrp\n",
              "dPo8FxERYdt8AAAgdEL+isqMGTNUW1urkydPyrIsVVRUaNasWaEeCwAAGMDWUCkuLlZcXJxOnDih\n",
              "O+64Q0lJSZKkgoIC1dbWSpJGjRqlsrIyTZo0SUlJSRo6dKiKi4vtHAsAAIQJW9/6qays7PH5NWvW\n",
              "+DwuLCxUYWGhnaMAAIAwFPK3fgAAAHpDqAAAAGMRKgAAwFiECgAAMBahAgAAjEWoAAAAYxEqAADA\n",
              "WIQKAAAwFqECAACMRagAAABjESoAAMBYhAoAADAWoQIAAIxFqAAAAGMRKgAAwFiECgAAMBahAgAA\n",
              "jEWoAAAAYxEqAADAWIQKAAAwFqECAACMRagAAABjESoAAMBYhAoAADAWoQIAAIxFqAAAAGMRKgAA\n",
              "wFiECgAAMBahAgAAjEWoAAAAYxEqAADAWIQKAAAwFqECAACMRagAAABjESoAAMBYtobKkSNHNHHi\n",
              "RKWkpGjChAn6+OOPu63ZtWuXBg4cqIyMDO/R1tZm51gAACBMRNq5eXFxsYqKijR37lxt3LhRc+fO\n",
              "1Z49e7qtS01N1f79++0cBQAAhCHbXlFpaWnR3r17df/990uSZsyYoePHj6uxsfGy9m1vb5fH4/E5\n",
              "Ojs7AzEyAAAwjG2hcvz4ccXGxioy8vyLNg6HQ/Hx8XK73d3WNjU1KSsrSxMmTNCqVasuum95ebmi\n",
              "o6N9jt27d9vyMwAAgNAK+cW0WVlZOnHihBoaGrR582ZVVFRow4YNva4vLS1Va2urz5GdnR3EiQEA\n",
              "QLDYFiojR45Uc3OzOjo6JEmWZcntdis+Pt5nXVRUlKKjoyVJcXFxmj17turr63vd1+l0KioqyueI\n",
              "iIiw68cAAAAhZFuoDBs2TFlZWXr11VclSZs2bVJcXJySkpJ81jU3N6urq0uSdObMGdXV1SkzM9Ou\n",
              "sQAAQBix9a2fyspKVVZWKiUlRcuXL9e6deskSQUFBaqtrZV0PmDGjh2r9PR05eTkaOrUqZo3b56d\n",
              "YwEAgDBh658np6am6r333uv2/Jo1a7z/fvTRR/Xoo4/aOQYAAAhTIb+YFgAAoDeECgAAMBahAgAA\n",
              "jEWoAAAAYxEqAADAWIQKAAAwFqECAACMRagAAABjESoAAMBYhAoAADAWoQIAAIxFqAAAAGMRKgAA\n",
              "wFiECgAAMBahAgAAjEWoAAAAYxEqAADAWIQKAAAwFqECAACMRagAAABjESoAAMBYhAoAADAWoQIA\n",
              "AIxFqAAAAGMRKgAAwFiECgAAMBahAgAAjEWoAAAAYxEqAADAWIQKAAAwFqECAACMRagAAABjESoA\n",
              "AMBYhAoAADAWoQIAAIxla6gcOXJEEydOVEpKiiZMmKCPP/64x3Vr165VcnKyRo8ercLCQp07d87O\n",
              "sQAAQJiwNVSKi4tVVFSkTz/9VI8//rjmzp3bbc3Ro0e1ePFi1dfXq7GxUadOnVJVVZWdYwEAgDBh\n",
              "W6i0tLRo7969uv/++yVJM2bM0PHjx9XY2OizbuPGjcrLy9Pw4cPlcDg0f/58VVdX97pve3u7PB6P\n",
              "z9HZ2WnXjwEAAEIo0q6Njx8/rtjYWEVGnv8WDodD8fHxcrvdSkpK8q5zu91KSEjwPk5MTJTb7e51\n",
              "3/LycpWVlfk8l5aWppKSkoDO39nZqdjdu5Wdna2IiIiA7i1JJSVvBXzPcNXZ2andNp5rnMd5Dg7O\n",
              "c3BwnrvLt2HPzs5O/c//LLPtPCckJOjXv/71RdfYFip2KS0t7RYlTqdTTqczoN/H4/EoOjpab775\n",
              "pqKiogK6N3xxroOD8xwcnOfg4DwHhwnn2bZQGTlypJqbm9XR0aHIyEhZliW32634+HifdfHx8Wpq\n",
              "avI+drlc3dZ8nx1RAgAAzGTbNSrDhg1TVlaWXn31VUnSpk2bFBcX5/O2j3T+2pXa2lqdPHlSlmWp\n",
              "oqJCs2bNsmssAAAQRmz9q5/KykpVVlYqJSVFy5cv17p16yRJBQUFqq2tlSSNGjVKZWVlmjRpkpKS\n",
              "kjR06FAVFxfbORYAAAgTtl6jkpqaqvfee6/b82vWrPF5XFhYqMLCQjtH8ZvT6dTTTz/N20xBwLkO\n",
              "Ds5zcHCeg4PzHBwmnGeHZVlWyL47AADARfAR+gAAwFiECgAAMBahAgAAjHXFhwo3TgyOvpznt99+\n",
              "W9nZ2brhhht04403atGiRerq6grBtOGtr/+dliTLsvSzn/1MMTExwRuwn+jref7oo480efJkjRkz\n",
              "RmPGjFFNTU2QJw1vfTnPXV1dKikp0Q033KBx48ZpypQp3W7XgotbuHChEhMT5XA4tH///l7XheR3\n",
              "oXWFmzJlirVu3TrLsizrH//4h3XzzTd3W/PZZ59ZsbGxVnNzs9XV1WXde++91ksvvRTkScNbX85z\n",
              "Q0OD1dTUZFmWZbW1tVmTJk3y/mfQd3051xc8//zzVkFBgRUdHR2c4fqRvpznb7/91vrJT35i1dfX\n",
              "W5ZlWR0dHVZLS0swxwx7fTnPmzdvtrKzs63vvvvOsizLWrp0qTVz5sxgjhn23nnnHev48eNWQkKC\n",
              "tW/fvh7XhOp34RUdKqdOnbIGDRpknTt3zrIsy+rq6rJ+/OMfW0eOHPFZ96c//ckqLi72Pt66das1\n",
              "adKkoM4azvp6nv+vRx55xHr66aeDMGH/4c+5PnjwoHXrrbdajY2NhIqf+nqeV69ebc2ePTsUI/YL\n",
              "fT3PW7ZssdLT0y2Px2N1dXVZv/vd76zf/va3oRg57F0sVEL1u/CKfuvnYjdO/D5/b5wIX309z993\n",
              "8uRJbdy4Uffcc0+wxuwX+nquz507p8LCQlVWVnJDt0vQ1/N86NAhOZ1O3XPPPcrIyNADDzygL7/8\n",
              "MhQjh6W+nud7771XkydP1vDhwxUbG6u33npLS5YsCcXI/Vqofhde0aECM3k8Ht17771atGiRbr75\n",
              "5lCP0y+VlZUpPz9fY8aMCfUo/VpHR4d27NihyspK7du3T9dff70WLFgQ6rH6nb179+rgwYP6/PPP\n",
              "9cUXX+jnP/+55s+fH+qxECBXdKh8/8aJki5648Rjx455H/9/N06Er76eZ0k6c+aMcnNzNW3atG53\n",
              "ycb/r6/n+p133tGLL76oxMRE3XLLLfJ4PEpMTOT/7feRP//bMWXKFF1//fVyOBy6//779f7774di\n",
              "5LDU1/O8fv1670XhAwYM0Jw5c7Rz585QjNyvhep34RUdKtw4MTj6ep6/+eYb5ebmKjc3V08++WQo\n",
              "Rg17fT3X9fX1OnbsmFwul959911FRUXJ5XJp6NChoRg77PT1PP/yl7/Unj175PF4JEmvv/660tPT\n",
              "gz5vuOrreR41apTefvttfffdd5Kkuro63XTTTUGft78L2e9C26+CMdzhw4etnJwcKzk52Ro/frz1\n",
              "4YcfWpZlWQ899JD12muveddVVVVZo0aNskaNGmU9+OCD3qvL0Td9Oc/Lli2zIiMjrfT0dO+xbNmy\n",
              "UI4dlvr63+kLjh49ysW0l6Cv53n9+vXWjTfeaI0dO9bKzc213G53qEYOS305z2fPnrUKCgqstLQ0\n",
              "a+zYsdbUqVO9f0GIvikqKrKuv/56KyIiwho2bJg1evRoy7LM+F3IvX4AAICxrui3fgAAgNkIFQAA\n",
              "YCxCBQAAGItQAQAAxiJUAACAsQgVAABgLEIFAAAYi1ABAADGIlQAAICxCBUAAGAsQgUAABjrfwFY\n",
              "1iPeNhhGXAAAAABJRU5ErkJggg==\n",
              "\">\n",
              "      </div>\n",
              "      <script type=\"text/javascript\">\n",
              "        (() => {\n",
              "          const chartElement = document.getElementById(\"chart-6c744f9c-a491-49fb-a8b4-4ff700806989\");\n",
              "          async function getCodeForChartHandler(event) {\n",
              "            const chartCodeResponse =  await google.colab.kernel.invokeFunction(\n",
              "                'getCodeForChart', [\"chart-6c744f9c-a491-49fb-a8b4-4ff700806989\"], {});\n",
              "            const responseJson = chartCodeResponse.data['application/json'];\n",
              "            await google.colab.notebook.addCell(responseJson.code, 'code');\n",
              "          }\n",
              "          chartElement.onclick = getCodeForChartHandler;\n",
              "        })();\n",
              "      </script>\n",
              "      <style>\n",
              "        .colab-quickchart-chart-with-code  {\n",
              "            display: block;\n",
              "            float: left;\n",
              "            border: 1px solid transparent;\n",
              "        }\n",
              "\n",
              "        .colab-quickchart-chart-with-code:hover {\n",
              "            cursor: pointer;\n",
              "            border: 1px solid #aaa;\n",
              "        }\n",
              "      </style>"
            ]
          },
          "metadata": {}
        },
        {
          "output_type": "display_data",
          "data": {
            "text/plain": [
              "from matplotlib import pyplot as plt\n",
              "_df_2[1].plot(kind='hist', bins=20, title=1)\n",
              "plt.gca().spines[['top', 'right',]].set_visible(False)"
            ],
            "text/html": [
              "      <div class=\"colab-quickchart-chart-with-code\" id=\"chart-973a23c7-bfca-4ef5-a401-e2202763659a\">\n",
              "        <img style=\"width: 180px;\" src=\"data:image/png;base64,iVBORw0KGgoAAAANSUhEUgAAAioAAAGrCAYAAADuNLxTAAAAOXRFWHRTb2Z0d2FyZQBNYXRwbG90\n",
              "bGliIHZlcnNpb24zLjcuMSwgaHR0cHM6Ly9tYXRwbG90bGliLm9yZy/bCgiHAAAACXBIWXMAAA9h\n",
              "AAAPYQGoP6dpAAAgrUlEQVR4nO3dfWyV9f3/8dehnceqtBWEUSylg96hQm+Qrl8QA1tQdFpYkQUW\n",
              "IyC9ATVsqxmuUdQCX8sWJTINKwXCRJM6BgWbIhpQcHVTgRVQJChFDgUt1OjoQVdKe3r9/iCceL5t\n",
              "+fXAuc75nPJ8JFfCOf3sw7tXdH16ztVzOSzLsgQAAGCgPqEeAAAAoDuECgAAMBahAgAAjEWoAAAA\n",
              "YxEqAADAWIQKAAAwFqECAACMRagAAABjESoAAMBYhAoAADAWoQLAOK+//rrGjx+v6OhoORwOtbe3\n",
              "h3okACHi4F4/AEzz9ttv69tvv1VLS4vmzp2rtrY2RUZGhnosACHAv/kAjHP33XdLknbt2hXaQQCE\n",
              "HG/9AAAAYxEqAADAWIQKAAAwFqECAACMxcW0AIzj8XjU1tam8+fPS5JaW1vV3t6ua665Rn368N9X\n",
              "wNWEf+MBGOfVV19VVFSU97d/brjhBkVFRekf//hHiCcDEGx8jgoAADAWr6gAAABjESoAAMBYhAoA\n",
              "ADAWoQIAAIxFqAAAAGMRKgAAwFiECgAAMFavCJUVK1aEegQAAGCDXhEqx48fD/UIAADABr0iVAAA\n",
              "QO9EqAAAAGMRKgAAwFiECgAAMBahAgAAjEWoAAAAYxEqAADAWIQKAAAwFqECAACMRagAAABjESoA\n",
              "AMBYhAoAADBWUEJl3bp1cjgc2rJlS5dfr6mpUVpampKTk5WXlye32x2MsQAAgOFsDxWXy6XVq1cr\n",
              "Jyeny69/9913mjt3rrZs2aIjR45o8ODBWrJkid1jAQCAMGBrqHR0dCg/P18vvfSSnE5nl2u2bdum\n",
              "zMxMpaWlSZIeeeQRVVZWdrtna2ur3G63z+HxeGyZHwAAhFaknZsvX75c48aN0+jRo7td09DQoKFD\n",
              "h3ofJyYmqrGxUe3t7YqM7DxeWVmZSktLfZ7r7tWaK5X4h6227CtJrmW/sG1vAAB6C9teUTl48KA2\n",
              "bdqkp556KqD7lpSUqLm52efIzs4O6N8BAADMYNsrKrW1tXK5XEpOTpYknTp1SoWFhWpsbNT8+fO9\n",
              "6xISErR9+3bvY5fLpbi4uC5fTZEkp9PZ6W2kiIgIG74DAAAQara9ojJ//nw1NjbK5XLJ5XIpJydH\n",
              "FRUVPpEiSZMnT1ZdXZ0OHz4sSVq5cqVmzJhh11gAACCM2HqNSneefvppDR48WPPmzVPfvn21Zs0a\n",
              "TZ06Ve3t7brtttv0yiuvhGIsAABgmKCFyq5du7x/Xrx4sc/XcnNzlZubG6xRAABAmOCTaQEAgLEI\n",
              "FQAAYCxCBQAAGItQAQAAxiJUAACAsQgVAABgLEIFAAAYi1ABAADGIlQAAICxCBUAAGAsQgUAABiL\n",
              "UAEAAMYiVAAAgLEIFQAAYCxCBQAAGItQAQAAxiJUAACAsQgVAABgLEIFAAAYi1ABAADGIlQAAICx\n",
              "CBUAAGAsQgUAABiLUAEAAMYiVAAAgLEIFQAAYCxCBQAAGItQAQAAxiJUAACAsQgVAABgLEIFAAAY\n",
              "i1ABAADGIlQAAICxCBUAAGAsQgUAABjL1lC56667NGrUKGVkZGj8+PHat29fpzW7du1SVFSUMjIy\n",
              "vEdLS4udYwEAgDARaefmGzZsUGxsrCRp8+bNmj17tg4cONBpXWpqqvbv32/nKAAAIAzZGioXI0WS\n",
              "mpub5XA4rnjP1tZWtba2+jzn8XiueF8AAGAe269ReeihhzRkyBAtWrRIr776apdrjh49qqysLI0Z\n",
              "M0YrV6685H5lZWWKiYnxOXbv3m3H6AAAIMRsD5X169frxIkTWrp0qZ544olOX8/KytLJkydVV1en\n",
              "zZs3q7y8XBs2bOh2v5KSEjU3N/sc2dnZdn4LAAAgRIL2Wz+zZs3Szp079c033/g8Hx0drZiYGElS\n",
              "fHy8Zs6cqdra2m73cTqdio6O9jkiIiJsnR0AAISGbaFy5swZffXVV97HW7ZsUf/+/dWvXz+fdY2N\n",
              "jero6JAknT17VjU1NcrMzLRrLAAAEEZsu5i2ublZ06dPV0tLi/r06aMBAwaopqZGDodD+fn5ys3N\n",
              "VW5urjZt2qS//OUvioyMVHt7u6ZPn645c+bYNRYAAAgjDsuyrFAPcaWKi4u1fPnygO+b+IetAd/z\n",
              "IteyX9i2NwAAvQWfTAsAAIxFqAAAAGMRKgAAwFiECgAAMBahAgAAjEWoAAAAYxEqAADAWIQKAAAw\n",
              "FqECAACMRagAAABjESoAAMBYhAoAADAWoQIAAIxFqAAAAGMRKgAAwFiECgAAMBahAgAAjEWoAAAA\n",
              "YxEqAADAWIQKAAAwFqECAACMRagAAABjESoAAMBYhAoAADAWoQIAAIxFqAAAAGMRKgAAwFiECgAA\n",
              "MBahAgAAjEWoAAAAYxEqAADAWIQKAAAwFqECAACMRagAAABjESoAAMBYtobKXXfdpVGjRikjI0Pj\n",
              "x4/Xvn37uly3du1aJScna/jw4SooKFBbW5udYwEAgDBha6hs2LBBH3/8sfbv36/i4mLNnj2705pj\n",
              "x45p0aJFqq2tVX19vU6fPq2Kigo7xwIAAGHC1lCJjY31/rm5uVkOh6PTmo0bNyo3N1eDBg2Sw+HQ\n",
              "vHnzVFlZ2e2era2tcrvdPofH47FjfAAAEGKRdv8FDz30kHbu3ClJevPNNzt9vaGhQUOHDvU+TkxM\n",
              "VENDQ7f7lZWVqbS01Oe5nJycAE0LAABMYvvFtOvXr9eJEye0dOlSPfHEE1e8X0lJiZqbm32O7Ozs\n",
              "AEwKAABME7Tf+pk1a5Z27typb775xuf5hIQEHT9+3PvY5XIpISGh232cTqeio6N9joiICNvmBgAA\n",
              "oWNbqJw5c0ZfffWV9/GWLVvUv39/9evXz2fdtGnTVF1drVOnTsmyLJWXl2vGjBl2jQUAAMKIbdeo\n",
              "NDc3a/r06WppaVGfPn00YMAA1dTUyOFwKD8/X7m5ucrNzdWwYcNUWlqqcePGSZImTJigoqIiu8YC\n",
              "AABhxGFZlhXqIa5UcXGxli9fHvB9E/+wNeB7XuRa9gvb9gYAoLfgk2kBAICxCBUAAGAsQgUAABiL\n",
              "UAEAAMYiVAAAgLEIFQAAYCxCBQAAGItQAQAAxiJUAACAsQgVAABgLEIFAAAYi1ABAADGIlQAAICx\n",
              "CBUAAGAsQgUAABiLUAEAAMYiVAAAgLEIFQAAYCxCBQAAGItQAQAAxiJUAACAsQgVAABgLEIFAAAY\n",
              "i1ABAADGIlQAAICxCBUAAGAsQgUAABiLUAEAAMYiVAAAgLEIFQAAYCxCBQAAGItQAQAAxiJUAACA\n",
              "sQgVAABgLEIFAAAYy7ZQOXfunKZOnaqUlBSlp6dr0qRJqq+v77TO5XIpIiJCGRkZ3uPo0aN2jQUA\n",
              "AMJIpJ2bFxYW6p577pHD4dDLL7+s/Px87dq1q9O6vn37av/+/XaOAgAAwpBtr6hce+21uvfee+Vw\n",
              "OCRJOTk5crlcV7xva2ur3G63z+HxeK54XwAAYJ6gXaOyYsUKTZkypcuvff/99xozZoyysrK0ePHi\n",
              "S4ZHWVmZYmJifI7du3fbNTYAAAihoITKc889p/r6epWVlXX6WlxcnL788kvt2bNHO3bsUG1trV54\n",
              "4YVu9yopKVFzc7PPkZ2dbef4AAAgRGwPleeff15VVVXatm2brrvuuk5fdzqdGjhwoCSpX79+evjh\n",
              "h1VbW9vtfk6nU9HR0T5HRESEbfMDAIDQsTVUli9frsrKSm3fvl2xsbFdrmlqalJbW5ukC9efVFVV\n",
              "KTMz086xAABAmLAtVE6ePKnHH39cZ86c0cSJE5WRkaGf/vSnkqSnn35a5eXlkqT3339fmZmZSk9P\n",
              "V1ZWlgYNGqQnn3zSrrEAAEAYse3Xk+Pj42VZVpdfW7x4sffPeXl5ysvLs2sMAAAQxvhkWgAAYCxC\n",
              "BQAAGItQAQAAxiJUAACAsfwOlbffftuOOQAAADrxO1QWL16s1NRUrVixQm63246ZAAAAJF1GqPzz\n",
              "n//U66+/roMHDyolJUWPPPKIDh06ZMdsAADgKndZ16hkZmZq9erVeuutt1RTU6NRo0Zp0qRJ+uST\n",
              "TwI9HwAAuIpdVqjs2LFDU6ZMUV5enh599FGdOnVKRUVF+uUvfxno+QAAwFXM70+mHTFihG666SYt\n",
              "WLBAeXl53hsCPvDAA1q7dm3ABwQAAFcvv0Pltdde0+jRo7v82rZt2654IAAAgIv8fuvn3//+t779\n",
              "9lvv42+++UarV68O6FAAAADSZYTKypUr1a9fP+/j/v37a+XKlQEdCgAAQLqMUOnqjsgejycgwwAA\n",
              "APyQ36ESFxenDRs2eB//7W9/U1xcXECHAgAAkC7jYtoXX3xRU6ZM0cKFCyVJ1113nd54442ADwYA\n",
              "AOB3qKSlpenQoUP67LPPJEmpqaneX1EGAAAIJL9DRZIcDodiY2PV3t6uL7/8UpKUkJAQ0MEAAAD8\n",
              "DpW//vWvWrBggX70ox+pT58Ll7g4HA41NTUFfDgAAHB18ztUlixZoj179ig1NdWOeQAAALz8/q2f\n",
              "m266iUgBAABB4XeoTJ06VS+++KKamprkdru9BwAAQKD5/dbPk08+KUkqLi6Ww+GQZVlyOBx86BsA\n",
              "AAg4v0Olo6PDjjkAAAA68futH+nCjQlfffVVSdKZM2fU2NgY0KEAAACky7wp4cMPP6xnn31W0oW7\n",
              "J//6178O9FwAAAD+h0pFRYU+/PBDRUdHS5KGDx+ur7/+OuCDAQAA+B0qTqdTUVFRPs9FRl7WB9wC\n",
              "AABckt+hMmDAAH3++edyOBySLnxSLR+fDwAA7HBZd0+eOXOmDh8+rCFDhig6Olo1NTV2zAYAAK5y\n",
              "fodKUlKSPvroI3322WeyLIu7JwMAANv4HSoNDQ2SpOuvv16SuHsyAACwjd+hMnr0aO8n0p47d07/\n",
              "/e9/1b9/f+6eDAAAAs7vUPm/v4pcVVWlAwcOBGwgAACAiy7rk2l/KC8vT1u3bg3ELAAAAD78DpUf\n",
              "3jH5P//5j956660u75587tw5TZ06VSkpKUpPT9ekSZNUX1/f5Z41NTVKS0tTcnKy8vLyuBszAACQ\n",
              "dBmhEhsbqxtvvFGxsbEaOHCgiouL9ec//7nLtYWFhfrss8904MABTZkyRfn5+Z3WfPfdd5o7d662\n",
              "bNmiI0eOaPDgwVqyZIn/3wkAAOh1/A6Vjo4OeTwedXR0qK2tTYcOHdLkyZM7rbv22mt17733ej8Y\n",
              "LicnRy6Xq9O6bdu2KTMzU2lpaZKkRx55RJWVld3+/a2trT6v6rjdbnk8Hn+/DQAAEAau+BqVnlqx\n",
              "YoWmTJnS6fmGhgYNHTrU+zgxMVGNjY1qb2/vcp+ysjLFxMT4HLt377ZtbgAAEDp+h0qfPn0UERHR\n",
              "6bj4fFeee+451dfXq6ys7IoHLikpUXNzs8+RnZ19xfsCAADz+P3ryYsXL1ZLS4vmz58vSSovL1dU\n",
              "VJR++9vfdrn++eefV1VVlXbs2KHrrruu09cTEhK0fft272OXy6W4uLhub3TodDrldDp9nuOTcQEA\n",
              "6J38fkVl8+bN+t///V/Fx8crPj5eS5cuVVVVla6//nrvp9VetHz5clVWVmr79u2KjY3tcr/Jkyer\n",
              "rq5Ohw8fliStXLlSM2bM8P87AQAAvY7fr6icPXtWTU1NGjhwoCSpqalJZ8+e7bTu5MmTevzxxzVs\n",
              "2DBNnDhR0oVXQz766CM9/fTTGjx4sObNm6e+fftqzZo1mjp1qtrb23XbbbfplVdeucJvCwAA9AZ+\n",
              "h8rjjz+u9PR03XvvvZKkt956S88++2yndfHx8bIsq8s9Fi9e7PM4NzdXubm5/o4CAAB6Ob9Dpaio\n",
              "SOPGjdPOnTslScXFxbr11lsDPhgAAIDfoSJJ/fv318iRIzVhwgS1t7fr/PnzuuaaawI9GwAAuMr5\n",
              "fTHtxo0blZOTozlz5kiSPv30U02dOjXQcwEAAPgfKmVlZaqrq/P+Fk96erqOHz8e6LkAAAD8D5WI\n",
              "iAj179/f5zne9gEAAHbwO1T69u2r06dPe+/h884776hfv34BHwwAAMDvi2n/+Mc/6p577tEXX3yh\n",
              "O+64Q8eOHdPWrVvtmA0AAFzl/AqVi3dO3rlzp/71r3/JsiyNHTu220+dBQAAuBJ+hUqfPn1UWFio\n",
              "AwcO6J577rFrJgAAAEmXcY1KcnKy6uvr7ZgFAADAh9/XqHz77bfKyMjQ2LFjdcMNN3ifr6qqCuhg\n",
              "AAAAPQ6VwsJCVVRUaNasWcrNzdWNN95o51wAAAA9D5W9e/dKkmbNmqWsrCzV1dXZNhQAAIB0Gdeo\n",
              "SOr2rsgAAACB1ONXVFpaWvTJJ5/IsiydO3fO++eLRo0aZcuAAADg6uVXqOTm5nof//DPDodDX3zx\n",
              "RWAnAwAAV70eh4rL5bJxDAAAgM4u6xoVAACAYCBUAACAsQgVAABgLEIFAAAYi1ABAADGIlQAAICx\n",
              "CBUAAGAsQgUAABiLUAEAAMYiVAAAgLEIFQAAYCxCBQAAGItQAQAAxiJUAACAsQgVAABgLEIFAAAY\n",
              "i1ABAADGIlQAAICxbA2VBQsWKDExUQ6HQ/v37+9yza5duxQVFaWMjAzv0dLSYudYAAAgTETaufkD\n",
              "DzyghQsX6o477rjkutTU1G5DBgAAXL1sDZU777wz4Hu2traqtbXV5zmPxxPwvwcAAISeEdeoHD16\n",
              "VFlZWRozZoxWrlx5ybVlZWWKiYnxOXbv3h2kSQEAQDCFPFSysrJ08uRJ1dXVafPmzSovL9eGDRu6\n",
              "XV9SUqLm5mafIzs7O4gTAwCAYAl5qERHRysmJkaSFB8fr5kzZ6q2trbb9U6nU9HR0T5HREREsMYF\n",
              "AABBFPJQaWxsVEdHhyTp7NmzqqmpUWZmZoinAgAAJrA1VIqKihQfH6+TJ0/q7rvvVlJSkiQpPz9f\n",
              "1dXVkqRNmzZp5MiRSk9PV05OjiZNmqQ5c+bYORYAAAgTDsuyrFAPcaWKi4u1fPnygO+b+IetAd/z\n",
              "IteyX9i2NwAAvUXI3/oBAADoDqECAACMRagAAABjESoAAMBYhAoAADAWoQIAAIxFqAAAAGMRKgAA\n",
              "wFiECgAAMBahAgAAjEWoAAAAYxEqAADAWIQKAAAwFqECAACMRagAAABjESoAAMBYhAoAADAWoQIA\n",
              "AIxFqAAAAGMRKgAAwFiECgAAMBahAgAAjEWoAAAAYxEqAADAWIQKAAAwFqECAACMRagAAABjESoA\n",
              "AMBYhAoAADAWoQIAAIxFqAAAAGMRKgAAwFiECgAAMBahAgAAjEWoAAAAY9kaKgsWLFBiYqIcDof2\n",
              "79/f7bq1a9cqOTlZw4cPV0FBgdra2uwcCwAAhAlbQ+WBBx7Q+++/r6FDh3a75tixY1q0aJFqa2tV\n",
              "X1+v06dPq6Kiws6xAABAmLA1VO68807Fx8dfcs3GjRuVm5urQYMGyeFwaN68eaqsrOx2fWtrq9xu\n",
              "t8/h8XgCPToAADBAZKgHaGho8HnFJTExUQ0NDd2uLysrU2lpqc9zOTk5ts0HAEA4SPzDVlv2dS37\n",
              "hS379lTYXUxbUlKi5uZmnyM7OzvUYwEAABuE/BWVhIQEHT161PvY5XIpISGh2/VOp1NOp9PnuYiI\n",
              "CNvmAwAAoRPyV1SmTZum6upqnTp1SpZlqby8XDNmzAj1WAAAwAC2hkpRUZHi4+N18uRJ3X333UpK\n",
              "SpIk5efnq7q6WpI0bNgwlZaWaty4cUpKStKAAQNUVFRk51gAACBM2PrWz6pVq7p8fs2aNT6PCwoK\n",
              "VFBQYOcoAAAgDIX8rR8AAIDuECoAAMBYhAoAADAWoQIAAIxFqAAAAGMRKgAAwFiECgAAMBahAgAA\n",
              "jEWoAAAAYxEqAADAWIQKAAAwFqECAACMRagAAABjESoAAMBYhAoAADAWoQIAAIxFqAAAAGMRKgAA\n",
              "wFiECgAAMBahAgAAjEWoAAAAYxEqAADAWIQKAAAwFqECAACMRagAAABjESoAAMBYhAoAADAWoQIA\n",
              "AIxFqAAAAGMRKgAAwFiECgAAMBahAgAAjEWoAAAAYxEqAADAWIQKAAAwlq2hcuTIEY0dO1YpKSka\n",
              "M2aMPv30005rdu3apaioKGVkZHiPlpYWO8cCAABhItLOzYuKilRYWKjZs2dr48aNmj17tvbs2dNp\n",
              "XWpqqvbv32/nKAAAIAzZ9opKU1OT9u7dqwcffFCSNG3aNJ04cUL19fVXtG9ra6vcbrfP4fF4AjEy\n",
              "AAAwjG2hcuLECcXFxSky8sKLNg6HQwkJCWpoaOi09ujRo8rKytKYMWO0cuXKS+5bVlammJgYn2P3\n",
              "7t22fA8AACC0Qn4xbVZWlk6ePKm6ujpt3rxZ5eXl2rBhQ7frS0pK1Nzc7HNkZ2cHcWIAABAstoXK\n",
              "kCFD1NjYqPb2dkmSZVlqaGhQQkKCz7ro6GjFxMRIkuLj4zVz5kzV1tZ2u6/T6VR0dLTPERERYde3\n",
              "AQAAQsi2UBk4cKCysrL02muvSZI2bdqk+Ph4JSUl+axrbGxUR0eHJOns2bOqqalRZmamXWMBAIAw\n",
              "YutbP6tWrdKqVauUkpKiZcuWad26dZKk/Px8VVdXS7oQMCNHjlR6erpycnI0adIkzZkzx86xAABA\n",
              "mLD115NTU1P1wQcfdHp+zZo13j8/9thjeuyxx+wcAwAAhKmQX0wLAADQHUIFAAAYi1ABAADGIlQA\n",
              "AICxCBUAAGAsQgUAABiLUAEAAMYiVAAAgLEIFQAAYCxCBQAAGItQAQAAxiJUAACAsQgVAABgLEIF\n",
              "AAAYi1ABAADGIlQAAICxCBUAAGAsQgUAABiLUAEAAMYiVAAAgLEIFQAAYCxCBQAAGItQAQAAxiJU\n",
              "AACAsQgVAABgLEIFAAAYi1ABAADGIlQAAICxCBUAAGAsQgUAABiLUAEAAMYiVAAAgLEIFQAAYCxC\n",
              "BQAAGItQAQAAxrI1VI4cOaKxY8cqJSVFY8aM0aefftrlurVr1yo5OVnDhw9XQUGB2tra7BwLAACE\n",
              "CVtDpaioSIWFhfr888/1xBNPaPbs2Z3WHDt2TIsWLVJtba3q6+t1+vRpVVRU2DkWAAAIE7aFSlNT\n",
              "k/bu3asHH3xQkjRt2jSdOHFC9fX1Pus2btyo3NxcDRo0SA6HQ/PmzVNlZWW3+7a2tsrtdvscHo/H\n",
              "rm8DAACEUKRdG584cUJxcXGKjLzwVzgcDiUkJKihoUFJSUnedQ0NDRo6dKj3cWJiohoaGrrdt6ys\n",
              "TKWlpT7PpaWlqbi4OKDzezwexe3erezsbEVERAR0b0kqLn4n4HuGK4/Ho902nmtcwHkODs5zcHCe\n",
              "O8uzYU+Px6P/+Z+ltp3noUOH6je/+c0l19gWKnYpKSnpFCVOp1NOpzOgf4/b7VZMTIzefvttRUdH\n",
              "B3Rv+OJcBwfnOTg4z8HBeQ4OE86zbaEyZMgQNTY2qr29XZGRkbIsSw0NDUpISPBZl5CQoKNHj3of\n",
              "u1yuTmt+yI4oAQAAZrLtGpWBAwcqKytLr732miRp06ZNio+P93nbR7pw7Up1dbVOnToly7JUXl6u\n",
              "GTNm2DUWAAAII7b+1s+qVau0atUqpaSkaNmyZVq3bp0kKT8/X9XV1ZKkYcOGqbS0VOPGjVNSUpIG\n",
              "DBigoqIiO8cCAABhwtZrVFJTU/XBBx90en7NmjU+jwsKClRQUGDnKH5zOp165plneJspCDjXwcF5\n",
              "Dg7Oc3BwnoPDhPPssCzLCtnfDgAAcAl8hD4AADAWoQIAAIxFqAAAAGMRKgAAwFhXfahwh+fg6Ml5\n",
              "fvfdd5Wdna1bbrlFt956qxYuXKiOjo4QTBveevrPtCRZlqWf/exnio2NDd6AvURPz/Mnn3yiCRMm\n",
              "aMSIERoxYoSqqqqCPGl468l57ujoUHFxsW655RaNGjVKEydO7HRfOVzaggULlJiYKIfDof3793e7\n",
              "LiQ/C62r3MSJE61169ZZlmVZf//7363bb7+905ovvvjCiouLsxobG62Ojg7r/vvvt15++eUgTxre\n",
              "enKe6+rqrKNHj1qWZVktLS3WuHHjvP8b9FxPzvVFL7zwgpWfn2/FxMQEZ7hepCfn+fvvv7d+8pOf\n",
              "WLW1tZZlWVZ7e7vV1NQUzDHDXk/O8+bNm63s7Gzr/PnzlmVZ1pIlS6zp06cHc8yw995771knTpyw\n",
              "hg4dau3bt6/LNaH6WXhVh8rp06etvn37Wm1tbZZlWVZHR4f14x//2Dpy5IjPuj/96U9WUVGR9/HW\n",
              "rVutcePGBXXWcNbT8/x/Pfroo9YzzzwThAl7D3/O9cGDB63x48db9fX1hIqfenqeV69ebc2cOTMU\n",
              "I/YKPT3PW7ZssdLT0y232211dHRYv//9763f/e53oRg57F0qVEL1s/CqfuvnUnd4/iF/7/AMXz09\n",
              "zz906tQpbdy4Uffdd1+wxuwVenqu29raVFBQoFWrVnHn2cvQ0/N86NAhOZ1O3XfffcrIyNBDDz2k\n",
              "r7/+OhQjh6Wenuf7779fEyZM0KBBgxQXF6d33nlHixcvDsXIvVqofhZe1aECM7ndbt1///1auHCh\n",
              "br/99lCP0yuVlpYqLy9PI0aMCPUovVp7e7t27NihVatWad++fbr55ps1f/78UI/V6+zdu1cHDx7U\n",
              "l19+qa+++ko///nPNW/evFCPhQC5qkPlh3d4lnTJOzwfP37c+/j/d4dn+OrpeZaks2fPavLkyZoy\n",
              "ZYqKi4uDPWrY6+m5fu+99/TSSy8pMTFRd9xxh9xutxITE/mv/R7y5/87Jk6cqJtvvlkOh0MPPvig\n",
              "Pvzww1CMHJZ6ep7Xr1/vvSi8T58+mjVrlnbu3BmKkXu1UP0svKpDhTs8B0dPz/N3332nyZMna/Lk\n",
              "yXrqqadCMWrY6+m5rq2t1fHjx+VyufT+++8rOjpaLpdLAwYMCMXYYaen5/lXv/qV9uzZI7fbLUl6\n",
              "8803lZ6eHvR5w1VPz/OwYcP07rvv6vz585Kkmpoa3XbbbUGft7cL2c9C26+CMdzhw4etnJwcKzk5\n",
              "2Ro9erT18ccfW5ZlWXPnzrXeeOMN77qKigpr2LBh1rBhw6yHH37Ye3U5eqYn53np0qVWZGSklZ6e\n",
              "7j2WLl0ayrHDUk//mb7o2LFjXEx7GXp6ntevX2/deuut1siRI63JkydbDQ0NoRo5LPXkPJ87d87K\n",
              "z8+30tLSrJEjR1qTJk3y/gYheqawsNC6+eabrYiICGvgwIHW8OHDLcsy42chNyUEAADGuqrf+gEA\n",
              "AGYjVAAAgLEIFQAAYCxCBQAAGItQAQAAxiJUAACAsQgVAABgLEIFAAAYi1ABAADGIlQAAICx/h/W\n",
              "m1UMItXbYQAAAABJRU5ErkJggg==\n",
              "\">\n",
              "      </div>\n",
              "      <script type=\"text/javascript\">\n",
              "        (() => {\n",
              "          const chartElement = document.getElementById(\"chart-973a23c7-bfca-4ef5-a401-e2202763659a\");\n",
              "          async function getCodeForChartHandler(event) {\n",
              "            const chartCodeResponse =  await google.colab.kernel.invokeFunction(\n",
              "                'getCodeForChart', [\"chart-973a23c7-bfca-4ef5-a401-e2202763659a\"], {});\n",
              "            const responseJson = chartCodeResponse.data['application/json'];\n",
              "            await google.colab.notebook.addCell(responseJson.code, 'code');\n",
              "          }\n",
              "          chartElement.onclick = getCodeForChartHandler;\n",
              "        })();\n",
              "      </script>\n",
              "      <style>\n",
              "        .colab-quickchart-chart-with-code  {\n",
              "            display: block;\n",
              "            float: left;\n",
              "            border: 1px solid transparent;\n",
              "        }\n",
              "\n",
              "        .colab-quickchart-chart-with-code:hover {\n",
              "            cursor: pointer;\n",
              "            border: 1px solid #aaa;\n",
              "        }\n",
              "      </style>"
            ]
          },
          "metadata": {}
        },
        {
          "output_type": "display_data",
          "data": {
            "text/plain": [
              "from matplotlib import pyplot as plt\n",
              "_df_3[2].plot(kind='hist', bins=20, title=2)\n",
              "plt.gca().spines[['top', 'right',]].set_visible(False)"
            ],
            "text/html": [
              "      <div class=\"colab-quickchart-chart-with-code\" id=\"chart-68d1fc4b-e742-43e0-b026-c5b426db96f1\">\n",
              "        <img style=\"width: 180px;\" src=\"data:image/png;base64,iVBORw0KGgoAAAANSUhEUgAAAioAAAGrCAYAAADuNLxTAAAAOXRFWHRTb2Z0d2FyZQBNYXRwbG90\n",
              "bGliIHZlcnNpb24zLjcuMSwgaHR0cHM6Ly9tYXRwbG90bGliLm9yZy/bCgiHAAAACXBIWXMAAA9h\n",
              "AAAPYQGoP6dpAAAg70lEQVR4nO3dfXBU5d2H8e+StCtakghCCYYkDYQEFfKCpHlAHGgHjVYCBuhA\n",
              "6whoXkAd2sYpmlHUADW0o4xUJw1vgyIdKuXNTBAtKDixVYGGoEhRElkSNBCrJYs2RJKc5w+GHfdJ\n",
              "wpOFPbv3huszc2bYzd07v5zpNFd3T/Y4LMuyBAAAYKBewR4AAACgK4QKAAAwFqECAACMRagAAABj\n",
              "ESoAAMBYhAoAADAWoQIAAIxFqAAAAGMRKgAAwFiECgAAMBahAsA4jz76qEaMGKGIiAhFR0dr5syZ\n",
              "qq+vD/ZYAIKAUAFgHIfDoRdffFH//ve/9a9//UsOh0OTJk0K9lgAgsDBTQkBmK66ulppaWn66quv\n",
              "dO211wZ7HAABxCsqAIz3t7/9TXFxcUQKcAUKD/YAAHAxu3btUnFxsTZv3hzsUQAEAa+oADBWRUWF\n",
              "pk2bpvXr1ysrKyvY4wAIAkIFgJH+/Oc/65e//KVeeeUV3X333cEeB0CQECoAjPPCCy/ooYceUkVF\n",
              "hW6//fZgjwMgiPirHwDGcTgcCg8Pl9Pp9Hp+x44dGjduXJCmAhAMXEwLwDj8/ycAF/DWDwAAMBah\n",
              "AgAAjEWoAAAAYxEqAADAWIQKAAAwFqECAACMRagAAABj9YhQWb58ebBHAAAANugRoXL8+PFgjwAA\n",
              "AGzQI0IFAAD0TIQKAAAwFqECAACMRagAAABjESoAAMBYhAoAADAWoQIAAIxFqAAAAGMRKgAAwFiE\n",
              "CgAAMBahAgAAjEWoAAAAYwUkVNauXSuHw6Ft27Z1+vWKigolJycrMTFROTk5crvdgRgLAAAYzvZQ\n",
              "cblcWrVqlTIzMzv9+tdff637779f27Zt09GjRzVo0CAtXrzY7rEAAEAIsDVU2tvblZubq+eff15O\n",
              "p7PTNTt27FBaWpqSk5MlSQ888IA2bNjQ5Z4tLS1yu91eR1tbmy3zAwCA4Aq3c/Nly5Zp7NixGjVq\n",
              "VJdr6urqFBcX53kcHx+vhoYGtba2Kjy843glJSUqLi72eq6rV2suV/yj223ZV5JcS39m294AAPQU\n",
              "tr2icujQIW3evFmPP/64X/ctKipSU1OT15GRkeHX7wEAAMxg2ysqlZWVcrlcSkxMlCSdPHlS+fn5\n",
              "amho0Lx58zzrYmNjtXPnTs9jl8ul6OjoTl9NkSSn09nhbaSwsDAbfgIAABBstr2iMm/ePDU0NMjl\n",
              "csnlcikzM1MrV670ihRJysrKUlVVlY4cOSJJKi0t1YwZM+waCwAAhBBbr1HpyhNPPKFBgwZp7ty5\n",
              "6tOnj1avXq0pU6aotbVVN910k1566aVgjAUAAAwTsFDZs2eP59+LFi3y+lp2drays7MDNQoAAAgR\n",
              "fDItAAAwFqECAACMRagAAABjESoAAMBYhAoAADAWoQIAAIxFqAAAAGMRKgAAwFiECgAAMBahAgAA\n",
              "jEWoAAAAYxEqAADAWIQKAAAwFqECAACMRagAAABjESoAAMBYhAoAADAWoQIAAIxFqAAAAGMRKgAA\n",
              "wFiECgAAMBahAgAAjEWoAAAAYxEqAADAWIQKAAAwFqECAACMRagAAABjESoAAMBYhAoAADAWoQIA\n",
              "AIxFqAAAAGMRKgAAwFiECgAAMBahAgAAjEWoAAAAY9kaKrfddptGjhyp1NRUjRs3TgcOHOiwZs+e\n",
              "Perdu7dSU1M9R3Nzs51jAQCAEBFu5+YbN25UVFSUJGnr1q2aPXu2Dh482GFdUlKSqqur7RwFAACE\n",
              "IFtD5UKkSFJTU5McDsdl79nS0qKWlhav59ra2i57XwAAYB7br1G59957NXjwYC1cuFAvv/xyp2tq\n",
              "a2uVnp6u0aNHq7S09KL7lZSUKDIy0uvYu3evHaMDAIAgsz1U1q1bp/r6ei1ZskSPPPJIh6+np6fr\n",
              "xIkTqqqq0tatW1VWVqaNGzd2uV9RUZGampq8joyMDDt/BAAAECQB+6ufWbNmaffu3fryyy+9no+I\n",
              "iFBkZKQkKSYmRjNnzlRlZWWX+zidTkVERHgdYWFhts4OAACCw7ZQOX36tD7//HPP423btqlfv37q\n",
              "27ev17qGhga1t7dLks6cOaOKigqlpaXZNRYAAAghtl1M29TUpOnTp6u5uVm9evVS//79VVFRIYfD\n",
              "odzcXGVnZys7O1ubN2/Wn/70J4WHh6u1tVXTp0/XnDlz7BoLAACEEIdlWVawh7hchYWFWrZsmd/3\n",
              "jX90u9/3vMC19Ge27Q0AQE/BJ9MCAABjESoAAMBYhAoAADAWoQIAAIxFqAAAAGMRKgAAwFiECgAA\n",
              "MBahAgAAjEWoAAAAYxEqAADAWIQKAAAwFqECAACMRagAAABjESoAAMBYhAoAADAWoQIAAIxFqAAA\n",
              "AGMRKgAAwFiECgAAMBahAgAAjEWoAAAAYxEqAADAWIQKAAAwFqECAACMRagAAABjESoAAMBYhAoA\n",
              "ADAWoQIAAIxFqAAAAGMRKgAAwFiECgAAMBahAgAAjEWoAAAAYxEqAADAWIQKAAAwlq2hctttt2nk\n",
              "yJFKTU3VuHHjdODAgU7XrVmzRomJiRoyZIjy8vJ07tw5O8cCAAAhwtZQ2bhxoz744ANVV1ersLBQ\n",
              "s2fP7rDm2LFjWrhwoSorK1VTU6NTp05p5cqVdo4FAABChK2hEhUV5fl3U1OTHA5HhzWbNm1Sdna2\n",
              "Bg4cKIfDoblz52rDhg1d7tnS0iK32+11tLW12TE+AAAIsnC7v8G9996r3bt3S5Jee+21Dl+vq6tT\n",
              "XFyc53F8fLzq6uq63K+kpETFxcVez2VmZvppWgAAYBLbL6Zdt26d6uvrtWTJEj3yyCOXvV9RUZGa\n",
              "mpq8joyMDD9MCgAATBOwv/qZNWuWdu/erS+//NLr+djYWB0/ftzz2OVyKTY2tst9nE6nIiIivI6w\n",
              "sDDb5gYAAMFjW6icPn1an3/+uefxtm3b1K9fP/Xt29dr3dSpU1VeXq6TJ0/KsiyVlZVpxowZdo0F\n",
              "AABCiG3XqDQ1NWn69Olqbm5Wr1691L9/f1VUVMjhcCg3N1fZ2dnKzs5WQkKCiouLNXbsWEnS+PHj\n",
              "VVBQYNdYAAAghDgsy7KCPcTlKiws1LJly/y+b/yj2/2+5wWupT+zbW8AAHoKPpkWAAAYi1ABAADG\n",
              "IlQAAICxCBUAAGAsQgUAABiLUAEAAMYiVAAAgLEIFQAAYCxCBQAAGItQAQAAxiJUAACAsQgVAABg\n",
              "LEIFAAAYi1ABAADGIlQAAICxCBUAAGAsQgUAABiLUAEAAMYiVAAAgLEIFQAAYCxCBQAAGItQAQAA\n",
              "xiJUAACAsQgVAABgLEIFAAAYi1ABAADGIlQAAICxCBUAAGAsQgUAABiLUAEAAMYiVAAAgLEIFQAA\n",
              "YCxCBQAAGItQAQAAxiJUAACAsWwLlbNnz2rKlCkaNmyYUlJSNHHiRNXU1HRY53K5FBYWptTUVM9R\n",
              "W1tr11gAACCEhNu5eX5+vu644w45HA698MILys3N1Z49ezqs69Onj6qrq+0cBQAAhCDbXlG56qqr\n",
              "dOedd8rhcEiSMjMz5XK5LnvflpYWud1ur6Otre2y9wUAAOYJ2DUqy5cv1+TJkzv92jfffKPRo0cr\n",
              "PT1dixYtumh4lJSUKDIy0uvYu3evXWMDAIAgCkioPP3006qpqVFJSUmHr0VHR+uzzz7Tvn37tGvX\n",
              "LlVWVurZZ5/tcq+ioiI1NTV5HRkZGXaODwAAgsT2UHnmmWe0ZcsW7dixQ1dffXWHrzudTg0YMECS\n",
              "1LdvX913332qrKzscj+n06mIiAivIywszLb5AQBA8NgaKsuWLdOGDRu0c+dORUVFdbqmsbFR586d\n",
              "k3T++pMtW7YoLS3NzrEAAECIsC1UTpw4oYcfflinT5/WhAkTlJqaqh//+MeSpCeeeEJlZWWSpHfe\n",
              "eUdpaWlKSUlRenq6Bg4cqMcee8yusQAAQAix7c+TY2JiZFlWp19btGiR5985OTnKycmxawwAABDC\n",
              "+GRaAABgLEIFAAAYi1ABAADGIlQAAICxfA6VN954w445AAAAOvA5VBYtWqSkpCQtX75cbrfbjpkA\n",
              "AAAkXUKo/P3vf9df/vIXHTp0SMOGDdMDDzygw4cP2zEbAAC4wl3SNSppaWlatWqVXn/9dVVUVGjk\n",
              "yJGaOHGiPvzwQ3/PBwAArmCXFCq7du3S5MmTlZOTowcffFAnT55UQUGB7r77bn/PBwAArmA+fzLt\n",
              "8OHDdd1112n+/PnKycnx3BBw2rRpWrNmjd8HBAAAVy6fQ2X9+vUaNWpUp1/bsWPHZQ8EAABwgc9v\n",
              "/fzzn//UV1995Xn85ZdfatWqVX4dCgAAQLqEUCktLVXfvn09j/v166fS0lK/DgUAACBdQqh0dkfk\n",
              "trY2vwwDAADwXT6HSnR0tDZu3Oh5/Morryg6OtqvQwEAAEiXcDHtc889p8mTJ2vBggWSpKuvvlqv\n",
              "vvqq3wcDAADwOVSSk5N1+PBhffzxx5KkpKQkz58oAwAA+JPPoSJJDodDUVFRam1t1WeffSZJio2N\n",
              "9etgAAAAPofKiy++qPnz5+t73/ueevU6f4mLw+FQY2Oj34cDAABXNp9DZfHixdq3b5+SkpLsmAcA\n",
              "AMDD57/6ue6664gUAAAQED6HypQpU/Tcc8+psbFRbrfbcwAAAPibz2/9PPbYY5KkwsJCORwOWZYl\n",
              "h8PBh74BAAC/8zlU2tvb7ZgDAACgA5/f+pHO35jw5ZdfliSdPn1aDQ0Nfh0KAABAusSbEt533316\n",
              "6qmnJJ2/e/IvfvELf88FAADge6isXLlS7733niIiIiRJQ4YM0RdffOH3wQAAAHwOFafTqd69e3s9\n",
              "Fx5+SR9wCwAAcFE+h0r//v31ySefyOFwSDr/SbV8fD4AALDDJd09eebMmTpy5IgGDx6siIgIVVRU\n",
              "2DEbAAC4wvkcKkOHDtX777+vjz/+WJZlcfdkAABgG59Dpa6uTpJ0zTXXSBJ3TwYAALbxOVRGjRrl\n",
              "+UTas2fP6r///a/69evH3ZMBAIDf+Rwq//dPkbds2aKDBw/6bSAAAIALLumTab8rJydH27dv98cs\n",
              "AAAAXnwOle/eMfk///mPXn/99U7vnnz27FlNmTJFw4YNU0pKiiZOnKiamppO96yoqFBycrISExOV\n",
              "k5PD3ZgBAICkSwiVqKgoXXvttYqKitKAAQNUWFioP/7xj52uzc/P18cff6yDBw9q8uTJys3N7bDm\n",
              "66+/1v33369t27bp6NGjGjRokBYvXuz7TwIAAHocn0Olvb1dbW1tam9v17lz53T48GFlZWV1WHfV\n",
              "VVfpzjvv9HwwXGZmplwuV4d1O3bsUFpampKTkyVJDzzwgDZs2NDl929pafF6Vcftdqutrc3XHwMA\n",
              "AISAy75GpbuWL1+uyZMnd3i+rq5OcXFxnsfx8fFqaGhQa2trp/uUlJQoMjLS69i7d69tcwMAgODx\n",
              "OVR69eqlsLCwDseF5zvz9NNPq6amRiUlJZc9cFFRkZqamryOjIyMy94XAACYx+c/T160aJGam5s1\n",
              "b948SVJZWZl69+6tX//6152uf+aZZ7Rlyxbt2rVLV199dYevx8bGaufOnZ7HLpdL0dHRXd7o0Ol0\n",
              "yul0ej3HJ+MCANAz+fyKytatW/W73/1OMTExiomJ0ZIlS7RlyxZdc801nk+rvWDZsmXasGGDdu7c\n",
              "qaioqE73y8rKUlVVlY4cOSJJKi0t1YwZM3z/SQAAQI/j8ysqZ86cUWNjowYMGCBJamxs1JkzZzqs\n",
              "O3HihB5++GElJCRowoQJks6/GvL+++/riSee0KBBgzR37lz16dNHq1ev1pQpU9Ta2qqbbrpJL730\n",
              "0mX+WAAAoCfwOVQefvhhpaSk6M4775Qkvf7663rqqac6rIuJiZFlWZ3usWjRIq/H2dnZys7O9nUU\n",
              "AADQw/kcKgUFBRo7dqx2794tSSosLNSNN97o98EAAAB8DhVJ6tevn0aMGKHx48ertbVV3377rb7/\n",
              "/e/7ezYAAHCF8/li2k2bNikzM1Nz5syRJH300UeaMmWKv+cCAADwPVRKSkpUVVXl+SuelJQUHT9+\n",
              "3N9zAQAA+B4qYWFh6tevn9dzvO0DAADs4HOo9OnTR6dOnfLcw+fNN99U3759/T4YAACAzxfT/v73\n",
              "v9cdd9yhTz/9VLfccouOHTum7du32zEbAAC4wvkUKhfunLx792794x//kGVZGjNmTJefOgsAAHA5\n",
              "fAqVXr16KT8/XwcPHtQdd9xh10wAAACSLuEalcTERNXU1NgxCwAAgBefr1H56quvlJqaqjFjxugH\n",
              "P/iB5/ktW7b4dTAAAIBuh0p+fr5WrlypWbNmKTs7W9dee62dcwEAAHQ/VPbv3y9JmjVrltLT01VV\n",
              "VWXbUAAAANIlXKMiqcu7IgMAAPhTt19RaW5u1ocffijLsnT27FnPvy8YOXKkLQMCAIArl0+hkp2d\n",
              "7Xn83X87HA59+umn/p0MAABc8bodKi6Xy8YxAAAAOrqka1QAAAACgVABAADGIlQAAICxCBUAAGAs\n",
              "QgUAABiLUAEAAMYiVAAAgLEIFQAAYCxCBQAAGItQAQAAxiJUAACAsQgVAABgLEIFAAAYi1ABAADG\n",
              "IlQAAICxCBUAAGAsQgUAABiLUAEAAMayNVTmz5+v+Ph4ORwOVVdXd7pmz5496t27t1JTUz1Hc3Oz\n",
              "nWMBAIAQEW7n5tOmTdOCBQt0yy23XHRdUlJSlyEDAACuXLaGyq233ur3PVtaWtTS0uL1XFtbm9+/\n",
              "DwAACD4jrlGpra1Venq6Ro8erdLS0ouuLSkpUWRkpNexd+/eAE0KAAACKeihkp6erhMnTqiqqkpb\n",
              "t25VWVmZNm7c2OX6oqIiNTU1eR0ZGRkBnBgAAARK0EMlIiJCkZGRkqSYmBjNnDlTlZWVXa53Op2K\n",
              "iIjwOsLCwgI1LgAACKCgh0pDQ4Pa29slSWfOnFFFRYXS0tKCPBUAADCBraFSUFCgmJgYnThxQrff\n",
              "fruGDh0qScrNzVV5ebkkafPmzRoxYoRSUlKUmZmpiRMnas6cOXaOBQAAQoTDsiwr2ENcrsLCQi1b\n",
              "tszv+8Y/ut3ve17gWvoz2/YGAKCnCPpbPwAAAF0hVAAAgLEIFQAAYCxCBQAAGItQAQAAxiJUAACA\n",
              "sQgVAABgLEIFAAAYi1ABAADGIlQAAICxCBUAAGAsQgUAABiLUAEAAMYiVAAAgLEIFQAAYCxCBQAA\n",
              "GItQAQAAxiJUAACAsQgVAABgLEIFAAAYi1ABAADGIlQAAICxCBUAAGAsQgUAABiLUAEAAMYiVAAA\n",
              "gLEIFQAAYCxCBQAAGItQAQAAxiJUAACAsQgVAABgLEIFAAAYi1ABAADGIlQAAICxCBUAAGAsW0Nl\n",
              "/vz5io+Pl8PhUHV1dZfr1qxZo8TERA0ZMkR5eXk6d+6cnWMBAIAQYWuoTJs2Te+8847i4uK6XHPs\n",
              "2DEtXLhQlZWVqqmp0alTp7Ry5Uo7xwIAACHC1lC59dZbFRMTc9E1mzZtUnZ2tgYOHCiHw6G5c+dq\n",
              "w4YNXa5vaWmR2+32Otra2vw9OgAAMEB4sAeoq6vzesUlPj5edXV1Xa4vKSlRcXGx13OZmZm2zQcA\n",
              "QCiIf3S7Lfu6lv7Mln27K+Qupi0qKlJTU5PXkZGREeyxAACADYL+ikpsbKxqa2s9j10ul2JjY7tc\n",
              "73Q65XQ6vZ4LCwuzbT4AABA8QX9FZerUqSovL9fJkydlWZbKyso0Y8aMYI8FAAAMYGuoFBQUKCYm\n",
              "RidOnNDtt9+uoUOHSpJyc3NVXl4uSUpISFBxcbHGjh2roUOHqn///iooKLBzLAAAECJsfetnxYoV\n",
              "nT6/evVqr8d5eXnKy8uzcxQAABCCgv7WDwAAQFcIFQAAYCxCBQAAGItQAQAAxiJUAACAsQgVAABg\n",
              "LEIFAAAYi1ABAADGIlQAAICxCBUAAGAsQgUAABiLUAEAAMYiVAAAgLEIFQAAYCxCBQAAGItQAQAA\n",
              "xiJUAACAsQgVAABgLEIFAAAYi1ABAADGIlQAAICxCBUAAGAsQgUAABiLUAEAAMYiVAAAgLEIFQAA\n",
              "YCxCBQAAGItQAQAAxiJUAACAsQgVAABgLEIFAAAYi1ABAADGIlQAAICxCBUAAGAsQgUAABjL1lA5\n",
              "evSoxowZo2HDhmn06NH66KOPOqzZs2ePevfurdTUVM/R3Nxs51gAACBEhNu5eUFBgfLz8zV79mxt\n",
              "2rRJs2fP1r59+zqsS0pKUnV1tZ2jAACAEGTbKyqNjY3av3+/7rnnHknS1KlTVV9fr5qamsvat6Wl\n",
              "RW632+toa2vzx8gAAMAwtoVKfX29oqOjFR5+/kUbh8Oh2NhY1dXVdVhbW1ur9PR0jR49WqWlpRfd\n",
              "t6SkRJGRkV7H3r17bfkZAABAcAX9Ytr09HSdOHFCVVVV2rp1q8rKyrRx48Yu1xcVFampqcnryMjI\n",
              "CODEAAAgUGwLlcGDB6uhoUGtra2SJMuyVFdXp9jYWK91ERERioyMlCTFxMRo5syZqqys7HJfp9Op\n",
              "iIgIryMsLMyuHwMAAASRbaEyYMAApaena/369ZKkzZs3KyYmRkOHDvVa19DQoPb2dknSmTNnVFFR\n",
              "obS0NLvGAgAAIcTWt35WrFihFStWaNiwYVq6dKnWrl0rScrNzVV5ebmk8wEzYsQIpaSkKDMzUxMn\n",
              "TtScOXPsHAsAAIQIW/88OSkpSe+++26H51evXu3590MPPaSHHnrIzjEAAECICvrFtAAAAF0hVAAA\n",
              "gLEIFQAAYCxCBQAAGItQAQAAxiJUAACAsQgVAABgLEIFAAAYi1ABAADGIlQAAICxCBUAAGAsQgUA\n",
              "ABiLUAEAAMYiVAAAgLEIFQAAYCxCBQAAGItQAQAAxiJUAACAsQgVAABgLEIFAAAYi1ABAADGIlQA\n",
              "AICxCBUAAGAsQgUAABiLUAEAAMYiVAAAgLEIFQAAYCxCBQAAGItQAQAAxiJUAACAsQgVAABgLEIF\n",
              "AAAYi1ABAADGIlQAAICxCBUAAGAsW0Pl6NGjGjNmjIYNG6bRo0fro48+6nTdmjVrlJiYqCFDhigv\n",
              "L0/nzp2zcywAABAibA2VgoIC5efn65NPPtEjjzyi2bNnd1hz7NgxLVy4UJWVlaqpqdGpU6e0cuVK\n",
              "O8cCAAAhwrZQaWxs1P79+3XPPfdIkqZOnar6+nrV1NR4rdu0aZOys7M1cOBAORwOzZ07Vxs2bOhy\n",
              "35aWFrndbq+jra3Nrh8DAAAEUbhdG9fX1ys6Olrh4ee/hcPhUGxsrOrq6jR06FDPurq6OsXFxXke\n",
              "x8fHq66urst9S0pKVFxc7PVccnKyCgsL/Tp/W1ubovfuVUZGhsLCwvy6tyQVFr7p9z1DVVtbm/ba\n",
              "eK5xHuc5MDjPgcF57ijHhj3b2tr0P/+zxLbzHBcXp1/96lcXXWNbqNilqKioQ5Q4nU45nU6/fh+3\n",
              "263IyEi98cYbioiI8Ove8Ma5DgzOc2BwngOD8xwYJpxn20Jl8ODBamhoUGtrq8LDw2VZlurq6hQb\n",
              "G+u1LjY2VrW1tZ7HLperw5rvsiNKAACAmWy7RmXAgAFKT0/X+vXrJUmbN29WTEyM19s+0vlrV8rL\n",
              "y3Xy5ElZlqWysjLNmDHDrrEAAEAIsfWvflasWKEVK1Zo2LBhWrp0qdauXStJys3NVXl5uSQpISFB\n",
              "xcXFGjt2rIYOHar+/furoKDAzrEAAECIsPUalaSkJL377rsdnl+9erXX47y8POXl5dk5is+cTqee\n",
              "fPJJ3mYKAM51YHCeA4PzHBic58Aw4Tw7LMuygvbdAQAALoKP0AcAAMYiVAAAgLEIFQAAYCxCBQAA\n",
              "GOuKDxXu8BwY3TnPb731ljIyMnTDDTfoxhtv1IIFC9Te3h6EaUNbd/87LUmWZeknP/mJoqKiAjdg\n",
              "D9Hd8/zhhx9q/PjxGj58uIYPH64tW7YEeNLQ1p3z3N7ersLCQt1www0aOXKkJkyY0OG+cri4+fPn\n",
              "Kz4+Xg6HQ9XV1V2uC8rvQusKN2HCBGvt2rWWZVnWX//6V+vmm2/usObTTz+1oqOjrYaGBqu9vd2a\n",
              "NGmS9cILLwR40tDWnfNcVVVl1dbWWpZlWc3NzdbYsWM9/xl0X3fO9QXPPvuslZuba0VGRgZmuB6k\n",
              "O+f5m2++sX70ox9ZlZWVlmVZVmtrq9XY2BjIMUNed87z1q1brYyMDOvbb7+1LMuyFi9ebE2fPj2Q\n",
              "Y4a8t99+26qvr7fi4uKsAwcOdLomWL8Lr+hQOXXqlNWnTx/r3LlzlmVZVnt7u/XDH/7QOnr0qNe6\n",
              "P/zhD1ZBQYHn8fbt262xY8cGdNZQ1t3z/H89+OCD1pNPPhmACXsOX871oUOHrHHjxlk1NTWEio+6\n",
              "e55XrVplzZw5Mxgj9gjdPc/btm2zUlJSLLfbbbW3t1u//e1vrd/85jfBGDnkXSxUgvW78Ip+6+di\n",
              "d3j+Ll/v8Axv3T3P33Xy5Elt2rRJd911V6DG7BG6e67PnTunvLw8rVixgjvPXoLunufDhw/L6XTq\n",
              "rrvuUmpqqu6991598cUXwRg5JHX3PE+aNEnjx4/XwIEDFR0drTfffFOLFi0Kxsg9WrB+F17RoQIz\n",
              "ud1uTZo0SQsWLNDNN98c7HF6pOLiYuXk5Gj48OHBHqVHa21t1a5du7RixQodOHBA119/vebNmxfs\n",
              "sXqc/fv369ChQ/rss8/0+eef66c//anmzp0b7LHgJ1d0qHz3Ds+SLnqH5+PHj3se/393eIa37p5n\n",
              "STpz5oyysrI0efJkFRYWBnrUkNfdc/3222/r+eefV3x8vG655Ra53W7Fx8fz//a7yZf/7ZgwYYKu\n",
              "v/56ORwO3XPPPXrvvfeCMXJI6u55Xrduneei8F69emnWrFnavXt3MEbu0YL1u/CKDhXu8BwY3T3P\n",
              "X3/9tbKyspSVlaXHH388GKOGvO6e68rKSh0/flwul0vvvPOOIiIi5HK51L9//2CMHXK6e55//vOf\n",
              "a9++fXK73ZKk1157TSkpKQGfN1R19zwnJCTorbfe0rfffitJqqio0E033RTweXu6oP0utP0qGMMd\n",
              "OXLEyszMtBITE61Ro0ZZH3zwgWVZlnX//fdbr776qmfdypUrrYSEBCshIcG67777PFeXo3u6c56X\n",
              "LFlihYeHWykpKZ5jyZIlwRw7JHX3v9MXHDt2jItpL0F3z/O6deusG2+80RoxYoSVlZVl1dXVBWvk\n",
              "kNSd83z27FkrNzfXSk5OtkaMGGFNnDjR8xeE6J78/Hzr+uuvt8LCwqwBAwZYQ4YMsSzLjN+F3JQQ\n",
              "AAAY64p+6wcAAJiNUAEAAMYiVAAAgLEIFQAAYCxCBQAAGItQAQAAxiJUAACAsQgVAABgLEIFAAAY\n",
              "i1ABAADG+l8AjWBeev0zpQAAAABJRU5ErkJggg==\n",
              "\">\n",
              "      </div>\n",
              "      <script type=\"text/javascript\">\n",
              "        (() => {\n",
              "          const chartElement = document.getElementById(\"chart-68d1fc4b-e742-43e0-b026-c5b426db96f1\");\n",
              "          async function getCodeForChartHandler(event) {\n",
              "            const chartCodeResponse =  await google.colab.kernel.invokeFunction(\n",
              "                'getCodeForChart', [\"chart-68d1fc4b-e742-43e0-b026-c5b426db96f1\"], {});\n",
              "            const responseJson = chartCodeResponse.data['application/json'];\n",
              "            await google.colab.notebook.addCell(responseJson.code, 'code');\n",
              "          }\n",
              "          chartElement.onclick = getCodeForChartHandler;\n",
              "        })();\n",
              "      </script>\n",
              "      <style>\n",
              "        .colab-quickchart-chart-with-code  {\n",
              "            display: block;\n",
              "            float: left;\n",
              "            border: 1px solid transparent;\n",
              "        }\n",
              "\n",
              "        .colab-quickchart-chart-with-code:hover {\n",
              "            cursor: pointer;\n",
              "            border: 1px solid #aaa;\n",
              "        }\n",
              "      </style>"
            ]
          },
          "metadata": {}
        },
        {
          "output_type": "display_data",
          "data": {
            "text/plain": [
              "<google.colab._quickchart_helpers.SectionTitle at 0x7857dd19c4f0>"
            ],
            "text/html": [
              "<h4 class=\"colab-quickchart-section-title\">2-d distributions</h4>\n",
              "<style>\n",
              "  .colab-quickchart-section-title {\n",
              "      clear: both;\n",
              "  }\n",
              "</style>"
            ]
          },
          "metadata": {}
        },
        {
          "output_type": "error",
          "ename": "KeyError",
          "evalue": "'0'",
          "traceback": [
            "\u001b[0;31m---------------------------------------------------------------------------\u001b[0m",
            "\u001b[0;31mKeyError\u001b[0m                                  Traceback (most recent call last)",
            "\u001b[0;32m/usr/local/lib/python3.10/dist-packages/pandas/core/indexes/base.py\u001b[0m in \u001b[0;36mget_loc\u001b[0;34m(self, key, method, tolerance)\u001b[0m\n\u001b[1;32m   3801\u001b[0m             \u001b[0;32mtry\u001b[0m\u001b[0;34m:\u001b[0m\u001b[0;34m\u001b[0m\u001b[0;34m\u001b[0m\u001b[0m\n\u001b[0;32m-> 3802\u001b[0;31m                 \u001b[0;32mreturn\u001b[0m \u001b[0mself\u001b[0m\u001b[0;34m.\u001b[0m\u001b[0m_engine\u001b[0m\u001b[0;34m.\u001b[0m\u001b[0mget_loc\u001b[0m\u001b[0;34m(\u001b[0m\u001b[0mcasted_key\u001b[0m\u001b[0;34m)\u001b[0m\u001b[0;34m\u001b[0m\u001b[0;34m\u001b[0m\u001b[0m\n\u001b[0m\u001b[1;32m   3803\u001b[0m             \u001b[0;32mexcept\u001b[0m \u001b[0mKeyError\u001b[0m \u001b[0;32mas\u001b[0m \u001b[0merr\u001b[0m\u001b[0;34m:\u001b[0m\u001b[0;34m\u001b[0m\u001b[0;34m\u001b[0m\u001b[0m\n",
            "\u001b[0;32m/usr/local/lib/python3.10/dist-packages/pandas/_libs/index.pyx\u001b[0m in \u001b[0;36mpandas._libs.index.IndexEngine.get_loc\u001b[0;34m()\u001b[0m\n",
            "\u001b[0;32m/usr/local/lib/python3.10/dist-packages/pandas/_libs/index.pyx\u001b[0m in \u001b[0;36mpandas._libs.index.IndexEngine.get_loc\u001b[0;34m()\u001b[0m\n",
            "\u001b[0;32mpandas/_libs/hashtable_class_helper.pxi\u001b[0m in \u001b[0;36mpandas._libs.hashtable.PyObjectHashTable.get_item\u001b[0;34m()\u001b[0m\n",
            "\u001b[0;32mpandas/_libs/hashtable_class_helper.pxi\u001b[0m in \u001b[0;36mpandas._libs.hashtable.PyObjectHashTable.get_item\u001b[0;34m()\u001b[0m\n",
            "\u001b[0;31mKeyError\u001b[0m: '0'",
            "\nThe above exception was the direct cause of the following exception:\n",
            "\u001b[0;31mKeyError\u001b[0m                                  Traceback (most recent call last)",
            "\u001b[0;32m/usr/local/lib/python3.10/dist-packages/IPython/core/formatters.py\u001b[0m in \u001b[0;36m__call__\u001b[0;34m(self, obj)\u001b[0m\n\u001b[1;32m    343\u001b[0m             \u001b[0mmethod\u001b[0m \u001b[0;34m=\u001b[0m \u001b[0mget_real_method\u001b[0m\u001b[0;34m(\u001b[0m\u001b[0mobj\u001b[0m\u001b[0;34m,\u001b[0m \u001b[0mself\u001b[0m\u001b[0;34m.\u001b[0m\u001b[0mprint_method\u001b[0m\u001b[0;34m)\u001b[0m\u001b[0;34m\u001b[0m\u001b[0;34m\u001b[0m\u001b[0m\n\u001b[1;32m    344\u001b[0m             \u001b[0;32mif\u001b[0m \u001b[0mmethod\u001b[0m \u001b[0;32mis\u001b[0m \u001b[0;32mnot\u001b[0m \u001b[0;32mNone\u001b[0m\u001b[0;34m:\u001b[0m\u001b[0;34m\u001b[0m\u001b[0;34m\u001b[0m\u001b[0m\n\u001b[0;32m--> 345\u001b[0;31m                 \u001b[0;32mreturn\u001b[0m \u001b[0mmethod\u001b[0m\u001b[0;34m(\u001b[0m\u001b[0;34m)\u001b[0m\u001b[0;34m\u001b[0m\u001b[0;34m\u001b[0m\u001b[0m\n\u001b[0m\u001b[1;32m    346\u001b[0m             \u001b[0;32mreturn\u001b[0m \u001b[0;32mNone\u001b[0m\u001b[0;34m\u001b[0m\u001b[0;34m\u001b[0m\u001b[0m\n\u001b[1;32m    347\u001b[0m         \u001b[0;32melse\u001b[0m\u001b[0;34m:\u001b[0m\u001b[0;34m\u001b[0m\u001b[0;34m\u001b[0m\u001b[0m\n",
            "\u001b[0;32m/usr/local/lib/python3.10/dist-packages/google/colab/_quickchart_helpers.py\u001b[0m in \u001b[0;36m_repr_html_\u001b[0;34m(self)\u001b[0m\n\u001b[1;32m    200\u001b[0m       \u001b[0;32mwith\u001b[0m \u001b[0mmpl\u001b[0m\u001b[0;34m.\u001b[0m\u001b[0mrc_context\u001b[0m\u001b[0;34m(\u001b[0m\u001b[0mdict\u001b[0m\u001b[0;34m(\u001b[0m\u001b[0m_MPL_STYLE_OPTIONS\u001b[0m\u001b[0;34m)\u001b[0m\u001b[0;34m)\u001b[0m\u001b[0;34m:\u001b[0m\u001b[0;34m\u001b[0m\u001b[0;34m\u001b[0m\u001b[0m\n\u001b[1;32m    201\u001b[0m         \u001b[0mdata\u001b[0m \u001b[0;34m=\u001b[0m \u001b[0mself\u001b[0m\u001b[0;34m.\u001b[0m\u001b[0m_plot_func\u001b[0m\u001b[0;34m(\u001b[0m\u001b[0;34m'df'\u001b[0m\u001b[0;34m,\u001b[0m \u001b[0;34m*\u001b[0m\u001b[0mself\u001b[0m\u001b[0;34m.\u001b[0m\u001b[0m_args\u001b[0m\u001b[0;34m,\u001b[0m \u001b[0;34m**\u001b[0m\u001b[0mself\u001b[0m\u001b[0;34m.\u001b[0m\u001b[0m_kwargs\u001b[0m\u001b[0;34m)\u001b[0m\u001b[0;34m\u001b[0m\u001b[0;34m\u001b[0m\u001b[0m\n\u001b[0;32m--> 202\u001b[0;31m         \u001b[0mexec\u001b[0m\u001b[0;34m(\u001b[0m\u001b[0mdata\u001b[0m\u001b[0;34m.\u001b[0m\u001b[0mcode\u001b[0m\u001b[0;34m,\u001b[0m \u001b[0;34m{\u001b[0m\u001b[0;34m'df'\u001b[0m\u001b[0;34m:\u001b[0m \u001b[0mself\u001b[0m\u001b[0;34m.\u001b[0m\u001b[0m_df\u001b[0m\u001b[0;34m}\u001b[0m\u001b[0;34m)\u001b[0m  \u001b[0;31m# pylint: disable=exec-used\u001b[0m\u001b[0;34m\u001b[0m\u001b[0;34m\u001b[0m\u001b[0m\n\u001b[0m\u001b[1;32m    203\u001b[0m         \u001b[0mself\u001b[0m\u001b[0;34m.\u001b[0m\u001b[0m_chart\u001b[0m \u001b[0;34m=\u001b[0m \u001b[0m_quickchart_lib\u001b[0m\u001b[0;34m.\u001b[0m\u001b[0mautoviz\u001b[0m\u001b[0;34m.\u001b[0m\u001b[0mMplChart\u001b[0m\u001b[0;34m.\u001b[0m\u001b[0mfrom_current_mpl_state\u001b[0m\u001b[0;34m(\u001b[0m\u001b[0;34m)\u001b[0m\u001b[0;34m\u001b[0m\u001b[0;34m\u001b[0m\u001b[0m\n\u001b[1;32m    204\u001b[0m \u001b[0;34m\u001b[0m\u001b[0m\n",
            "\u001b[0;32m<string>\u001b[0m in \u001b[0;36m<module>\u001b[0;34m\u001b[0m\n",
            "\u001b[0;32m/usr/local/lib/python3.10/dist-packages/pandas/plotting/_core.py\u001b[0m in \u001b[0;36m__call__\u001b[0;34m(self, *args, **kwargs)\u001b[0m\n\u001b[1;32m    943\u001b[0m         \u001b[0;32mif\u001b[0m \u001b[0mkind\u001b[0m \u001b[0;32min\u001b[0m \u001b[0mself\u001b[0m\u001b[0;34m.\u001b[0m\u001b[0m_dataframe_kinds\u001b[0m\u001b[0;34m:\u001b[0m\u001b[0;34m\u001b[0m\u001b[0;34m\u001b[0m\u001b[0m\n\u001b[1;32m    944\u001b[0m             \u001b[0;32mif\u001b[0m \u001b[0misinstance\u001b[0m\u001b[0;34m(\u001b[0m\u001b[0mdata\u001b[0m\u001b[0;34m,\u001b[0m \u001b[0mABCDataFrame\u001b[0m\u001b[0;34m)\u001b[0m\u001b[0;34m:\u001b[0m\u001b[0;34m\u001b[0m\u001b[0;34m\u001b[0m\u001b[0m\n\u001b[0;32m--> 945\u001b[0;31m                 \u001b[0;32mreturn\u001b[0m \u001b[0mplot_backend\u001b[0m\u001b[0;34m.\u001b[0m\u001b[0mplot\u001b[0m\u001b[0;34m(\u001b[0m\u001b[0mdata\u001b[0m\u001b[0;34m,\u001b[0m \u001b[0mx\u001b[0m\u001b[0;34m=\u001b[0m\u001b[0mx\u001b[0m\u001b[0;34m,\u001b[0m \u001b[0my\u001b[0m\u001b[0;34m=\u001b[0m\u001b[0my\u001b[0m\u001b[0;34m,\u001b[0m \u001b[0mkind\u001b[0m\u001b[0;34m=\u001b[0m\u001b[0mkind\u001b[0m\u001b[0;34m,\u001b[0m \u001b[0;34m**\u001b[0m\u001b[0mkwargs\u001b[0m\u001b[0;34m)\u001b[0m\u001b[0;34m\u001b[0m\u001b[0;34m\u001b[0m\u001b[0m\n\u001b[0m\u001b[1;32m    946\u001b[0m             \u001b[0;32melse\u001b[0m\u001b[0;34m:\u001b[0m\u001b[0;34m\u001b[0m\u001b[0;34m\u001b[0m\u001b[0m\n\u001b[1;32m    947\u001b[0m                 \u001b[0;32mraise\u001b[0m \u001b[0mValueError\u001b[0m\u001b[0;34m(\u001b[0m\u001b[0;34mf\"plot kind {kind} can only be used for data frames\"\u001b[0m\u001b[0;34m)\u001b[0m\u001b[0;34m\u001b[0m\u001b[0;34m\u001b[0m\u001b[0m\n",
            "\u001b[0;32m/usr/local/lib/python3.10/dist-packages/pandas/plotting/_matplotlib/__init__.py\u001b[0m in \u001b[0;36mplot\u001b[0;34m(data, kind, **kwargs)\u001b[0m\n\u001b[1;32m     69\u001b[0m             \u001b[0mkwargs\u001b[0m\u001b[0;34m[\u001b[0m\u001b[0;34m\"ax\"\u001b[0m\u001b[0;34m]\u001b[0m \u001b[0;34m=\u001b[0m \u001b[0mgetattr\u001b[0m\u001b[0;34m(\u001b[0m\u001b[0max\u001b[0m\u001b[0;34m,\u001b[0m \u001b[0;34m\"left_ax\"\u001b[0m\u001b[0;34m,\u001b[0m \u001b[0max\u001b[0m\u001b[0;34m)\u001b[0m\u001b[0;34m\u001b[0m\u001b[0;34m\u001b[0m\u001b[0m\n\u001b[1;32m     70\u001b[0m     \u001b[0mplot_obj\u001b[0m \u001b[0;34m=\u001b[0m \u001b[0mPLOT_CLASSES\u001b[0m\u001b[0;34m[\u001b[0m\u001b[0mkind\u001b[0m\u001b[0;34m]\u001b[0m\u001b[0;34m(\u001b[0m\u001b[0mdata\u001b[0m\u001b[0;34m,\u001b[0m \u001b[0;34m**\u001b[0m\u001b[0mkwargs\u001b[0m\u001b[0;34m)\u001b[0m\u001b[0;34m\u001b[0m\u001b[0;34m\u001b[0m\u001b[0m\n\u001b[0;32m---> 71\u001b[0;31m     \u001b[0mplot_obj\u001b[0m\u001b[0;34m.\u001b[0m\u001b[0mgenerate\u001b[0m\u001b[0;34m(\u001b[0m\u001b[0;34m)\u001b[0m\u001b[0;34m\u001b[0m\u001b[0;34m\u001b[0m\u001b[0m\n\u001b[0m\u001b[1;32m     72\u001b[0m     \u001b[0mplot_obj\u001b[0m\u001b[0;34m.\u001b[0m\u001b[0mdraw\u001b[0m\u001b[0;34m(\u001b[0m\u001b[0;34m)\u001b[0m\u001b[0;34m\u001b[0m\u001b[0;34m\u001b[0m\u001b[0m\n\u001b[1;32m     73\u001b[0m     \u001b[0;32mreturn\u001b[0m \u001b[0mplot_obj\u001b[0m\u001b[0;34m.\u001b[0m\u001b[0mresult\u001b[0m\u001b[0;34m\u001b[0m\u001b[0;34m\u001b[0m\u001b[0m\n",
            "\u001b[0;32m/usr/local/lib/python3.10/dist-packages/pandas/plotting/_matplotlib/core.py\u001b[0m in \u001b[0;36mgenerate\u001b[0;34m(self)\u001b[0m\n\u001b[1;32m    450\u001b[0m         \u001b[0mself\u001b[0m\u001b[0;34m.\u001b[0m\u001b[0m_compute_plot_data\u001b[0m\u001b[0;34m(\u001b[0m\u001b[0;34m)\u001b[0m\u001b[0;34m\u001b[0m\u001b[0;34m\u001b[0m\u001b[0m\n\u001b[1;32m    451\u001b[0m         \u001b[0mself\u001b[0m\u001b[0;34m.\u001b[0m\u001b[0m_setup_subplots\u001b[0m\u001b[0;34m(\u001b[0m\u001b[0;34m)\u001b[0m\u001b[0;34m\u001b[0m\u001b[0;34m\u001b[0m\u001b[0m\n\u001b[0;32m--> 452\u001b[0;31m         \u001b[0mself\u001b[0m\u001b[0;34m.\u001b[0m\u001b[0m_make_plot\u001b[0m\u001b[0;34m(\u001b[0m\u001b[0;34m)\u001b[0m\u001b[0;34m\u001b[0m\u001b[0;34m\u001b[0m\u001b[0m\n\u001b[0m\u001b[1;32m    453\u001b[0m         \u001b[0mself\u001b[0m\u001b[0;34m.\u001b[0m\u001b[0m_add_table\u001b[0m\u001b[0;34m(\u001b[0m\u001b[0;34m)\u001b[0m\u001b[0;34m\u001b[0m\u001b[0;34m\u001b[0m\u001b[0m\n\u001b[1;32m    454\u001b[0m         \u001b[0mself\u001b[0m\u001b[0;34m.\u001b[0m\u001b[0m_make_legend\u001b[0m\u001b[0;34m(\u001b[0m\u001b[0;34m)\u001b[0m\u001b[0;34m\u001b[0m\u001b[0;34m\u001b[0m\u001b[0m\n",
            "\u001b[0;32m/usr/local/lib/python3.10/dist-packages/pandas/plotting/_matplotlib/core.py\u001b[0m in \u001b[0;36m_make_plot\u001b[0;34m(self)\u001b[0m\n\u001b[1;32m   1259\u001b[0m         scatter = ax.scatter(\n\u001b[1;32m   1260\u001b[0m             \u001b[0mdata\u001b[0m\u001b[0;34m[\u001b[0m\u001b[0mx\u001b[0m\u001b[0;34m]\u001b[0m\u001b[0;34m.\u001b[0m\u001b[0mvalues\u001b[0m\u001b[0;34m,\u001b[0m\u001b[0;34m\u001b[0m\u001b[0;34m\u001b[0m\u001b[0m\n\u001b[0;32m-> 1261\u001b[0;31m             \u001b[0mdata\u001b[0m\u001b[0;34m[\u001b[0m\u001b[0my\u001b[0m\u001b[0;34m]\u001b[0m\u001b[0;34m.\u001b[0m\u001b[0mvalues\u001b[0m\u001b[0;34m,\u001b[0m\u001b[0;34m\u001b[0m\u001b[0;34m\u001b[0m\u001b[0m\n\u001b[0m\u001b[1;32m   1262\u001b[0m             \u001b[0mc\u001b[0m\u001b[0;34m=\u001b[0m\u001b[0mc_values\u001b[0m\u001b[0;34m,\u001b[0m\u001b[0;34m\u001b[0m\u001b[0;34m\u001b[0m\u001b[0m\n\u001b[1;32m   1263\u001b[0m             \u001b[0mlabel\u001b[0m\u001b[0;34m=\u001b[0m\u001b[0mlabel\u001b[0m\u001b[0;34m,\u001b[0m\u001b[0;34m\u001b[0m\u001b[0;34m\u001b[0m\u001b[0m\n",
            "\u001b[0;32m/usr/local/lib/python3.10/dist-packages/pandas/core/frame.py\u001b[0m in \u001b[0;36m__getitem__\u001b[0;34m(self, key)\u001b[0m\n\u001b[1;32m   3805\u001b[0m             \u001b[0;32mif\u001b[0m \u001b[0mself\u001b[0m\u001b[0;34m.\u001b[0m\u001b[0mcolumns\u001b[0m\u001b[0;34m.\u001b[0m\u001b[0mnlevels\u001b[0m \u001b[0;34m>\u001b[0m \u001b[0;36m1\u001b[0m\u001b[0;34m:\u001b[0m\u001b[0;34m\u001b[0m\u001b[0;34m\u001b[0m\u001b[0m\n\u001b[1;32m   3806\u001b[0m                 \u001b[0;32mreturn\u001b[0m \u001b[0mself\u001b[0m\u001b[0;34m.\u001b[0m\u001b[0m_getitem_multilevel\u001b[0m\u001b[0;34m(\u001b[0m\u001b[0mkey\u001b[0m\u001b[0;34m)\u001b[0m\u001b[0;34m\u001b[0m\u001b[0;34m\u001b[0m\u001b[0m\n\u001b[0;32m-> 3807\u001b[0;31m             \u001b[0mindexer\u001b[0m \u001b[0;34m=\u001b[0m \u001b[0mself\u001b[0m\u001b[0;34m.\u001b[0m\u001b[0mcolumns\u001b[0m\u001b[0;34m.\u001b[0m\u001b[0mget_loc\u001b[0m\u001b[0;34m(\u001b[0m\u001b[0mkey\u001b[0m\u001b[0;34m)\u001b[0m\u001b[0;34m\u001b[0m\u001b[0;34m\u001b[0m\u001b[0m\n\u001b[0m\u001b[1;32m   3808\u001b[0m             \u001b[0;32mif\u001b[0m \u001b[0mis_integer\u001b[0m\u001b[0;34m(\u001b[0m\u001b[0mindexer\u001b[0m\u001b[0;34m)\u001b[0m\u001b[0;34m:\u001b[0m\u001b[0;34m\u001b[0m\u001b[0;34m\u001b[0m\u001b[0m\n\u001b[1;32m   3809\u001b[0m                 \u001b[0mindexer\u001b[0m \u001b[0;34m=\u001b[0m \u001b[0;34m[\u001b[0m\u001b[0mindexer\u001b[0m\u001b[0;34m]\u001b[0m\u001b[0;34m\u001b[0m\u001b[0;34m\u001b[0m\u001b[0m\n",
            "\u001b[0;32m/usr/local/lib/python3.10/dist-packages/pandas/core/indexes/base.py\u001b[0m in \u001b[0;36mget_loc\u001b[0;34m(self, key, method, tolerance)\u001b[0m\n\u001b[1;32m   3802\u001b[0m                 \u001b[0;32mreturn\u001b[0m \u001b[0mself\u001b[0m\u001b[0;34m.\u001b[0m\u001b[0m_engine\u001b[0m\u001b[0;34m.\u001b[0m\u001b[0mget_loc\u001b[0m\u001b[0;34m(\u001b[0m\u001b[0mcasted_key\u001b[0m\u001b[0;34m)\u001b[0m\u001b[0;34m\u001b[0m\u001b[0;34m\u001b[0m\u001b[0m\n\u001b[1;32m   3803\u001b[0m             \u001b[0;32mexcept\u001b[0m \u001b[0mKeyError\u001b[0m \u001b[0;32mas\u001b[0m \u001b[0merr\u001b[0m\u001b[0;34m:\u001b[0m\u001b[0;34m\u001b[0m\u001b[0;34m\u001b[0m\u001b[0m\n\u001b[0;32m-> 3804\u001b[0;31m                 \u001b[0;32mraise\u001b[0m \u001b[0mKeyError\u001b[0m\u001b[0;34m(\u001b[0m\u001b[0mkey\u001b[0m\u001b[0;34m)\u001b[0m \u001b[0;32mfrom\u001b[0m \u001b[0merr\u001b[0m\u001b[0;34m\u001b[0m\u001b[0;34m\u001b[0m\u001b[0m\n\u001b[0m\u001b[1;32m   3805\u001b[0m             \u001b[0;32mexcept\u001b[0m \u001b[0mTypeError\u001b[0m\u001b[0;34m:\u001b[0m\u001b[0;34m\u001b[0m\u001b[0;34m\u001b[0m\u001b[0m\n\u001b[1;32m   3806\u001b[0m                 \u001b[0;31m# If we have a listlike key, _check_indexing_error will raise\u001b[0m\u001b[0;34m\u001b[0m\u001b[0;34m\u001b[0m\u001b[0m\n",
            "\u001b[0;31mKeyError\u001b[0m: '0'"
          ]
        },
        {
          "output_type": "display_data",
          "data": {
            "text/plain": [
              "from matplotlib import pyplot as plt\n",
              "_df_4.plot(kind='scatter', x='index', y='0', s=32, alpha=.8)\n",
              "plt.gca().spines[['top', 'right',]].set_visible(False)"
            ]
          },
          "metadata": {}
        },
        {
          "output_type": "display_data",
          "data": {
            "text/plain": [
              "from matplotlib import pyplot as plt\n",
              "_df_5.plot(kind='scatter', x=0, y=1, s=32, alpha=.8)\n",
              "plt.gca().spines[['top', 'right',]].set_visible(False)"
            ],
            "text/html": [
              "      <div class=\"colab-quickchart-chart-with-code\" id=\"chart-efdd798b-e48e-44d4-ac04-6c40208e9390\">\n",
              "        <img style=\"width: 180px;\" src=\"data:image/png;base64,iVBORw0KGgoAAAANSUhEUgAAAioAAAGkCAYAAAAfYg6GAAAAOXRFWHRTb2Z0d2FyZQBNYXRwbG90\n",
              "bGliIHZlcnNpb24zLjcuMSwgaHR0cHM6Ly9tYXRwbG90bGliLm9yZy/bCgiHAAAACXBIWXMAAA9h\n",
              "AAAPYQGoP6dpAAAb0ElEQVR4nO3db2yV533w8Z/xIYesBIhaXFybYweMNfKnEBbclKRTSNSVaoFI\n",
              "YeuyymutDXCqbp3maWFUjSq2rkSTRhW1L3CqPEjIS/aokLWo7fqiSxXB1oSwkaWQbeAVc7wEMA0a\n",
              "BgoH/7mfF3lCe0bcOYPjc9l8PtItYfvi9s+XUM43933brsmyLAsAgARNq/YAAABjESoAQLKECgCQ\n",
              "LKECACRLqAAAyRIqAECyhAoAkCyhAgAka0qEypNPPlntEQCACpgSoXLs2LFqjwAAVMCUCBUAYGoS\n",
              "KgBAsoQKAJAsoQIAJEuoAADJEioAQLKECgCQLKECACRLqAAAyRIqAECyhMoYLg6NxE/OleLi0Ei1\n",
              "RwGA61au2gOk5tTZUvS82BffO3gyLgyNxI3Ta+Pjt8+L9g83xftm5qs9HgBcVyp6ReVzn/tcNDc3\n",
              "R01NTbzyyitjrnv66adj0aJFsXDhwli/fn0MDQ1VcqwxnTpbij949kD89UvFOF8ajty0mjhfGo6e\n",
              "l47F7z9zIH5yrlSVuQDgelXRUPmN3/iN2Lt3bzQ1NY255ujRo/H444/Hnj17ore3N06ePBlPPfVU\n",
              "JccaU8+LfdE7cDbmzszHze+5Id6Tz8XN77kh5s7MR+/A2ej5od/SDAATqaKh8qu/+qvR2Nj4C9fs\n",
              "3Lkz1qxZE/PmzYuampp49NFH49lnnx1zfalUisHBwbJjZOTqnyO5ODQS3zt4MmbkaiNXW74tudpp\n",
              "kc/Vxt8dOuGZFQCYQFV/mLZYLJZdcWlubo5isTjm+i1btsTs2bPLjn379l31HOdKw3FhaCRuyL3z\n",
              "luRz0+LCpZE4Vxq+6s8FAIxP1UPl3dq0aVOcOXOm7Ghra7vq887M5+LG6bVxaXj0HT9eGh6NG2+o\n",
              "jZl5zx8DwESpeqgUCoU4duxnz3709fVFoVAYc30+n49Zs2aVHbW1tVc9x4zptbHq9vfHxeGRGB4p\n",
              "j5XhkdEoDY/Ex2+bFzOmX/3nAgDGp+qhsnbt2ti9e3ecOHEisiyLbdu2xSOPPFKVWX7nw83RUndT\n",
              "nDpXitPnL8X50nCcPn8pTp0rxaK6m6L9w2M/FAwAXHsVDZXOzs5obGyM//zP/4yPfexj0dLSEhER\n",
              "69ati927d0dExIIFC2Lz5s1xzz33REtLS8ydOzc6OzsrOdaY3jczH1/75J3R/qGmmDkjF8OjWcyc\n",
              "kYv2DzXFVz95p5+jAgATrCbLsqzaQ1ytrq6u2Lp16zU958Whtx6cnZnPud0DAFXiydAxzJheK1AA\n",
              "oMqq/owKAMBYhAoAkCyhAgAkS6gAAMkSKgBAsoQKAJAsoQIAJEuoAADJEioAQLKECgCQLKECACRL\n",
              "qAAAyRIqAECyhAoAkCyhAgAkS6gAAMkSKgBAsoQKAJAsoQIAJEuoAADJEioAQLKECgCQLKECACRL\n",
              "qAAAyRIqAECyhAoAkCyhAgAkS6gAAMkSKgBAsoQKAJAsoQIAJEuoAADJEioAQLKECgCQLKECACRL\n",
              "qAAAyRIqAECyhAoAkCyhAgAkS6gAAMkSKgBAsoQKAJAsoQIAJEuoAADJEioAQLKECgCQLKECACRL\n",
              "qAAAyRIqAECyhAoAkCyhAgAkS6gAAMkSKgBAsoQKAJAsoQIAJEuoAADJEioAQLIqGipHjhyJFStW\n",
              "RGtrayxfvjwOHTp0xZrR0dHo6uqKW2+9NT74wQ/GypUro7e3t5JjAQCTREVDpbOzMzZs2BCHDx+O\n",
              "jRs3RkdHxxVrdu/eHf/wD/8Q//Iv/xKvvvpqPPDAA/H5z3++kmMBAJNExUJlYGAg9u/fH+3t7RER\n",
              "sXbt2ujv77/iaklNTU2USqW4ePFiZFkWg4OD0djYOOZ5S6VSDA4Olh0jIyOV+jIAgCrKVerE/f39\n",
              "UV9fH7ncW5+ipqYmCoVCFIvFaGlpubxu9erV8YMf/CDmzZsXN910UzQ0NMQLL7ww5nm3bNkSmzdv\n",
              "Lnvf3XffXZkvAgCoqqo/TLt///44ePBgvP766/HGG2/EAw88EI8++uiY6zdt2hRnzpwpO9ra2iZw\n",
              "YgBgolTsisr8+fPj+PHjMTw8HLlcLrIsi2KxGIVCoWzdjh074v777485c+ZERMSnP/3p+LVf+7Ux\n",
              "z5vP5yOfz5e9r7a29prPDwBUX8WuqNTV1cWyZcuip6cnIiJ27doVjY2NZbd9IiIWLFgQzz//fFy6\n",
              "dCkiIr797W/H7bffXqmxAIBJpGJXVCIiuru7o6OjI7785S/HrFmzYvv27RERsW7dulizZk2sWbMm\n",
              "PvvZz8a//uu/xpIlS2L69Okxb9682LZtWyXHAgAmiZosy7JqD3G1urq6YuvWrdUeAwC4xqr+MC0A\n",
              "wFiECgCQLKECACRLqAAAyRIqAECyhAoAkCyhAgAkS6gAAMkSKgBAsoQKAJAsoQIAJEuoAADJEioA\n",
              "QLKECgCQLKECACRLqAAAyRIqAECyhAoAkCyhAgAkS6gAAMkSKgBAsoQKAJAsoQIAJEuoAADJEioA\n",
              "QLKECgCQLKECACRLqAAAyRIqAECyhAoAkCyhAgAkS6gAAMkSKgBAsoQKAJAsoQIAJEuoAADJEioA\n",
              "QLKECgCQLKECACRLqAAAyRIqAECyhAoAkCyhAgAkS6gAAMkSKgBAsoQKAJAsoQIAJEuoAADJEioA\n",
              "QLKECgCQLKECACRLqAAAyRIqAECyhAoAkCyhAgAkS6gAAMkSKgBAsoQKAJCsiobKkSNHYsWKFdHa\n",
              "2hrLly+PQ4cOveO6H/3oR3HffffF4sWLY/HixfHcc89VciwAYJLIVfLknZ2dsWHDhujo6IidO3dG\n",
              "R0dHvPzyy2VrfvrTn8ZDDz0UO3bsiHvvvTdGRkbi9OnTlRwLAJgkKnZFZWBgIPbv3x/t7e0REbF2\n",
              "7dro7++P3t7esnXPPPNM3H333XHvvfdGRERtbW3MnTt3zPOWSqUYHBwsO0ZGRir1ZQAAVVSxUOnv\n",
              "74/6+vrI5d66aFNTUxOFQiGKxWLZutdeey3y+Xw8+OCDsXTp0vjUpz4Vp06dGvO8W7ZsidmzZ5cd\n",
              "+/btq9SXAQBUUdUfph0eHo7vf//70d3dHQcOHIiGhob4zGc+M+b6TZs2xZkzZ8qOtra2CZwYAJgo\n",
              "FXtGZf78+XH8+PEYHh6OXC4XWZZFsViMQqFQtq5QKMTKlSujoaEhIiLa29vjYx/72Jjnzefzkc/n\n",
              "y95XW1t77b8AAKDqKnZFpa6uLpYtWxY9PT0REbFr165obGyMlpaWsnWf+MQn4uWXX47BwcGIiPju\n",
              "d78bS5YsqdRYAMAkUtHv+unu7o6Ojo748pe/HLNmzYrt27dHRMS6detizZo1sWbNmigUCvH5z38+\n",
              "VqxYEdOmTYuGhoZ46qmnKjkWADBJ1GRZllV7iKvV1dUVW7durfYYAMA1VvWHaQEAxiJUAIBkCRUA\n",
              "IFlCBQBIllABAJIlVACAZAkVACBZQgUASJZQAQCSJVQAgGQJFQAgWUIFAEiWUAEAkiVUAIBkCRUA\n",
              "IFlCBQBIllABAJIlVACAZAkVACBZQgUASJZQAQCSJVQAgGQJFQAgWUIFAEiWUAEAkiVUAIBkCRUA\n",
              "IFlCBQBI1jUJldbW1mtxGgCAMrnxLnz11VfH/NjZs2evyTAAAD9v3KGydOnSaG5ujizLrvjYm2++\n",
              "eU2HAgCIeBeh0tTUFHv37o0PfOADV3xs/vz513QoAICId/GMypo1a+LHP/7xO37s13/916/ZQAAA\n",
              "bxv3FZUnn3xyzI9t27btmgwDAPDzfHsyAJAsoQIAJEuoAADJEioAQLKECgCQLKECACRLqAAAyRIq\n",
              "AECyhAoAkCyhAgAkS6gAAMkSKgBAsoQKAJAsoQIAJEuoAADJEioAQLKECgCQLKECACRLqAAAyRIq\n",
              "AECyhAoAkCyhAgAkS6gAAMkSKgBAsioaKkeOHIkVK1ZEa2trLF++PA4dOjTm2izL4v777485c+ZU\n",
              "ciQAYBKpaKh0dnbGhg0b4vDhw7Fx48bo6OgYc+1XvvKVWLhwYSXHAQAmmYqFysDAQOzfvz/a29sj\n",
              "ImLt2rXR398fvb29V6w9dOhQfPOb34w//dM/rdQ4AMAklKvUifv7+6O+vj5yubc+RU1NTRQKhSgW\n",
              "i9HS0nJ53dDQUKxfvz6efvrpqK2t/R/PWyqVolQqlb1vZGTk2g4PACSh6g/Tbt68OR5++OFYvHjx\n",
              "uNZv2bIlZs+eXXbs27evwlMCANVQk2VZVokTDwwMREtLS5w+fTpyuVxkWRb19fWxd+/esisqH/nI\n",
              "R6JYLEZNTU0MDw/HG2+8EYVCIV5++eWYO3fuFed9pysqjz/+eDz55JOV+DIAgCqq2K2furq6WLZs\n",
              "WfT09ERHR0fs2rUrGhsbyyIlImLPnj2X/9zX1xdLly6Nvr6+Mc+bz+cjn8+XvW88t4wAgMmnord+\n",
              "uru7o7u7O1pbW+OJJ56I7du3R0TEunXrYvfu3ZX81ADAFFCxWz8TqaurK7Zu3VrtMQCAa6zqD9MC\n",
              "AIxFqAAAyRIqAECyhAoAkCyhAgAkS6gAAMkSKgBAsoQKAJAsoQIAJEuoAADJEioAQLKECgCQLKEC\n",
              "ACRLqAAAyRIqAECyhAoAkCyhAgAkS6gAAMkSKgBAsoQKAJAsoQIAJEuoAADJEioAQLKECgCQLKEC\n",
              "ACRLqAAAyRIqAECyhAoAkCyhAgAkS6gAAMkSKgBAsoQKAJAsoQIAJEuoAADJEioAQLKECgCQLKEC\n",
              "ACRLqAAAyRIqAECyhAoAkCyhAgAkS6gAAMkSKgBAsoQKAJAsoQIAJEuoAADJEioAQLKECgCQLKEC\n",
              "ACRLqAAAyRIqAECyhAoAkCyhAgAkS6gAAMkSKgBAsoQKAJAsoQIAJEuoAADJEioAQLIqGipHjhyJ\n",
              "FStWRGtrayxfvjwOHTp0xZrnn38+2tra4tZbb43bbrstHnvssRgdHa3kWADAJFHRUOns7IwNGzbE\n",
              "4cOHY+PGjdHR0XHFmptvvjn+5m/+Jl577bX4p3/6p/jHf/zH2LFjRyXHAgAmiYqFysDAQOzfvz/a\n",
              "29sjImLt2rXR398fvb29ZevuvPPOWLBgQUREzJgxI5YuXRp9fX1jnrdUKsXg4GDZMTIyUqkvAwCo\n",
              "ooqFSn9/f9TX10cul4uIiJqamigUClEsFsf8OydOnIidO3fGgw8+OOaaLVu2xOzZs8uOffv2XfP5\n",
              "AYDqS+Zh2sHBwVi9enU89thjcdddd425btOmTXHmzJmyo62tbQInBQAmSq5SJ54/f34cP348hoeH\n",
              "I5fLRZZlUSwWo1AoXLH27NmzsWrVqnjooYeiq6vrF543n89HPp8ve19tbe01nR0ASEPFrqjU1dXF\n",
              "smXLoqenJyIidu3aFY2NjdHS0lK27ty5c7Fq1apYtWpVfOELX6jUOADAJFTRWz/d3d3R3d0dra2t\n",
              "8cQTT8T27dsjImLdunWxe/fuiIh48sknY9++ffHcc8/F0qVLY+nSpfEXf/EXlRwLAJgkarIsy6o9\n",
              "xNXq6uqKrVu3VnsMAOAaS+ZhWgCA/06oAADJEioAQLKECgCQLKECACRLqAAAyRIqAECyhAoAkCyh\n",
              "AgAkS6gAAMkSKgBAsoQKAJAsoQIAJEuoAADJEioAQLKECgCQLKECACRLqAAAyRIqAECyhAoAkCyh\n",
              "AgAkS6gAAMkSKgBAsoQKAJAsoQIAJEuoAADJEioAQLKECgCQLKECACRLqAAAyRIqAECyhAoAkCyh\n",
              "AgAkS6gAAMkSKgBAsoQKAJAsoQIAJEuoAADJEioAQLKECgCQLKECACRLqAAAyRIqAECyhAoAkCyh\n",
              "AgAkS6gAAMkSKgBAsoQKAJAsoQIAJEuoAADJEioAQLKECgCQLKECACRLqAAAyRIqAECyhAoAkCyh\n",
              "MoaBwQvx0tE3Y2DwQrVHAYCquDg0Ej85V4qLQyNVmyFXtc+cqB/2/iT++BuvxBtnSpff1zBnRmz9\n",
              "raXxoVveW8XJAGBinDpbip4X++J7B0/GhaGRuHF6bXz89nnR/uGmeN/M/ITOUtErKkeOHIkVK1ZE\n",
              "a2trLF++PA4dOvSO655++ulYtGhRLFy4MNavXx9DQ0OVHGtMP+z9SbT/n5fKIiUi4vX/uhif/PqL\n",
              "8dLRN6syFwBMlFNnS/EHzx6Iv36pGOdLw5GbVhPnS8PR89Kx+P1nDsRPzpX+55NcQxUNlc7Oztiw\n",
              "YUMcPnw4Nm7cGB0dHVesOXr0aDz++OOxZ8+e6O3tjZMnT8ZTTz1VybHG9MffeCVGRt/6c03Nz46I\n",
              "iJHRiK7/+0pV5gKAidLzYl/0DpyNuTPzcfN7boj35HNx83tuiLkz89E7cDZ6fnhsQuepWKgMDAzE\n",
              "/v37o729PSIi1q5dG/39/dHb21u2bufOnbFmzZqYN29e1NTUxKOPPhrPPvvsmOctlUoxODhYdoyM\n",
              "XP29s4HBC5evpLwdJ297++3X/+uiZ1YAmLIuDo3E9w6ejBm52sjVlidCrnZa5HO18XeHTkzoMysV\n",
              "C5X+/v6or6+PXO6tx2BqamqiUChEsVgsW1csFqOpqeny283NzVes+XlbtmyJ2bNnlx379u276nmP\n",
              "vvnTa7oOACabc6XhuDA0Ejfk3jkP8rlpceHSSJwrDU/YTJPuu342bdoUZ86cKTva2tqu+ry3vPeX\n",
              "ruk6AJhsZuZzceP02rg0PPqOHy8Nj8aNN9TGzPzEfS9OxUJl/vz5cfz48Rgefqu6siyLYrEYhUKh\n",
              "bF2hUIhjx352v6uvr++KNT8vn8/HrFmzyo7a2tqrnrdu1o3xgdn5/z9r+cfefrthzoyom3XjVX8u\n",
              "AEjRjOm1ser298fF4ZEYHimPleGR0SgNj8THb5sXM6Zf/evueFUsVOrq6mLZsmXR09MTERG7du2K\n",
              "xsbGaGlpKVu3du3a2L17d5w4cSKyLItt27bFI488UqmxfqGvPHJnvH1LLst+dkRE1E6L2PpbS6sy\n",
              "FwBMlN/5cHO01N0Up86V4vT5S3G+NBynz1+KU+dKsajupmj/cNP/fJJrqKK3frq7u6O7uztaW1vj\n",
              "iSeeiO3bt0dExLp162L37t0REbFgwYLYvHlz3HPPPdHS0hJz586Nzs7OSo41pg/d8t54Zv3d0TBn\n",
              "Rtn7G+bMiGfW3+3nqAAw5b1vZj6+9sk7o/1DTTFzRi6GR7OYOSMX7R9qiq9+8s4J/zkqNVn23290\n",
              "TD5dXV2xdevWa3rOgcELcfTNn8Yt7/0lt3sAuC5dHHrrwdmZ+dyE3u75eX4y7RjqZt0oUAC4rs2Y\n",
              "Xlu1QHnbpPuuHwDg+iFUAIBkCRUAIFlCBQBIllABAJIlVACAZAkVACBZQgUASJZQAQCSJVQAgGRN\n",
              "id/18/DDD0dzc/M1PefIyEjs27cv2traora2uj8+eKqz1xPDPk8M+zwx7PPEqPQ+NzU1xR/+4R/+\n",
              "wjVTIlQqYXBwMGbPnh1nzpyJWbNmVXucKc1eTwz7PDHs88SwzxMjhX126wcASJZQAQCSJVQAgGQJ\n",
              "lTHk8/n44he/GPl8vtqjTHn2emLY54lhnyeGfZ4YKeyzh2kBgGS5ogIAJEuoAADJEioAQLKu+1A5\n",
              "cuRIrFixIlpbW2P58uVx6NChd1z39NNPx6JFi2LhwoWxfv36GBoamuBJJ7fx7PPzzz8fbW1tceut\n",
              "t8Ztt90Wjz32WIyOjlZh2sltvP+mIyKyLIv7778/5syZM3EDThHj3ecf/ehHcd9998XixYtj8eLF\n",
              "8dxzz03wpJPbePZ5dHQ0urq64tZbb40PfvCDsXLlyujt7a3CtJPX5z73uWhubo6ampp45ZVXxlxX\n",
              "ldfC7Dq3cuXKbPv27VmWZdk3vvGN7K677rpizY9//OOsvr4+O378eDY6OpqtXr06+9rXvjbBk05u\n",
              "49nnf/7nf87+4z/+I8uyLLtw4UJ2zz33XP47jN949vptf/VXf5WtW7cumz179sQMN4WMZ5/Pnz+f\n",
              "3XLLLdmePXuyLMuy4eHhbGBgYCLHnPTGs89/+7d/m7W1tWWXLl3KsizL/vzP/zz7zd/8zYkcc9J7\n",
              "4YUXsv7+/qypqSk7cODAO66p1mvhdR0qJ0+ezG666aZsaGgoy7IsGx0dzd7//vdnR44cKVv3l3/5\n",
              "l1lnZ+flt7/zne9k99xzz4TOOpmNd5//u89+9rPZF7/4xQmYcOp4N3t98ODB7CMf+UjW29srVN6l\n",
              "8e7z17/+9ey3f/u3qzHilDDeff7mN7+ZLVmyJBscHMxGR0ezP/mTP8n+6I/+qBojT3q/KFSq9Vp4\n",
              "Xd/66e/vj/r6+sjlchERUVNTE4VCIYrFYtm6YrEYTU1Nl99ubm6+Yg1jG+8+/7wTJ07Ezp0748EH\n",
              "H5yoMaeE8e710NBQrF+/Prq7u/1Ct/+F8e7za6+9Fvl8Ph588MFYunRpfOpTn4pTp05VY+RJabz7\n",
              "vHr16rjvvvti3rx5UV9fH3//938ff/Znf1aNkae0ar0WXtehQpoGBwdj9erV8dhjj8Vdd91V7XGm\n",
              "pM2bN8fDDz8cixcvrvYoU9rw8HB8//vfj+7u7jhw4EA0NDTEZz7zmWqPNeXs378/Dh48GK+//nq8\n",
              "8cYb8cADD8Sjjz5a7bG4Rq7rUJk/f34cP348hoeHI+KtBwuLxWIUCoWydYVCIY4dO3b57b6+vivW\n",
              "MLbx7nNExNmzZ2PVqlXx0EMPRVdX10SPOumNd69feOGF+OpXvxrNzc1x7733xuDgYDQ3N/u//XF6\n",
              "N//tWLlyZTQ0NERNTU20t7fHiy++WI2RJ6Xx7vOOHTsuPxQ+bdq0+PSnPx0/+MEPqjHylFat18Lr\n",
              "OlTq6upi2bJl0dPTExERu3btisbGxmhpaSlbt3bt2ti9e3ecOHEisiyLbdu2xSOPPFKNkSel8e7z\n",
              "uXPnYtWqVbFq1ar4whe+UI1RJ73x7vWePXvi2LFj0dfXF3v37o1Zs2ZFX19fzJ07txpjTzrj3edP\n",
              "fOIT8fLLL8fg4GBERHz3u9+NJUuWTPi8k9V493nBggXx/PPPx6VLlyIi4tvf/nbcfvvtEz7vVFe1\n",
              "18KKPwWTuH/7t3/L7r777mzRokXZr/zKr2SvvvpqlmVZ9nu/93vZt771rcvrnnrqqWzBggXZggUL\n",
              "st/93d+9/HQ54zOeff7Sl76U5XK5bMmSJZePL33pS9Uce1Ia77/ptx09etTDtP8L493nHTt2ZLfd\n",
              "dlt2xx13ZKtWrcqKxWK1Rp6UxrPPFy9ezNatW5f98i//cnbHHXdkH/3oRy9/ByHjs2HDhqyhoSGr\n",
              "ra3N6urqsoULF2ZZlsZrod/1AwAk67q+9QMApE2oAADJEioAQLKECpCkd/M7i4CpS6gASers7IwN\n",
              "GzbE4cOHY+PGjdHR0VHtkYAq8F0/QHIGBgaipaUlTp8+HblcLrIsi/r6+ti7d+8VP0MDmNpcUQGS\n",
              "87/5/VDA1CRUAIBkCRUgOe/m90MBU5tQAZIz3t/xAkx9HqYFkvTv//7v0dHREW+++WbMmjUrtm/f\n",
              "HnfccUe1xwImmFABAJLl1g8AkCyhAgAkS6gAAMkSKgBAsoQKAJAsoQIAJEuoAADJEioAQLKECgCQ\n",
              "LKECACTr/wGdNuT0LSMnNQAAAABJRU5ErkJggg==\n",
              "\">\n",
              "      </div>\n",
              "      <script type=\"text/javascript\">\n",
              "        (() => {\n",
              "          const chartElement = document.getElementById(\"chart-efdd798b-e48e-44d4-ac04-6c40208e9390\");\n",
              "          async function getCodeForChartHandler(event) {\n",
              "            const chartCodeResponse =  await google.colab.kernel.invokeFunction(\n",
              "                'getCodeForChart', [\"chart-efdd798b-e48e-44d4-ac04-6c40208e9390\"], {});\n",
              "            const responseJson = chartCodeResponse.data['application/json'];\n",
              "            await google.colab.notebook.addCell(responseJson.code, 'code');\n",
              "          }\n",
              "          chartElement.onclick = getCodeForChartHandler;\n",
              "        })();\n",
              "      </script>\n",
              "      <style>\n",
              "        .colab-quickchart-chart-with-code  {\n",
              "            display: block;\n",
              "            float: left;\n",
              "            border: 1px solid transparent;\n",
              "        }\n",
              "\n",
              "        .colab-quickchart-chart-with-code:hover {\n",
              "            cursor: pointer;\n",
              "            border: 1px solid #aaa;\n",
              "        }\n",
              "      </style>"
            ]
          },
          "metadata": {}
        },
        {
          "output_type": "display_data",
          "data": {
            "text/plain": [
              "from matplotlib import pyplot as plt\n",
              "_df_6.plot(kind='scatter', x=1, y=2, s=32, alpha=.8)\n",
              "plt.gca().spines[['top', 'right',]].set_visible(False)"
            ],
            "text/html": [
              "      <div class=\"colab-quickchart-chart-with-code\" id=\"chart-58ec982c-8cb6-4127-8098-bfeb9fd145a5\">\n",
              "        <img style=\"width: 180px;\" src=\"data:image/png;base64,iVBORw0KGgoAAAANSUhEUgAAAioAAAGkCAYAAAAfYg6GAAAAOXRFWHRTb2Z0d2FyZQBNYXRwbG90\n",
              "bGliIHZlcnNpb24zLjcuMSwgaHR0cHM6Ly9tYXRwbG90bGliLm9yZy/bCgiHAAAACXBIWXMAAA9h\n",
              "AAAPYQGoP6dpAAAb50lEQVR4nO3df2xV933w8c/Fl1yyEiBqcfFjc3HAWCNJC6HBTUhahaAuVAtE\n",
              "ClmbRV5rbYDTZes0b0tG1Khi60o0aVRR+0ecKkNCXtJHgaxDXZc/ulQR2ZoQNrIWsik4w1w3AUwa\n",
              "DQOFi3+c5488ob0j7tzB9f0aXi/pSPj6y/HHX6H4nXOO7VyWZVkAACRoSq0HAAAYi1ABAJIlVACA\n",
              "ZAkVACBZQgUASJZQAQCSJVQAgGQJFQAgWZdEqDz22GO1HgEAqIJLIlQOHTpU6xEAgCq4JEIFALg0\n",
              "CRUAIFlCBQBIllABAJIlVACAZAkVACBZQgUASJZQAQCSJVQAgGQJFQAgWUJlDGeGRuLtk+U4MzRS\n",
              "61EA4LKVr/UAqTl2ohw9L/XFc/uOxumhkbhyal18+vo50X7zvPjQ9EKtxwOAy0pVr6h88YtfjObm\n",
              "5sjlcvHqq6+Oue7JJ5+MhQsXxoIFC2L9+vUxNDRUzbHGdOxEOX7/6b3xNy+X4lR5OPJTcnGqPBw9\n",
              "Lx+K33tqb7x9slyTuQDgclXVULnnnnvixRdfjHnz5o255uDBg/HII4/Erl27ore3N44ePRpPPPFE\n",
              "NccaU89LfdE7cCJmTy/E1R+4Ij5QyMfVH7giZk8vRO/Aiej5gd/SDAATqaqh8slPfjKampp+4Zrt\n",
              "27fHmjVrYs6cOZHL5eL++++Pp59+esz15XI5BgcHK46RkQt/juTM0Eg8t+9oTMvXRb6uclvydVOi\n",
              "kK+Lf9h/xDMrADCBav4wbalUqrji0tzcHKVSacz1mzdvjpkzZ1Ycu3fvvuA5TpaH4/TQSFyRf/8t\n",
              "KeSnxOmzI3GyPHzBHwsAGJ+ah8ova+PGjXH8+PGKo62t7YLPO72Qjyun1sXZ4dH3fX95eDSuvKIu\n",
              "phc8fwwAE6XmoVIsFuPQoZ89+9HX1xfFYnHM9YVCIWbMmFFx1NXVXfAc06bWxarrPxxnhkdieKQy\n",
              "VoZHRqM8PBKfvm5OTJt64R8LABifmofK2rVrY+fOnXHkyJHIsiwef/zxuPfee2syy2/d3Bwt9VfF\n",
              "sZPleOfU2ThVHo53Tp2NYyfLsbD+qmi/eeyHggGAi6+qodLZ2RlNTU3x4x//OO64445oaWmJiIh1\n",
              "69bFzp07IyJi/vz5sWnTprjllluipaUlZs+eHZ2dndUca0wfml6Ib9x3Q7R/fF5Mn5aP4dEspk/L\n",
              "R/vH58XX77vBz1EBgAmWy7Isq/UQF6qrqyu2bNlyUc95ZujdB2enF/Ju9wBAjXgydAzTptYJFACo\n",
              "sZo/owIAMBahAgAkS6gAAMkSKgBAsoQKAJAsoQIAJEuoAADJEioAQLKECgCQLKECACRLqAAAyRIq\n",
              "AECyhAoAkCyhAgAkS6gAAMkSKgBAsoQKAJAsoQIAJEuoAADJEioAQLKECgCQLKECACRLqAAAyRIq\n",
              "AECyhAoAkCyhAgAkS6gAAMkSKgBAsoQKAJAsoQIAJEuoAADJEioAQLKECgCQLKECACRLqAAAyRIq\n",
              "AECyhAoAkCyhAgAkS6gAAMkSKgBAsoQKAJAsoQIAJEuoAADJEioAQLKECgCQLKECACRLqAAAyRIq\n",
              "AECyhAoAkCyhAgAkS6gAAMkSKgBAsoQKAJAsoQIAJEuoAADJEioAQLKECgCQrKqGyoEDB2L58uXR\n",
              "2toay5Yti/3795+3ZnR0NLq6uuLaa6+Nj370o7FixYro7e2t5lgAwCRR1VDp7OyMDRs2xOuvvx4P\n",
              "PfRQdHR0nLdm586d8U//9E/xb//2b/HDH/4wVq5cGQ8//HA1xwIAJomqhcrAwEDs2bMn2tvbIyJi\n",
              "7dq10d/ff97VklwuF+VyOc6cORNZlsXg4GA0NTWNed5yuRyDg4MVx8jISLU+DQCghvLVOnF/f380\n",
              "NDREPv/uh8jlclEsFqNUKkVLS8u5datXr47vf//7MWfOnLjqqquisbExXnjhhTHPu3nz5ti0aVPF\n",
              "azfddFN1PgkAoKZq/jDtnj17Yt++ffHmm2/GW2+9FStXroz7779/zPUbN26M48ePVxxtbW0TODEA\n",
              "MFGqdkVl7ty5cfjw4RgeHo58Ph9ZlkWpVIpisVixbtu2bXH77bfHrFmzIiLi85//fPzar/3amOct\n",
              "FApRKBQqXqurq7vo8wMAtVe1Kyr19fWxdOnS6OnpiYiIHTt2RFNTU8Vtn4iI+fPnx/PPPx9nz56N\n",
              "iIjvfOc7cf3111drLABgEqnaFZWIiO7u7ujo6IivfvWrMWPGjNi6dWtERKxbty7WrFkTa9asiQce\n",
              "eCD+/d//PRYvXhxTp06NOXPmxOOPP17NsQCASSKXZVlW6yEuVFdXV2zZsqXWYwAAF1nNH6YFABiL\n",
              "UAEAkiVUAIBkCRUAIFlCBQBIllABAJIlVACAZAkVACBZQgUASJZQAQCSJVQAgGQJFQAgWUIFAEiW\n",
              "UAEAkiVUAIBkCRUAIFlCBQBIllABAJIlVACAZAkVACBZQgUASJZQAQCSJVQAgGQJFQAgWUIFAEiW\n",
              "UAEAkiVUAIBkCRUAIFlCBQBIllABAJIlVACAZAkVACBZQgUASJZQAQCSJVQAgGQJFQAgWUIFAEiW\n",
              "UAEAkiVUAIBkCRUAIFlCBQBIllABAJIlVACAZAkVACBZQgUASJZQAQCSJVQAgGQJFQAgWUIFAEiW\n",
              "UAEAkiVUAIBkCRUAIFlCBQBIllABAJIlVACAZAkVACBZQgUASJZQAQCSVdVQOXDgQCxfvjxaW1tj\n",
              "2bJlsX///vdd96Mf/Shuu+22WLRoUSxatCieffbZao4FAEwS+WqevLOzMzZs2BAdHR2xffv26Ojo\n",
              "iFdeeaVizU9/+tO46667Ytu2bXHrrbfGyMhIvPPOO9UcCwCYJKp2RWVgYCD27NkT7e3tERGxdu3a\n",
              "6O/vj97e3op1Tz31VNx0001x6623RkREXV1dzJ49e8zzlsvlGBwcrDhGRkaq9WkAADVUtVDp7++P\n",
              "hoaGyOffvWiTy+WiWCxGqVSqWPfaa69FoVCIO++8M5YsWRKf+9zn4tixY2Oed/PmzTFz5syKY/fu\n",
              "3dX6NACAGqr5w7TDw8Pxve99L7q7u2Pv3r3R2NgYX/jCF8Zcv3Hjxjh+/HjF0dbWNoETAwATpWrP\n",
              "qMydOzcOHz4cw8PDkc/nI8uyKJVKUSwWK9YVi8VYsWJFNDY2RkREe3t73HHHHWOet1AoRKFQqHit\n",
              "rq7u4n8CAEDNVe2KSn19fSxdujR6enoiImLHjh3R1NQULS0tFes+85nPxCuvvBKDg4MREfHd7343\n",
              "Fi9eXK2xAIBJpKrf9dPd3R0dHR3x1a9+NWbMmBFbt26NiIh169bFmjVrYs2aNVEsFuPhhx+O5cuX\n",
              "x5QpU6KxsTGeeOKJao4FAEwSuSzLsloPcaG6urpiy5YttR4DALjIav4wLQDAWIQKAJAsoQIAJEuo\n",
              "AADJEioAQLKECgCQLKECACRLqAAAyRIqAECyhAoAkCyhAgAkS6gAAMkSKgBAsoQKAJAsoQIAJEuo\n",
              "AADJEioAQLKECgCQLKECACRLqAAAyRIqAECyhAoAkCyhAgAkS6gAAMkSKgBAsoQKAJAsoQIAJGvc\n",
              "ofLGG2/EihUrYv78+dHV1RVnzpw5976bb765KsMBAJe3cYfK7/7u78Y999wTzzzzTLz99tuxcuXK\n",
              "OHHiRERERbQAAFws4w6VgYGBeOCBB+JjH/tYbNu2LX791389Vq5cGcePH49cLlfNGQGAy1R+vAtP\n",
              "nz5d8fbDDz8cV1xxRcWVFQCAi2ncV1QWLVoUzz33XMVrf/zHfxz33XdfvPHGGxd9MACAcV9R+da3\n",
              "vvW+r3d1dcVnP/vZizYQAMB7xh0qhUJhzPc1NjZelGEAAH6en6MCACRLqAAAyRIqAECyhAoAkCyh\n",
              "AgAkS6gAAMkSKgBAsoQKAJAsoQIAJEuoAADJEioAQLKECgCQLKECACRLqAAAyRIqAECyhAoAkCyh\n",
              "AgAkS6gAAMkSKgBAsoQKAJAsoQIAJEuoAADJEioAQLKECgCQrKqGyoEDB2L58uXR2toay5Yti/37\n",
              "94+5NsuyuP3222PWrFnVHAkAmESqGiqdnZ2xYcOGeP311+Ohhx6Kjo6OMdd+7WtfiwULFlRzHABg\n",
              "kqlaqAwMDMSePXuivb09IiLWrl0b/f390dvbe97a/fv3x7e//e340z/902qNAwBMQvlqnbi/vz8a\n",
              "Ghoin3/3Q+RyuSgWi1EqlaKlpeXcuqGhoVi/fn08+eSTUVdX9z+et1wuR7lcrnhtZGTk4g4PACSh\n",
              "5g/Tbtq0Ke6+++5YtGjRuNZv3rw5Zs6cWXHs3r27ylMCALWQy7Isq8aJBwYGoqWlJd55553I5/OR\n",
              "ZVk0NDTEiy++WHFF5ROf+ESUSqXI5XIxPDwcb731VhSLxXjllVdi9uzZ5533/a6oPPLII/HYY49V\n",
              "49MAAGqoard+6uvrY+nSpdHT0xMdHR2xY8eOaGpqqoiUiIhdu3ad+3NfX18sWbIk+vr6xjxvoVCI\n",
              "QqFQ8dp4bhkBAJNPVW/9dHd3R3d3d7S2tsajjz4aW7dujYiIdevWxc6dO6v5oQGAS0DVbv1MpK6u\n",
              "rtiyZUutxwAALrKaP0wLADAWoQIAJEuoAADJEioAQLKECgCQLKECACRLqAAAyRIqAECyhAoAkCyh\n",
              "AgAkS6gAAMkSKgBAsoQKAJAsoQIAJEuoAADJEioAQLKECgCQLKECACRLqAAAyRIqAECyhAoAkCyh\n",
              "AgAkS6gAAMkSKgBAsoQKAJAsoQIAJEuoAADJEioAQLKECgCQLKECACRLqAAAyRIqAECyhAoAkCyh\n",
              "AgAkS6gAAMkSKgBAsoQKAJAsoQIAJEuoAADJEioAQLKECgCQLKECACRLqAAAyRIqAECyhAoAkCyh\n",
              "AgAkS6gAAMkSKgBAsoQKAJAsoQIAJEuoAADJEioAQLKECgCQLKECACRLqAAAyRIqAECyhAoAkCyh\n",
              "AgAkS6gAAMmqaqgcOHAgli9fHq2trbFs2bLYv3//eWuef/75aGtri2uvvTauu+66ePDBB2N0dLSa\n",
              "YwEAk0RVQ6WzszM2bNgQr7/+ejz00EPR0dFx3pqrr746vvWtb8Vrr70W//Iv/xL//M//HNu2bavm\n",
              "WADAJFG1UBkYGIg9e/ZEe3t7RESsXbs2+vv7o7e3t2LdDTfcEPPnz4+IiGnTpsWSJUuir69vzPOW\n",
              "y+UYHBysOEZGRqr1aQAANVS1UOnv74+GhobI5/MREZHL5aJYLEapVBrz7xw5ciS2b98ed95555hr\n",
              "Nm/eHDNnzqw4du/efdHnBwBqL5mHaQcHB2P16tXx4IMPxo033jjmuo0bN8bx48crjra2tgmcFACY\n",
              "KPlqnXju3Llx+PDhGB4ejnw+H1mWRalUimKxeN7aEydOxKpVq+Kuu+6Krq6uX3jeQqEQhUKh4rW6\n",
              "urqLOjsAkIaqXVGpr6+PpUuXRk9PT0RE7NixI5qamqKlpaVi3cmTJ2PVqlWxatWq+NKXvlStcQCA\n",
              "Saiqt366u7uju7s7Wltb49FHH42tW7dGRMS6deti586dERHx2GOPxe7du+PZZ5+NJUuWxJIlS+Iv\n",
              "/uIvqjkWADBJ5LIsy2o9xIXq6uqKLVu21HoMAOAiS+ZhWgCA/06oAADJEioAQLKECgCQLKECACRL\n",
              "qAAAyRIqAECyhAoAkCyhAgAkS6gAAMkSKgBAsoQKAJAsoQIAJEuoAADJEioAQLKECgCQLKECACRL\n",
              "qAAAyRIqAECyhAoAkCyhAgAkS6gAAMkSKgBAsoQKAJAsoQIAJEuoAADJEioAQLKECgCQLKECACRL\n",
              "qAAAyRIqAECyhAoAkCyhAgAkS6gAAMkSKgBAsoQKAJAsoQIAJEuoAADJEioAQLKECgCQLKECACRL\n",
              "qAAAyRIqAECyhAoAkCyhAgAkS6gAAMkSKgBAsoQKAJAsoQIAJEuoAADJEioAQLKECgCQLKECACRL\n",
              "qAAAyRIqAECyhAoAkCyhMoaBwdPx8sGfxMDg6VqPAgA1cWZoJN4+WY4zQyM1myFfs4+cqB/0vh1/\n",
              "9Myr8dbx8rnXGmdNiy2fXRIfv+aDNZwMACbGsRPl6HmpL57bdzROD43ElVPr4tPXz4n2m+fFh6YX\n",
              "JnSWql5ROXDgQCxfvjxaW1tj2bJlsX///vdd9+STT8bChQtjwYIFsX79+hgaGqrmWGP6Qe/b0f7X\n",
              "L1dESkTEm/91Ju775kvx8sGf1GQuAJgox06U4/ef3ht/83IpTpWHIz8lF6fKw9Hz8qH4vaf2xtsn\n",
              "y//zSS6iqoZKZ2dnbNiwIV5//fV46KGHoqOj47w1Bw8ejEceeSR27doVvb29cfTo0XjiiSeqOdaY\n",
              "/uiZV2Nk9N0/53I/OyIiRkYjuv7vqzWZCwAmSs9LfdE7cCJmTy/E1R+4Ij5QyMfVH7giZk8vRO/A\n",
              "iej5waEJnadqoTIwMBB79uyJ9vb2iIhYu3Zt9Pf3R29vb8W67du3x5o1a2LOnDmRy+Xi/vvvj6ef\n",
              "fnrM85bL5RgcHKw4RkYu/N7ZwODpc1dS3ouT97z39pv/dcYzKwBcss4MjcRz+47GtHxd5OsqEyFf\n",
              "NyUK+br4h/1HJvSZlaqFSn9/fzQ0NEQ+/+5jMLlcLorFYpRKpYp1pVIp5s2bd+7t5ubm89b8vM2b\n",
              "N8fMmTMrjt27d1/wvAd/8tOLug4AJpuT5eE4PTQSV+TfPw8K+Slx+uxInCwPT9hMk+67fjZu3BjH\n",
              "jx+vONra2i74vNd88Fcu6joAmGymF/Jx5dS6ODs8+r7vLw+PxpVX1MX0wsR9L07VQmXu3Llx+PDh\n",
              "GB5+t7qyLItSqRTFYrFiXbFYjEOHfna/q6+v77w1P69QKMSMGTMqjrq6uguet37GlfF/Zhb+/6yV\n",
              "73vv7cZZ06J+xpUX/LEAIEXTptbFqus/HGeGR2J4pDJWhkdGozw8Ep++bk5Mm3rhX3fHq2qhUl9f\n",
              "H0uXLo2enp6IiNixY0c0NTVFS0tLxbq1a9fGzp0748iRI5FlWTz++ONx7733VmusX+hr994Q792S\n",
              "y7KfHRERdVMitnx2SU3mAoCJ8ls3N0dL/VVx7GQ53jl1Nk6Vh+OdU2fj2MlyLKy/Ktpvnvc/n+Qi\n",
              "quqtn+7u7uju7o7W1tZ49NFHY+vWrRERsW7duti5c2dERMyfPz82bdoUt9xyS7S0tMTs2bOjs7Oz\n",
              "mmON6ePXfDCeWn9TNM6aVvF646xp8dT6m/wcFQAueR+aXohv3HdDtH98Xkyflo/h0SymT8tH+8fn\n",
              "xdfvu2HCf45KLsv++42Oyaerqyu2bNlyUc85MHg6Dv7kp3HNB3/F7R4ALktnht59cHZ6IT+ht3t+\n",
              "np9MO4b6GVcKFAAua9Om1tUsUN4z6b7rBwC4fAgVACBZQgUASJZQAQCSJVQAgGQJFQAgWUIFAEiW\n",
              "UAEAkiVUAIBkCRUAIFmXxO/6ufvuu6O5ufminnNkZCR2794dbW1tUVdX2x8ffKmz1xPDPk8M+zwx\n",
              "7PPEqPY+z5s3L/7gD/7gF665JEKlGgYHB2PmzJlx/PjxmDFjRq3HuaTZ64lhnyeGfZ4Y9nlipLDP\n",
              "bv0AAMkSKgBAsoQKAJAsoTKGQqEQX/7yl6NQKNR6lEuevZ4Y9nli2OeJYZ8nRgr77GFaACBZrqgA\n",
              "AMkSKgBAsoQKAJCsyz5UDhw4EMuXL4/W1tZYtmxZ7N+//33XPfnkk7Fw4cJYsGBBrF+/PoaGhiZ4\n",
              "0sltPPv8/PPPR1tbW1x77bVx3XXXxYMPPhijo6M1mHZyG++/6YiILMvi9ttvj1mzZk3cgJeI8e7z\n",
              "j370o7jtttti0aJFsWjRonj22WcneNLJbTz7PDo6Gl1dXXHttdfGRz/60VixYkX09vbWYNrJ64tf\n",
              "/GI0NzdHLpeLV199dcx1NflamF3mVqxYkW3dujXLsix75plnshtvvPG8Nf/5n/+ZNTQ0ZIcPH85G\n",
              "R0ez1atXZ9/4xjcmeNLJbTz7/K//+q/ZG2+8kWVZlp0+fTq75ZZbzv0dxm88e/2ev/qrv8rWrVuX\n",
              "zZw5c2KGu4SMZ59PnTqVXXPNNdmuXbuyLMuy4eHhbGBgYCLHnPTGs89/+7d/m7W1tWVnz57NsizL\n",
              "/vzP/zz7jd/4jYkcc9J74YUXsv7+/mzevHnZ3r1733dNrb4WXtahcvTo0eyqq67KhoaGsizLstHR\n",
              "0ezDH/5wduDAgYp1f/mXf5l1dnaee/vv//7vs1tuuWVCZ53MxrvP/90DDzyQffnLX56ACS8dv8xe\n",
              "79u3L/vEJz6R9fb2CpVf0nj3+Zvf/Gb2m7/5m7UY8ZIw3n3+9re/nS1evDgbHBzMRkdHsz/5kz/J\n",
              "/vAP/7AWI096vyhUavW18LK+9dPf3x8NDQ2Rz+cjIiKXy0WxWIxSqVSxrlQqxbx588693dzcfN4a\n",
              "xjbeff55R44cie3bt8edd945UWNeEsa710NDQ7F+/fro7u72C93+F8a7z6+99loUCoW48847Y8mS\n",
              "JfG5z30ujh07VouRJ6Xx7vPq1avjtttuizlz5kRDQ0P84z/+Y/zZn/1ZLUa+pNXqa+FlHSqkaXBw\n",
              "MFavXh0PPvhg3HjjjbUe55K0adOmuPvuu2PRokW1HuWSNjw8HN/73veiu7s79u7dG42NjfGFL3yh\n",
              "1mNdcvbs2RP79u2LN998M956661YuXJl3H///bUei4vksg6VuXPnxuHDh2N4eDgi3n2wsFQqRbFY\n",
              "rFhXLBbj0KFD597u6+s7bw1jG+8+R0ScOHEiVq1aFXfddVd0dXVN9KiT3nj3+oUXXoivf/3r0dzc\n",
              "HLfeemsMDg5Gc3Oz/9sfp1/mvx0rVqyIxsbGyOVy0d7eHi+99FItRp6UxrvP27ZtO/dQ+JQpU+Lz\n",
              "n/98fP/736/FyJe0Wn0tvKxDpb6+PpYuXRo9PT0REbFjx45oamqKlpaWinVr166NnTt3xpEjRyLL\n",
              "snj88cfj3nvvrcXIk9J49/nkyZOxatWqWLVqVXzpS1+qxaiT3nj3eteuXXHo0KHo6+uLF198MWbM\n",
              "mBF9fX0xe/bsWow96Yx3nz/zmc/EK6+8EoODgxER8d3vfjcWL1484fNOVuPd5/nz58fzzz8fZ8+e\n",
              "jYiI73znO3H99ddP+LyXupp9Laz6UzCJ+4//+I/spptuyhYuXJh97GMfy374wx9mWZZlv/M7v5P9\n",
              "3d/93bl1TzzxRDZ//vxs/vz52W//9m+fe7qc8RnPPn/lK1/J8vl8tnjx4nPHV77ylVqOPSmN99/0\n",
              "ew4ePOhh2v+F8e7ztm3bsuuuuy77yEc+kq1atSorlUq1GnlSGs8+nzlzJlu3bl32q7/6q9lHPvKR\n",
              "7FOf+tS57yBkfDZs2JA1NjZmdXV1WX19fbZgwYIsy9L4Wuh3/QAAybqsb/0AAGkTKgBAsoQKAJAs\n",
              "oQIkaby/ewS4tAkVIEn33HNPvPjiixU/CRO4/ORrPQDA+/nkJz9Z6xGABLiiAgAkS6gAAMkSKgBA\n",
              "soQKAJAsoQIkqbOzM5qamuLHP/5x3HHHHef9Ijrg8uB3/QAAyXJFBQBIllABAJIlVACAZAkVACBZ\n",
              "QgUASJZQAQCSJVQAgGQJFQAgWUIFAEiWUAEAkvX/ADw0zg1+cb24AAAAAElFTkSuQmCC\n",
              "\">\n",
              "      </div>\n",
              "      <script type=\"text/javascript\">\n",
              "        (() => {\n",
              "          const chartElement = document.getElementById(\"chart-58ec982c-8cb6-4127-8098-bfeb9fd145a5\");\n",
              "          async function getCodeForChartHandler(event) {\n",
              "            const chartCodeResponse =  await google.colab.kernel.invokeFunction(\n",
              "                'getCodeForChart', [\"chart-58ec982c-8cb6-4127-8098-bfeb9fd145a5\"], {});\n",
              "            const responseJson = chartCodeResponse.data['application/json'];\n",
              "            await google.colab.notebook.addCell(responseJson.code, 'code');\n",
              "          }\n",
              "          chartElement.onclick = getCodeForChartHandler;\n",
              "        })();\n",
              "      </script>\n",
              "      <style>\n",
              "        .colab-quickchart-chart-with-code  {\n",
              "            display: block;\n",
              "            float: left;\n",
              "            border: 1px solid transparent;\n",
              "        }\n",
              "\n",
              "        .colab-quickchart-chart-with-code:hover {\n",
              "            cursor: pointer;\n",
              "            border: 1px solid #aaa;\n",
              "        }\n",
              "      </style>"
            ]
          },
          "metadata": {}
        },
        {
          "output_type": "display_data",
          "data": {
            "text/plain": [
              "from matplotlib import pyplot as plt\n",
              "_df_7.plot(kind='scatter', x=2, y=3, s=32, alpha=.8)\n",
              "plt.gca().spines[['top', 'right',]].set_visible(False)"
            ],
            "text/html": [
              "      <div class=\"colab-quickchart-chart-with-code\" id=\"chart-187dfd5f-b7f9-473b-b4a4-0a3df3c14b9d\">\n",
              "        <img style=\"width: 180px;\" src=\"data:image/png;base64,iVBORw0KGgoAAAANSUhEUgAAAioAAAGkCAYAAAAfYg6GAAAAOXRFWHRTb2Z0d2FyZQBNYXRwbG90\n",
              "bGliIHZlcnNpb24zLjcuMSwgaHR0cHM6Ly9tYXRwbG90bGliLm9yZy/bCgiHAAAACXBIWXMAAA9h\n",
              "AAAPYQGoP6dpAAAcbUlEQVR4nO3df2xV933w8Y/xJZekgIlaHPzYXBww1kjSQlhwU5JOIVFXugWI\n",
              "Qtexym2tzeBU3VLN25JRNerYuhBNHVXW/hGnytCQl+xRIOtQ13VSmioiWxPCRppCtgVvmOsmgGmz\n",
              "YSBg/OM8f+QJ7R1x5w6u79fweklHwtdfjj/+CsXvnHNsV2VZlgUAQIKmVHoAAICxCBUAIFlCBQBI\n",
              "llABAJIlVACAZAkVACBZQgUASJZQAQCSdUmEysMPP1zpEQCAMrgkQuXQoUOVHgEAKINLIlQAgEuT\n",
              "UAEAkiVUAIBkCRUAIFlCBQBIllABAJIlVACAZAkVACBZQgUASJZQAQCSJVTGcGZoJH54cjDODI1U\n",
              "ehQAuGzlKj1Aao6dGIzu53vjW/uOxumhkbhyanV85IY50fqBefGe6flKjwcAl5WyXlG59957o7Gx\n",
              "MaqqquKll14ac91jjz0WCxcujAULFsT69etjaGionGON6diJwfitJ/bGX75QjFODw5GbUhWnBoej\n",
              "+4VD8ZuP740fnhysyFwAcLkqa6h89KMfjeeeey7mzZs35pqDBw/GAw88ELt27Yqenp44evRoPPro\n",
              "o+Uca0zdz/dGT/+JmD09H1e/64p4Vz4XV7/ripg9PR89/Sei+7t+SzMATKSyhsov/MIvRENDw09d\n",
              "s3379li9enXMmTMnqqqq4p577oknnnhizPWDg4MxMDBQcoyMXPhzJGeGRuJb+47GtFx15KpLtyVX\n",
              "PSXyuer4u/1HPLMCABOo4g/TFovFkisujY2NUSwWx1y/efPmqKmpKTl27959wXOcHByO00MjcUXu\n",
              "nbckn5sSp8+OxMnB4Qv+WADA+FQ8VH5WGzdujOPHj5ccLS0tF3ze6flcXDm1Os4Oj77j+weHR+PK\n",
              "K6pjet7zxwAwUSoeKoVCIQ4d+vGzH729vVEoFMZcn8/nY+bMmSVHdXX1Bc8xbWp1rLzhmjgzPBLD\n",
              "I6WxMjwyGoPDI/GR6+fEtKkX/rEAgPGpeKisXbs2du7cGUeOHIksy+KRRx6JdevWVWSWT3ygMZpq\n",
              "Z8Sxk4PxxqmzcWpwON44dTaOnRyMhbUzovUDYz8UDABcfGUNlY6OjmhoaIgf/OAH8eEPfziampoi\n",
              "IqK9vT127twZERHz58+PTZs2xS233BJNTU0xe/bs6OjoKOdYY3rP9Hx89eM3Ruv758X0abkYHs1i\n",
              "+rRctL5/Xnzl4zf6OSoAMMGqsizLKj3Ehers7IwtW7Zc1HOeGXrrwdnp+ZzbPQBQIZ4MHcO0qdUC\n",
              "BQAqrOLPqAAAjEWoAADJEioAQLKECgCQLKECACRLqAAAyRIqAECyhAoAkCyhAgAkS6gAAMkSKgBA\n",
              "soQKAJAsoQIAJEuoAADJEioAQLKECgCQLKECACRLqAAAyRIqAECyhAoAkCyhAgAkS6gAAMkSKgBA\n",
              "soQKAJAsoQIAJEuoAADJEioAQLKECgCQLKECACRLqAAAyRIqAECyhAoAkCyhAgAkS6gAAMkSKgBA\n",
              "soQKAJAsoQIAJEuoAADJEioAQLKECgCQLKECACRLqAAAyRIqAECyhAoAkCyhAgAkS6gAAMkSKgBA\n",
              "soQKAJAsoQIAJEuoAADJEioAQLKECgCQLKECACRLqAAAyRIqAECyhAoAkCyhAgAkq6yhcuDAgVi+\n",
              "fHk0NzfHsmXLYv/+/eetGR0djc7Ozrjuuuvife97X6xYsSJ6enrKORYAMEmUNVQ6Ojpiw4YN8eqr\n",
              "r8b9998fbW1t563ZuXNn/MM//EN873vfi5dffjnuuOOO+NznPlfOsQCASaJsodLf3x979uyJ1tbW\n",
              "iIhYu3Zt9PX1nXe1pKqqKgYHB+PMmTORZVkMDAxEQ0PDmOcdHByMgYGBkmNkZKRcnwYAUEG5cp24\n",
              "r68v6urqIpd760NUVVVFoVCIYrEYTU1N59atWrUqvvOd78ScOXNixowZUV9fH88+++yY5928eXNs\n",
              "2rSp5LWbb765PJ8EAFBRFX+Yds+ePbFv37547bXX4vXXX4877rgj7rnnnjHXb9y4MY4fP15ytLS0\n",
              "TODEAMBEKdsVlblz58bhw4djeHg4crlcZFkWxWIxCoVCybpt27bF7bffHrNmzYqIiE996lPxi7/4\n",
              "i2OeN5/PRz6fL3mturr6os8PAFRe2a6o1NbWxtKlS6O7uzsiInbs2BENDQ0lt30iIubPnx/PPPNM\n",
              "nD17NiIivvGNb8QNN9xQrrEAgEmkbFdUIiK6urqira0tHnzwwZg5c2Zs3bo1IiLa29tj9erVsXr1\n",
              "6vjMZz4T//Iv/xKLFy+OqVOnxpw5c+KRRx4p51gAwCRRlWVZVukhLlRnZ2ds2bKl0mMAABdZxR+m\n",
              "BQAYi1ABAJIlVACAZAkVACBZQgUASJZQAQCSJVQAgGQJFQAgWUIFAEiWUAEAkiVUAIBkCRUAIFlC\n",
              "BQBIllABAJIlVACAZAkVACBZQgUASJZQAQCSJVQAgGQJFQAgWUIFAEiWUAEAkiVUAIBkCRUAIFlC\n",
              "BQBIllABAJIlVACAZAkVACBZQgUASJZQAQCSJVQAgGQJFQAgWUIFAEiWUAEAkiVUAIBkCRUAIFlC\n",
              "BQBIllABAJIlVACAZAkVACBZQgUASJZQAQCSJVQAgGQJFQAgWUIFAEiWUAEAkiVUAIBkCRUAIFlC\n",
              "BQBIllABAJIlVACAZAkVACBZQgUASJZQAQCSJVQAgGQJFQAgWUIFAEiWUAEAklXWUDlw4EAsX748\n",
              "mpubY9myZbF///53XPf9738/brvttli0aFEsWrQonnrqqXKOBQBMErlynryjoyM2bNgQbW1tsX37\n",
              "9mhra4sXX3yxZM2bb74Za9asiW3btsWtt94aIyMj8cYbb5RzLABgkijbFZX+/v7Ys2dPtLa2RkTE\n",
              "2rVro6+vL3p6ekrWPf7443HzzTfHrbfeGhER1dXVMXv27DHPOzg4GAMDAyXHyMhIuT4NAKCCyhYq\n",
              "fX19UVdXF7ncWxdtqqqqolAoRLFYLFn3yiuvRD6fjzvvvDOWLFkSn/zkJ+PYsWNjnnfz5s1RU1NT\n",
              "cuzevbtcnwYAUEEVf5h2eHg4nn766ejq6oq9e/dGfX19fPrTnx5z/caNG+P48eMlR0tLywRODABM\n",
              "lLI9ozJ37tw4fPhwDA8PRy6XiyzLolgsRqFQKFlXKBRixYoVUV9fHxERra2t8eEPf3jM8+bz+cjn\n",
              "8yWvVVdXX/xPAACouLJdUamtrY2lS5dGd3d3RETs2LEjGhoaoqmpqWTdxz72sXjxxRdjYGAgIiK+\n",
              "+c1vxuLFi8s1FgAwiZT1u366urqira0tHnzwwZg5c2Zs3bo1IiLa29tj9erVsXr16igUCvG5z30u\n",
              "li9fHlOmTIn6+vp49NFHyzkWADBJVGVZllV6iAvV2dkZW7ZsqfQYAMBFVvGHaQEAxiJUAIBkCRUA\n",
              "IFlCBQBIllABAJIlVACAZAkVACBZQgUASJZQAQCSJVQAgGQJFQAgWUIFAEiWUAEAkiVUAIBkCRUA\n",
              "IFlCBQBIllABAJIlVACAZAkVACBZQgUASJZQAQCSJVQAgGQJFQAgWUIFAEiWUAEAkiVUAIBkXVCo\n",
              "/Od//ufFmgMA4DzjDpWXXnoplixZEkuXLo39+/fHL//yL0d9fX0UCoV4+eWXyzkjAHCZGneofPaz\n",
              "n40/+IM/iHvvvTd+6Zd+KdatWxdvvvlm/Nmf/Vn87u/+bjlnBAAuU+MOlYGBgbjrrruira0tsiyL\n",
              "T3ziExERcdddd0V/f3/ZBgQALl/jDpUsy879ecWKFWO+DwDgYhl3qFxzzTUxMDAQERF/8Rd/ce71\n",
              "w4cPx7Rp0y7+ZADAZS833oV///d//46vX3XVVfHkk09etIEAAN427lAZS01NTdTU1FyMWQAASviB\n",
              "bwBAsoQKAJAsoQIAJEuoAADJEioAQLKECgCQLKECACRLqAAAyRIqAECyhAoAkCyhAgAkS6gAAMkS\n",
              "KgBAsoQKAJAsoQIAJEuoAADJEioAQLKECgCQLKECACRLqAAAyRIqAECyhAoAkCyhAgAkS6gAAMkq\n",
              "a6gcOHAgli9fHs3NzbFs2bLYv3//mGuzLIvbb789Zs2aVc6RAIBJpKyh0tHRERs2bIhXX3017r//\n",
              "/mhraxtz7Ze//OVYsGBBOccBACaZsoVKf39/7NmzJ1pbWyMiYu3atdHX1xc9PT3nrd2/f398/etf\n",
              "j9///d8v1zgAwCSUK9eJ+/r6oq6uLnK5tz5EVVVVFAqFKBaL0dTUdG7d0NBQrF+/Ph577LGorq7+\n",
              "H887ODgYg4ODJa+NjIxc3OEBgCRU/GHaTZs2xd133x2LFi0a1/rNmzdHTU1NybF79+4yTwkAVEJV\n",
              "lmVZOU7c398fTU1N8cYbb0Qul4ssy6Kuri6ee+65kisqH/zgB6NYLEZVVVUMDw/H66+/HoVCIV58\n",
              "8cWYPXv2eed9pysqDzzwQDz88MPl+DQAgAoq262f2traWLp0aXR3d0dbW1vs2LEjGhoaSiIlImLX\n",
              "rl3n/tzb2xtLliyJ3t7eMc+bz+cjn8+XvDaeW0YAwORT1ls/XV1d0dXVFc3NzfHQQw/F1q1bIyKi\n",
              "vb09du7cWc4PDQBcAsp262cidXZ2xpYtWyo9BgBwkVX8YVoAgLEIFQAgWUIFAEiWUAEAkiVUAIBk\n",
              "CRUAIFlCBQBIllABAJIlVACAZAkVACBZQgUASJZQAQCSJVQAgGQJFQAgWUIFAEiWUAEAkiVUAIBk\n",
              "CRUAIFlCBQBIllABAJIlVACAZAkVACBZQgUASJZQAQCSJVQAgGQJFQAgWUIFAEiWUAEAkiVUAIBk\n",
              "CRUAIFlCBQBIllABAJIlVACAZAkVACBZQgUASJZQAQCSJVQAgGQJFQAgWUIFAEiWUAEAkiVUAIBk\n",
              "CRUAIFlCBQBIllABAJIlVACAZAkVACBZQgUASJZQAQCSJVQAgGQJFQAgWUIFAEiWUAEAkiVUAIBk\n",
              "CRUAIFlCBQBIllABAJIlVACAZAkVACBZQgUASFZZQ+XAgQOxfPnyaG5ujmXLlsX+/fvPW/PMM89E\n",
              "S0tLXHfddXH99dfHfffdF6Ojo+UcCwCYJMoaKh0dHbFhw4Z49dVX4/7774+2trbz1lx99dXxV3/1\n",
              "V/HKK6/EP/3TP8U//uM/xrZt28o5FgAwSZQtVPr7+2PPnj3R2toaERFr166Nvr6+6OnpKVl34403\n",
              "xvz58yMiYtq0abFkyZLo7e0d87yDg4MxMDBQcoyMjJTr0wAAKqhsodLX1xd1dXWRy+UiIqKqqioK\n",
              "hUIUi8Ux/86RI0di+/btceedd465ZvPmzVFTU1Ny7N69+6LPDwBUXjIP0w4MDMSqVavivvvui5tu\n",
              "umnMdRs3bozjx4+XHC0tLRM4KQAwUXLlOvHcuXPj8OHDMTw8HLlcLrIsi2KxGIVC4by1J06ciJUr\n",
              "V8aaNWuis7Pzp543n89HPp8vea26uvqizg4ApKFsV1Rqa2tj6dKl0d3dHRERO3bsiIaGhmhqaipZ\n",
              "d/LkyVi5cmWsXLkyPv/5z5drHABgEirrrZ+urq7o6uqK5ubmeOihh2Lr1q0REdHe3h47d+6MiIiH\n",
              "H344du/eHU899VQsWbIklixZEn/8x39czrEAgEmiKsuyrNJDXKjOzs7YsmVLpccAAC6yZB6mBQD4\n",
              "74QKAJAsoQIAJEuoAADJEioAQLKECgCQLKECACRLqAAAyRIqAECyhAoAkCyhAgAkS6gAAMkSKgBA\n",
              "soQKAJAsoQIAJEuoAADJEioAQLKECgCQLKECACRLqAAAyRIqAECyhAoAkCyhAgAkS6gAAMkSKgBA\n",
              "soQKAJAsoQIAJEuoAADJEioAQLKECgCQLKECACRLqAAAyRIqAECyhAoAkCyhAgAkS6gAAMkSKgBA\n",
              "soQKAJAsoQIAJEuoAADJEioAQLKECgCQLKECACRLqAAAyRIqAECyhAoAkCyhAgAkS6gAAMkSKgBA\n",
              "soQKAJAsoQIAJEuoAADJEioAQLKECgCQLKECACRLqAAAyRIqY+gfOB0vHPxR9A+crvQoAFARZ4ZG\n",
              "4ocnB+PM0EjFZshV7CMn6rs9P4zfefKleP344LnX6mdNiy2/uiTef+27KzgZAEyMYycGo/v53vjW\n",
              "vqNxemgkrpxaHR+5YU60fmBevGd6fkJnKesVlQMHDsTy5cujubk5li1bFvv373/HdY899lgsXLgw\n",
              "FixYEOvXr4+hoaFyjjWm7/b8MFr//IWSSImIeO2/zsTHv/Z8vHDwRxWZCwAmyrETg/FbT+yNv3yh\n",
              "GKcGhyM3pSpODQ5H9wuH4jcf3xs/PDn4P5/kIiprqHR0dMSGDRvi1Vdfjfvvvz/a2trOW3Pw4MF4\n",
              "4IEHYteuXdHT0xNHjx6NRx99tJxjjel3nnwpRkbf+nNV1Y+PiIiR0YjO//tSReYCgInS/Xxv9PSf\n",
              "iNnT83H1u66Id+VzcfW7rojZ0/PR038iur97aELnKVuo9Pf3x549e6K1tTUiItauXRt9fX3R09NT\n",
              "sm779u2xevXqmDNnTlRVVcU999wTTzzxxJjnHRwcjIGBgZJjZOTC7531D5w+dyXl7Th529tvv/Zf\n",
              "ZzyzAsAl68zQSHxr39GYlquOXHVpIuSqp0Q+Vx1/t//IhD6zUrZQ6evri7q6usjl3noMpqqqKgqF\n",
              "QhSLxZJ1xWIx5s2bd+7txsbG89b8pM2bN0dNTU3JsXv37gue9+CP3ryo6wBgsjk5OBynh0biitw7\n",
              "50E+NyVOnx2Jk4PDEzbTpPuun40bN8bx48dLjpaWlgs+77XvvuqirgOAyWZ6PhdXTq2Os8Oj7/j+\n",
              "weHRuPKK6pien7jvxSlbqMydOzcOHz4cw8NvVVeWZVEsFqNQKJSsKxQKcejQj+939fb2nrfmJ+Xz\n",
              "+Zg5c2bJUV1dfcHz1s68Mv5PTf7/z1r6vrffrp81LWpnXnnBHwsAUjRtanWsvOGaODM8EsMjpbEy\n",
              "PDIag8Mj8ZHr58S0qRf+dXe8yhYqtbW1sXTp0uju7o6IiB07dkRDQ0M0NTWVrFu7dm3s3Lkzjhw5\n",
              "ElmWxSOPPBLr1q0r11g/1ZfX3Rhv35LLsh8fERHVUyK2/OqSiswFABPlEx9ojKbaGXHs5GC8ceps\n",
              "nBocjjdOnY1jJwdjYe2MaP3AvP/5JBdRWW/9dHV1RVdXVzQ3N8dDDz0UW7dujYiI9vb22LlzZ0RE\n",
              "zJ8/PzZt2hS33HJLNDU1xezZs6Ojo6OcY43p/de+Ox5ff3PUz5pW8nr9rGnx+Pqb/RwVAC5575me\n",
              "j69+/MZoff+8mD4tF8OjWUyflovW98+Lr3z8xgn/OSpVWfbfb3RMPp2dnbFly5aLes7+gdNx8Edv\n",
              "xrXvvsrtHgAuS2eG3npwdno+N6G3e36Sn0w7htqZVwoUAC5r06ZWVyxQ3jbpvusHALh8CBUAIFlC\n",
              "BQBIllABAJIlVACAZAkVACBZQgUASJZQAQCSJVQAgGQJFQAgWZfE7/q5++67o7Gx8aKec2RkJHbv\n",
              "3h0tLS1RXV3ZHx98qbPXE8M+Twz7PDHs88Qo9z7PmzcvPvvZz/7UNZdEqJTDwMBA1NTUxPHjx2Pm\n",
              "zJmVHueSZq8nhn2eGPZ5YtjniZHCPrv1AwAkS6gAAMkSKgBAsoTKGPL5fHzhC1+IfD5f6VEuefZ6\n",
              "YtjniWGfJ4Z9nhgp7LOHaQGAZLmiAgAkS6gAAMkSKgBAsi77UDlw4EAsX748mpubY9myZbF///53\n",
              "XPfYY4/FwoULY8GCBbF+/foYGhqa4Eknt/Hs8zPPPBMtLS1x3XXXxfXXXx/33XdfjI6OVmDayW28\n",
              "/6YjIrIsi9tvvz1mzZo1cQNeIsa7z9///vfjtttui0WLFsWiRYviqaeemuBJJ7fx7PPo6Gh0dnbG\n",
              "ddddF+973/tixYoV0dPTU4FpJ6977703Ghsbo6qqKl566aUx11Xka2F2mVuxYkW2devWLMuy7Mkn\n",
              "n8xuuumm89b8x3/8R1ZXV5cdPnw4Gx0dzVatWpV99atfneBJJ7fx7PM///M/Z//+7/+eZVmWnT59\n",
              "OrvlllvO/R3Gbzx7/bY//dM/zdrb27OampqJGe4SMp59PnXqVHbttddmu3btyrIsy4aHh7P+/v6J\n",
              "HHPSG88+//Vf/3XW0tKSnT17NsuyLPujP/qj7Fd+5VcmcsxJ79lnn836+vqyefPmZXv37n3HNZX6\n",
              "WnhZh8rRo0ezGTNmZENDQ1mWZdno6Gh2zTXXZAcOHChZ9yd/8idZR0fHubf/9m//NrvlllsmdNbJ\n",
              "bLz7/N995jOfyb7whS9MwISXjp9lr/ft25d98IMfzHp6eoTKz2i8+/y1r30t+7Vf+7VKjHhJGO8+\n",
              "f/3rX88WL16cDQwMZKOjo9nv/d7vZb/9279diZEnvZ8WKpX6WnhZ3/rp6+uLurq6yOVyERFRVVUV\n",
              "hUIhisViybpisRjz5s0793ZjY+N5axjbePf5Jx05ciS2b98ed95550SNeUkY714PDQ3F+vXro6ur\n",
              "yy90+18Y7z6/8sorkc/n484774wlS5bEJz/5yTh27FglRp6UxrvPq1atittuuy3mzJkTdXV18e1v\n",
              "fzv+8A//sBIjX9Iq9bXwsg4V0jQwMBCrVq2K++67L2666aZKj3NJ2rRpU9x9992xaNGiSo9ySRse\n",
              "Ho6nn346urq6Yu/evVFfXx+f/vSnKz3WJWfPnj2xb9++eO211+L111+PO+64I+65555Kj8VFclmH\n",
              "yty5c+Pw4cMxPDwcEW89WFgsFqNQKJSsKxQKcejQoXNv9/b2nreGsY13nyMiTpw4EStXrow1a9ZE\n",
              "Z2fnRI866Y13r5999tn4yle+Eo2NjXHrrbfGwMBANDY2+r/9cfpZ/tuxYsWKqK+vj6qqqmhtbY3n\n",
              "n3++EiNPSuPd523btp17KHzKlCnxqU99Kr7zne9UYuRLWqW+Fl7WoVJbWxtLly6N7u7uiIjYsWNH\n",
              "NDQ0RFNTU8m6tWvXxs6dO+PIkSORZVk88sgjsW7dukqMPCmNd59PnjwZK1eujJUrV8bnP//5Sow6\n",
              "6Y13r3ft2hWHDh2K3t7eeO6552LmzJnR29sbs2fPrsTYk8549/ljH/tYvPjiizEwMBAREd/85jdj\n",
              "8eLFEz7vZDXefZ4/f34888wzcfbs2YiI+MY3vhE33HDDhM97qavY18KyPwWTuH/913/Nbr755mzh\n",
              "woXZz//8z2cvv/xylmVZ9hu/8RvZ3/zN35xb9+ijj2bz58/P5s+fn/36r//6uafLGZ/x7PMXv/jF\n",
              "LJfLZYsXLz53fPGLX6zk2JPSeP9Nv+3gwYMepv1fGO8+b9u2Lbv++uuz9773vdnKlSuzYrFYqZEn\n",
              "pfHs85kzZ7L29vbs537u57L3vve92Yc+9KFz30HI+GzYsCGrr6/Pqqurs9ra2mzBggVZlqXxtdDv\n",
              "+gEAknVZ3/oBANImVACAZAkVACBZQgVIzpkzZ+Kuu+6K5ubmWLx4cXzoQx/yu1vgMiVUgCRt2LAh\n",
              "/u3f/i2+973vxZo1a6K9vb3SIwEV4Lt+gOTt2bMnPvrRj0Zvb2+lRwEmmCsqQPIefvjhWLNmTaXH\n",
              "ACogV+kBAH6aBx98MHp6euLb3/52pUcBKkCoAMn60pe+FE899VQ8/fTTcdVVV1V6HKAChAqQpC1b\n",
              "tsQTTzwRTz/9dMyaNavS4wAV4mFaIDk/+MEPYu7cuTF//vyYMWNGRETk8/l44YUXKjwZMNGECgCQ\n",
              "LN/1AwAkS6gAAMkSKgBAsoQKAJAsoQIAJEuoAADJEioAQLKECgCQLKECACRLqAAAyfp/LpH8q8Ft\n",
              "I0QAAAAASUVORK5CYII=\n",
              "\">\n",
              "      </div>\n",
              "      <script type=\"text/javascript\">\n",
              "        (() => {\n",
              "          const chartElement = document.getElementById(\"chart-187dfd5f-b7f9-473b-b4a4-0a3df3c14b9d\");\n",
              "          async function getCodeForChartHandler(event) {\n",
              "            const chartCodeResponse =  await google.colab.kernel.invokeFunction(\n",
              "                'getCodeForChart', [\"chart-187dfd5f-b7f9-473b-b4a4-0a3df3c14b9d\"], {});\n",
              "            const responseJson = chartCodeResponse.data['application/json'];\n",
              "            await google.colab.notebook.addCell(responseJson.code, 'code');\n",
              "          }\n",
              "          chartElement.onclick = getCodeForChartHandler;\n",
              "        })();\n",
              "      </script>\n",
              "      <style>\n",
              "        .colab-quickchart-chart-with-code  {\n",
              "            display: block;\n",
              "            float: left;\n",
              "            border: 1px solid transparent;\n",
              "        }\n",
              "\n",
              "        .colab-quickchart-chart-with-code:hover {\n",
              "            cursor: pointer;\n",
              "            border: 1px solid #aaa;\n",
              "        }\n",
              "      </style>"
            ]
          },
          "metadata": {}
        },
        {
          "output_type": "display_data",
          "data": {
            "text/plain": [
              "<google.colab._quickchart_helpers.SectionTitle at 0x7857dd4d4070>"
            ],
            "text/html": [
              "<h4 class=\"colab-quickchart-section-title\">Time series</h4>\n",
              "<style>\n",
              "  .colab-quickchart-section-title {\n",
              "      clear: both;\n",
              "  }\n",
              "</style>"
            ]
          },
          "metadata": {}
        },
        {
          "output_type": "display_data",
          "data": {
            "text/plain": [
              "from matplotlib import pyplot as plt\n",
              "import seaborn as sns\n",
              "def _plot_series(series, series_name, series_index=0):\n",
              "  from matplotlib import pyplot as plt\n",
              "  import seaborn as sns\n",
              "  palette = list(sns.palettes.mpl_palette('Dark2'))\n",
              "  xs = series['index']\n",
              "  ys = series[0]\n",
              "  \n",
              "  plt.plot(xs, ys, label=series_name, color=palette[series_index % len(palette)])\n",
              "\n",
              "fig, ax = plt.subplots(figsize=(10, 5.2), layout='constrained')\n",
              "df_sorted = _df_8.sort_values('index', ascending=True)\n",
              "_plot_series(df_sorted, '')\n",
              "sns.despine(fig=fig, ax=ax)\n",
              "plt.xlabel('index')\n",
              "_ = plt.ylabel(0)"
            ],
            "text/html": [
              "      <div class=\"colab-quickchart-chart-with-code\" id=\"chart-464885df-1608-4144-a19f-da2047f1e2ea\">\n",
              "        <img style=\"width: 180px;\" src=\"data:image/png;base64,iVBORw0KGgoAAAANSUhEUgAAA/MAAAITCAYAAABLz0yVAAAAOXRFWHRTb2Z0d2FyZQBNYXRwbG90\n",
              "bGliIHZlcnNpb24zLjcuMSwgaHR0cHM6Ly9tYXRwbG90bGliLm9yZy/bCgiHAAAACXBIWXMAAA9h\n",
              "AAAPYQGoP6dpAAA+w0lEQVR4nO3deZTV9WE3/vcsMOwgCorCgKyyIwpR3LVtfNIkpjG1SWoSYxQ0\n",
              "m8anv1h7anvSp0/Nc9IHY80iPk1MjG3SVoyhWbrELWpUYiIguLAziGwuLMrO3N8fIJWqcZC58713\n",
              "5vU6557D8mHynvM999y8fc/33ppSqVQKAAAAUDVqiw4AAAAAHBplHgAAAKqMMg8AAABVRpkHAACA\n",
              "KqPMAwAAQJVR5gEAAKDKKPMAAABQZZR5AAAAqDLtoszfdNNNRUcAAACANtMuyvyqVauKjgAAAABt\n",
              "pl2UeQAAAOhIlHkAAACoMso8AAAAVBllHgAAAKqMMg8AAABVRpkHAACAKqPMAwAAQJVR5gEAAKDK\n",
              "KPMAAABQZZR5AAAAqDLKPAAAAFQZZR4AAACqjDIPAAAAVUaZBwAAgCqjzAMAAECVUeYBAACgyijz\n",
              "AAAAUGXKWuY///nPZ8iQIampqcm8efPe8ty3vvWtjBgxIsOGDcvll1+e3bt3lzMWAAAAVLWylvkP\n",
              "fehDeeihhzJ48OC3PLNixYpcf/31efDBB7N06dKsX78+t956azljFWrzzu1FRwAAAKDKlbXMn3nm\n",
              "mRk4cOBvPXPnnXfm/e9/f4455pjU1NTkiiuuyPe///23PL9z585s2bLloMfevXtbO3qr27JrRz59\n",
              "/z/mtNlfUegBAAA4LIXfM9/U1HTQcj9kyJA0NTW95fkbbrghvXv3Pugxd+7ctoh6WHp06pxnX16f\n",
              "TTu35dtPP1x0HAAAAKpY4WX+UF133XXZvHnzQY+pU6cWHett1dbU5qqJ5yZJ/n7RQ9mya0fBiQAA\n",
              "AKhWhZf5xsbGrFq16sDvV65cmcbGxrc839DQkF69eh30qKura4uoh+33h4zP8N79snnXjtz2lHUe\n",
              "AACAd6bwMn/hhRdmzpw5WbduXUqlUm655ZZ8+MMfLjpWWdTV1uaqieclSW5d9FC2WucBAAB4B8pa\n",
              "5mfMmJGBAwfmueeey7vf/e4MHz48SXLZZZdlzpw5SZKhQ4fmS1/6Uk477bQMHz48/fr1y4wZM8oZ\n",
              "q1DvP35ChvXul827tuc7Tz9SdBwAAACqUE2pVCoVHeJwXXPNNZk5c2bRMVps9rInctUv/il9Grrl\n",
              "0T+8Nj06NRQdCQAAgCpS+I/Zd0QXHD8hx/c6Kpt2bst3rfMAAAAcImW+APW1dblq4jlJklkLH8yr\n",
              "u3cWnAgAAIBqoswX5ANDJ2VIzyPz0s5Xc/szjxYdBwAAgCqizBekvrYun9+/zt+y8BfZtntXwYkA\n",
              "AACoFsp8gT447MQM7tk3L+54Nd971joPAABAyyjzBaqvrcvnJuxb57/55C+yfY91HgAAgLenzBfs\n",
              "wuGTM6jHEXlhxyu549nHio4DAABAFVDmC9apti6fPWid311wIgAAACqdMl8B/nD45BzXvU82bN+a\n",
              "f7DOAwAA8DaU+QrQua7+dffOP5Ad1nkAAAB+C2W+Qlw04qQc27131m/fmu8v/lXRcQAAAKhgynyF\n",
              "6FxXf+De+a8/eX927t1TbCAAAAAqljJfQf5oxMkZ0K131m3bkh9Y5wEAAHgLynwFaairz2cmnJ0k\n",
              "+doC6zwAAABvTpmvMB8ecXKO7tYra7dtzj8vebzoOAAAAFQgZb7CdKnvlE+PPyvJvnV+l3UeAACA\n",
              "/0aZr0AfHTk1/bv2zJpXN+Wfl/666DgAAABUGGW+AnU9aJ2/zzoPAADAQZT5CvXHo96Vfl175LlX\n",
              "NuXOZb8pOg4AAAAVRJmvUF3rO+XKcfvX+fn3Z3fz3oITAQAAUCmU+Qr2sRPelaO69EjTKy/lrmVP\n",
              "FB0HAACACqHMV7Cu9Z1zxbgzkyR/N/++7LHOAwAAEGW+4n38hFNyZJfuWbX1xfxw2byi4wAAAFAB\n",
              "lPkK161T58zYv87fNP9e6zwAAADKfDX4xAmn5IiGblm59cXcvXx+0XEAAAAomDJfBbp3asiMcWck\n",
              "Sf5u/r3Z29xccCIAAACKpMxXiUtGT0ufhm5ZvuWF/GiFdR4AAKAjU+arRI9ODZk+9vQk++6dt84D\n",
              "AAB0XMp8Ffnk6Gnp3blrlm3emB+vfLLoOAAAABREma8iPTt3yeUH1vl70lyyzgMAAHREynyVuXTM\n",
              "aenduUsWb9qQn6xcWHQcAAAACqDMV5lenbvkU2P2rfNfnWedBwAA6IiU+Sr0qTGnpVfnLnl20/r8\n",
              "dNWiouMAAADQxpT5KtS7oWsuHXNaEus8AABAR6TMV6nLxpyWHp0a8szL6/Jvq54qOg4AAABtSJmv\n",
              "Un0auuXS0dOSJF/1zvYAAAAdijJfxS4fe3q613fOUy+tzX80PV10HAAAANqIMl/FjujSPZ8cs3+d\n",
              "n3dPSqVSwYkAAABoC8p8lZs+9ox0q++chS89n5+vts4DAAB0BMp8levbpXsuGX1qkuRG6zwAAECH\n",
              "oMy3AzPGnZGu9Z2y4MU1ufe5Z4uOAwAAQJkp8+3AkV165BMn7FvnZ877uXUeAACgnVPm24krxp2Z\n",
              "rvWdMv+F53LfmsVFxwEAAKCMlPl24qiuPfLxUackSW60zgMAALRrynw7MmPcmWmoq88TG1fngeeX\n",
              "FB0HAACAMlHm25H+3XrmY6PelSS58QnrPAAAQHulzLczV44/Kw119fn1xqY8+PzSouMAAABQBsp8\n",
              "O3N0t17545FTk7h3HgAAoL1S5tuhT084Ow119fnVhlX55dplRccBAACglSnz7dAx3XrlIyOnJElm\n",
              "zrun4DQAAAC0NmW+nfr0+LPTubYuj61fYZ0HAABoZ5T5durY7r0PrPM3WucBAADaFWW+HfvM+LPT\n",
              "qbYuj6xbnkfXLS86DgAAAK1EmW/Hju3RJx8ecXIS6zwAAEB7osy3c5+ZsG+df3jtssxdv7LoOAAA\n",
              "ALQCZb6dG9jjiPzh8JOS7PvceQAAAKqfMt8BfG7C2amvqc2Dzy/N4+tXFR0HAACAw6TMdwCDevbN\n",
              "h4ZPTpLcON+98wAAANVOme8gPjfxnNTV1OaBNYvzm41NRccBAADgMCjzHcTgnkfmQ8NPTJLc+IR1\n",
              "HgAAoJop8x3I5yacm7qa2ty35tk8sXF10XEAAAB4h5T5DmRIryPzwWGTkiRf9bnzAAAAVUuZ72A+\n",
              "N+Hc1NbU5J7nnsn8F54rOg4AAADvgDLfwQztfVQ+MHRSEus8AABAtVLmO6CrJu5b5/9z9dN58oU1\n",
              "RccBAADgECnzHdCw3v3y/uMnJkm+6nPnAQAAqo4y30FdNfHc1KQm/970VBa9+HzRcQAAADgEynwH\n",
              "NaJP/7z/+AlJrPMAAADVRpnvwK6atG+d/9mqRXnqpbVFxwEAAKCFlPkObGSfo/PeIeOTJDfNv7fg\n",
              "NAAAALSUMt/BXTXp3CTJT1Y+mWdeXldwGgAAAFpCme/gTjjimPz+a+v8POs8AABANVDmyVUT963z\n",
              "P175ZBZvWl9wGgAAAN6OMk/G9B2Q8xvHppSSdR4AAKAKKPMkSb4w6bwkyZwVC7Jk04aC0wAAAPDb\n",
              "KPMkScYeeWze3TgmpZTyd97ZHgAAoKIp8xxw9cR96/yPVszP8s0bC04DAADAW1HmOWD8UcfldweN\n",
              "TnOp5HPnAQAAKlhZy/ySJUsybdq0jBw5MlOmTMmiRYvecKa5uTnXXHNNxowZkwkTJuScc87J0qVL\n",
              "yxmL3+K1e+d/uHxelm9+oeA0AAAAvJmylvkZM2Zk+vTpWbx4ca699tpccsklbzgzZ86cPPzww5k/\n",
              "f34WLFiQ8847L3/2Z39Wzlj8FhOOGpjzBp6Q5lIpNy+wzgMAAFSispX5DRs25PHHH8/FF1+cJLnw\n",
              "wguzevXqN6zuNTU12blzZ3bs2JFSqZQtW7Zk4MCB5YpFC7y2zt+1bF5Wbnmx4DQAAAD8d2Ur86tX\n",
              "r86AAQNSX1+fZF9pb2xsTFNT00Hn3ve+9+Xss8/OMccckwEDBuSee+7JX/3VX73l1925c2e2bNly\n",
              "0GPv3r3l+jY6pEn9BuWc40Zlb6nZOg8AAFCBCn8DvMcffzwLFy7MmjVr8vzzz+e8887LFVdc8Zbn\n",
              "b7jhhvTu3fugx9y5c9swccdw9f51/s6lT2TVVus8AABAJSlbmR80aFDWrl2bPXv2JElKpVKamprS\n",
              "2Nh40Lnbb7895557bvr06ZPa2tp84hOfyH333feWX/e6667L5s2bD3pMnTq1XN9Gh3VS/8acdeyI\n",
              "fev8/Le+HgAAALS9spX5/v37Z/LkybnjjjuSJLNnz87AgQMzfPjwg84NHTo09957b3bt2pUk+fGP\n",
              "f5xx48a95ddtaGhIr169DnrU1dWV69vo0L4w6XeSJHcu/U1Wb32p4DQAAAC8pqw/Zj9r1qzMmjUr\n",
              "I0eOzJe//OXcdtttSZLLLrssc+bMSZJ85jOfyfHHH5+JEydmwoQJueeee/LNb36znLFooZOPHpwz\n",
              "jh2ePaXmfG3B/UXHAQAAYL+aUqlUKjrE4brmmmsyc+bMomO0S3PXr8wHf3pLOtXW5aEL/78c16NP\n",
              "0ZEAAAA6vMLfAI/KNvXoITltwLDsbt6bry1w7zwAAEAlUOZ5W6997vwPljye51/ZVGwYAAAAlHne\n",
              "3inHDM2pxwzN7ua9+fqT9xcdBwAAoMNT5mmR19b57y/+VZ5/dXPBaQAAADo2ZZ4WmTZgWN519PHZ\n",
              "1bw333jy/qLjAAAAdGjKPC32+nV+3bYtBacBAADouJR5Wuy0AcMypf/g7Ny7J9/wufMAAACFUeZp\n",
              "sZqamnxh0u8kSf5h8dyst84DAAAUQpnnkJxx7PCc1K8xO/fuyS0Lf1F0HAAAgA5JmeeQ1NTU5Asn\n",
              "7lvnv/fMY9m4fWvBiQAAADoeZZ5DdtaxI3Jiv0HZsXd3bnnSOg8AANDWlHkO2evvnf/uM4/mhe2v\n",
              "FJwIAACgY1HmeUfOOW5kJh41cN867955AACANqXM847U1NTkmgPr/CN5cYd1HgAAoK0o87xj5w4c\n",
              "lQlHHpfte3Zn1sIHi44DAADQYSjzvGM1NTW5etJ5SZLvPP1IXtrxasGJAAAAOgZlnsPyu4NGZ1zf\n",
              "Y7Ntz67cusg6DwAA0BaUeQ7L69f52576ZV7eua3gRAAAAO2fMs9he3fjmIzpOyCv7tmVv1/0UNFx\n",
              "AAAA2j1lnsNWU1OTqyfuW+e//dTD2WSdBwAAKCtlnlZx/uAxOeGIY7J19878/VMPFx0HAACgXVPm\n",
              "aRW1NbUH7p3/9lMPZ/PO7QUnAgAAaL+UeVrNewaPzag+R2fLrh35lnUeAACgbJR5Ws3r1/lvPfVQ\n",
              "tuzaUXAiAACA9kmZp1W9Z/C4jOjdP5t37ci3rfMAAABloczTqupqa3PVpHOTJP9v0UPZap0HAABo\n",
              "dco8re59QyZkeO9+2bxre77z9CNFxwEAAGh3lHlaXV1tbT4/cd86P2vRg3ll986CEwEAALQvyjxl\n",
              "ccHxEzO011HZtHObdR4AAKCVKfOUxUHr/MJf5FXrPAAAQKtR5imbDwydmCE9j8zLO7flu888WnQc\n",
              "AACAdkOZp2zqa+ty1evW+W27dxWcCAAAoH1Q5imrPxg2KYN7HpkXd7ya263zAAAArUKZp6zqa+vy\n",
              "+YnnJEluWfiLbN9jnQcAADhcyjxl98FhJ6axR9+8sOOVfO+Zx4qOAwAAUPWUecquU21dPjvx7CTJ\n",
              "Nxc+kO17dhcbCAAAoMop87SJDw2bnIE9+mTj9lfyD89a5wEAAA6HMk+b6FxXn89O2Hfv/DeffCA7\n",
              "rPMAAADvmDJPm7lo+Ek5rnufrN++Nf+4eG7RcQAAAKqWMk+b2bfOn50k+bp1HgAA4B1T5mlTF404\n",
              "OQO69c76bVvygyWPFx0HAACgKinztKmG16/zC+7Pzr17ig0EAABQhZR52tyHR07JMd16Ze22zfkn\n",
              "6zwAAMAhU+Zpcw119fn0+LOSJF9bcJ91HgAA4BAp8xTioyOn5uiuPfP8q5vzL0t+XXQcAACAqqLM\n",
              "U4gu9Z1y5f51/uYF92WXdR4AAKDFlHkK88ej3pX+XXtmzaubcuey3xQdBwAAoGoo8xSma32nXDn+\n",
              "zCTJzfPvy+7mvQUnAgAAqA7KPIW6eNS70q9rj6x+5eXMXmqdBwAAaAllnkJ1re+cK8btX+cXWOcB\n",
              "AABaQpmncB8bdUqO7NI9q7a+lB8ue6LoOAAAABVPmadw3Tr91zp/0/z7ssc6DwAA8Fsp81SEj59w\n",
              "Svo2dM+qrS/m7uXzio4DAABQ0ZR5KkL3Tg2ZPu6MJNZ5AACAt6PMUzEuGX1q+jR0y4otL2TOigVF\n",
              "xwEAAKhYyjwVo0enhswY+9o6f2/2NjcXnAgAAKAyKfNUlEtGn5renbtm2eaN+deV1nkAAIA3o8xT\n",
              "UXp27pLpY09Pktw0zzoPAADwZpR5Ks4nx5yW3p27ZMnmDfnJyieLjgMAAFBxlHkqTq/OXXLZa+v8\n",
              "/HvTXLLOAwAAvJ4yT0W6dPRp6dW5S57dtD4/Xbmw6DgAAAAVRZmnIvVu6JpPjTktSXLjvHus8wAA\n",
              "AK+jzFOxPjXmtPTs1JBnN63Pz1YtKjoOAABAxVDmqVh9Grrl0v3r/Fet8wAAAAco81S0y8aenh6d\n",
              "GvL0y+vyH01PFx0HAACgIijzVLQjGrrlk6OnJdm3zpdKpYITAQAAFE+Zp+JNH3t6utd3zsKXns9/\n",
              "rrbOAwAAKPNUvCO6dM8l+9f5G63zAAAAyjzVYca4M9KtvnOefHFN7nnumaLjAAAAFEqZpyr07dI9\n",
              "nzjh1CTWeQAAAGWeqnHF+DPStb5T5r/wXO597tmi4wAAABRGmadqHNmlRz5unQcAAFDmqS5XjDsj\n",
              "Xeo6Zd4Lq3P/msVFxwEAACiEMk9V6de1Zz52wruSWOcBAICOS5mn6lw57qw01NXnNxub8uDzS4uO\n",
              "AwAA0OaUeapO/249c/Go19b5n1vnAQCADkeZpypdOX7fOv+rDavy8NplRccBAABoU8o8VemYbr3y\n",
              "0ZFTk1jnAQCAjkeZp2p9evxZ6Vxbl8fWr8wv1y0vOg4AAECbKWuZX7JkSaZNm5aRI0dmypQpWbRo\n",
              "0Zuee/LJJ3P22Wdn9OjRGT16dO66665yxqKdGNC9dz7yunUeAACgoyhrmZ8xY0amT5+exYsX59pr\n",
              "r80ll1zyhjPbtm3LBRdckL/+67/O008/nYULF+aMM84oZyzakc9MODuda+vy6LoVecQ6DwAAdBBl\n",
              "K/MbNmzI448/nosvvjhJcuGFF2b16tVZuvTgjxL7x3/8x5xyyik5/fTTkyR1dXXp16/fW37dnTt3\n",
              "ZsuWLQc99u7dW65vgwp3bPfe+fDIKUmSG5+wzgMAAB1D2cr86tWrM2DAgNTX1ydJampq0tjYmKam\n",
              "poPOPfXUU2loaMh73/veTJo0KR//+MezcePGt/y6N9xwQ3r37n3QY+7cueX6NqgCnxl/djrV1uWX\n",
              "65bnsXUrio4DAABQdoW/Ad6ePXvy85//PLNmzcoTTzyR4447LldeeeVbnr/uuuuyefPmgx5Tp05t\n",
              "w8RUmuN69MlFw09Kknx1/j0FpwEAACi/spX5QYMGZe3atdmzZ0+SpFQqpampKY2NjQeda2xszDnn\n",
              "nJPjjjsuNTU1ufjii/Poo4++5ddtaGhIr169DnrU1dWV69ugSnx2wtmpr6nNg88vzePrVxUdBwAA\n",
              "oKzKVub79++fyZMn54477kiSzJ49OwMHDszw4cMPOnfRRRflV7/6VbZs2ZIk+elPf5qJEyeWKxbt\n",
              "1KCeffOHI/at897ZHgAAaO/K+mP2s2bNyqxZszJy5Mh8+ctfzm233ZYkueyyyzJnzpwk+5b5P/uz\n",
              "P8u0adMyYcKE3HvvvbnlllvKGYt26nMTzkl9TW0eeH5Jfr2h6e3/AQAAQJWqKZVKpaJDHK5rrrkm\n",
              "M2fOLDoGFeB/PnRn/mnJ4zn7uJG54/cuLToOAABAWRT+BnjQmj4/8ZzU1dTm/jWL88TG1UXHAQAA\n",
              "KAtlnnZlcM8jc+GwE5O4dx4AAGi/lHnanc9NPCe1NTW597lnM886DwAAtEPKPO3O8b2Oyh8MnZTE\n",
              "584DAADtkzJPu3TVxHNTW1OTn69+Jk++sKboOAAAAK1KmaddGtq7Xy44fmIS6zwAAND+KPO0W1dN\n",
              "PDc1qcm/Nz2VRS8+X3QcAACAVqPM024N79M/7x86IUly4zzrPAAA0H4o87RrV088LzWpyb81LcpT\n",
              "L60tOg4AAECrUOZp10b06Z/3HT8+SfJV6zwAANBOKPO0e1ftX+d/umphnn5pXdFxAAAADpsyT7s3\n",
              "6oij8/tDxiVJbvLO9gAAQDugzNMhXDXxvCTJT1YuzLMvry84DQAAwOFR5ukQRvc9Jv9j8NiUUrLO\n",
              "AwAAVU+Zp8P4wqR96/y/rngySzZtKDgNAADAO6fM02GM6Xts3t04Zv86f2/RcQAAAN4xZZ4O5bV1\n",
              "fs6K+Vm2eWPBaQAAAN4ZZZ4OZdyRx+X3Bo1Oc8k6DwAAVC9lng7n6v3r/N3L52W5dR4AAKhCyjwd\n",
              "zoSjBuZ3Bp2Q5lIpfzf/vqLjAAAAHDJlng7pC5N+J0nyw+XzsmLLCwWnAQAAODTKPB3SxKMG5tyB\n",
              "o7K31JybrfMAAECVUebpsF67d372sieycsuLBacBAABoOWWeDmtyv8acddzI7C0152sLrPMAAED1\n",
              "UObp0K7Zv87fufQ3Wb31pYLTAAAAtIwyT4d2Uv/BOfPYEdlTas7NC+4vOg4AAECLKPN0eF/Yv87/\n",
              "85LH89wrLxecBgAA4O0p83R4U44ektMHDM+eUnO+Zp0HAACqgDIP+a91/p+WPJ41r2wqNgwAAMDb\n",
              "UOYhybuOOT7Tjhma3c178/Un7y86DgAAwG+lzMN+Xzjxd5IkP1j8qzz/6uaC0wAAALw1ZR72O/WY\n",
              "oTnlmOOzq3lvvu7eeQAAoIIp8/A6X5i479757y+em7XWeQAAoEIp8/A60wYMy9Sjh2RX895888kH\n",
              "io4DAADwppR5eJ2ampoD72z/D4vnZv22LQUnAgAAeCNlHv6b0wcMz8n9B2fn3j3WeQAAoCIdcplf\n",
              "vnx57r///tx///1Zvnx5OTJBoV6/zn/v2ceyYdvWghMBAAAcrL6lB59++ul84hOfyOrVq9PY2Jgk\n",
              "aWpqyqBBg3Lbbbdl7NixZQsJbe3MY0dkcr/G/GZjU25Z+ED+Yup7i44EAABwQIuX+UsuuSTXXntt\n",
              "1q5dm8ceeyyPPfZY1q5dmy9+8Yv55Cc/Wc6M0OZev87f/sxj2bjdOg8AAFSOFpf5TZs25cILL3zD\n",
              "n3/oQx/K5s0+wov25+zjRmbSUYOyY+/u3LLwwaLjAAAAHNDiMn/UUUfle9/7Xpqbmw/8WXNzc777\n",
              "3e/myCOPLEs4KNLB6/wjeWH7KwUnAgAA2KfFZf673/1uvvOd76Rv374ZPXp0Ro8enb59+x74c2iP\n",
              "zh04KhOPGpjte3ZnlnUeAACoEC1+A7zhw4fnnnvuycaNG7N69eokyaBBg9KvX7+yhYOi1dTU5OqJ\n",
              "5+aT99ye7z7zSK4cf2b6duledCwAAKCDO+SPpuvXr18mT56cyZMnK/J0CL8zaHTGH3lctu3ZlVsX\n",
              "WecBAIDiHXKZh47mtXU+SW576pd5ecerBScCAAA6OmUeWuD3GsdkbN8BeXXPrvy/RQ8VHQcAAOjg\n",
              "lHlogZqamly9/53tv/30L/Pyzm0FJwIAADoyZR5a6N2NYzL6iGPyyu6d+XvrPAAAUCBlHlqotqb2\n",
              "v9b5px7OJus8AABQEGUeDsH/GDw2o/ocna27d+ZbTz1cdBwAAKCDUubhENTW1OYL+9f5bz31cDbv\n",
              "3F5wIgAAoCNS5uEQvWfIuIzs0z9bdu3IbU//sug4AABAB6TMwyGqranNVRP3rfP/b9FD2bprR8GJ\n",
              "AACAjkaZh3fgvUPGZ3jvftm8a7t1HgAAaHPKPLwDdbX/tc7fuuihvLJ7Z8GJAACAjkSZh3fo/cdP\n",
              "yLDe/bJp57Z8xzoPAAC0IWUe3qG62tp8fuK5SZJZCx/Mq9Z5AACgjSjzcBguOH5Cju91VF7euS3f\n",
              "efqRouMAAAAdhDIPh6G+ti5XTTwniXUeAABoO8o8HKYPDJ2UIT2PzEs7X83tzzxadBwAAKADUObh\n",
              "MNXX1uXz+9f5Wxb+Itt27yo4EQAA0N4p89AK/mDYiWns0Tcv7ng1dzz7WNFxAACAdk6Zh1bQqbYu\n",
              "n9u/zn9z4QPZvsc6DwAAlI8yD63kQ8MnZ1CPI7Jx+yv5h2fnFh0HAABox5R5aCWdauvy2Qn71vlv\n",
              "PPlAtu/ZXXAiAACgvVLmoRX94fDJOa57n2zYvjX/uNg6DwAAlIcyD62oc119Pve6dX6HdR4AACgD\n",
              "ZR5a2UUjTsqx3Xtn/bYt+f7iXxUdBwAAaIeUeWhlnevqD9w7//Un78/OvXuKDQQAALQ7yjyUwR+N\n",
              "ODnHdOuVddu25AfWeQAAoJUp81AGDXX1+cz4s5MkX1tgnQcAAFqXMg9l8pGRU3J0t15Zu21z/mXJ\n",
              "r4uOAwAAtCPKPJRJl/pO+fT4s5IkNy+4L7us8wAAQCtR5qGMPjpyavp37Zk1r27Kvyz9TdFxAACA\n",
              "dkKZhzLq+rp1/msL7svu5r0FJwIAANoDZR7K7I9HvSv9uvbI6ldezp3WeQAAoBUo81BmXes75cpx\n",
              "+++dn2+dBwAADp8yD23gYye8K0d16ZGmV17KXcueKDoOAABQ5cpa5pcsWZJp06Zl5MiRmTJlShYt\n",
              "WvSWZ0ulUs4999z06dOnnJGgEF3rO+eKcWcmSf5u/n3ZY50HAAAOQ1nL/IwZMzJ9+vQsXrw41157\n",
              "bS655JK3PHvjjTdm2LBh5YwDhfr4Caekb0P3rNr6Yn64bF7RcQAAgCpWtjK/YcOGPP7447n44ouT\n",
              "JBdeeGFWr16dpUuXvuHsokWLcvfdd+dP//RP3/br7ty5M1u2bDnosXevlZPK161T58wYd0aS5O8W\n",
              "WOcBAIB3rmxlfvXq1RkwYEDq6+uTJDU1NWlsbExTU9NB53bv3p3LL788s2bNSl1d3dt+3RtuuCG9\n",
              "e/c+6DF37tyyfA/Q2i4ZfWqOaOiWFVteyI9WLCg6DgAAUKUKfwO8L33pS/ngBz+Y0aNHt+j8dddd\n",
              "l82bNx/0mDp1aplTQuvo3qnhv9b5+fdmb3NzwYkAAIBqVLYyP2jQoKxduzZ79uxJsu8N7pqamtLY\n",
              "2HjQuQceeCA333xzhgwZktNPPz1btmzJkCFDsnHjxjf9ug0NDenVq9dBj5Ys+lApLhk9LX0aumXZ\n",
              "5o2ZY50HAADegbKV+f79+2fy5Mm54447kiSzZ8/OwIEDM3z48IPOPfjgg1m1alVWrlyZhx56KL16\n",
              "9crKlSvTr1+/ckWDQvXo1JDpY09Pktw0/x7rPAAAcMjK+mP2s2bNyqxZszJy5Mh8+ctfzm233ZYk\n",
              "ueyyyzJnzpxy/k9DRfvk6Gnp3blrlm7emB+vfLLoOAAAQJWpKZVKpaJDHK5rrrkmM2fOLDoGHJKv\n",
              "zrsnf/vEf2Zkn/75+QeuTm1N4W9hAQAAVAntAQpy6ZjT0rtzlyzetCE/Wbmw6DgAAEAVUeahIL06\n",
              "d8mnxuy7d/6r8+5Jc8m98wAAQMso81CgS8dMS89ODXl20/r8bNWiouMAAABVQpmHAvVp6JZLx5yW\n",
              "xDoPAAC0nDIPBbts7Onp0akhT7+8Lv/e9FTRcQAAgCqgzEPBjmjolktHT0uyb51vBx8wAQAAlJky\n",
              "DxXg8rGnp3t95yx6aW3+wzoPAAC8DWUeKsARXbrnk2P2rfM3WucBAIC3ocxDhZg+9ox0q++chS89\n",
              "n5+vfrroOAAAQAVT5qFC9O3SPZeMPjWJdR4AAPjtlHmoIDPGnZGu9Z2y4MU1ufe5Z4uOAwAAVChl\n",
              "HirIkV165BMn7FvnZ877uXUeAAB4U8o8VJgZ485Il7pOmf/Cc7l/zeKi4wAAABVImYcK069rz3z8\n",
              "hHclce88AADw5pR5qEBXjDsrDXX1+c3Gpvzi+SVFxwEAACqMMg8VqH+3nvnYKOs8AADw5pR5qFBX\n",
              "jt+3zj++YVUeWru06DgAAEAFUeahQh3drVf+eOTUJNZ5AADgYMo8VLBPTzg7DXX1mbt+ZX65dlnR\n",
              "cQAAgAqhzEMFO6Zbr3xk5JQkycx59xScBgAAqBTKPFS4T48/O51r6/LY+hXWeQAAIIkyDxXv2O69\n",
              "D6zzX7XOAwAAUeahKnx6/NnpVFuXX65bnsfWrSg6DgAAUDBlHqrAcT365I9GnJxk3zvbAwAAHZsy\n",
              "D1XisxP2rfMPrV2aX61fWXQcAACgQMo8VImBPY7IHw4/KYl1HgAAOjplHqrI5yacnfqa2vzi+SX5\n",
              "9YZVRccBAAAKosxDFRnUs28+NHxyEp87DwAAHZkyD1XmcxPPSV1NbR5Yszi/2dhUdBwAAKAAyjxU\n",
              "mcE9j8yHhp+YJLnxCes8AAB0RMo8VKHPTTg3dTW1uW/Ns3li4+qi4wAAAG1MmYcqNKTXkfmDoZOS\n",
              "JDfNt84DAEBHo8xDlfr8xHNTW1OTn69+JgteeK7oOAAAQBtS5qFKDe19VD6wf53/qne2BwCADkWZ\n",
              "hyp21f51/j9WP52FL64pOg4AANBGlHmoYsN698v7j5+YJLnROg8AAB2GMg9V7qqJ56YmNfn3pqfy\n",
              "1EvPFx0HAABoA8o8VLkRffrn/cdPSGKdBwCAjkKZh3bgqkn71vmfrVqUp15aW3QcAACgzJR5aAdG\n",
              "9jk67x0yPkly0/x7C04DAACUmzIP7cRVk85Nkvxk5ZN55uV1BacBAADKSZmHduKEI47JewaPS5L8\n",
              "nXUeAADaNWUe2pGrJ52XJPnXFU9m8ab1BacBAADKRZmHdmRM3wE5v3FsSim5dx4AANoxZR7amS/s\n",
              "X+fnLF+QpZs2FJwGAAAoB2Ue2pmxRx6bdzeOsc4DAEA7psxDO3T1xH3r/I9WzM/yzRsLTgMAALQ2\n",
              "ZR7aofFHHZffHTQ6zSXrPAAAtEfKPLRTr907/8Pl87J88wsFpwEAAFqTMg/t1ISjBua8gSekuVTK\n",
              "1xbcV3QcAACgFSnz0I699rnzs5c9kZVbXiw4DQAA0FqUeWjHTuw3KGcfNzJ7S8252ToPAADthjIP\n",
              "7dwXJv1OkmT20t+kaetLBacBAABagzIP7dxJ/Rtz1rEjssc6DwAA7YYyDx3Aa+v8vyz5dVZb5wEA\n",
              "oOop89ABnHz04Jxx7PDsKTXnawvuLzoOAABwmJR56CBeW+f/eemvs+aVTcWGAQAADosyDx3E1KOH\n",
              "5LQBw7K7ea/PnQcAgCqnzEMH8oX9nzv/gyWP53nrPAAAVC1lHjqQU44ZmlOPGZrdzXvz9ScfKDoO\n",
              "AADwDinz0MFcvX+d//7iuVn76uaC0wAAAO+EMg8dzLRjhuZdRw/Jrua9+YZ1HgAAqpIyDx1MTU3N\n",
              "gXe2/8fFc7Nu25aCEwEAAIdKmYcO6LQBwzKl/+Ds3Lsn37TOAwBA1VHmoQN6/Tp/x7OPZb11HgAA\n",
              "qooyDx3UGccOz0n9GrNz757csvAXRccBAAAOgTIPHVRNTU2+cOK+df57zzyWjdu3FpwIAABoKWUe\n",
              "OrCzjh2RE/sNyo69u3PLk9Z5AACoFso8dGCvv3f+9mcfzQvbXyk4EQAA0BLKPHRw5xw3MhOPGpjt\n",
              "e3Zn1sIHi44DAAC0gDIPHdy+df68JMl3n3kkL+14teBEAADA21HmgZw38IRMOPK4bNuzyzoPAABV\n",
              "QJkHUlNTk6v3r/PfefqXedk6DwAAFU2ZB5IkvztodMb1PTav7tmVWxc9VHQcAADgt1DmgSQHr/O3\n",
              "Pf3LvLxzW8GJAACAt6LMAwe8u3FMxvQdkFd278zfW+cBAKBiKfPAATU1Nbl64r51/ttPPZxN1nkA\n",
              "AKhIyjxwkPMHj8kJRxyTrbt35u+ferjoOAAAwJsoa5lfsmRJpk2blpEjR2bKlClZtGjRG87ce++9\n",
              "mTp1asaMGZOxY8fmi1/8Ypqbm8sZC/gtamtqD9w7/+2nHs7mndsLTgQAAPx3ZS3zM2bMyPTp07N4\n",
              "8eJce+21ueSSS95w5ogjjsgPfvCDPPXUU/n1r3+dX/7yl7n99tvLGQt4G+8ZPDaj+hydLbt25NtP\n",
              "W+cBAKDSlK3Mb9iwIY8//nguvvjiJMmFF16Y1atXZ+nSpQedO/HEEzN06NAkSZcuXTJp0qSsXLmy\n",
              "XLGAFqitqc1VE89Nkvz9ooeyZdeOghMBAACvV7Yyv3r16gwYMCD19fVJ9r2xVmNjY5qamt7y36xb\n",
              "ty533nln3vve977lmZ07d2bLli0HPfbu3dvq+aGj+/0h4zOid/9s3rUjt7l3HgAAKkrFvAHeli1b\n",
              "8r73vS9f/OIXc/LJJ7/luRtuuCG9e/c+6DF37tw2TAodQ11tba6atG+dv3XRQ9lqnQcAgIpRtjI/\n",
              "aNCgrF27Nnv27EmSlEqlNDU1pbGx8Q1nt27dmvPPPz8XXHBBrrnmmt/6da+77rps3rz5oMfUqVPL\n",
              "8j1AR/e+IRMyvHe/bN61Pd95+pGi4wAAAPuVrcz3798/kydPzh133JEkmT17dgYOHJjhw4cfdO6V\n",
              "V17J+eefn/PPPz9//ud//rZft6GhIb169TroUVdXV5bvATq6utrafH7/vfOzFj2YV3bvLDgRAACQ\n",
              "lPnH7GfNmpVZs2Zl5MiR+fKXv5zbbrstSXLZZZdlzpw5SZKbbropc+fOzV133ZVJkyZl0qRJ+d//\n",
              "+3+XMxZwCC44fmKG9joqm3Zus84DAECFqCmVSqWiQxyua665JjNnziw6BrRbdy79Ta5+8J9zREO3\n",
              "PPqH16Z7p4aiIwEAQIdWMW+AB1SuDwydmCE9j8zLO7fl9mceLToOAAB0eMo88Lbqa+sOfO78LQt/\n",
              "kW27dxWcCAAAOjZlHmiRPxg2KYN79s2LO17N9561zgMAQJGUeaBF6mvr8rkJ5yRJvvnkL7J9j3Ue\n",
              "AACKoswDLXbh8Mlp7NE3L+x4JXc8+1jRcQAAoMNS5oEW61Rbl89OPDvJa+v87mIDAQBAB6XMA4fk\n",
              "Q8MmZ2CPPtmwfWv+wToPAACFUOaBQ9K5rj6fPXDv/APZYZ0HAIA2p8wDh+yi4SfluO59sn771vzj\n",
              "4rlFxwEAgA5HmQcO2b51/uwkydet8wAA0OaUeeAduWjEyRnQrXfWb9uSf1ryeNFxAACgQ1HmgXek\n",
              "oa4+n9m/zn9twf3ZuXdPsYEAAKADUeaBd+zDI07O0d16Ze22zfln6zwAALQZZR54x7rUd8pnxp+V\n",
              "ZN86v8s6DwAAbUKZBw7LR0dOzdFde2bNq5vyz0t/XXQcAADoEJR54LB0qe+UKw+s8/dZ5wEAoA0o\n",
              "88Bh++NR70r/rj3z3Cubcuey3xQdBwAA2j1lHjhsXes75crxZyZJbp5/X3Y37y04EQAAtG/KPNAq\n",
              "Lh71rvTr2iOrX3k5s5da5wEAoJyUeaBVdK3vnCvG7V/nF9yXPdZ5AAAoG2UeaDUfG3VKjuzSPau2\n",
              "vpQfLptXdBwAAGi3lHmg1XTr1Dkz9q/zN82/1zoPAABloswDreoTJ5ySvg3ds3Lri7l7+fyi4wAA\n",
              "QLukzAOtqnunhkwfd0aS5O/m35u9zc0FJwIAgPZHmQda3SWjT02fhm5ZvuWF/GiFdR4AAFqbMg+0\n",
              "uh6dGjJj7L51/ibrPAAAtDplHiiLS0afmt6du2bZ5o3515ULio4DAADtijIPlEXPzl0yfezpSZKb\n",
              "5lnnAQCgNSnzQNl8csxp6d25S5Zs3pCfrHyy6DgAANBuKPNA2fTq3CWXvbbOz783zSXrPAAAtAZl\n",
              "HiirS0efll6du+TZTevz01WLio4DAADtgjIPlFXvhq65dMxpSZKvzrvHOg8AAK1AmQfK7rIxp6Vn\n",
              "p4Y88/K6/Nuqp4qOAwAAVU+ZB8quT0O3/1rn51vnAQDgcCnzQJu4bOzp6dGpIU+9tDb/0fR00XEA\n",
              "AKCqKfNAmziioVs+OXpakn33zpdKpYITAQBA9VLmgTYzfezp6V7fOQtfej7/udo6DwAA75QyD7SZ\n",
              "I7p0zyX71/kbrfMAAPCOKfNAm5ox7ox0q++cJ19ck3ufe7boOAAAUJWUeaBN9e3SPZ844dQkycx5\n",
              "P7fOAwDAO6DMA21uxrgz0rW+U+a/8FzuW7O46DgAAFB1lHmgzR3VtUc+PuqUJMmN1nkAADhkyjxQ\n",
              "iCvGn5kudZ3yxMbVeeD5JUXHAQCAqqLMA4Xo17VnPnbCu5IkNz5hnQcAgEOhzAOFuXLcWWmoq8+v\n",
              "NzblweeXFh0HAACqhjIPFKZ/t565eNT+dd698wAA0GLKPFCoK8fvW+d/tWFVHl67rOg4AABQFZR5\n",
              "oFDHdOuVj46cmiS5cd49BacBAIDqoMwDhfv0+LPSubYuj61fkV9a5wEA4G0p80DhBnTvnY9Y5wEA\n",
              "oMWUeaAifGb8WelUW5dH1i3Po+uWFx0HAAAqmjIPVIRje/TJh0ecnMQ6DwAAb0eZByrGZyeck061\n",
              "dXl47bLMXb+y6DgAAFCxlHmgYhzXo08uGn5Skn2fOw8AALw5ZR6oKJ+dcHbqa2rz4PNL8/j6VUXH\n",
              "AQCAiqTMAxVlUM+++cMR1nkAAPhtlHmg4nxuwjmpr6nNA88vya83NBUdBwAAKo4yD1Scxp59c+Hw\n",
              "yUmSr3pnewAAeANlHqhIn5twTupqanPfmmfzxMbVRccBAICKoswDFWlIryPzwWGTkljnAQDgv1Pm\n",
              "gYr1uQnnpramJvc890zmv/Bc0XEAAKBiKPNAxRra+6j8wdBJSazzAADweso8UNGumrhvnf/P1U/n\n",
              "yRfWFB0HAAAqgjIPVLShvfvlguMnJkm+Ot86DwAAiTIPVIGrJp6bmtTk35ueyqIXny86DgAAFE6Z\n",
              "Byre8D798/6hE5IkN7p3HgAAlHmgOlw98bzUpCb/1rQoT720tug4AABQKGUeqAoj+vTP+44fnyS5\n",
              "af69BacBAIBiKfNA1bhq4nlJkp+sfDLPvLyu4DQAAFAcZR6oGqOOODq/P2T/Oj/POg8AQMelzANV\n",
              "5er96/yPVz6ZxZvWF5wGAACKocwDVWV032PyPwaPTSkl6zwAAB2WMg9UnS9M2rfOz1mxIEs2bSg4\n",
              "DQAAtD1lHqg6Y/oem3c3jtm3zntnewAAOiBlHqhK/7XOz8+yzRsLTgMAAG1LmQeq0rgjj8vvDRqd\n",
              "5pJ1HgCAjkeZB6rW1fvX+buXz8vyzS8UnAYAANqOMg9UrQlHDczvDDohzaVSbl5gnQcAoONQ5oGq\n",
              "9trnzt+1bF5Wbnmx4DQAANA2ylrmlyxZkmnTpmXkyJGZMmVKFi1a9KbnvvWtb2XEiBEZNmxYLr/8\n",
              "8uzevbucsYB2ZFK/QTnnuFHZW2q2zgMA0GGUtczPmDEj06dPz+LFi3PttdfmkksuecOZFStW5Prr\n",
              "r8+DDz6YpUuXZv369bn11lvLGQtoZ75w4r51/s6lT2TVVus8AADtX02pVCqV4wtv2LAhw4cPz0sv\n",
              "vZT6+vqUSqUMGDAgDz30UIYPH37g3Fe+8pUsW7Yst9xyS5Lkpz/9af7mb/4mDz300Jt+3Z07d2bn\n",
              "zp0H/dn111+fm266qRzfBlAl/vg/vp0H1iwuOgYAABXqy9P+IBePelfRMVpN2Zb51atXZ8CAAamv\n",
              "r0+S1NTUpLGxMU1NTQeda2pqyuDBgw/8fsiQIW8483o33HBDevfufdBj7ty55fkmgKpx7eTfS0Nd\n",
              "fdExAACgTVTd//O97rrrcs011xz0Z9dff31BaYBKMeGogVn40b/Iq7t3FR0FAIAK1L1TQ9ERWlXZ\n",
              "yvygQYOydu3a7Nmz58CP2Tc1NaWxsfGgc42NjVm2bNmB369cufINZ16voaEhDQ0HX4S6urrWDQ9U\n",
              "pa71ndO1vnPRMQAAoOzK9mP2/fv3z+TJk3PHHXckSWbPnp2BAwcedL98klx44YWZM2dO1q1bl1Kp\n",
              "lFtuuSUf/vCHyxULAAAAql5Z381+1qxZmTVrVkaOHJkvf/nLue2225Ikl112WebMmZMkGTp0aL70\n",
              "pS/ltNNOy/Dhw9OvX7/MmDGjnLEAAACgqpXt3ezb0jXXXJOZM2cWHQMAAADaRFmXeQAAAKD1KfMA\n",
              "AABQZZR5AAAAqDLKPAAAAFQZZR4AAACqjDIPAAAAVUaZBwAAgCqjzAMAAECVUeYBAACgyijzAAAA\n",
              "UGWUeQAAAKgyyjwAAABUGWUeAAAAqowyDwAAAFVGmQcAAIAqo8wDAABAlakplUqlokMcrg9+8IMZ\n",
              "MmRI0THe1t69ezN37txMnTo1dXV1Rcfhbbhe1cc1qy6uV3VxvaqPa1ZdXK/q4npVl2q8XoMHD85V\n",
              "V131W8+0izJfLbZs2ZLevXtn8+bN6dWrV9FxeBuuV/VxzaqL61VdXK/q45pVF9erurhe1aW9Xi8/\n",
              "Zg8AAABVRpkHAACAKqPMAwAAQJVR5ttQQ0ND/vIv/zINDQ1FR6EFXK/q45pVF9erurhe1cc1qy6u\n",
              "V3VxvapLe71e3gAPAAAAqoxlHgAAAKqMMg8AAABVRpkHAACAKqPMl8GSJUsybdq0jBw5MlOmTMmi\n",
              "RYve9Ny3vvWtjBgxIsOGDcvll1+e3bt3t3FSkpZdr/vvvz9du3bNpEmTDjy2b99eQFo+//nPZ8iQ\n",
              "Iampqcm8efPe8pznV2VoyfXy/KocO3bsyAc+8IGMHDkyEydOzO/+7u9m6dKlb3r2xz/+cU444YSM\n",
              "GDEiH/zgB7Nly5Y2TkvS8mu2cuXK1NXVHfQ8W7ZsWQGJ+b3f+71MmDAhkyZNyhlnnJEnnnjiTc95\n",
              "HasMLbleXscqz2233Zaamprcfffdb/r37eY1rESrO+ecc0q33XZbqVQqlf7lX/6ldPLJJ7/hzPLl\n",
              "y0sDBgworV27ttTc3Fx63/veV/ra177WxkkplVp2ve67777SxIkT2zYYb+qBBx4orV69ujR48ODS\n",
              "E0888aZnPL8qR0uul+dX5di+fXvpJz/5Sam5ublUKpVKN998c+mss856w7mtW7eW+vfvX3r66adL\n",
              "pVKp9JnPfKb0J3/yJ20Zlf1aes1WrFhR6t27d9uG4029/PLLB3591113lSZMmPCGM17HKkdLrpfX\n",
              "scqyYsWK0qmnnlo65ZRTSj/84Q/f8Pft6TXMMt/KNmzYkMcffzwXX3xxkuTCCy/M6tWr3/Bfye+8\n",
              "8868//3vzzHHHJOamppcccUV+f73v19E5A6tpdeLynHmmWdm4MCBv/WM51flaMn1onJ06dIl73nP\n",
              "e1JTU5MkOeWUU7Jy5co3nPvZz36WE088MSeccEKS5NOf/rTnWEFaes2oHH369Dnw682bNx+4dq/n\n",
              "daxytOR6UTmam5tz2WWX5eabb37Lj6FrT69hynwrW716dQYMGJD6+vokSU1NTRobG9PU1HTQuaam\n",
              "pgwePPjA74cMGfKGM5RfS69XkixbtiyTJ0/OlClT8o1vfKOto3IIPL+qj+dXZbrppptywQUXvOHP\n",
              "3+w5tnbt2uzZs6ct4/Em3uqaJcmrr76aKVOmZPLkyfmrv/qr7N27t43T8ZqPf/zjGTRoUK6//vp8\n",
              "73vfe8Pfex2rLG93vRKvY5Vi5syZOe2003LSSSe95Zn29BpWX3QAqAaTJ0/Oc889l969e+e5557L\n",
              "e97znhx11FG56KKLio4GVc/zqzL9zd/8TZYuXZp77rmn6Ci00G+7ZgMGDMiaNWvSv3//vPTSS/mj\n",
              "P/qj/N//+3/zxS9+sYCk3H777UmS7373u7n22mvz05/+tOBE/DZvd728jlWGhQsXZvbs2fnFL35R\n",
              "dJQ2Y5lvZYMGDTrov+yUSqU0NTWlsbHxoHONjY1ZtWrVgd+vXLnyDWcov5Zer169eqV3795JkoED\n",
              "B+YjH/lIHnzwwTbPS8t4flUXz6/K87d/+7e566678rOf/SzdunV7w9+/2XPs9T/lRNt7u2vW0NCQ\n",
              "/v37J0n69u2bSy+91POsAnziE5/IfffdlxdffPGgP/c6Vpne6np5HasMDz74YFauXJkRI0ZkyJAh\n",
              "efTRRzN9+vR885vfPOhce3oNU+ZbWf/+/TN58uTccccdSZLZs2dn4MCBGT58+EHnLrzwwsyZMyfr\n",
              "1q1LqVTKLbfckg9/+MNFRO7QWnq91q5dm+bm5iTJ1q1b8+Mf/zgnnnhim+elZTy/qovnV2WZOXNm\n",
              "vv/97+c///M/D7pX9PXOP//8/OY3v8kzzzyTJPnGN77hOVagllyzDRs2HHg39J07d+auu+7yPCvA\n",
              "pk2b8vzzzx/4/d13350jjzwyffv2Peic17HK0NLr5XWsMlx55ZVZu3ZtVq5cmZUrV+aUU07Jrbfe\n",
              "miuvvPKgc+3qNazQt99rp5555pnSKaecUhoxYkTppJNOKi1YsKBUKpVKn/rUp0o/+tGPDpy79dZb\n",
              "S0OHDi0NHTq0dOmll5Z27dpVVOQOrSXX6+abby6NGTOmNGHChNKYMWNKf/mXf3ngnYNpW9OnTy8d\n",
              "d9xxpbq6ulL//v1Lw4YNK5VKnl+VqiXXy/OrcqxevbqUpDR06NDSxIkTSxMnTixNnTq1VCqVStdf\n",
              "f33pm9/85oGzP/rRj0qjRo0qDRs2rHTBBReUNm3aVFTsDq2l12z27NmlsWPHHnieffazny3t2LGj\n",
              "yOgd0sqVK0tTpkwpjRs3rjRhwoTSeeedd+CTPryOVZ6WXi+vY5XprLPOOvBu9u31NaymVCqViv4P\n",
              "CgAAAEDL+TF7AAAAqDLKPAAAAFQZZR4AAACqjDIPAB3MpEmTsnXr1kP+dx/60Ifyne98p/UDAQCH\n",
              "rPo+TA8AOCzz5s0rOgIAcJgs8wDQwdTU1GTTpk1JkiFDhuQv/uIvcuqpp+b444/PX//1Xx8498wz\n",
              "z2TatGkZO3ZsPvCBD2TLli0H/m7r1q25/PLLM3Xq1EyYMCHTp0/Prl278uyzz2bgwIFZvnx5kuRv\n",
              "//Zvc/755x/4DGYAoHUo8wDQwW3atCmPPPJIfvWrX+UrX/lK1qxZkyT52Mc+lk996lNZtGhR/tf/\n",
              "+l954IEHDvyb//k//2fOOOOMzJ07N/Pnz09zc3NuuummjBo1Kl/5yldy0UUX5f7778/Xv/71fO97\n",
              "30ttrf/LAQCtyY/ZA0AH99GPfjRJctRRR2Xo0KFZsWJFevbsmXnz5uWSSy5JkowfPz6nn376gX9z\n",
              "991355FHHsnMmTOTJNu3b09dXV2S5CMf+Ujuu+++vPvd784999yTfv36te03BAAdgDIPAB1cly5d\n",
              "Dvy6rq4ue/bsedNzNTU1B35dKpUye/bsjBw58g3n9uzZk4ULF6Zv374HVn4AoHX5mTcA4A169eqV\n",
              "E088MbfffnuSZNGiRXnooYcO/P0HPvCB/J//838OFP+XX345S5cuTZL86Z/+aUaNGpUHH3wwf/In\n",
              "f3LgzwGA1qPMAwBv6vbbb8+tt96acePG5c///M9z5plnHvi7G2+8MV27ds2kSZMyYcKEnHfeeVm5\n",
              "cmV+/OMf59/+7d/y9a9/PcOHD8/MmTNz0UUXZceOHQV+JwDQ/tSUSqVS0SEAAACAlrPMAwAAQJVR\n",
              "5gEAAKDKKPMAAABQZZR5AAAAqDLKPAAAAFQZZR4AAACqjDIPAAAAVUaZBwAAgCqjzAMAAECVUeYB\n",
              "AACgyvz/FAClBki/A9YAAAAASUVORK5CYII=\n",
              "\">\n",
              "      </div>\n",
              "      <script type=\"text/javascript\">\n",
              "        (() => {\n",
              "          const chartElement = document.getElementById(\"chart-464885df-1608-4144-a19f-da2047f1e2ea\");\n",
              "          async function getCodeForChartHandler(event) {\n",
              "            const chartCodeResponse =  await google.colab.kernel.invokeFunction(\n",
              "                'getCodeForChart', [\"chart-464885df-1608-4144-a19f-da2047f1e2ea\"], {});\n",
              "            const responseJson = chartCodeResponse.data['application/json'];\n",
              "            await google.colab.notebook.addCell(responseJson.code, 'code');\n",
              "          }\n",
              "          chartElement.onclick = getCodeForChartHandler;\n",
              "        })();\n",
              "      </script>\n",
              "      <style>\n",
              "        .colab-quickchart-chart-with-code  {\n",
              "            display: block;\n",
              "            float: left;\n",
              "            border: 1px solid transparent;\n",
              "        }\n",
              "\n",
              "        .colab-quickchart-chart-with-code:hover {\n",
              "            cursor: pointer;\n",
              "            border: 1px solid #aaa;\n",
              "        }\n",
              "      </style>"
            ]
          },
          "metadata": {}
        },
        {
          "output_type": "display_data",
          "data": {
            "text/plain": [
              "from matplotlib import pyplot as plt\n",
              "import seaborn as sns\n",
              "def _plot_series(series, series_name, series_index=0):\n",
              "  from matplotlib import pyplot as plt\n",
              "  import seaborn as sns\n",
              "  palette = list(sns.palettes.mpl_palette('Dark2'))\n",
              "  xs = series['index']\n",
              "  ys = series[1]\n",
              "  \n",
              "  plt.plot(xs, ys, label=series_name, color=palette[series_index % len(palette)])\n",
              "\n",
              "fig, ax = plt.subplots(figsize=(10, 5.2), layout='constrained')\n",
              "df_sorted = _df_9.sort_values('index', ascending=True)\n",
              "_plot_series(df_sorted, '')\n",
              "sns.despine(fig=fig, ax=ax)\n",
              "plt.xlabel('index')\n",
              "_ = plt.ylabel(1)"
            ],
            "text/html": [
              "      <div class=\"colab-quickchart-chart-with-code\" id=\"chart-6923d66d-cfd4-4079-a475-a01059ac11ea\">\n",
              "        <img style=\"width: 180px;\" src=\"data:image/png;base64,iVBORw0KGgoAAAANSUhEUgAAA/MAAAITCAYAAABLz0yVAAAAOXRFWHRTb2Z0d2FyZQBNYXRwbG90\n",
              "bGliIHZlcnNpb24zLjcuMSwgaHR0cHM6Ly9tYXRwbG90bGliLm9yZy/bCgiHAAAACXBIWXMAAA9h\n",
              "AAAPYQGoP6dpAABYvElEQVR4nO3deXhV9aHv/8/OzjwTSJhCCCEJEDIBMs/QVqt1qFir1oEqAo6o\n",
              "5/zq8fxO7/n13nOO3nvORREHoCpOrZ5WrFK1kzLIpIhCQhIgBAgJEMKYiczZ6/dHBkkBCZCd7157\n",
              "v1/Pk+cRsgifPKu74ZNP1loOy7IsAQAAAAAA2/AzHQAAAAAAAFwayjwAAAAAADZDmQcAAAAAwGYo\n",
              "8wAAAAAA2AxlHgAAAAAAm6HMAwAAAABgM5R5AAAAAABshjIPAAAAAIDNeEWZX7JkiekIAAAAAAD0\n",
              "GK8o8wcPHjQdAQAAAACAHuMVZR4AAAAAAF9CmQcAAAAAwGYo8wAAAAAA2AxlHgAAAAAAm6HMAwAA\n",
              "AABgM5R5AAAAAABshjIPAAAAAIDNUOYBAAAAALAZyjwAAAAAADZDmQcAAAAAwGYo8wAAAAAA2Axl\n",
              "HgAAAAAAm6HMAwAAAABgM5R5AAAAAABshjIPAAAAAIDNUOYBAAAAALAZyjwAAAAAADbj1jL/6KOP\n",
              "KjExUQ6HQzt27Ljgca+++qpSUlI0dOhQ3X///WpqanJnLAAAAAAAbM2tZf6WW27Rxo0bNXjw4Ase\n",
              "c+DAAf3yl7/Uhg0bVFRUpPLycq1YscKdsQAAAAAAsDW3lvlp06YpPj7+O4957733dMMNN6hfv35y\n",
              "OBxauHCh3nnnnQse39DQoKqqqk5vLS0t3R0dgM2UnanUrX9aod/s2Wo6CgAAAOB2xq+ZLykp6bTc\n",
              "JyYmqqSk5ILHP/3004qKiur0tnUr/3gHfN3/3f43bT66X//f1j/qRF2N6TgAAACAWxkv85fqqaee\n",
              "UmVlZae3cePGmY4FwKDS6lN6r+gbSVJdc5NW5G8wnAgAAABwL+NlPiEhQQcPHuz4dXFxsRISEi54\n",
              "fFBQkCIjIzu9OZ3OnogKwEO9kLtOzZZL/UIjJUmv79qiU/VnDKcCAAAA3Md4mZ8zZ45Wr16to0eP\n",
              "yrIsLVu2TLfddpvpWABs4nBNhX5X9LUk6aUZdyiz90DVNjeyzgMAAMCrubXML1iwQPHx8Tp06JCu\n",
              "vvpqJScnS5LmzZun1atXS5KSkpL0q1/9SpMnT1ZycrJiY2O1YMECd8YC4EVeyF2rJleLJvcfqnF9\n",
              "E/VY9mxJ0sqCzTrNOg8AAAAv5bAsyzId4ko98cQTWrx4sekYAHrYkZoKTV71n2pytei9H87XhH5J\n",
              "sixLP1y9VHmnjujRzJn6xZirTccEAAAAup3xH7MHgMv14s51anK1aGK/JE3olyRJcjgcHev8a7s2\n",
              "63RDrcGEAAAAgHtQ5gHY0pEzlXqn8CtJ0uNt5b3d1QlpSovpr5qmBr2Sv9FEPAAAAMCtKPMAbOml\n",
              "nevU6GrR+L6Jmti2yrdzOBxalDVLkvRawSZVsM4DAADAy1DmAdjO0dqqs1b578nhcJxzzA8Hj9Sw\n",
              "6L6qbmrQqwWbejoiAAAA4FaUeQC281LuOjW0NGts3GBN7j/0vMf4Ofw6fvz+1YJNqmyo68mIAAAA\n",
              "gFtR5gHYSnltlX5TuFXShVf5dtcmpmtYdF9VNdZr5a7NPRURAAAAcDvKPABbWZb3uRpamjUmNkFT\n",
              "ByR/57F+Dr+Oa+d/nb9R1Y31PRERAAAAcDvKPADbOF5Xrbd2fylJenzUd6/y7a5LzFBKVJwqG+tY\n",
              "5wEAAOA1KPMAbGPZzs9V39KkUbGDNH1ASpf+jNPPT4uyW9f5FfkbVdPU4M6IAAAAQI+gzAOwhRN1\n",
              "NXpj9xeSLn6t/N+7PjFTyVGxqmio1eus8wAAAPAClHkAtrAsr3WVz+oTr5kDUy/pzzr9/PRo27Xz\n",
              "y/M26AzrPAAAAGyOMg/A452sr9Ebu7dIkp64xFW+3Q1DMjUkso9ON9Tq9V1bujsiAAAA0KMo8wA8\n",
              "3vK8DaprblJm74GaFT/ssj6Gv59Ti7Jmdnw81nkAAADYGWUegEc7VX+mY0l/LHv2Za3y7W5KylZi\n",
              "RG+dajijN9uuvwcAAADsiDIPwKP9On+japsblR4zQN8fNOKKPpa/n1OPtq3zy/I+V11zY3dEBAAA\n",
              "AHocZR6AxzrdUNvxbPgrXeXb3Tx0lAZHxOhk/ZmOZ9YDAAAAdkOZB+CxXml7LnxaTH9dnZDWLR/T\n",
              "38+pRzJb1/mX89azzgMAAMCWKPMAPFJFQ61eK9gkSXosq3tW+XZzkkcrITxGx+tq9Js9W7vt4wIA\n",
              "AAA9hTIPwCO9UrBJ1U0NGt6rn64Z3D2rfLsAP6cezpohSXpp53rVNTd168cHAAAA3I0yD8DjVDbU\n",
              "fbvKZ8+Wn6P7/6/qlqGjFR8erWN11fptIes8AAAA7IUyD8DjvFqwSVWN9RoW3VfXDh7plr8j0Omv\n",
              "h9uunX9p53rVs84DAADARijzADxKVWO9Xi3YKElalDXLLat8u1uTx2hAWJTKa6v0TuFXbvt7AAAA\n",
              "gO5GmQfgUV4r2KTKxnqlRMXpusQMt/5dZ6/zL+5cp4aWZrf+fQAAAEB3ocwD8BjVjfX6dX7bKp89\n",
              "S04/9/9f1E9TrlL/0Cgdra3Su6zzAAAAsAnKPACP8fquLapsrFNyVKyuT8zskb8zyOmvhzJnSJJe\n",
              "yGWdBwAAgD1Q5gF4hJqmBi3P3yBJejSrZ1b5drelXKW+oZEqq63U7/d+3WN/LwAAAHC5KPMAPMLr\n",
              "u7aooqFWSZF9dOOQrB79u4P9A/RQxnRJ0tLctWpknQcAAICHo8wDMO5MU4OW530uqedX+XZ3pI5T\n",
              "35AIHT5Tod8XfdPjfz8AAABwKSjzAIx7Y/cXOt1Qq8SI3ropqWdX+XbB/gF6oG2dfyF3rZpcLUZy\n",
              "AAAAAF1BmQdgVG1TY8cqvyhrlvz9nMay/GzYeMWGhKu05rTeY50HAACAB6PMAzDqzd1f6GT9GQ2O\n",
              "iNGPh2YbzRLiH6AH0tuunc9hnQcAAIDnoswDMKauuVHL2lb5RzJnGl3l2901fLz6BIerpOaU3t+3\n",
              "3XQcAAAA4Lwo8wCMeWv3lzpRX6OE8BjNSR5tOo4kKcQ/UAvTp0mSns9Zq2bWeQAAAHggyjwAI+qa\n",
              "G/Vy3npJ0sNZMxTgAat8u7uHT1Dv4DAdrD6pD/bvMB0HAAAAOAdlHoARv9mzVcfrahQfHq1bhnrG\n",
              "Kt8uNCBQC9rW+SWs8wAAAPBAlHkAPa6+uUkv72xb5TNnKtDpbzjRue4ZPkExQWE6UHVCHx7INR0H\n",
              "AAAA6IQyD6DH/bZwq8rrqjUwLFq3Jo8xHee8wgKCND99qiTp+Zw1anG5DCcCAAAAvkWZB9Cj6pub\n",
              "9GLHKj/DI1f5dnNHTFR0UKj2VR7XatZ5AAAAeBDKPIAe9e7ebSqvrVL/0CjdmnKV6TjfKTwgSAtG\n",
              "tq7zS3I+Y50HAACAx6DMA+gxDS3NejF3naTWVT7Ig1f5dnNHTFRUYIiKKo/ro+KdpuMAAAAAkijz\n",
              "AHrQf+/dprLaSvUNjdRPPXyVbxcRGKz7R06R1LrOuyzWeQAAAJhHmQfQIxpamvVC7lpJ0kMZ0xXs\n",
              "H2A4UdfdmzZZUYHBKqw4po+L80zHAQAAACjzAHrG7/d+rSNnKtU3JEJ3pI4zHeeSRAYG67601nX+\n",
              "uR2s8wAAADCPMg/A7RpbmrW0bZV/wGarfLv70iYrMjBYeyrK9aeD+abjAAAAwMdR5gG43Xv7vtHh\n",
              "MxWKC4nQz4aNNx3nskQFhejetMmSWOcBAABgHmUegFs1uVq0NKd9lZ+mEBuu8u3mpU1WRECQdp0+\n",
              "qr+UFJiOAwAAAB9GmQfgVquKvlFpzWnFhoTrTpuu8u2ig0I7rfOWZRlOBAAAAF9FmQfgNk2ulo5r\n",
              "5RemT1OIf6DhRFdu3sgpCg8IUv6pMv2VdR4AAACGUOYBuM0f9m3XwepT6h0cpruGTTAdp1v0CgrV\n",
              "z0dMkiQ9yzoPAAAAQyjzANyi2dWiJTnfrvKhAfZf5dvdP3KKQv0DlXfqiD4t3WU6DgAAAHwQZR6A\n",
              "W3ywf4cOVp9UTFCY7h7uHat8u5jgMM0dMVES6zwAAADMoMwD6HZnr/Lz06cqLCDIcKLutyB9qkL8\n",
              "A5R78rDWHNpjOg4AAAB8DGUeQLf78ECuDlSdUHRQaMeC7W16B4frnuGtn9viHZ+yzgMAAKBHUeYB\n",
              "dKsWl0vP56yRJC0YOVXhXrjKt2u9Q3+Ack4c0rrDhabjAAAAwIdQ5gF0qz8W52pf5XFFBYZ47Srf\n",
              "rk9IuO5uu0s/184DAACgJ1HmAXSbFpdLS3a0rvLzR05RRGCw4UTutzBjmoKdAfrmeIk+P7LXdBwA\n",
              "AAD4CMo8gG7zcfFO7a08pqjAYP08bbLpOD0iNiRCdw0fL4l1HgAAAD2HMg+gW7gsl5a0XSs/b+QU\n",
              "RfrAKt/ugfTpCnL6a9uxg9pYVmQ6DgAAAHwAZR5At/ikOE97KsoVGRise0f4xirfLi40QncOY50H\n",
              "AABAz6HMA7hiLsulZ3d8Jkm6N22yooJCDCfqeQ9ktK7zW8uLtblsn+k4AAAA8HKUeQBX7E8H87Wn\n",
              "olwRAUGa5yPXyv+9fqGRuj11rCRpcds3NgAAAAB3ocwDuCIuy6Xnzlrlo4NCDScy58GMGQr0c+rL\n",
              "8gOs8wAAAHAryjyAK/LXkl3adfqowgOCNG/kFNNxjBoQFtWxzj/HOg8AAAA3oswDuGyWZXWU1p+P\n",
              "mKRePrzKt3soY4YC/JzafHS/vjx6wHQcAAAAeCnKPIDL9rfSXco7dURh/oGa7+OrfLsB4dG6LeUq\n",
              "Seq4KSAAAADQ3SjzAC6LZVkdZXXuiEnqFRxmOJHneDhzpgL8nNpYVqSvyotNxwEAAIAXoswDuCyf\n",
              "HdqtnScPK9Q/UAvSp5qO41EGhkfr1uQxkljnAQAA4B6UeQCX7OxV/p7hExXDKn+OhzNnyN/hp8+P\n",
              "7NXXxw6ajgMAAAAvQ5kHcMnWHNqjnBOHFOIfwCp/AYMiYnRL8mhJPHceAAAA3Y8yD+CSnL3K3z1s\n",
              "gvqEhBtO5LkeyZopp8NP6w8X6pvjJabjAAAAwItQ5gFcknWHC7XjRKmCnQFamDHNdByPNjiit25J\n",
              "HiVJenY76zwAAAC6D2UeQJedvcrfNXy8YkMiDCfyfI9kzpLT4ae1h/do+/FS03EAAADgJSjzALps\n",
              "w5EifXO8REFOfz2QPt10HFtIjOytm4dmS5KW5LDOAwAAoHtQ5gF0Sesq/6kk6c5h4xUXyirfVY9k\n",
              "zpKfw6FPS3cr98Qh03EAAADgBSjzALpkU9k+fXXsYOsqn8EqfymSovrox0nZkqTnuLM9AAAAugFl\n",
              "HsBFnb3K35E6Tv1CIw0nsp9FWa3r/F9Ldynv5GHTcQAAAGBzlHkAF7X56H59WV6sQD+nHmSVvyxJ\n",
              "UbG6cUiWJHXcRBAAAAC4XJR5ABfVvsrfnjpO/cOiDKexr0VZs+SQQ38pKVDBqSOm4wAAAMDG3Frm\n",
              "9+7dq0mTJik1NVVjx45Vfn7+Oce4XC498cQTSktLU2ZmpmbOnKmioiJ3xgJwCbYc3a8vjh5QoJ9T\n",
              "D2XOMB3H1pKj43TDkExJrPMAAAC4Mm4t8wsWLND8+fNVWFioJ598UnPnzj3nmNWrV2vTpk3KyclR\n",
              "bm6uZs+erX/+5392ZywAl+DZ7a2r/E9TrtIAVvkrtii7dZ3/08F8FZwqMx0HAAAANuW2Mn/s2DFt\n",
              "27ZNd955pyRpzpw5Ki0tPWd1dzgcamhoUH19vSzLUlVVleLj490VC8Al+PLoAW0+ul8Bfk49nDnT\n",
              "dByvkBrdVz9KzJAkLclZYzgNAAAA7MrfXR+4tLRU/fv3l79/61/hcDiUkJCgkpISJScndxx3/fXX\n",
              "a+3aterXr58iIiI0cOBArV+//oIft6GhQQ0NDZ1+r6WlxT2fBODjnstp/VHwW5PHaGB4tNkwXmRR\n",
              "9iz9sThXHxfv1O7TRzW8Vz/TkQAAAGAzxm+At23bNuXl5enw4cM6cuSIZs+erYULF17w+KefflpR\n",
              "UVGd3rZu3dqDiQHfsK38oDYcKZK/w08Pc618txreq5+ua1vnn2edBwAAwGVwW5kfNGiQysrK1Nzc\n",
              "LKn1OdUlJSVKSEjodNybb76pWbNmKTo6Wn5+frrnnnu0du3aC37cp556SpWVlZ3exo0b565PA/BZ\n",
              "7Xew/0nKGA2KiDGcxvs8ljVbkvTHAztVWFFuOA0AAADsxm1lPi4uTqNHj9bbb78tSVq1apXi4+M7\n",
              "/Yi9JCUlJWnNmjVqbGyUJH300UdKT0+/4McNCgpSZGRkpzen0+muTwPwSV8fK9H6I3vl7/DTI1wr\n",
              "7xYjYvrph4NHypLFtfMAAAC4ZG79Mfvly5dr+fLlSk1N1TPPPKOVK1dKkubNm6fVq1dLkh566CEN\n",
              "GTJEWVlZyszM1GeffaaXX37ZnbEAXET7Kj8nebQSWOXd5vHs1nV+9f5cFVUcM5wGAAAAduKwLMsy\n",
              "HeJKPfHEE1q8eLHpGIBX2H68VNd/9KKcDj99PucfNDiit+lIXu2+z97UX0oK9OOkbC2dfpvpOAAA\n",
              "ALAJ4zfAA+BZOlb5oaMo8j2g/dr5Dw/kaH/lccNpAAAAYBeUeQAddhwv1ZpDe+TncPBc+R6S0Weg\n",
              "vj9ohFwW184DAACg6yjzADq0P1f+x0nZSorqYziN72i/dv4P+3dof+UJw2kAAABgB5R5AJKk3BOH\n",
              "9Gnpbvk5HFqUNct0HJ+S2Sdes+OHy2VZWprLOg8AAICLo8wDkKSOH/G+cUiWkqJiDafxPe3r/Pv7\n",
              "dqi46qThNAAAAPB0lHkAyj95RH8pKZBDrPKmZMcO0syBw9RiubQ0d63pOAAAAPBwlHkAenZH67Xy\n",
              "NyRlKjk6znAa3/X4qNZ1flXRNyqpPmU4DQAAADwZZR7wcQWnyvTnknw55Oh4TBrMGB2boOkDU9XM\n",
              "Og8AAICLoMwDPu65tlX++iEZSmGVN+6Jtmvnf7/3a5WyzgMAAOACKPOAD9t16qg+OZjXdq08q7wn\n",
              "GBM3WNMGpKjZcumF3HWm4wAAAMBDUeYBH7ak7bny1yWma1ivvobToN1jbev874q+1uGaCrNhAAAA\n",
              "4JEo84CP2nO6XB8X50kSq7yHGdc3UZP7D1WTq0UvcO08AAAAzoMyD/ioJTmfyZKlHw4eqREx/UzH\n",
              "wd9pf+78u3u36QjrPAAAAP4OZR7wQYUV5frjgZ2Svi2N8CwT+iVpYr8kNbla9OLO9abjAAAAwMNQ\n",
              "5gEf9HzOWlmydHVCmtJiBpiOgwto/0bLO4VbVXam0nAaAAAAeBLKPOBj9lUe1+oDOZJY5T3dpP5D\n",
              "Nb7vEDW6WvQS6zwAAADOQpkHfMySnDVyWZZ+MGiE0nsPNB0HF9H+3PnfFm7V0doqw2kAAADgKSjz\n",
              "gA/ZX3lcH+zfIenbx5/Bs03qP1Tj+iaqoaVZL7POAwAAoA1lHvAhz+eslcuy9L1Bw5XZJ950HHSB\n",
              "w+HouBzi7T1fqpx1HgAAAKLMAz7jQNUJ/aF9lee58rYypX+yxsQmqKGlWcvyPjcdBwAAAB6AMg/4\n",
              "iKU5a9ViuTRz4DBlxw4yHQeXwOFw6PFR35MkvbX7Sx2vqzacCAAAAKZR5gEfUFx1Uqv2bZckPT6K\n",
              "Vd6Opg9I0ajYQapvadKynazzAAAAvo4yD/iApbmtq/z0gakaHZtgOg4uQ+u1863r/Bu7v9CJuhrD\n",
              "iQAAAGASZR7wciXVp7Sq6BtJ3z7mDPY0c2CqsvrEq76lScvzNpiOAwAAAIMo84CXeyF3nZotl6YN\n",
              "SNGYuMGm4+AKOBwOPdGxzm/RqfozhhMBAADAFMo84MUO1ZzW7/Zuk6SOx5vB3mbFD1NWn3jVNjey\n",
              "zgMAAPgwyjzgxdpX+Sn9kzW2b6LpOOgGDodDj2XNkiS9vmuzTrPOAwAA+CTKPOClDtdU6L9Z5b3S\n",
              "9waNUHrMAJ1pbtSK/I2m4wAAAMAAyjzgpV7cuU5NrhZN6pek8f2GmI6DbuRwOPRY2zdoVu7arNMN\n",
              "tYYTAQAAoKdR5gEvdORMpd4t/EqS9Pio7xlOA3e4OiFNaTH9VdPUoFdY5wEAAHwOZR7wQi/mrlOj\n",
              "q0Xj+w7RxH5JpuPADVqvnW9d518r2KQK1nkAAACfQpkHvEzZmUq9U7hVEs+V93bXDE7T8F79VN3U\n",
              "oFcKNpmOAwAAgB5EmQe8zEs716vR1aJxfRM1qf9Q03HgRn4Ov45r518r2KTKhjrDiQAAANBTKPOA\n",
              "FymvrdJv21b5x7Nny+FwGE4Ed7t28EgNi+6rqsZ6vbaLdR4AAMBXUOYBL/LyzvVqaGnWVXGDNaV/\n",
              "suk46AFnr/Ov5G9UVWO94UQAAADoCZR5wEscq63WW3u+lMQq72uuS0xXanScKhvrtZJr5wEAAHwC\n",
              "ZR7wEsvyWlf50bEJmjYgxXQc9CA/h58Wtd3ZfkX+RlWzzgMAAHg9yjzgBY7XVevN3azyvuxHiRlK\n",
              "jopVZWOdXt+1xXQcAAAAuBllHvACy/I2qL6lSdl9BmnGwFTTcWCA089Pj2bNkiQtz9+gmqYGw4kA\n",
              "AADgTpR5wOZO1NXozd2tSyyrvG+7cUiWkiL7qKKhlnUeAADAy1HmAZtbnrdBdc1NyuoTr1nxw0zH\n",
              "gUGd1vm8z3WGdR4AAMBrUeYBGztVf0ZvtK3yj2XNYpWHbkrKUmJEb51uqNUbu78wHQcAAABuQpkH\n",
              "bGxF/gbVNjcqo/dAfW/QCNNx4AH8/ZxadNY6X9vUaDgRAAAA3IEyD9jU6fozWlmwWRKrPDr78dBs\n",
              "DY7orZP1Z/TWHtZ5AAAAb0SZB2zq1/kbdaa5USNj+usHCWmm48CD+Ps59WjWTEnSyzs/V10z6zwA\n",
              "AIC3ocwDNnS6oVav7Wpb5bmDPc7j5qGjlBAeoxP1NXp7z5em4wAAAKCbUeYBG3olf6Nqmho0olc/\n",
              "Xc0qj/MI8HPqkU7rfJPhRAAAAOhOlHnAZioaavVawSZJrau8n4OXMc5vztBRig+P1rG6av2GdR4A\n",
              "AMCr0AIAm3m1YJOqmxo0LLqvfjh4pOk48GCBTn89nNm+zq9XPes8AACA16DMAzZS2VCnV1nlcQlu\n",
              "TR6jgWHRKq+r1m8Lt5qOAwAAgG5CEwBs5LVdm1TVWK/U6Dhdl5huOg5soHWdnyFJepF1HgAAwGtQ\n",
              "5gGbqGqs1yv5GyVJi7JY5dF1t6Zcpf6hUSqvrdJ/791mOg4AAAC6AW0AsInXd21WZWO9kqNi9aPE\n",
              "DNNxYCNBZ63zL+SuU0NLs9lAAAAAuGKUecAGapoatOKsVd7px0sXl+a21LHqFxqpstpK/Y51HgAA\n",
              "wPZoBIANvL5rsyoaajU0KlY3DMk0HQc2FOT010MZMyS1rvONrPMAAAC2RpkHPNyZpgYtz9sgSXo0\n",
              "axarPC7b7alj1Tc0UofPVOh3RV+bjgMAAIArQCsAPNzru7bodEOthkT20Y2s8rgCwf4BejBjuiTp\n",
              "hdy1rPMAAAA2RpkHPNjZq/yirJny93MaTgS7uyN1nOJCInSopkLv7fvGdBwAAABcJso84MHe3P2F\n",
              "TjWc0eCI3ropKdt0HHiBEP8APZAxTZK0NGetmlwthhMBAADgclDmAQ9V29SoZXmfS5IeZZVHN7pz\n",
              "2HjFhoSrtOa0VhWxzgMAANgRZR7wUG/t+UIn688oITxGNw8dZToOvEiIf6AWpret87ms8wAAAHZE\n",
              "mQc8UF1zo17e2brKP5I1UwGs8uhmdw2boN7BYTpYfUof7NthOg4AAAAuEWUe8EC/2bNVJ+prNCi8\n",
              "l25JHm06DrxQaMC36/ySnDVqZp0HAACwFco84GHqmpv00s71kqSHM1nl4T73DJ+omKAwFVef1Af7\n",
              "c0zHAQAAwCWgzAMe5reFW3WsrloDw6L1E1Z5uFFoQKAWpE+VJD2fs0YtLpfhRAAAAOgqyjzgQerP\n",
              "WuUfyZypQKe/4UTwdnNHTFSvoFDtrzqhDw+wzgMAANgFZR7wIO8UfqXy2ioNCIvSrSljTMeBDwgL\n",
              "CNL8ka3r/BLWeQAAANugzAMeoqGlWS/uXCep9Vp5Vnn0lLkjJioqMET7Ko/rj8W5puMAAACgCyjz\n",
              "gId4t/ArHa2tUr/QSP005SrTceBDIgKDNX/kFEnSkh2s8wAAAHZAmQc8QENLs17IXSdJeihjhoJY\n",
              "5dHDfp42WVGBwdpbeUwfF+80HQcAAAAXQZkHPMDv9m5TWW2l+oZG6vbUsabjwAdFBgZrXvs6n7NG\n",
              "Lot1HgAAwJNR5gHDGs9a5R/MmK5g/wCzgeCz7h0xWZGBwdpTUa5PDuabjgMAAIDvQJkHDPt90Tc6\n",
              "fKZCcSERuiN1nOk48GFRQSG6L22yJOm5HZ+xzgMAAHgwyjxgUJOrRS/krpXUusqHsMrDsPvSJisi\n",
              "IEi7Tx/Vnw8WmI4DAACAC6DMAwa9V/SNSmtOKzYkXD8bNt50HEDRQaG6t32dz2GdBwAA8FSUecCQ\n",
              "JleLlua0rvIPpLPKw3PMGzlF4QFBKjhVpr+W7DIdBwAAAOdBmQcMeX/fdpXUnFKf4HDdNZxVHp6j\n",
              "V1Cofj5ikqTWa+ctyzKcCAAAAH+PMg8Y0Oxq0fNtq/zC9GkK8Q80nAjobP7IKQrzD1TeqSP6Wynr\n",
              "PAAAgKehzAMG/GHfDh2sPqmYoDDdPXyC6TjAOXoFh2lu2zr/LOs8AACAx3Frmd+7d68mTZqk1NRU\n",
              "jR07Vvn5539u8c6dOzVjxgyNGDFCI0aM0Pvvv+/OWIBRza4WLclZI0lakD5VoQGs8vBMC9KnKtQ/\n",
              "UDtPHtZnh3abjgMAAICzuLXML1iwQPPnz1dhYaGefPJJzZ0795xjamtrdeONN+rf/u3ftGvXLuXl\n",
              "5Wnq1KnujAUY9cH+HBVXn1SvoFDNHTHRdBzggmKCw3TP8Nb/jbLOAwAAeBa3lfljx45p27ZtuvPO\n",
              "OyVJc+bMUWlpqYqKijod99vf/lYTJkzQlClTJElOp1OxsbEX/LgNDQ2qqqrq9NbS0uKuTwPoVi0u\n",
              "l54/a5UPCwgynAj4bgszpirEP0A5Jw5p7eFC03EAAADQxm1lvrS0VP3795e/v78kyeFwKCEhQSUl\n",
              "JZ2OKygoUFBQkH70ox8pOztbd999t44fP37Bj/v0008rKiqq09vWrVvd9WkA3Wr1gVztrzqh6KDQ\n",
              "juuRAU/WOzhcd3es85+yzgMAAHgI4zfAa25u1qeffqrly5dr+/btGjhwoB544IELHv/UU0+psrKy\n",
              "09u4ceN6MDFweVpcLi3J+UxS653Cw1nlYRML06cq2Bmg7cdLtf7IXtNxAAAAIDeW+UGDBqmsrEzN\n",
              "zc2SJMuyVFJSooSEhE7HJSQkaObMmRo4cKAcDofuvPNOffHFFxf8uEFBQYqMjOz05nQ63fVpAN3m\n",
              "o+KdKqo8rqjAkI5neAN2EBsSobuHj5ckPbuddR4AAMATuK3Mx8XFafTo0Xr77bclSatWrVJ8fLyS\n",
              "k5M7HXfrrbfqq6++UlVVlSTpk08+UVZWlrtiAUa4rG9X+ftHTlFEYLDhRMClWZg+XUFOf319vEQb\n",
              "jhRd/A8AAADArdz6Y/bLly/X8uXLlZqaqmeeeUYrV66UJM2bN0+rV6+W1LrM//M//7MmTZqkzMxM\n",
              "rVmzRsuWLXNnLKDHfVycp8KKY4oMDNa9aZNNxwEuWVxohO4c1rbOc+08AACAcQ7LC/5F9sQTT2jx\n",
              "4sWmYwDn5bJc+v4HS7SnolyPZ8/WP4z6vulIwGU5Wlulye/9HzW0NOvdq+dpyoDki/8hAAAAuIXx\n",
              "G+AB3u6Tg/naU1GuiIAg3ccqDxvrFxqpO1JbbzjKOg8AAGAWZR5wI5fl0nM7Wq+VvzdtsqKDQg0n\n",
              "Aq7MgxnTFejn1Jflxdp8dL/pOAAAAD6LMg+40V9KCrT79FGFBwRp3sgppuMAV6x/WJRub1vn279R\n",
              "BQAAgJ5HmQfcxLKsb1f5EZPUi1UeXuKhzBkK9HNqy9H9+oJ1HgAAwAjKPOAmfy0pUP6pMoX5B+p+\n",
              "Vnl4kQFhUbotdawk6VnWeQAAACMo84AbWJbVUXJ+njZJvYLDDCcCutdDGTMU4OfUprJ92lpebDoO\n",
              "AACAz6HMA27waeku5Z06olD/QM0fOdV0HKDbDQyP1k9TrpLUemd7AAAA9CzKPNDNzl7l546YqBhW\n",
              "eXiphzKmy9/hpw1HirSt/KDpOAAAAD6FMg90szWH9ij35GGF+AdoQTqrPLzXoIgY/SRljCTWeQAA\n",
              "gJ5GmQe6kWVZWtxWau4ePlG9g8MNJwLc65HMmfJ3+Gn9kb36+liJ6TgAAAA+gzIPdKO1hwuVc+KQ\n",
              "gp0BWsgqDx+QEBGjOcmjJbHOAwAA9CTKPNBNWq+Vb1/lxys2JMJwIqBnPJo1U06Hn9YdLtT246Wm\n",
              "4wAAAPgEyjzQTT4/slfbj5cqyOmvhenTTccBeszgiN6aM3SUJOk5njsPAADQIyjzQDc4+w72dw0b\n",
              "r7hQVnn4lkfa1vnPDu1WzolDpuMAAAB4Pco80A02lhVp27GDCnL664EMVnn4niGRffTjpGxJrPMA\n",
              "AAA9gTIPXKGzV/mfpY5T39BIw4kAMx7Nmik/h0N/K92lnScOm44DAADg1SjzwBXaXLZPW8uLFeT0\n",
              "14OZM0zHAYxJiorVjUOyJEnP5bDOAwAAuBNlHrhCi9tW+dtTx6ofqzx83KKsWXLIob+UFCj/5BHT\n",
              "cQAAALwWZR64ApvL9unL8gMK9HPqwYwZpuMAxiVHx+mGpExJ6rj8BAAAAN2PMg9cgfayclvqWA0I\n",
              "izKcBvAMj2XNlkMO/bkkXwWnykzHAQAA8EqUeeAyfXF0v7Yc3a8AP6ceYpUHOqREx+n6IRmSuLM9\n",
              "AACAu1Dmgcv03I41kqSfplylgeHRZsMAHmZR2zr/ycE87T591HQcAAAAr0OZBy7DV+XF2lhWpAA/\n",
              "px7mDvbAOYb16qvrEtMlSUvavvEFAACA7kOZBy5D+7XyP0keo/jwXobTAJ5pUdZsSdJHxTtVWFFu\n",
              "OA0AAIB3ocwDl+jrYwf1+ZG98nf46RFWeeCCRsT007WD02XJYp0HAADoZpR54BK1P1f+luTRGhQR\n",
              "YzgN4Nkey54lSVp9IFd7K44ZTgMAAOA9KPPAJfjmeInWHy6U0+GnR7Jmmo4DeLy0mAG6OiGtdZ3P\n",
              "YZ0HAADoLpR54BI8u719lR+lwRG9DacB7OHx7NZr51cfyNG+yuOG0wAAAHgHyjzQRduPl2rt4T1y\n",
              "Ovz0cCarPNBV6b0H6geDRshlsc4DAAB0F8o80EXPtV0r/+OkbA2J7GM4DWAvj7Wt8x/s36H9rPMA\n",
              "AABXjDIPdEHOiUP67NBu+TkcejRrluk4gO1k9onX9wYNl8uytDR3rek4AAAAtkeZB7pgSdsqf1NS\n",
              "tpKiWOWBy/F49vckSe/v26HiqpOG0wAAANgbZR64iLyTh/XX0l3yczi0iFUeuGxZfeI1K36YWiyX\n",
              "luZy7TwAAMCVoMwDF/Fs2yp/w5AsDY2KNZwGsLf2df69ou06WM06DwAAcLko88B3KDh1RH8pKZBD\n",
              "rPJAdxgVO0gzBqa2rvM5XDsPAABwuSjzwHf4dpXPVEp0nOE0gHdof+78e0XfqLT6lOE0AAAA9kSZ\n",
              "By6g4FSZ/nQwXw5xB3ugO42JG6xpA1LUbLm0NHed6TgAAAC2RJkHLmBJTusNuq5LTNewXn0NpwG8\n",
              "S/s6/7u923So5rThNAAAAPbTLWU+NTW1Oz4M4DF2nz6qj4t3SpIWZc02nAbwPmP7JmpK/2Q1Wy69\n",
              "wDoPAABwyfy7emBubu4F31ddXd0tYQBPsWRH6yp/7eB0jYjpZzgN4J0ez56tjWVF+u+92/RI5kwN\n",
              "DI82HQkAAMA2ulzms7OzlZiYKMuyznnfyZM8Xgjeo7CiXB+1rfKPZbPKA+4yvt8QTeqXpM1H9+ul\n",
              "nev07xNvMh0JAADANrr8Y/aDBw/Wxo0bdeDAgXPe+vblemJ4jyU5a2TJ0jUJI5UW0990HMCrPT6q\n",
              "9bnz7xR+pSNnKg2nAQAAsI8ul/kbbrhB+/fvP+/7rrvuum4LBJhUVHFMq/e3XlLyOKs84HYT+yVp\n",
              "Qr8hanS16KWd60zHAQAAsI0ul/klS5ZoypQp533fsmXLui0QYFL7Kn91QppG9h5gOg7gEx7P/nad\n",
              "P1pbZTgNAACAPfBoOqDN/srj+vBAjiTpMe5gD/SYSf2SNK5vohpamvUSd7YHAADoEso80GZJzhq5\n",
              "LEvfHzRCGX0Gmo4D+AyHw9FxWctvCreqnHUeAADgoijzgKT9lSf0h/07JHEHe8CEKf2TdVXcYDW0\n",
              "NOvlnetNxwEAAPB4lHlA0tLc1lV+VvwwZfWJNx0H8Dlnr/Nv7flSx2qrDScCAADwbJR5+LziqpN6\n",
              "f98OSd/eiAtAz5s2IEWjYxPU0NKsZXms8wAAAN+FMg+ftzR3jVosl2YMTNWo2EGm4wA+6+x1/s3d\n",
              "X+pEXY3hRAAAAJ6LMg+fVlJ9Su8VbZfEKg94ghkDU5XdZ5DqW5q0LO9z03EAAAA8FmUePm1p7lq1\n",
              "WC5NH5CiMXEJpuMAPu/sdf6N3Vt0sp51HgAA4Hwo8/BZpdWn9Pu9X0tilQc8SfuNKOuam7Q8b4Pp\n",
              "OAAAAB6JMg+f9ULuOjVbLk0dkKyr+g42HQdAm7PX+dd3bdGp+jOGEwEAAHgeyjx80uGaCv2uiFUe\n",
              "8FSz44cro/dA1TY3akU+6zwAAMDfo8zDJ72Qu1ZNrhZN7j9U4/ommo4D4O84HA49ljVLkrSyYLNO\n",
              "s84DAAB0QpmHzzlSU6F3926TpI4f5QXgeX6QkKaRMf11prlRv87faDoOAACAR6HMw+e8uHOdmlwt\n",
              "mtBviCb0SzIdB8AFOBwOPdb2DbfXdm3W6YZaw4kAAAA8B2UePuXImUq9U/iVJK6VB+zg6oQ0jejV\n",
              "TzVNDXqFdR4AAKADZR4+5aWd69ToatH4vomaxCoPeDw/h9+363zBJlU21BlOBAAA4Bko8/AZR2ur\n",
              "Oq3yDofDcCIAXfHDwSM1LLqvqpsa9GrBJtNxAAAAPAJlHj7j5Z3r1dDSrLFxgzW5/1DTcQB0kZ/D\n",
              "r+Nmla8WbFRVY73hRAAAAOZR5uETymur9PaeLyWxygN2dG1iulKj41TZWK/XWOcBAAAo8/ANy/I+\n",
              "V0NLs8bEJmjqgGTTcQBcIj+HnxZlta7zv87fqGrWeQAA4OMo8/B6x+uq9dbutlV+FKs8YFc/SsxQ\n",
              "clSsKhvrtHLXZtNxAAAAjKLMw+st2/m56luaNCp2kKYPSDEdB8Blcvp9u86vyN+omqYGw4kAAADM\n",
              "oczDq52oq9Ebu7+QJD2WNZtVHrC5G4ZkamhUrCoaavU66zwAAPBhlHl4tWV5rat8Vp94zYofZjoO\n",
              "gCvk9PPTo1mzJEnL8zboDOs8AADwUZR5eK2T9TV6Y/cWSdLj2azygLe4cUimhkT20emG2o6fvAEA\n",
              "APA1lHl4rRV5G1XX3KTM3gM1O3646TgAuom/n1OLsmZKkpbnfa7apkbDiQAAAHoeZR5e6XT9mY7r\n",
              "aR9jlQe8zk1J2UqM6K2T9Wf0Jus8AADwQZR5eKUV+Rt1prlR6TED9P1BI0zHAdDN/P2cerRtnV+W\n",
              "97nqmlnnAQCAb6HMw+ucbqjteAY1qzzgvX48dJQGR8ToRH2N3tr9pek4AAAAPYoyD6/zStvzp9Ni\n",
              "+uvqhDTTcQC4SYCfUw9ntq7zL+etZ50HAAA+hTIPr1LRUKvXCjZJ4rnygC+4JXm0BoX30vG6Gv1m\n",
              "z1bTcQAAAHoMZR5e5ZWCTapuatDwXv10zWBWecDbnb3Ov7RzveqamwwnAgAA6BmUeXiNyoa6s1b5\n",
              "WfJz8D9vwBf8JHm0BoZF61hdtX5byDoPAAB8A20HXuPVgk2qaqzXsOi+ujYx3XQcAD0k0OmvR85a\n",
              "5+tZ5wEAgA9wa5nfu3evJk2apNTUVI0dO1b5+fkXPNayLM2aNUvR0dHujAQvVdVYr1cLNkqSFrHK\n",
              "Az7n1pQxGhAWpfLaKr27d5vpOAAAAG7n1sazYMECzZ8/X4WFhXryySc1d+7cCx777LPPaujQoe6M\n",
              "Ay+2smCTKhvrlRIVp+sSM0zHAdDDAp3+HdfOv5i7Tg0tzYYTAQAAuJfbyvyxY8e0bds23XnnnZKk\n",
              "OXPmqLS0VEVFReccm5+frw8++ED/9E//dNGP29DQoKqqqk5vLS0t3Z4f9lHdWK8V+W2rfPYsOf1Y\n",
              "5QFf9NOUq9Q/NEpltZX6b9Z5AADg5dzWekpLS9W/f3/5+/tLkhwOhxISElRSUtLpuKamJt1///1a\n",
              "vny5nE7nRT/u008/raioqE5vW7dywyNf9vquLapsrFNyVKyuT8w0HQeAIUFOfz2UOUOS9ELuWtZ5\n",
              "AADg1YxPmL/61a908803a8SIEV06/qmnnlJlZWWnt3Hjxrk5JTxVTVODludvkCQ9msUqD/i621Ku\n",
              "Ut/QSB05U6nf7/3adBwAAAC3cVvzGTRokMrKytTc3LqMWJalkpISJSQkdDpu/fr1Wrp0qRITEzVl\n",
              "yhRVVVUpMTFRx48fP+/HDQoKUmRkZKe3riz68E6v79qiioZaJUX20Y1DskzHAWBYsH+AHsyYLkla\n",
              "mrtWjazzAADAS7mtzMfFxWn06NF6++23JUmrVq1SfHy8kpOTOx23YcMGHTx4UMXFxdq4caMiIyNV\n",
              "XFys2NhYd0WDlzjT1KDleZ9LYpUH8K07UscpLiRCh89U6PdF35iOAwAA4BZubT/Lly/X8uXLlZqa\n",
              "qmeeeUYrV66UJM2bN0+rV692518NH/DG7i90uqFWiRG9dVMSqzyAViFnrfMv5K5Vk4ubpAIAAO/j\n",
              "784PPmzYMG3ZsuWc33/llVfOe3xiYqIqKircGQleorap8axVfqb8/bjUAsC3fjZsvF7cuU6lNaf1\n",
              "XtE3uj11rOlIAAAA3YqfS4Ytvbn7C52sP6PBETG6eego03EAeJgQ/wA9kN527XwO6zwAAPA+lHnY\n",
              "Tl1zo5a1rfKPZLLKAzi/u4aPV5/gcJXUnNIf9m03HQcAAKBbUeZhO2/v+VIn6muUEB6jOcmjTccB\n",
              "4KFC/AO1MH2aJGlJzlo1s84DAAAvQpmHrdQ1N+nlna2r/MNZMxTAKg/gO9w9fIJ6B4fpYPVJfbB/\n",
              "h+k4AAAA3YYyD1v5zZ4vdayuWvHh0bplKKs8gO8WGhCoBazzAADAC1HmYRv1zU16eed6SdLDmTMV\n",
              "6HTrwxgAeIl7hk9Qr6BQHag6oQ8P5JqOAwAA0C0o87CN3xZuVXldtQaGRevW5DGm4wCwibCAIC1I\n",
              "nypJej5njVpcLsOJAAAArhxlHrZQ39ykFztW+Rms8gAuydwRkxQdFKp9lce1mnUeAAB4Aco8bOHd\n",
              "vdtUXlul/qFRujXlKtNxANhMeECQ5o+cIklakvMZ6zwAALA9yjw8XkNLs17MXSdJeihzhoJY5QFc\n",
              "hp+PmKSowBAVVR7XR8U7TccBAAC4IpR5eLz/3rtNZbWV6hsaqdtY5QFcpojAYN1/1jrvsljnAQCA\n",
              "fVHm4dEaW5r1Qu5aSdJDGdMV7B9gOBEAO7s3bbKiAoNVWHFMnxTnmY4DAABw2Sjz8Gi/K/paR85U\n",
              "qm9IhO5IHWc6DgCbiwwM1n1prev8sztY5wEAgH1R5uGxzl7lH2CVB9BN7kubrIiAIO2pKNefDuab\n",
              "jgMAAHBZKPPwWO/t+0aHaioUFxKhnw0bbzoOAC8RFRSie9MmS5KeY50HAAA2RZmHR2pytWhpTvsq\n",
              "P00hrPIAutG8kVMUHhCkXaeP6i8lBabjAAAAXDLKPDzSqqJvVFpzWn2Cw3UnqzyAbtYrKFT3jpgk\n",
              "qXWdtyzLcCIAAIBLQ5mHx2lytWhp27XyC9OnKcQ/0HAiAN7o/pFTFOYfqPxTZfor6zwAALAZyjw8\n",
              "zh/2bdfB6lPqHRymu4dPMB0HgJfqFRymn6e1rvPPss4DAACboczDozS7WrSk7Vr5BenTFBrAKg/A\n",
              "feaPnKpQ/0DlnTqiT0t3mY4DAADQZZR5eJQP9u/QweqTigkK0z2s8gDcLCY4THNHTJQkPZezhnUe\n",
              "AADYBmUeHqPF5epY5eenT1VYQJDhRAB8wYL0qQrxD1DOiUNac2iP6TgAAABdQpmHx/jwQI4OVJ1Q\n",
              "dFBox1IGAO7WOzhc9wxv/f8crp0HAAB2QZmHR2hd5ddIkhaMnKpwVnkAPWhh+jQFOwO040Sp1h0u\n",
              "NB0HAADgoijz8Ah/LM7VvsrjigoMYZUH0OP6hITr7uHjJbHOAwAAe6DMw7gWl0tLdrSu8vNHTlFE\n",
              "YLDhRAB80cL06Qpy+uub4yX6/Mhe03EAAAC+E2Uexn1cvFN7K48pKjBYP0+bbDoOAB8VFxqhu4ax\n",
              "zgMAAHugzMMol/XttfL3pU1RJKs8AIMeyGhd57cdO6iNZUWm4wAAAFwQZR5GfVKcpz0V5YoMDNZ9\n",
              "rPIADOsbGqmfpY6TxDoPAAA8G2Uexrgsl57d8Zkk6d60yYoKCjGcCACkBzNnKMjpr63lxdp8dL/p\n",
              "OAAAAOdFmYcxfz5YoD0V5YoICNI8VnkAHqJfaKRuTx0rSXp2x6eG0wAAAJwfZR5GuCyXnsv5dpWP\n",
              "Dgo1nAgAvvVgxgwF+jn1xdED2sI6DwAAPBBlHkb8tWSXCk6VKTwgSPNGTjEdBwA6GRAW9e06v511\n",
              "HgAAeB7KPHqcZVl6ru1a+Z+PmKRerPIAPNCDGTMU4OfU5qP79eXRA6bjAAAAdEKZR4/7W+ku5Z06\n",
              "ojD/QM1nlQfgoQaGR+unKVdJUsfNOgEAADwFZR49yrKsjn8Uzx0xSb2CwwwnAoALezizdZ3fWFak\n",
              "r8qLTccBAADoQJlHj/rs0G7tPHlYIf4Bmp/OKg/As8WH99JPksdIYp0HAACehTKPHnP2Kn/P8Inq\n",
              "HRxuOBEAXNwjmTPk7/DT50f26utjB03HAQAAkESZRw9ac2iPck4cUoh/gBamTzMdBwC6ZFBEjG5J\n",
              "Hi1JWsw6DwAAPARlHj3i7FX+7mET1CeEVR6AfTySNVNOh5/WHy7UN8dLTMcBAACgzKNnrD+yVztO\n",
              "lCrYGaCFGazyAOxlcERv3ZI8SpI6Hq0JAABgEmUebmdZlp7d/qkk6a7h4xUbEmE4EQBcukcyZ8np\n",
              "8NOaQ3u043ip6TgAAMDHUebhdhuOFOnr4yUKcvrrgfTppuMAwGVJjOytHydlS5Key2GdBwAAZlHm\n",
              "4Vat18q3rvJ3DhuvuFBWeQD29WjWLPk5HPq0dLdyTxwyHQcAAPgwyjzcalPZPn117GDrKp/BKg/A\n",
              "3pKi+uim9nWea+cBAIBBlHm4zdmr/B2p49QvNNJwIgC4cova1vm/lu5S3snDpuMAAAAfRZmH22w+\n",
              "ul9flhcr0M/JKg/AawyNitUNQ7IkqeORmwAAAD2NMg+3aV/lb08dqwFhUYbTAED3WZQ1Sw459JeS\n",
              "AhWcOmI6DgAA8EGUebjFlqP79cXRAwrwc+qhjBmm4wBAt0qJjtMNQzIlSc/tWGM4DQAA8EWUebhF\n",
              "+42hbku5SgPCo82GAQA3WJTdus5/cjBPu04dNR0HAAD4GMo8ut3W8mJtKtunAD+nHs6caToOALhF\n",
              "anRf/SgxQ5K0hOfOAwCAHkaZR7drv1b+1uQxGsgqD8CLLcqeJUn6uDhPe06XG04DAAB8CWUe3Wpb\n",
              "+UFtOFIkf4efHs6cYToOALjV8F79dO3gdFmyWOcBAECPosyjW7Wv8j9JGaNBETGG0wCA+z2WPVuS\n",
              "9McDO1VYwToPAAB6BmUe3ebrYyVaf2Sv/B1+eoRr5QH4iLSY/romYWTbOs+d7QEAQM+gzKPbtK/y\n",
              "c5JHK4FVHoAPebxtnV+9P1dFFccMpwEAAL6AMo9usf14qdYdLpSTVR6ADxrZe4CuTkhjnQcAAD2G\n",
              "Mo9u0b7K3zw0W4mRvQ2nAYCe91hW6zr/4YEc7a88bjgNAADwdpR5XLEdx0u15tAe+TkceiRzluk4\n",
              "AGBERp+B+v6gEXJZlp7PWWs6DgAA8HKUeVyx9h8p/XFStpKi+hhOAwDmtF87/4f9O3Sg6oThNAAA\n",
              "wJtR5nFFdp44rL+V7pKfw6FFWazyAHxbZp94zY4frhbLpaWs8wAAwI0o87giz+V8Jkm6cUiWkqJi\n",
              "DacBAPPanzu/at92FVedNJwGAAB4K8o8Llv+ySP6S0mBHGKVB4B2o2IHacbA1NZ1Ppd1HgAAuAdl\n",
              "Hpft2R2tq/wNSZlKjo4znAYAPMfj2d+TJK0q+kYl1acMpwEAAN6IMo/LUnCqTH8uyWeVB4DzGBOX\n",
              "oOkDUtTMOg8AANyEMo/L8lzbKv+jxAylRvc1nAYAPE/7Ov/7vV+rlHUeAAB0M8o8LtmuU0f1ycE8\n",
              "SdKibFZ5ADifq/oO1tQByWq2XHohd53pOAAAwMtQ5nHJlrTdwf66xAwN79XPcBoA8Fzt6/zvir7W\n",
              "4ZoKs2EAAIBXoczjkuw5Xa6Pi1tX+ceyZhtOAwCebVzfRE3uP1RNrha9uHOd6TgAAMCLUOZxSZ7P\n",
              "WSNLln44eKRGxLDKA8DFPN723Pl3C7/SkTOVhtMAAABvQZlHl+2tOKbVB3IlffuPUwDAd5vQL0kT\n",
              "+yWp0dWiF7l2HgAAdBPKPLpsSdsqf3VCmtJiBpiOAwC28VjbN0DfKdyqMtZ5AADQDSjz6JJ9lce1\n",
              "+kCOJFZ5ALhUk/olaXzfRDW6WvTSzvWm4wAAAC9AmUeXLMlZI5dl6QeDRii990DTcQDAVhwOR8ed\n",
              "7X9buFVHa6sMJwIAAHZHmcdF7a88rg/275D07Y+KAgAuzeT+QzU2brAaWpr1Mus8AAC4QpR5XNTz\n",
              "OWvlsizNjh+uzD7xpuMAgC2dvc6/vedLlbPOAwCAK0CZx3c6UHVCf2hb5blWHgCuzNQByRoTm6CG\n",
              "lmYty/vcdBwAAGBjlHl8p6U5a9ViuTRz4DBlxw4yHQcAbM3hcOjxUa3r/Fu7v9TxumrDiQAAgF25\n",
              "tczv3btXkyZNUmpqqsaOHav8/PxzjlmzZo3GjRuntLQ0jRw5Ur/4xS/kcrncGQtddLD6pFbt2y5J\n",
              "enwUqzwAdIfpA1I0KnaQ6luatCxvg+k4AADAptxa5hcsWKD58+ersLBQTz75pObOnXvOMb169dK7\n",
              "776rgoICff3119q8ebPefPNNd8ZCF7Wv8tMHpmp0bILpOADgFc6+dv7N3Vt0oq7GcCIAAGBHbivz\n",
              "x44d07Zt23TnnXdKkubMmaPS0lIVFRV1Om7UqFFKSkqSJAUHBys7O1vFxcXuioUuKq0+pfeKvpEk\n",
              "PcG18gDQrWYOTFVWn3jVNTdpOes8AAC4DG4r86Wlperfv7/8/f0ltS4RCQkJKikpueCfOXr0qN57\n",
              "7z396Ec/uuAxDQ0Nqqqq6vTW0tLS7fl93dLcdWq2XJo2IEVj4gabjgMAXqV1nW/9Rukbu7foVP0Z\n",
              "w4kAAIDdeMwN8KqqqnT99dfrF7/4ha666qoLHvf0008rKiqq09vWrVt7MKn3O1RzWr/bu00Sd7AH\n",
              "AHeZHT9cmb0Hqra5kXUeAABcMreV+UGDBqmsrEzNzc2SJMuyVFJSooSEc6+9rq6u1jXXXKMbb7xR\n",
              "TzzxxHd+3KeeekqVlZWd3saNG+eWz8FXvdC2yk/pn6yxfRNNxwEAr+RwOPRY2zdMX9+1WadZ5wEA\n",
              "wCVwW5mPi4vT6NGj9fbbb0uSVq1apfj4eCUnJ3c6rqamRtdcc42uueYa/cu//MtFP25QUJAiIyM7\n",
              "vTmdTrd8Dr7ocE2F/rttlX8se5bhNADg3b4/aITSYwboTHOjVuRvNB0HAADYiFt/zH758uVavny5\n",
              "UlNT9cwzz2jlypWSpHnz5mn16tWSpCVLlmjr1q16//33lZ2drezsbP37v/+7O2PhO7y4c52aXC2a\n",
              "2C9JE/olmY4DAF7t7HV+5a7NOt1QazgRAACwC4dlWZbpEFfqiSee0OLFi03HsL0jZyo15b3/o0ZX\n",
              "i353zf2a1H+o6UgA4PUsy9LVq59XwakyLcqapf9n9A9MRwIAADbgMTfAg3kv5q5To6tF4/sOocgD\n",
              "QA9xOBx6LKt1nX+tYJMqWOcBAEAXUOYhSSo7U6l3ClufCsBz5QGgZ10zOE3De/VTdVODXi3YZDoO\n",
              "AACwAco8JEkv71yvRleLxvVNZJUHgB7m5/DruHb+1YJNqmyoM5wIAAB4Oso8VF5bpd+0rfKPZ8+W\n",
              "w+EwnAgAfM+1g0dqWHRfVTXW67VdrPMAAOC7Ueahl3euV0NLs66KG6wp/ZMv/gcAAN3Oz+GnRVmt\n",
              "jwR9JX+jqhrrDScCAACejDLv447VVuutPV9KYpUHANOuS8xQSlScKhvrtZJr5wEAwHegzPu4ZXmt\n",
              "q/zo2ARNG5BiOg4A+DSnn58WZbeu8yvyN6qadR4AAFwAZd6HHa+r1pu7W1f5x1jlAcAjXJ+YqeSo\n",
              "WFU21un1XVtMxwEAAB6KMu/DluVtUH1Lk7L6xGvmwFTTcQAAal3nH227dn55/gbVNDUYTgQAADwR\n",
              "Zd5Hnair0Zu7WxefJ7K/xyoPAB7kxiFZSorso4qGWr3BOg8AAM6DMu+jVuRvUF1z6yo/K36Y6TgA\n",
              "gLN0WufzNugM6zwAAPg7lHkfdKr+TMd1mI9lzWKVBwAPdFNSlhIjeutUwxm9ufsL03EAAICHocz7\n",
              "oBX5G1Tb3KiM3gP1vUEjTMcBAJyHv59Tj2bNlCQty/tctU2NhhMBAABPQpn3Mafrz2hlwWZJrPIA\n",
              "4OluHjpKgyNidLL+jN7awzoPAAC+RZn3Mb/O36gzzY0aGdNfP0hIMx0HAPAd/P2ceiSzdZ1/eefn\n",
              "qmtmnQcAAK0o8z7kdEOtXtvVtsrzXHkAsIU5yaOVEB6jE/U1envPl6bjAAAAD0GZ9yGv5G9UTVOD\n",
              "hvfqp6tZ5QHAFgL8nHo4a4ak9nW+yWwgAADgESjzPqKioVavFWyS1LrK+zk49QBgF7cMHa348Ggd\n",
              "q6vWb1jnAQCAKPM+49WCTapuatCw6L66dvBI03EAAJcg0OmvhzuunV+vetZ5AAB8HmXeB1Q21OlV\n",
              "VnkAsLVbk8doYFi0yuuq9U7hV6bjAAAAw2h1PmDlrs2qaqxXanScrktMNx0HAHAZWtf5GZKkF3eu\n",
              "U0NLs9E8AADALMq8l6turNev8zdKkhZlscoDgJ3dmnKV+odG6Whtld5lnQcAwKfR7Lzcyl2bVdlY\n",
              "p+SoWP0oMcN0HADAFQhy+uuhtnX+hVzWeQAAfBll3ovVNDVoxVmrvNOP0w0AdndbylXqGxqpstpK\n",
              "/W7vNtNxAACAIbQ7L/b6rs2qaKjV0KhY3TAk03QcAEA3CPYP0EMZ0yW1rvONrPMAAPgkyryXOtPU\n",
              "oOV5GyRJj2bNYpUHAC9yR+o49Q2J0OEzFfpd0dem4wAAAANoeF7q9V1bdLqhVokRvXUjqzwAeJVg\n",
              "/wA90LHOr2WdBwDAB1HmvdDZq/yirFny93MaTgQA6G4/GzZecSEROlRToff2fWM6DgAA6GGUeS/0\n",
              "5u4vdKrhjAZH9NaPh2abjgMAcIMQ/wA9kDFNkvRCzjo1uVoMJwIAAD2JMu9l6pobtSzvc0nSo1kz\n",
              "WeUBwIvdOWy8YkPCVVJzSu/v2246DgAA6EGUeS/z1u4vdbL+jBLCY3Tz0FGm4wAA3CjEP1AL01vX\n",
              "+edz1qqZdR4AAJ9Bmfcidc2NejlvvSTpkayZCmCVBwCvd9ewCeodHKaD1Sf1h307TMcBAAA9hDLv\n",
              "RX6zZ6uO19VoUHgv3ZI82nQcAEAPCA0I1IK2dX5JzhrWeQAAfARl3kvUNTfppZ2tq/zDmazyAOBL\n",
              "7hk+QTFBYSquPqkP9ueYjgMAAHoAZd5L/LZwq47VVWtgWLR+wioPAD4lLCBI89OnSpKez1mjFpfL\n",
              "cCIAAOBulHkvUH/WKv9I5kwFOv0NJwIA9LS5IyYqOihU+6tO6MMDrPMAAHg7yrwXeKfwK5XXVql/\n",
              "aJR+kjLGdBwAgAHhAUFaMLJ1nV/COg8AgNejzNtcQ0uzXty5TpL0cOYMBbHKA4DPmjtioqICQ7Sv\n",
              "8rj+WJxrOg4AAHAjyrzNvVv4lY7WVqlfaKRuSx1rOg4AwKCIwGDNHzlFkrRkxxq5LNZ5AAC8FWXe\n",
              "xhpamvVC7jpJ0kMZrPIAAOnnaZMVFRisvZXH9HFxnuk4AADATSjzNvb7vV+rrLZSfUMjdTurPABA\n",
              "UmRgsOa1rfPP7fiMdR4AAC9FmbepxpZmLc1dK0l6MGO6gv0DDCcCAHiKe0dMVmRgsPZUlOuTg/mm\n",
              "4wAAADegzNvU74u+0eEzFYoLidAdqeNMxwEAeJCooBDdmzZZEus8AADeijJvQ02uFr1w1iofwioP\n",
              "APg789ImKyIgSLtPH9WfDxaYjgMAALoZZd6G3iv6RqU1pxUbEq6fDWOVBwCcKzoo9Nt1Pod1HgAA\n",
              "b0OZt5kmV4uW5rSu8gvTpynEP9BwIgCAp5o3corCA4JUcKpMfy3ZZToOAADoRpR5m3l/33aV1JxS\n",
              "7+Aw3TVsguk4AAAP1isoVD8fMUlS67XzlmUZTgQAALoLZd5Gml0tev6sVT40gFUeAPDd5o+cojD/\n",
              "QOWdOqJPS1nnAQDwFpR5G/nDvh06WH1SMUFhumf4RNNxAAA20Cs4THPb1vlnWecBAPAalHmbaHa1\n",
              "6Pm2O9gvSJ/KKg8A6LIF6VMV6h+o3JOHtebQHtNxAABAN6DM28SHB3J1oOqEegWFau4IVnkAQNfF\n",
              "BIfp7uGt91lZvONT1nkAALwAZd4GWlwuPZ+zRlLruhIWEGQ4EQDAblqfgBKgnBOHtPZwoek4AADg\n",
              "ClHmbWD1gVztqzyu6KDQjuseAQC4FH1CwnV321NQnmWdBwDA9ijzHq7F5dKSnM8ktd6ROJxVHgBw\n",
              "mRZmTFOwM0Dbj5dq/ZG9puMAAIArQJn3cB8V71RR5XFFBQZ3PCsYAIDLERsSobuGj5ckPbuddR4A\n",
              "ADujzHswl/XtKj9v5BRFBAYbTgQAsLsH0qcryOmvr4+XaMORItNxAADAZaLMe7CPi/NUWHFMkYHB\n",
              "unfEZNNxAABeIC40QncOa1vnuXYeAADbosx7KJfl0nM7Wlf5+9ImKyooxHAiAIC3eCCjdZ3/6thB\n",
              "bS7bZzoOAAC4DJR5D/Wng/naU1GuiIAg3ZfGKg8A6D79QiN1R+o4SdLitm8cAwAAe6HMe6CzV/l7\n",
              "0yYrOijUcCIAgLd5IGO6Av2c+rL8AOs8AAA2RJn3QH8pKdCu00cVHhCkeSOnmI4DAPBCA8KidHvq\n",
              "WEnSs6zzAADYDmXew1iW9e0qP2KSerHKAwDc5KGMGQrwc2rL0f364uh+03EAAMAloMx7mL+WFCj/\n",
              "VJnC/AN1P6s8AMCNBoRH67aUqySxzgMAYDeUeQ9iWVbHP6Z+njZJvYLDDCcCAHi7hzNnKsDPqU1l\n",
              "+7S1vNh0HAAA0EWUeQ/yaeku5Z06olD/QM0fOdV0HACADxgYHq1bk8dIan3uPAAAsAfKvIc4e5W/\n",
              "Z/hExbDKAwB6yMOZM+Tv8NOGI0XaVn7QdBwAANAFlHkPsebQHuWePKwQ/wAtzGCVBwD0nEERMfpJ\n",
              "Sts6n8O18wAA2AFl3gNYlqXFbT/aePfwieodHG44EQDA1zySOVP+Dj+tP1yob46XmI4DAAAugjLv\n",
              "AdYdLlTOiUMKdgZoYTqrPACg5yVExGhO8mhJ0rPbWecBAPB0lHnDzr5W/u7h4xUbEmE4EQDAVz2S\n",
              "OVNOh5/WHt6j7cdLTccBAADfgTJv2OdH9uqb4yUKcvprYfp003EAAD4sMbK3bh6aLUl6jufOAwDg\n",
              "0SjzBp29yt81bLziQlnlAQBmPZI5S34Ohz47tFs5Jw6ZjgMAAC6AMm/QxrIibTt2UEFOfz2QwSoP\n",
              "ADAvKaqPfpyULYl1HgAAT0aZN+TsVf5nqePUNzTScCIAAFotympd5/9Wuks7Txw2HQcAAJwHZd6Q\n",
              "zWX7tLW8WIF+TlZ5AIBHSYqK1Y1DsiRJz/HceQAAPBJl3pDFbav87anj1D8synAaAAA6W5Q1Sw45\n",
              "9JeSAuWfPGI6DgAA+DuUeQM2l+3Tl+UHFOjn1EOZM0zHAQDgHMnRcbohKVMS6zwAAJ6IMm9A+w2F\n",
              "bksdqwGs8gAAD9W+zv/pYL4KTpWZjgMAAM5Cme9hXx49oM1H9yvAz6mHMmaYjgMAwAWlRvfVjxIz\n",
              "JElLctYYTgMAAM7m1jK/d+9eTZo0SampqRo7dqzy8/PPe9yrr76qlJQUDR06VPfff7+amprcGcuo\n",
              "9jvY/zTlKg0MjzYbBgCAi1iUPUuS9HHxTu0+fdRwGgAA0M6tZX7BggWaP3++CgsL9eSTT2ru3Lnn\n",
              "HHPgwAH98pe/1IYNG1RUVKTy8nKtWLHCnbGM+aq8WBvLihTg59TDXCsPALCB4b366br2dX4H6zwA\n",
              "AJ7C310f+NixY9q2bZv++te/SpLmzJmjhx9+WEVFRUpOTu447r333tMNN9ygfv36SZIWLlyo//iP\n",
              "/9BDDz103o/b0NCghoaGTr/X0tLips+ie7Wv8j9JHqP48F6G0wAA0DWPZc3Wx8U79cfiXP1xZa7p\n",
              "OAAAXJZnJv1Ydw4bbzpGt3HbMl9aWqr+/fvL37/1+wUOh0MJCQkqKSnpdFxJSYkGDx7c8evExMRz\n",
              "jjnb008/raioqE5vW7dudc8n0Y0qGmp1sPqU/B1+eoRVHgBgIyNi+umnKWNMxwAAAGdx2zLvLk89\n",
              "9ZSeeOKJTr/3y1/+0lCarosOCtX6m5/Q9uOlGhQRYzoOAACX5L8m36L/96pr5bIs01EAALgsYQFB\n",
              "piN0K7eV+UGDBqmsrEzNzc3y9/eXZVkqKSlRQkJCp+MSEhK0b9++jl8XFxefc8zZgoKCFBTU+SQ4\n",
              "nc7uDe8m/n5Oje2baDoGAACXzOFwKCY4zHQMAADQxm0/Zh8XF6fRo0fr7bffliStWrVK8fHxna6X\n",
              "l1qvpV+9erWOHj0qy7K0bNky3Xbbbe6KBQAAAACA7bn1bvbLly/X8uXLlZqaqmeeeUYrV66UJM2b\n",
              "N0+rV6+WJCUlJelXv/qVJk+erOTkZMXGxmrBggXujAUAAAAAgK05LMv+F7898cQTWrx4sekYAAAA\n",
              "AAD0CLcu8wAAAAAAoPtR5gEAAAAAsBnKPAAAAAAANkOZBwAAAADAZijzAAAAAADYDGUeAAAAAACb\n",
              "ocwDAAAAAGAzlHkAAAAAAGyGMg8AAAAAgM1Q5gEAAAAAsBnKPAAAAAAANkOZBwAAAADAZijzAAAA\n",
              "AADYDGUeAAAAAACbocwDAAAAAGAzlHkAAAAAAGzGYVmWZTrElbr55puVmJhoOsZFtbS0aOvWrRo3\n",
              "bpycTqfpOLgIzpf9cM7shfNlL5wv++Gc2Qvny144X/Zix/M1ePBgLVq06DuP8YoybxdVVVWKiopS\n",
              "ZWWlIiMjTcfBRXC+7IdzZi+cL3vhfNkP58xeOF/2wvmyF289X/yYPQAAAAAANkOZBwAAAADAZijz\n",
              "AAAAAADYDGW+BwUFBelf//VfFRQUZDoKuoDzZT+cM3vhfNkL58t+OGf2wvmyF86XvXjr+eIGeAAA\n",
              "AAAA2AzLPAAAAAAANkOZBwAAAADAZijzAAAAAADYDGXeDfbu3atJkyYpNTVVY8eOVX5+/nmPe/XV\n",
              "V5WSkqKhQ4fq/vvvV1NTUw8nhdS187Vu3TqFhIQoOzu7462urs5AWjz66KNKTEyUw+HQjh07Lngc\n",
              "ry/P0JXzxevLc9TX1+umm25SamqqsrKy9P3vf19FRUXnPfajjz7S8OHDlZKSoptvvllVVVU9nBZS\n",
              "189ZcXGxnE5np9fZvn37DCTGD37wA2VmZio7O1tTp07V9u3bz3scX8c8Q1fOF1/HPM/KlSvlcDj0\n",
              "wQcfnPf9XvM1zEK3mzlzprVy5UrLsizr97//vXXVVVedc8z+/fut/v37W2VlZZbL5bKuv/5664UX\n",
              "XujhpLCsrp2vtWvXWllZWT0bDOe1fv16q7S01Bo8eLC1ffv28x7D68tzdOV88fryHHV1ddbHH39s\n",
              "uVwuy7Isa+nSpdb06dPPOa66utqKi4uzdu3aZVmWZT300EPWP/7jP/ZkVLTp6jk7cOCAFRUV1bPh\n",
              "cF6nT5/u+O/333/fyszMPOcYvo55jq6cL76OeZYDBw5YEydOtCZMmGD94Q9/OOf93vQ1jGW+mx07\n",
              "dkzbtm3TnXfeKUmaM2eOSktLz/ku+XvvvacbbrhB/fr1k8Ph0MKFC/XOO++YiOzTunq+4DmmTZum\n",
              "+Pj47zyG15fn6Mr5gucIDg7WtddeK4fDIUmaMGGCiouLzznuT3/6k0aNGqXhw4dLkh588EFeY4Z0\n",
              "9ZzBc0RHR3f8d2VlZce5OxtfxzxHV84XPIfL5dK8efO0dOnSCz6Gzpu+hlHmu1lpaan69+8vf39/\n",
              "SZLD4VBCQoJKSko6HVdSUqLBgwd3/DoxMfGcY+B+XT1fkrRv3z6NHj1aY8eO1UsvvdTTUXEJeH3Z\n",
              "D68vz7RkyRLdeOON5/z++V5jZWVlam5u7sl4OI8LnTNJOnPmjMaOHavRo0frf/7P/6mWlpYeTod2\n",
              "d999twYNGqRf/vKXeuutt855P1/HPMvFzpfE1zFPsXjxYk2ePFljxoy54DHe9DXM33QAwA5Gjx6t\n",
              "Q4cOKSoqSocOHdK1116rPn366NZbbzUdDbA9Xl+e6T/+4z9UVFSkzz77zHQUdNF3nbP+/fvr8OHD\n",
              "iouL06lTp/TTn/5U//f//l/94he/MJAUb775piTpjTfe0JNPPqlPPvnEcCJ8l4udL76OeYa8vDyt\n",
              "WrVKn3/+uekoPYZlvpsNGjSo03d2LMtSSUmJEhISOh2XkJCggwcPdvy6uLj4nGPgfl09X5GRkYqK\n",
              "ipIkxcfH6/bbb9eGDRt6PC+6hteXvfD68jz/9V//pffff19/+tOfFBoaes77z/caO/unnNDzLnbO\n",
              "goKCFBcXJ0mKiYnRvffey+vMA9xzzz1au3atTp482en3+TrmmS50vvg65hk2bNig4uJipaSkKDEx\n",
              "UV988YXmz5+vl19+udNx3vQ1jDLfzeLi4jR69Gi9/fbbkqRVq1YpPj5eycnJnY6bM2eOVq9eraNH\n",
              "j8qyLC1btky33Xabicg+ravnq6ysTC6XS5JUXV2tjz76SKNGjerxvOgaXl/2wuvLsyxevFjvvPOO\n",
              "/va3v3W6VvRs11xzjb755hvt3r1bkvTSSy/xGjOoK+fs2LFjHXdDb2ho0Pvvv8/rzICKigodOXKk\n",
              "49cffPCBevfurZiYmE7H8XXMM3T1fPF1zDM88MADKisrU3FxsYqLizVhwgStWLFCDzzwQKfjvOpr\n",
              "mNHb73mp3bt3WxMmTLBSUlKsMWPGWLm5uZZlWdZ9991nffjhhx3HrVixwkpKSrKSkpKse++912ps\n",
              "bDQV2ad15XwtXbrUSktLszIzM620tDTrX//1XzvuHIyeNX/+fGvgwIGW0+m04uLirKFDh1qWxevL\n",
              "U3XlfPH68hylpaWWJCspKcnKysqysrKyrHHjxlmWZVm//OUvrZdffrnj2A8//NAaNmyYNXToUOvG\n",
              "G2+0KioqTMX2aV09Z6tWrbJGjhzZ8Tp7+OGHrfr6epPRfVJxcbE1duxYKz093crMzLRmz57d8aQP\n",
              "vo55nq6eL76Oeabp06d33M3eW7+GOSzLskx/QwEAAAAAAHQdP2YPAAAAAIDNUOYBAAAAALAZyjwA\n",
              "AAAAADZDmQcAwMdkZ2erurr6kv/cLbfcotdff737AwEAgEtmv4fpAQCAK7Jjxw7TEQAAwBVimQcA\n",
              "wMc4HA5VVFRIkhITE/U//sf/0MSJEzVkyBD927/9W8dxu3fv1qRJkzRy5EjddNNNqqqq6nhfdXW1\n",
              "7r//fo0bN06ZmZmaP3++GhsbtWfPHsXHx2v//v2SpP/6r//SNddc0/EMZgAA0D0o8wAA+LiKigpt\n",
              "2bJFX331lf7zP/9Thw8fliTddddduu+++5Sfn6//9b/+l9avX9/xZ/7hH/5BU6dO1datW5WTkyOX\n",
              "y6UlS5Zo2LBh+s///E/deuutWrdunV588UW99dZb8vPjnxwAAHQnfsweAAAfd8cdd0iS+vTpo6Sk\n",
              "JB04cEARERHasWOH5s6dK0nKyMjQlClTOv7MBx98oC1btmjx4sWSpLq6OjmdTknS7bffrrVr1+rq\n",
              "q6/WZ599ptjY2J79hAAA8AGUeQAAfFxwcHDHfzudTjU3N5/3OIfD0fHflmVp1apVSk1NPee45uZm\n",
              "5eXlKSYmpmPlBwAA3YufeQMAAOeIjIzUqFGj9Oabb0qS8vPztXHjxo7333TTTfrf//t/dxT/06dP\n",
              "q6ioSJL0T//0Txo2bJg2bNigf/zHf+z4fQAA0H0o8wAA4LzefPNNrVixQunp6fqXf/kXTZs2reN9\n",
              "zz77rEJCQpSdna3MzEzNnj1bxcXF+uijj/TnP/9ZL774opKTk7V48WLdeuutqq+vN/iZAADgfRyW\n",
              "ZVmmQwAAAAAAgK5jmQcAAAAAwGYo8wAAAAAA2AxlHgAAAAAAm6HMAwAAAABgM5R5AAAAAABshjIP\n",
              "AAAAAIDNUOYBAAAAALAZyjwAAAAAADZDmQcAAAAAwGYo8wAAAAAA2Mz/D5A3U872KpqmAAAAAElF\n",
              "TkSuQmCC\n",
              "\">\n",
              "      </div>\n",
              "      <script type=\"text/javascript\">\n",
              "        (() => {\n",
              "          const chartElement = document.getElementById(\"chart-6923d66d-cfd4-4079-a475-a01059ac11ea\");\n",
              "          async function getCodeForChartHandler(event) {\n",
              "            const chartCodeResponse =  await google.colab.kernel.invokeFunction(\n",
              "                'getCodeForChart', [\"chart-6923d66d-cfd4-4079-a475-a01059ac11ea\"], {});\n",
              "            const responseJson = chartCodeResponse.data['application/json'];\n",
              "            await google.colab.notebook.addCell(responseJson.code, 'code');\n",
              "          }\n",
              "          chartElement.onclick = getCodeForChartHandler;\n",
              "        })();\n",
              "      </script>\n",
              "      <style>\n",
              "        .colab-quickchart-chart-with-code  {\n",
              "            display: block;\n",
              "            float: left;\n",
              "            border: 1px solid transparent;\n",
              "        }\n",
              "\n",
              "        .colab-quickchart-chart-with-code:hover {\n",
              "            cursor: pointer;\n",
              "            border: 1px solid #aaa;\n",
              "        }\n",
              "      </style>"
            ]
          },
          "metadata": {}
        },
        {
          "output_type": "display_data",
          "data": {
            "text/plain": [
              "from matplotlib import pyplot as plt\n",
              "import seaborn as sns\n",
              "def _plot_series(series, series_name, series_index=0):\n",
              "  from matplotlib import pyplot as plt\n",
              "  import seaborn as sns\n",
              "  palette = list(sns.palettes.mpl_palette('Dark2'))\n",
              "  xs = series['index']\n",
              "  ys = series[2]\n",
              "  \n",
              "  plt.plot(xs, ys, label=series_name, color=palette[series_index % len(palette)])\n",
              "\n",
              "fig, ax = plt.subplots(figsize=(10, 5.2), layout='constrained')\n",
              "df_sorted = _df_10.sort_values('index', ascending=True)\n",
              "_plot_series(df_sorted, '')\n",
              "sns.despine(fig=fig, ax=ax)\n",
              "plt.xlabel('index')\n",
              "_ = plt.ylabel(2)"
            ],
            "text/html": [
              "      <div class=\"colab-quickchart-chart-with-code\" id=\"chart-d171f392-d6c4-4220-9ffe-e53dd4146900\">\n",
              "        <img style=\"width: 180px;\" src=\"data:image/png;base64,iVBORw0KGgoAAAANSUhEUgAAA/MAAAITCAYAAABLz0yVAAAAOXRFWHRTb2Z0d2FyZQBNYXRwbG90\n",
              "bGliIHZlcnNpb24zLjcuMSwgaHR0cHM6Ly9tYXRwbG90bGliLm9yZy/bCgiHAAAACXBIWXMAAA9h\n",
              "AAAPYQGoP6dpAABYz0lEQVR4nO3deXSV9aHv/8/O3snOnBBIIJCEEDIQCEkAQUaZ2uqxrVqxVq0D\n",
              "dQAcUW5XPfZ3vGf13N6jZ/VcFHEAq2LRVltFLUftJJMgKKKQkDCEACEBwkwmMmc/vz8ykBTQANn5\n",
              "7uH9WmuvJfAQPllP051PPvt5ts2yLEsAAAAAAMBrBJgOAAAAAAAALg5lHgAAAAAAL0OZBwAAAADA\n",
              "y1DmAQAAAADwMpR5AAAAAAC8DGUeAAAAAAAvQ5kHAAAAAMDLUOYBAAAAAPAyPlHmFy1aZDoCAAAA\n",
              "AAC9xifK/IEDB0xHAAAAAACg1/hEmQcAAAAAwJ9Q5gEAAAAA8DKUeQAAAAAAvAxlHgAAAAAAL0OZ\n",
              "BwAAAADAy1DmAQAAAADwMpR5AAAAAAC8DGUeAAAAAAAvQ5kHAAAAAMDLUOYBAAAAAPAylHkAAAAA\n",
              "ALwMZR4AAAAAAC9DmQcAAAAAwMtQ5gEAAAAA8DKUeQAAAAAAvAxlHgAAAAAAL0OZBwAAAADAy7i1\n",
              "zD/yyCNKTk6WzWbTtm3bLnjcq6++qrS0NA0dOlT33Xefmpqa3BkLAAAAAACv5tYyf9NNN2nDhg0a\n",
              "PHjwBY/Zv3+/nnzySa1fv17FxcU6evSoXn75ZXfGAgAAAADAq7m1zF911VVKSEj4xmPeffddXXfd\n",
              "dRowYIBsNpvmzZunt95664LHNzQ0qKqqqsujpaWlp6MDAIBOlu/6XLf89RUdq602HQUAAMgDrpkv\n",
              "LS3tstwnJyertLT0gsc/9dRTioqK6vLYvHlzb0QFAMAvHa2t0q82f6gN5cV6Nm+V6TgAAEAeUOYv\n",
              "1hNPPKHKysouj3HjxpmOBQCAz1pS8KkaWpolSW8XfanDZyoNJwIAAMbLfFJSkg4cONDx65KSEiUl\n",
              "JV3weKfTqcjIyC4Pu93eG1EBAPA7x+uq9cauLyRJA0Ij1ehq0Yvb1xrNBAAAPKDMz5o1SytXrtSR\n",
              "I0dkWZaWLFmiW265xXQsAAAgacn2T1Xf0qTRsUlaNOVmSdJbRV/qSG2V4WQAAPg3t5b5uXPnKiEh\n",
              "QQcPHtTVV1+t1NRUSdK9996rlStXSpJSUlL0q1/9SpMmTVJqaqpiY2M1d+5cd8YCAADdcKKuRr/b\n",
              "9bkk6bHcmZoYP1Tj+ieroaVZL+avNRsOAAA/Z7MsyzId4nItWLBACxcuNB0DAACf8usvP9aSgk+V\n",
              "2y9R//ODB2Sz2bT+8B7d+rdX5bQ7tPGmX6h/aKTpmAAA+CXjL7MHAACe52R9jX63a5Ok1lXeZrNJ\n",
              "kibHp+qKuMFqaGnWS9vXmYwIAIBfo8wDAIBzLC1Yr7rmJuX0S9CMhIyO37fZbHosd6Yk6Y3dX/C+\n",
              "8wAAGEKZBwAAXZyqP6PXd7au8o/mzOhY5dtdNTBNo2IT1dDSrCUFrPMAAJhAmQcAAF28XLhetc2N\n",
              "Gtl3kL6TmHnOn7eu89+RJC3f9YWO17HOAwDQ2yjzAACgw+n6M1q2Y6Ok86/y7aYPSldOvwTVtzRp\n",
              "ScH63owIAABEmQcAAJ28suMznWlu1IiYeH0vafgFj7PZbFrQsc5v0sn6mt6KCAAARJkHAABtKhpq\n",
              "9dqOzyRJj3a6g/2FzEjIUE6/BNU1N2kp6zwAAL2KMg8AACS1rvLVTQ3K7DNAV3/DKt/OZrPp0ZwZ\n",
              "kqTXd27Sqfoz7o4IAADaUOYBAIAqG+q6rPIBtu59i/CdxEyN7DtItc2NermQdR4AgN5CmQcAAHp1\n",
              "x2eqaqxXRnR//cvgEd3+e53X+WU7Nuo06zwAAL2CMg8AgJ+raqzXqzs2SJIeu4hVvt33koZreEy8\n",
              "zjQ36reFG9wREQAA/BPKPAAAfu61HZ+psrFe6dFxujY566L/fus6P7P1Y+3cqNMNtT0dEQAA/BPK\n",
              "PAAAfqy6sb5jTZ+fc/GrfLtrBg/XsD4DVNPUoFdY5wEAcDvKPAAAfmzZzo2qbKxTalSsfpA88pI/\n",
              "ToAtQI/mtq3zOz5TBes8AABuRZkHAMBP1TQ16OVOq7w94PK+Lbh28AhlRPdXdVODXtuxsSciAgCA\n",
              "C6DMAwDgp17fuUkVDbUaGhWr64ZkX/bH67zOv7pjg6oa6y/7YwIAgPOjzAMA4IfONDVoacGnkqRH\n",
              "cmZc9irf7vvJWUqPjlNlY33H+9YDAICeR5kHAMAP/W7X5zrdUKshkf10fQ+s8u0CbAGa33Zn+98W\n",
              "blA16zwAAG5BmQcAwM/UNjV2rPLzc6bLEWDv0Y//g+SRSo2KVWVjnZbt5Np5AADcgTIPAICfWb7r\n",
              "c52sP6PkiL66ISW3xz++PeDsOv9y4QbVNDX0+L8BAIC/o8wDAOBH6pobtaTjWvmeX+XbXTckWymR\n",
              "/VTRUKvXWecBAOhxlHkAAPzIG7u+0In6GiWFx+hHQ0e57d+xBwTokZwZkqSlBet1hnUeAIAeRZkH\n",
              "AMBP1DU36qWCdZKkh3OmK9BNq3y7G1JylBzRV6cbavX6zk1u/bcAAPA3lHkAAPzE73dv1vG6GiWG\n",
              "99FNqaPd/u85AuyazzoPAIBbUOYBAPADdc1NenF76yr/ULb7V/l2Pxqaq8ERfXWq4Yze2PVFr/yb\n",
              "AAD4A8o8AAB+4K2izTpWV61BYdH6cS+s8u0cAXY9kjNdkrSk4FPVNTf22r8NAIAvo8wDAODj6pub\n",
              "9ELbKv9w9nQF2R29+u/fOHSUksJjdKK+hnUeAIAeQpkHAMDHvb1ni47WVmlgWJRuThvT6/9+YIBd\n",
              "D7et8y8VrGOdBwCgB1DmAQDwYQ0tzXohf62k1mvle3uVb3dT6mglhvfR8boa/X73ZiMZAADwJZR5\n",
              "AAB82B/3bFF5baUGhEbqJ2lXGMsRGGDXQ9mt6/yL29eprrnJWBYAAHwBZR4AAB/V0NKs5/PXSJIe\n",
              "HDlNTkOrfLsfp47WoLBoHaur1h+KWOcBALgclHkAAHzUO3u+0uEzleofGqlb08eajqMgu0MPZU+T\n",
              "1LrO17POAwBwySjzAAD4oMaWZi1uW+UfGDlVwY5Aw4la3Zx2heJDo3S0tkpvFX1pOg4AAF6LMg8A\n",
              "gA96d+/XOnSmQnEhEbotfZzpOB2cndb5F7avVUNLs9E8AAB4K8o8AAA+psnVosV5Z1f5EA9Z5dvd\n",
              "kj5WA0IjdaS2Sn/cs8V0HAAAvBJlHgAAH7Oi+GuV1ZxWbEi4fppxpek453DaHXpw5DRJ0vP5a1jn\n",
              "AQC4BJR5AAB8SJOrpeNa+fuzPG+Vb3dr+lj1D43U4TOVemfPV6bjAADgdSjzAAD4kPf3btWB6lPq\n",
              "FxyuO4Z53irfLtgRqAdGTpUkLc5fo0bWeQAALgplHgAAH9HsatGitmvl52VdpRBHkOFE3+y29HGK\n",
              "C4nQoTMVeqf4a9NxAADwKpR5AAB8xAf7tulA9UnFOMN057DxpuN8q5BO6/zz+WvU5GoxnAgAAO9B\n",
              "mQcAwAd0XuXnZk1RaKBnr/LtfpoxTrEh4SqrOa13WecBAOg2yjwAAD7gz/vztb/qhPo4QzU7c4Lp\n",
              "ON0W4gjSvKyrJEmL81jnAQDoLso8AABersXl0nN5qyW1rvJhgU7DiS7OHRnj1Tc4TKU1p/Te3q2m\n",
              "4wAA4BUo8wAAeLn/KcnX3srjinaGanbmRNNxLlpo4Nl1/rm8NWpmnQcA4FtR5gEA8GItLpcWbWtd\n",
              "5eeMmKxwL1vl2901bIJinGE6UH1SH+zbZjoOAAAejzIPAIAX+6hku/ZUHlNUUIh+5oWrfLvQwCDN\n",
              "zZoiSVrEOg8AwLeizAMA4KVclkuL2q6Vv2/EZEUEBRtOdHlmZ05QH2eo9led0J/355uOAwCAR6PM\n",
              "AwDgpT4uKdDuiqOKCgrW3cMnmY5z2cICnR3r/HN5q9XichlOBACA56LMAwDghVyWS89sWyVJumf4\n",
              "ZEV6+SrfbnbmREU7Q7W38rhWss4DAHBBlHkAALzQXw4UanfFUUUEOnX3cO+9Vv6fhQc6dV/bqwwW\n",
              "5a1inQcA4AIo8wAAeBmX5dKzbav83cMnKdoZajhRz/rZ8EmKCgpWceVxfViy3XQcAAA8EmUeAAAv\n",
              "87fSHdp5+ojCA526d8Rk03F6XGRQcMfntShvlVwW6zwAAP+MMg8AgBexLOvsKp85UX18bJVvd3fm\n",
              "JEUGBauo4pg+KikwHQcAAI9DmQcAwIv8o2ynCk+VK8wRpPt8cJVvF+UM0T1t184/u411HgCAf0aZ\n",
              "BwDAS1iW1XEH+58Nn6g+wWGGE7nXPcMnKSLQqd0VR/WXA4Wm4wAA4FEo8wAAeIlVB3dp+8lDCnUE\n",
              "ac6IKabjuF20M1R3s84DAHBelHkAALxA51V+duYExfj4Kt/u3hGTFR7o1M7TR/S30h2m4wAA4DEo\n",
              "8wAAeIHVB3cr78RBhTgCNTfL91f5dn2cobo7c6Kk1nXesizDiQAA8AyUeQAAPFznVf6uYRPUNzjc\n",
              "cKLedd+IyQpzBKnwVLn+zjoPAIAkyjwAAB5v7aEibTtRpmC7f63y7foEh2l22zr/DOs8AACSKPMA\n",
              "AHi0zqv8ncOuVGxIhOFEZszNmqJQR5AKTh3WJ2U7TccBAMA4yjwAAB7s08N79PXxUjntDs3Lmmo6\n",
              "jjExwWG6a9gESazzAABIlHkAADxW51X+jowrFRfqn6t8u3kjpyjEEaj8k4e0+uBu03EAADCKMg8A\n",
              "gIf6rHyvthw7IKfdoftH+u8q365vcLjuZJ0HAEASZR4AAI/Uusp/Ikn6afo49Q+NNJzIM8zLmqJg\n",
              "e6C2nSjT2kNFpuMAAGAMZR4AAA+08cg+fXG0RE67Qw9kTzMdx2PEhkTozmFXSmKdBwD4N8o8AAAe\n",
              "qH2VvzV9rAawyncxL2uqnHaHvj5eqk8P7zEdBwAAIyjzAAB4mE1H9unzI/sVFGDXAyOnmY7jceJC\n",
              "I3RHBus8AMC/UeYBAPAwz2xtXeVvSR+rgWFRhtN4pnkjW9f5LccOaEN5sek4AAD0Oso8AAAe5Isj\n",
              "+7XxyD4FBtj1IKv8BQ0IjdRt6eMksc4DAPwTZR4AAA/S/r7yP0m7QoPCo82G8XAPjJyqoAC7Nh8t\n",
              "0cbyvabjAADQqyjzAAB4iC+PlmhDebECA+x6iDvYf6v4sCjd2rbOL2z7IQgAAP6CMg8AgId4tq2Q\n",
              "/jh1jBLC+xhO4x0ezJ6moAC7vji6X5uO7DMdBwCAXkOZBwDAA3x1rFTrDu+Rwxagh1nlu21gWJRu\n",
              "SR8r6eyNAwEA8AeUeQAAPED7+8rflDpaiRExhtN4lwdHTlNggF0bj+zTF0f2m44DAECvoMwDAGDY\n",
              "1uNlWnuoSHZbgB7OmW46jtcZFB6tn6RdIensDQQBAPB1lHkAAAw7u8qP0uCIvobTeKeHslvX+Q3l\n",
              "xfryaInpOAAAuB1lHgAAg7YdL9Pqg7tbV/nsGabjeK2E8D76ceoYSazzAAD/4NYyv2fPHk2cOFHp\n",
              "6ekaO3asCgsLzznG5XJpwYIFGj58uLKzszV9+nQVFxe7MxYAAB7j2bzW4vmjlFwlR7LKX46HsqfJ\n",
              "YQvQp4f36KtjB0zHAQDArdxa5ufOnas5c+aoqKhIjz/+uGbPnn3OMStXrtRnn32mvLw85efna+bM\n",
              "mfrlL3/pzlgAAHiE/BMH9UnZLgXYbHokh1X+ciVFxGhW6mhJvO88AMD3ua3MHzt2TFu2bNHtt98u\n",
              "SZo1a5bKysrOWd1tNpsaGhpUX18vy7JUVVWlhIQEd8UCAMBjtL+v/A0puUqJ6mc4jW94JGe67LYA\n",
              "rTtUpK+Pl5qOAwCA27itzJeVlSk+Pl4Oh0NSa2lPSkpSaWnXJ9Yf/vCHmjZtmgYMGKD4+HitWrVK\n",
              "//Ef/3HBj9vQ0KCqqqouj5aWFnd9GgAAuEXByUP6e9lOBdhsms8q32MGR/TVrKGjJJ39YQkAAL7I\n",
              "+A3wtmzZooKCAh06dEiHDx/WzJkzNW/evAse/9RTTykqKqrLY/Pmzb2YGACAy/fsttWSpOuG5Gho\n",
              "VKzhNL7l4bZ1fvXB3dp2vMx0HAAA3MJtZT4xMVHl5eVqbm6WJFmWpdLSUiUlJXU5bvny5ZoxY4ai\n",
              "o6MVEBCgu+66S2vWrLngx33iiSdUWVnZ5TFu3Dh3fRoAAPS4HafK9dfSQtnEKu8OQyL76UcpuZLO\n",
              "3mAQAABf47YyHxcXp9GjR+vNN9+UJK1YsUIJCQlKTU3tclxKSopWr16txsZGSdKHH36orKysC35c\n",
              "p9OpyMjILg+73e6uTwMAgB7X/vLv64ZkKy06znAa3/RIzgwF2Gz6pGyX8k8cNB0HAIAe59aX2S9d\n",
              "ulRLly5Venq6nn76aS1btkySdO+992rlypWSpAcffFBDhgxRTk6OsrOztWrVKr300kvujAUAgDE7\n",
              "Tx3RxwcKWlf5XFZ5d0mJ6qcb2td5rp0HAPgghzs/eEZGhjZt2nTO77/yyisd/+10OvXb3/7WnTEA\n",
              "APAYi9pe9v2D5JFKj+5vOI1vm58zQ+/v3aa/l+1UwclDyuo7yHQkAAB6jPEb4AEA4C92nz6qj0oK\n",
              "JIn3le8FQ6NidV1KtiTpGdZ5AICPocwDANBLFuWtkiVL1w7OUmbMANNx/MKjOTNlk01/K92hHacO\n",
              "m44DAECPocwDANALiiqO6n/2b5ckPZo703Aa/5EWHacfDhkpiXUeAOBbKPMAAPSCRXmrZcnSNUkj\n",
              "NDwm3nQcvzK/bZ3/y4FC7ThVbjoOAAA9gjIPAICbFVcc08p9+ZKkx1jle11Gn/76fnLr294+l7fa\n",
              "cBoAAHoGZR4AADd7Ln+NLFm6Omm4RvQdaDqOX5qf0/pDlI9KCrT79FHDaQAAuHyUeQAA3Ghf5XF9\n",
              "sG+bpNabscGMzJgBunZwlixZHW8PCACAN6PMAwDgRs/lrZHLsvTdxEyN7Mf7nJvUfuPB/9m/XUUV\n",
              "rPMAAO9GmQcAwE32V53Q+22rPNfKmzc8Jl7XJI1oW+e5dh4A4N0o8wAAuMnivDVqsVyamTBM2f0S\n",
              "TMeBzv5QZeW+fBVXHDOcBgCAS0eZBwDADUqqTmrF3q2SeF95TzKi70B9LzGTdR4A4PUo8wAAuMHi\n",
              "/NZVftqgdI2KTTQdB520/3Dlz/vztK/yuOE0AABcGso8AAA9rLT6lFYUfy1Jeiz3O4bT4J9l90vQ\n",
              "dxKHyWWxzgMAvBdlHgCAHvZ8/lo1Wy5NHZimMXFJpuPgPNp/yPL+vm3aX3XCcBoAAC4eZR4AgB50\n",
              "sOa0/rRniyRWeU+W0y9BMxIy5LIsLc5bYzoOAAAXjTIPAEAPal/lpwxM1RX9B5uOg2/Q/sOWFXu3\n",
              "qqTqpOE0AABcHMo8AAA95FBNhf7IKu81RsUmatqgdLVYLi3OZ50HAHgXyjwAAD3khe1r1eRq0aT4\n",
              "oRrXP9l0HHRDxzpf/LVKq08ZTgMAQPdR5gEA6AGHz1Tq7aIvJUmP8b7yXmNMXJKmDkxTM+s8AMDL\n",
              "UOYBAOgBL+SvVaOrReMHDNH4ASmm4+AitL/v/Dt7vlIZ6zwAwEtQ5gEAuEzlZyr1VtFmSVwr743G\n",
              "9k/W5PhUNVsuPZ+/1nQcAAC6hTIPAMBlenH7OjW6WnRl/2RNZJX3Su2XRvyp+CsdqqkwGwYAgG6g\n",
              "zAMAcBmO1FbpD51WeZvNZjgRLsWVA4Zo4oAUNbla9DzXzgMAvABlHgCAy7Bk+zo1tDRrbNxgTYof\n",
              "ajoOLsNjo1ovkXh7zxYdZp0HAHg4yjwAAJfoWG213tj9hSRWeV8wYUCKxg8YoiZXi17Yvs50HAAA\n",
              "vhFlHgCAS7SkoHWVHxObpCkDU03HQQ9ov4HhW0WbVX6m0nAaAAAujDIPAMAlOF5XreW72lb5Uazy\n",
              "vmLigBRd2T9Zja4Wvcg6DwDwYJR5AAAuwZKC9apvadKo2ERNHZhmOg56iM1m61jn/1C0WUdqqwwn\n",
              "AgDg/CjzAABcpBN1NVq+a5Mk6dGcmazyPmZS/FBdETdYDS3Neol1HgDgoSjzAABcpKUF61XX3KSc\n",
              "fgmakZBhOg56WOs63/q+82/u/kJHWecBAB6IMg8AwEU4VX9Gv2tb5R/LZZX3VVcNTNPo2CQ1tDRr\n",
              "ScGnpuMAAHAOyjwAABdhacF61TY3KrvvIM1MGGY6Dtyk8zr/xq4vdLyu2nAiAAC6oswDANBNp+vP\n",
              "6PWdGyVJj7LK+7xpg9KV2y9R9S1NWlKw3nQcAAC6oMwDANBNvy3coDPNjcqKGajvJmaajgM367zO\n",
              "L9+1SSfqagwnAgDgLMo8AADdcLqhVq+xyvudGQkZyumXoLrmJi1lnQcAeBDKPAAA3fBK4QbVNDVo\n",
              "eEy8rk4abjoOeknndf53uzbpVP0Zw4kAAGhFmQcA4FtUNNTqtR2fSeJ95f3RzIRhyu47SLXNjazz\n",
              "AACPQZkHAOBbvLrjM1U3NWhYnwG6ZjCrvL+x2Wx6tG2df33nRp1mnQcAeADKPAAA36CyoU6vdqzy\n",
              "MxRg46nTH303MVMjYuJ1prlRLxduMB0HAADKPAAA3+S1nZ+pqrFeGdH9dW1yluk4MKTzOr9s50ad\n",
              "bqg1nAgA4O8o8wAAXEBVY71eaVth57PK+72rk4Yrs88A1TQ1dPzvAgAAU/iuBACAC1i24zNVNtYr\n",
              "LSpO308eaToODAuwBXSs86/t+EwVrPMAAIMo8wAAnEdNU0PHtdHzc2fIHsBTJqR/GTxCGdH9Vd3U\n",
              "0HEvBQAATOA7EwAAzuP1nRtV2Vin1KhY/TA523QceIgAW0DH+86/uuMzVTbUGU4EAPBXlHkAAP7J\n",
              "maaGjvcTfySHVR5dXZucpYzo/qpqrNdrO1nnAQBm8N0JAAD/5PWdm3S6oVYpkf10/ZAc03HgYQJs\n",
              "AZqfM0OS9ErhBlU11htOBADwR5R5AAA6YZVHd3w/eaTSouJU2VivZVw7DwAwgO9QAADoZPmuz3Wq\n",
              "4YySI/rqhhRWeZyfPSBAj7St8y8XblA16zwAoJdR5gEAaFPb1KglBZ9Kkh7JmS5HgN1wIniy64Zk\n",
              "a2hUrCob6/T6zk2m4wAA/AxlHgCANm/s/lwn689ocESMbhw6ynQceLjO6/zSwvWqaWownAgA4E8o\n",
              "8wAASKprbtRL21tX+YezWeXRPdcPydaQyH6qaKhlnQcA9CrKPAAAkn6/e7NO1NcoKTxGs1JHm44D\n",
              "L+EIsGt+znRJ0ssF63WGdR4A0Eso8wAAv1fX3KQXt6+TJD2UM02BrPK4CDek5Co5oq9ONZzR8l2f\n",
              "m44DAPATlHkAgN/7Q9FmHaurVkJ4tG4ayiqPi+MIsOuRtnV+ScGnqm1qNJwIAOAPKPMAAL9W33mV\n",
              "z56uILvDcCJ4oxuHjtLgiBidrD+jN3azzgMA3I8yDwDwa28VfamjtVUaFBatm1PHmI4DL+UIsOvh\n",
              "7NZ1/qXtn6qumXUeAOBelHkAgN9qaGnWC9vXSpIeyp7GKo/LMit1tBLD++hEfY3e3P2F6TgAAB9H\n",
              "mQcA+K23i77UkdoqxYdG6ea0K0zHgZcLDLDroS7rfJPhRAAAX0aZBwD4pYaWZj2fv1aS9GD2NDlZ\n",
              "5dEDfpw6WoPConWsrlq/Z50HALgRZR4A4Jf+tGeLymsr1T80UrewyqOHBNkdna6dX6d61nkAgJtQ\n",
              "5gEAfqex8yo/cqqCHYFmA8Gn3Jw2RgPDonS0rlp/KNpsOg4AwEdR5gEAfued4q916EyF+odE6Lb0\n",
              "cabjwMcE2R0d186/wDoPAHATyjwAwK80uVr0fP4aSdL9rPJwk5+kXaH40Cgdra3SH/dsMR0HAOCD\n",
              "KPMAAL/ybvHXKqs5rbiQCP0040rTceCjnHaHHsyeJkl6Pn+tGlqazQYCAPgcyjwAwG80uVq0OK99\n",
              "lb9KIazycKNb0q5Q/9BIlddW6k+s8wCAHkaZBwD4jff2blVpzSn1Cw7X7azycLNgR6AeHDlVUus6\n",
              "38g6DwDoQZR5AIBfaHa16Lm2VX5e1lUKcQQZTgR/cGv6OMWFROjQmQr9qfgr03EAAD6EMg8A8Avv\n",
              "792mA9Un1Tc4THcOG286DvxEiCNQD3Ss82tY5wEAPYYyDwDwec2uFi3KWy1Jmpt1lUIDWeXRe36a\n",
              "caViQ8J1sKZC7+792nQcAICPoMwDAHzeB/vyVFJ9UjHOMN3FKo9eFuII1P1Zrev84rw1anK1GE4E\n",
              "APAFlHkAgE9rcbn0XNsqPydrisICnYYTwR/dMexK9QsOV1nNaa0oZp0HAFw+yjwAwKet3J+vfVUn\n",
              "FO0M1ezMCabjwE+FOII0L+sqSdLi/DVqZp0HAFwmyjwAwGe1uFxalLdKkjR3xBSFs8rDoDuHjVff\n",
              "4DAdqD6l9/duMx0HAODlKPMAAJ/1Ycl2FVceV1RQCKs8jAsNDNLctnV+Ud5q1nkAwGWhzAMAfJLL\n",
              "OrvKzxkxWRFBwYYTAdJdw8YrxhmmkuqT+mBfnuk4AAAvRpkHAPikj0oKVFRxTFFBwfrZ8Emm4wCS\n",
              "pLBAp+ZkTZEkPZe3Wi0ul+FEAABvRZkHAPgcl+XSs9taV/l7hk9WJKs8PMjszAmKdoZqX9UJ/Xk/\n",
              "6zwA4NJQ5gEAPufjA4XaXXFUkUHBuodVHh4mPNCpOSMmS2q9dp51HgBwKSjzAACf0nmVv3v4JEU5\n",
              "QwwnAs71s8yJigoK0d7K4/qfknzTcQAAXsitZX7Pnj2aOHGi0tPTNXbsWBUWFp73uO3bt2vatGnK\n",
              "zMxUZmam3nvvPXfGAgD4sL8e2KFdp48oItCpe1nl4aEigoJ1X/s6v411HgBw8dxa5ufOnas5c+ao\n",
              "qKhIjz/+uGbPnn3OMbW1tbr++uv161//Wjt37lRBQYGmTJnizlgAAB9lWZaezTu7ykc7Qw0nAi7s\n",
              "7uGTFBUUrD2Vx/TxgQLTcQAAXsZtZf7YsWPasmWLbr/9dknSrFmzVFZWpuLi4i7H/eEPf9D48eM1\n",
              "eXLrT6ftdrtiY2Mv+HEbGhpUVVXV5dHSwvu0AgCkv5fu0I5T5QoPdOrettUT8FSt93Ro/d/ps9tW\n",
              "yWWxzgMAus9tZb6srEzx8fFyOBySJJvNpqSkJJWWlnY5bseOHXI6nfrBD36g3Nxc3XnnnTp+/PgF\n",
              "P+5TTz2lqKioLo/Nmze769MAAHgJy7L0TNu18j/LnKg+rPLwAvcMn6TIoGDtrjiqjw+c/3JEAADO\n",
              "x/gN8Jqbm/XJJ59o6dKl2rp1qwYNGqT777//gsc/8cQTqqys7PIYN25cLyYGAHiiT8p2quDUYYU5\n",
              "gjruFA54uihniO5uu7cD6zwA4GK4rcwnJiaqvLxczc3NkloXk9LSUiUlJXU5LikpSdOnT9egQYNk\n",
              "s9l0++236/PPP7/gx3U6nYqMjOzysNvt7vo0AABeoPMqPztzovoEhxlOBHTfvcMnKTzQqV2nj+iv\n",
              "B3aYjgMA8BJuK/NxcXEaPXq03nzzTUnSihUrlJCQoNTU1C7H3Xzzzfryyy9VVVUlSfr444+Vk5Pj\n",
              "rlgAAB+0+uBu5Z88pBBHoOZkscrDu0Q7Q3V35kRJ0rN5rPMAgO5x68vsly5dqqVLlyo9PV1PP/20\n",
              "li1bJkm69957tXLlSkmty/wvf/lLTZw4UdnZ2Vq9erWWLFnizlgAAB9iWZYWbvtEknTXsAnqGxxu\n",
              "OBFw8e4bMVlhjiDtOFWuv5fuNB0HAOAFbJZlWaZDXK4FCxZo4cKFpmMAAAxYfXC37vzHMoU4ArXp\n",
              "psfVL4QyD+/09Fd/1fP5a5UVM1B/ue5h2Ww205EAAB7M+A3wAAC4VK3Xyreu8ndmjKfIw6vNGTFF\n",
              "oY4gFZw6rH+Usc4DAL4ZZR4A4LXWHd6jrcfLFGwP1LyRV5mOA1yWmOAwzc6cIEl6Ztsq+cCLJwEA\n",
              "bkSZBwB4Jcuy9MzW1lX+jmFXKjYkwnAi4PLNzZqiEEegtp88pNUHd5uOAwDwYJR5AIBX2lBerK+O\n",
              "l8ppd+j+rKmm4wA9om9wuO4a1rrOL9z2Ces8AOCCKPMAAK/T+X3lb8+4UnGhrPLwHfOyrlKII1B5\n",
              "Jw5qzaEi03EAAB6KMg8A8Doby/dq89GS1lV+JKs8fEu/kHDdmTFekvQM6zwA4AIo8wAAr7OwbZW/\n",
              "LX2cBoRGGk4D9Lx5I6+S0+7Q1uNlWnd4j+k4AAAPRJkHAHiVjeV79cXR/QoKsLPKw2fFhkTojowr\n",
              "JUnPbGWdBwCcizIPAPAq7dfK35o+VgPDogynAdzn/pFT5bQ79NXxUq0/XGw6DgDAw1DmAQBe4/Mj\n",
              "+7TpyD4FBtj14MhppuMAbtU/NFI/TR8niWvnAQDnoswDALxG+yp/S9oVGhgebTYM0AseyJ4mp92h\n",
              "L48d0Gfle03HAQB4EMo8AMArbD5aos/K9yowwK6HsqebjgP0igGhkbo1fayksz/MAgBAoswDALzE\n",
              "s21F5ubUMRrEKg8/8sDIaQoKsOuLo/u1kXUeANCGMg8A8HhfHTugTw/vkcMWoIeyp5mOA/SqgWFR\n",
              "rPMAgHNQ5gEAHq/9feV/nDZGiRExhtMAve/BkdMUGGDXpiP79PmRfabjAAA8AGUeAODRvj5eqnWH\n",
              "imS3BehhrpWHnxoYHq1b0q6QxDoPAGhFmQcAeLRntrYWl5tSRymJVR5+7MHs1nX+s/K92ny0xHQc\n",
              "AIBhlHkAgMfaerxMaw7tblvlZ5iOAxiVEN5HP04dI6n1fecBAP6NMg8A8Fjtd7C/cWiukiP7Gk4D\n",
              "mPdw9jQ5bAFaf7hYW44eMB0HAGAQZR4A4JHyThzUqoO7FGCzscoDbRIjYnRT6mhJrPMA4O8o8wAA\n",
              "j9S+yv8oJVcpUf0MpwE8x8M502W3BWjd4T366lip6TgAAEMo8wAAj1Nw8pD+UbZTATab5uewygOd\n",
              "DY7oq5tSR0k6+0MvAID/ocwDADxO+1tvXT8kRylRsYbTAJ7n4ewZstsCtObQbm09XmY6DgDAAMo8\n",
              "AMCj7Dh1WH8r3SGbWOWBC0mO7Ksbh+ZKYp0HAH9FmQcAeJT2Vf66lGylRscZTgN4roezZyjAZtOq\n",
              "g7uUd+Kg6TgAgF5GmQcAeIwdp8r1lwOFrPJAN6RE9dMNKbmSWOcBwB9R5gEAHmNR3mpJ0g+SRyo9\n",
              "ur/hNIDnm5/Tus7/o2yntp84ZDoOAKAXUeYBAB5h1+kj+qhkuyRpfi6rPNAdQ6Nidd2QHEnSs3ms\n",
              "8wDgTyjzAACPsGhb6yr//eSRGtZngOE0gPeYnzNDNtn0t9IdKjx52HQcAEAvocwDAIwrqjiqD9tW\n",
              "+UdzZhpOA3iXtOg4XTckW9LZG0gCAHwfZR4AYNyivNWyZOlfBo9QZgyrPHCx5ue2rvN/LS3UjlPl\n",
              "puMAAHoBZR4AYFRxxTGt3JcvSXosl1UeuBTp0f31g+SRks7eSBIA4Nso8wAAo9pX+auThmt4zEDT\n",
              "cQCv1X7jyI9KtmvX6SOG0wAA3I0yDwAwZl/lcf15f54kVnngcg3rM0Dfb1/nt7HOA4Cvo8wDAIxZ\n",
              "lLdaLsvS9xIzldV3kOk4gNebn9O6zn9Ysl1FFUcNpwEAuBNlHgBgxL7KE3p/3zZJ0qOs8kCPGB4T\n",
              "r2uSRsiSxToPAD6OMg8AMGJxfusqPzNhmLL7JZiOA/iM9ktWVu7P156KY4bTAADcpdtlfu/evZo+\n",
              "fbpSUlK0YMEC1dfXd/zZhAkT3BIOAOCbSqpO6r292yRxrTzQ00b0Hairk4a3rvPc2R4AfFa3y/wD\n",
              "Dzygm266Se+8845OnDihmTNnqrq6WpK6FHsAAL7N4vzVarFcmj4oQ7mxiabjAD7n0Zz2dT5PeyuP\n",
              "G04DAHCHbpf5Y8eO6cEHH9SYMWO0fPlyff/739fMmTNVWVkpm83mzowAAB9yoPqk3i3eKkl6bBSr\n",
              "POAOI/sN0ncTM+WyWOcBwFd1u8zX1dV1+fUvf/lL3XzzzV0WegAAvs3z+WvVYrk0dVC6RscmmY4D\n",
              "+Kz2S1g+2LdN+ypPGE4DAOhp3S7zmZmZ+utf/9rl937+85/rtttu0969e3s8GADA95RVn9I7e76S\n",
              "JC3gWnnArbL7JWhmwjC5LEuL81nnAcDXdLvMv/3225o+ffo5v79gwQKVlZX1aCgAgG96Pn+tmi2X\n",
              "rhqYpjFxg03HAXxe+zr/3t5tKqk6aTgNAKAndbvMO51OOZ3O8/7ZoEGDeiwQAMA3Haqp0J+KW1d5\n",
              "7mAP9I7c2ERNH5ShFsvFOg8APob3mQcA9Irn89eoydWiSfFDNbZ/suk4gN94tO2HZ+8Wb9WBatZ5\n",
              "APAVlHkAgNsdrqnQ23u2SGKVB3rbmLgkTR2Y1rrO560xHQcA0EMo8wAAt3th+1o1uVo0YUCKxg9I\n",
              "MR0H8DuP5X5HkvRu8dcqqz5lOA0AoCdQ5gEAbnX4TKXeKvpSEqs8YMoV/QdrysBUNVsuLc5fazoO\n",
              "AKAHUOYBAG714va1anS16Mr+QzQxfqjpOIDfal/n/7Rniw7WnDacBgBwuSjzAAC3OVJb1bHK877y\n",
              "gFnj+idrUvxQNVsuvcA6DwBejzIPAHCbl7avU0NLs8b1T2aVBzxA+6Uub+/ZosM1FWbDAAAuC2Ue\n",
              "AOAWR2ur9ObuLyS1FgibzWY4EYDxA1I0YUCKmlwtemH7WtNxAACXgTIPAHCLJQWfqqGlWVfEDdbk\n",
              "+FTTcQC0aV/n3yr6UofPVBpOAwC4VJR5AECPO15XrTd2scoDnmhi/FBd2X+IGl0tenH7WtNxAACX\n",
              "iDIPAOhxS7Z/qvqWJo2KTdRVA9NMxwHwTzqv80dqqwynAQBcCso8AKBHnair0e92fS6p9a2wWOUB\n",
              "zzMpfqjGxg1WQ0uzXuTO9gDglSjzAIAetaSgdZXP6Zeg6YPSTccBcB42m63jfed/X7RZR1nnAcDr\n",
              "UOYBAD3mZH2NfrdrkyRpAas84NGmDEzVmNgkNbQ066Xt60zHAQBcJMo8AKDHLC1Yr7rm1lV+RkKG\n",
              "6TgAvoHNZtNjo1rX+Td2f6FjtdWGEwEALgZlHgDQI07Vn9HrO1tX+UdzZrDKA15g6sA0jYpNVENL\n",
              "s5YWfGo6DgDgIlDmAQA94reFG1Tb3KiRfQfpO4mZpuMA6IbO187/btfnOlFXYzgRAKC7KPMAgMt2\n",
              "uqFWy3ZulMQqD3ib6YPSldMvQfUtTVrCOg8AXoMyDwC4bK8UblBNU4OGx8Tre0nDTccBcBFsNpsW\n",
              "dKzzm3SynnUeALwBZR4AcFkqGmr12o7PJEmP5sxklQe80IyEDGX3HaS65iYtLVhvOg4AoBso8wCA\n",
              "y/LKjs9U3dSgYX0G6JrBrPKAN7LZbHo0d6Yk6fWdm3Sq/ozhRACAb0OZBwBcssqGurOrfO5MBdh4\n",
              "WgG81XcTM5UVM1C1zY16uZB1HgA8Hd91AQAu2as7PlNVY70yovvr2sEjTMcBcBk6r/PLdmzUadZ5\n",
              "APBolHkAwCWpaqzXqzs2SGKVB3zF1UnDNTwmXmeaG/Xbwg2m4wAAvgHfeQEALsmyHZ+psrFe6dFx\n",
              "+n5yluk4AHqAzWbTozmt6/xrOzeqoqHWcCIAwIVQ5gEAF626sV4vt61283NY5QFfcs3g4RrWZ4Bq\n",
              "mhr0Sts9MQAAnofvvgAAF+31nZtU2Vin1KhY/SB5pOk4AHpQgC2g49r513Z8psqGOsOJAADnQ5kH\n",
              "AFyUmqYGLW270/X8nJmyB/BUAviaawePUEZ0/7Z7Y7DOA4An4jswAMBFeX3nJlU01Colsp+uG5Jt\n",
              "Og4AN+i8zr+6Y4OqGusNJwIA/DPKPACg2840NWhpwaeSpEdyZrDKAz7s2sFZSouKU2VjvV5jnQcA\n",
              "j8N3YQCAbvvdrs91uqFWyRF9dUNKjuk4ANzIHhCg+bkzJEm/LdygatZ5APAolHkAQLfUNjV2rPLz\n",
              "c2bIEWA3nAiAu/0wOVupUbGqbKzTsp0bTccBAHRCmQcAdMvyXZ/rZP0ZDY7oqx8NzTUdB0AvsAcE\n",
              "6JGc1nX+5cINqmlqMJwIANCOMg8A+FZ1zY1a0nGt/HRWecCPXD8kRymR/VTRUKvXWecBwGO4tczv\n",
              "2bNHEydOVHp6usaOHavCwsILHmtZlmbMmKHo6Gh3RgIAXII3d3+hE/U1SgqP0Y1DR5mOA6AXdV7n\n",
              "lxas1xnWeQDwCG4t83PnztWcOXNUVFSkxx9/XLNnz77gsc8884yGDh3qzjgAgEtQ19ykl7a3rvIP\n",
              "50xXIKs84HduSMlRckRfnW6o1e92fW46DgBAbizzx44d05YtW3T77bdLkmbNmqWysjIVFxefc2xh\n",
              "YaE++OAD/eu//uu3ftyGhgZVVVV1ebS0tPR4fgBAq9/v/kLH6qqVGN5HN6WONh0HgAGOALvmd6zz\n",
              "n6q2qdFwIgCA28p8WVmZ4uPj5XA4JEk2m01JSUkqLS3tclxTU5Puu+8+LV26VHb7t689Tz31lKKi\n",
              "oro8Nm/e7JbPAQD8XX1zk17avk6S9FA2qzzgz340NFeDI2J0sv6MlrPOA4Bxxm+A96tf/Uo33nij\n",
              "MjMzu3X8E088ocrKyi6PcePGuTklAPinPxRt1tG6ag0Ki9aPWeUBv+YIsOvh7OmSpCUFn6qumXUe\n",
              "AExyW5lPTExUeXm5mpubJbXe4K60tFRJSUldjlu3bp0WL16s5ORkTZ48WVVVVUpOTtbx48fP+3Gd\n",
              "TqciIyO7PLqz6AMALk59c5Ne6FjlpynI7jCcCIBps1JHKyk8Rifqa/TGri9MxwEAv+a2Mh8XF6fR\n",
              "o0frzTfflCStWLFCCQkJSk1N7XLc+vXrdeDAAZWUlGjDhg2KjIxUSUmJYmNj3RUNANANb+/ZoqO1\n",
              "VYoPjdLNaVeYjgPAAwQG2PVQzjRJ0ksF61jnAcAgt77MfunSpVq6dKnS09P19NNPa9myZZKke++9\n",
              "VytXrnTnPw0AuAwNLc16IX+tpNZV3skqD6DNTUNHKyE8WsfravT73dy3CABMcet3ZxkZGdq0adM5\n",
              "v//KK6+c9/jk5GRVVFS4MxIAoBv+uGeLymsrNSA0UrekjzUdB4AHCbI79FD2dP3rxvf14vZ1+mnG\n",
              "lQpxBJqOBQB+x/gN8AAAnqWhpVnP56+RJD04klUewLluTh2jQWHROlZXrT8Usc4DgAmUeQBAF+8U\n",
              "f6XDZyrVPzRSt7LKAziP1nV+miTpxe3rVN/cZDYQAPghyjwAoENjp1X+gZFTFcxLZwFcwM1pVyg+\n",
              "NEpHa6v09p4tpuMAgN+hzAMAOry792sdrKlQXEiEbksfZzoOAA/m7LTOv5C/Vg0tzWYDAYCfocwD\n",
              "ACRJTa4WLc47u8pzQysA3+aW9LEaEBqp8tpK/ZF1HgB6FWUeACBJWlH8tcpqTis2JFw/zWCVB/Dt\n",
              "nHaHHhg5VZL0fP4a1nkA6EWUeQBA6yrfdq38vKyrFOIIMpwIgLe4LX2c+odE6PCZSr2z5yvTcQDA\n",
              "b1DmAQB6f+9WHag+pb7BYbojY7zpOAC8SLAjUPe3rfOL89eokXUeAHoFZR4A/Fyzq0WL8s6u8qGB\n",
              "rPIALs5PM65UXEiEDp2p0DvFX5uOAwB+gTIPAH7ug33bdKD6pGKcYbpr2ATTcQB4oRBHoO4feZWk\n",
              "1mvnm1wthhMBgO+jzAOAH2txuTpW+blZU1jlAVyy2zOuVGxIuMpqTmsF6zwAuB1lHgD82J/352l/\n",
              "1Qn1cYZqdiarPIBLF+II0rys1nV+Mes8ALgdZR4A/FTrKr9aUusqHxboNJwIgLe7I2O8+gaH6UD1\n",
              "Kb2/d6vpOADg0yjzAOCn/qckX3srjyvaGarZmRNNxwHgA0IDz67zi/LWqJl1HgDchjIPAH6oxeXS\n",
              "om2tq/x9wycpnFUeQA+5c9h4xTjDdKD6pD7Yt810HADwWZR5APBDH5Vs157KY4oKCtbPhk8yHQeA\n",
              "DwkLdGpO1hRJrPMA4E6UeQDwMy7r7LXy946YrMigYMOJAPia2ZkTFO0M1f6qE/rz/nzTcQDAJ1Hm\n",
              "AcDPfFxSoN0VRxUZFKy7M1nlAfS88ECn5o5oXeefy1utFpfLcCIA8D2UeQDwIy7LpWe2rZIk3TN8\n",
              "kqKcIYYTAfBVszMnKCooRHsrj2sl6zwA9DjKPAD4kb8cKNTuiqOKCHTqHq6VB+BGEUHBmjNisiRp\n",
              "Ud4q1nkA6GGUeQDwEy7LpWfbVvm7h09StDPUcCIAvu5nwycpKihYxZXH9VHJdtNxAMCnUOYBwE/8\n",
              "vXSndp4+ovBAp+5tW8sAwJ0ig4I7/v9mUd5quSzWeQDoKZR5APADlmWdXeUzJ6oPqzyAXnJ35iRF\n",
              "BgVrd8VRfVxSYDoOAPgMyjwA+IF/lO1UwanDCnME6T5WeQC9KMoZ0nGPjme2rWKdB4AeQpkHAB9n\n",
              "WVbHHexnZ05Un+Aww4kA+Jt7hk9SRKBTuyuO6i8HCk3HAQCfQJkHAB+36uAubT95SKGOIM3NmmI6\n",
              "DgA/FO0M1d1t6/yzrPMA0CMo8wDgwzqv8ncNm6AYVnkAhtw7YrLCA53aefqI/la6w3QcAPB6lHkA\n",
              "8GGrD+5W3omDCnEEat5IVnkA5vRxhupnmRMlta7zlmUZTgQA3o0yDwA+qvMqf+ewCeobHG44EQB/\n",
              "N2fEZIU5glR4qlx/Z50HgMtCmQcAH7Xu8B5tO1GmYHug5nGtPAAP0Cc4TLPb1/m81azzAHAZKPMA\n",
              "4IMsy9IzWz+RJN057ErFhkQYTgQAreZmTVGoI0jbTx7SqoO7TMcBAK9FmQcAH7T+cLG+Ol4qp92h\n",
              "eVlTTccBgA4xwWG6a9gESa3vO886DwCXhjIPAD6m9Vr51lX+jowrFRfKKg/As8zNmqIQR6DyThzU\n",
              "6oO7TccBAK9EmQcAH/NZ+V59eexA6yo/klUegOfpFxKuOzPGS2KdB4BLRZkHAB/SeZW/LX2cBoRG\n",
              "Gk4EAOc3b+RVCrYHatuJMq09VGQ6DgB4Hco8APiQjUf26YujJQoKsOsBVnkAHiw2JEJ3DLtSEus8\n",
              "AFwKyjwA+JD2Vf7W9HGKD4synAYAvtn9WVPltDv09fFSfXp4j+k4AOBVKPMA4CM2Hdmnz4/sV1CA\n",
              "XQ9mTzMdBwC+VVxohG7PYJ0HgEtBmQcAH9H+vvK3pI/VQFZ5AF7i/pGt6/yWYwe0obzYdBwA8BqU\n",
              "eQDwAV8c2a+NR/YpMMCuB0dOMx0HALptQGikbksfJ4l1HgAuBmUeAHzAs3mrJEk/SbtCg8KjzYYB\n",
              "gIv0wMipCgqwa/PREm08ss90HADwCpR5APByW44e0PrDxXLYAvQQ18oD8ELxYVG6tWOd/8RwGgDw\n",
              "DpR5APBy7d/4/jhtjBLC+xhOAwCX5sGRUxUYYNfnR/ZrE+s8AHwryjwAeLGvjpVq3eE9ctgC9HD2\n",
              "dNNxAOCSDQyP1i1pV0g6e0NPAMCFUeYBwIu1r/KzUkcrKSLGcBoAuDwPZU9XYIBdG4/s0xdH9puO\n",
              "AwAejTIPAF5q6/EyrT1UJLstQI/ksMoD8H6DwqN1c+oYSa13tgcAXBhlHgC8VMcqP3SUBkf0NZwG\n",
              "AHrGQ9nT5LAFaEN5sb48WmI6DgB4LMo8AHihbcfLtPrgbtltAXqYVR6AD0mMiNGP01jnAeDbUOYB\n",
              "wAstylstSfpRSq6GRPYznAYAetbD2dPlsAXo08N79NWxA6bjAIBHoswDgJfZfuKQ/lG2UwE2mx7J\n",
              "mWE6DgD0uKSIGM1KHS2JdR4ALoQyDwBe5tm81m9sb0jJVUoUqzwA3/RIznTZbQFae6hIW4+XmY4D\n",
              "AB6HMg8AXqTw5GH9rXSHbLJpPqs8AB82OKKvZg0dJensDT8BAGdR5gHAi7S/3PS6lGwNjYo1nAYA\n",
              "3Ouh7OkKsNm0+uBubWOdB4AuKPMA4CV2nCrXX0sLZZNNj+bMNB0HANwuJaqffpSSK+nsJUYAgFaU\n",
              "eQDwEs+2rfI/HDJSadFxhtMAQO+YnzNDATabPinbpfwTB03HAQCPQZkHAC+w89QRfXygoO1aeVZ5\n",
              "AP4jJSpW1w/JkXT2h5oAAMo8AHiFRW0vL/1+cpYy+vQ3nAYAetf8nBmyyaa/l+1UwclDpuMAgEeg\n",
              "zAOAh9t9+qg+KimQJFZ5AH4pNTpO16VkS+J95wGgHWUeADzcc3mrZcnStYOzlBkzwHQcADDi0ZyZ\n",
              "ssmmv5Xu0I5Th03HAQDjKPMA4MH2VBzTyv35kqRHc1nlAfivtOg4/XDISEnSs9tWG04DAOZR5gHA\n",
              "gy1qW+WvSRqh4THxpuMAgFHtlxp9fKBAO08dMZwGAMyizAOAh9pbeVwr9+dJkh7NnWE4DQCYl9Gn\n",
              "v76f3LrOL+J95wH4Oco8AHioRXmr5bIsfS8xU1l9B5mOAwAe4dG2df6jkgLtPn3UcBoAMIcyDwAe\n",
              "aF/lcX2wb5skrpUHgM4yYwboXwaPkCWLdR6AX6PMA4AHei5vjVyWpe8kDlN2vwTTcQDAozzW9kPO\n",
              "/9m/XUUVrPMA/BNlHgA8zP6qE3q/bZV/LPc7ZsMAgAcaHjNQVycNb1vnubM9AP9EmQcAD7M4b41a\n",
              "LJdmJGQoh1UeAM6rfZ1fuS9fxRXHDKcBgN5HmQcAD3Kg+qRW7N0qiVUeAL5JVt9B+l5ipixZei5/\n",
              "jek4ANDrKPMA4EHaV/lpg9I1KjbRdBwA8GjtNwj9YN827as8bjgNAPQuyjwAeIiy6lN6t/hrSazy\n",
              "ANAd2f0S9J3EYXJZlp7LY50H4F8o8wDgIRbnr1Wz5dLUgWkaE5dkOg4AeIX2951/f9827a86YTgN\n",
              "APQeyjwAeICDNaf1pz1bJPG+8gBwMXJjEzV9UIZaLJcWs84D8COUeQDwAM+3rfKT41M1tn+y6TgA\n",
              "4FUeG9X6Q9AVe7eqpOqk4TQA0Dso8wBg2KGaCv2xbZV/jFUeAC7a6NgkTR2U3rrOc2d7AH6CMg8A\n",
              "hr2wfa2aXC2aOCBFVw4YYjoOAHilBW0/DF1R/LVKq08ZTgMA7keZBwCDDp+p1NtFX0qSHhvFHewB\n",
              "4FKNiRusqwamqZl1HoCfoMwDgEEv5K9Vo6tF4wcM0YQBKabjAIBXa79U6Z09X6mMdR6Aj6PMA4Ah\n",
              "5Wcq9VbRZkm8rzwA9ISx/ZM1OT5VzZZLL2xfZzoOALiVW8v8nj17NHHiRKWnp2vs2LEqLCw855jV\n",
              "q1dr3LhxGj58uEaMGKFf/OIXcrlc7owFAB7hpe3r1Ohq0ZX9kzWRVR4AekT7Ov/HPVt0qKbCbBgA\n",
              "cCO3lvm5c+dqzpw5Kioq0uOPP67Zs2efc0yfPn309ttva8eOHfrqq6+0ceNGLV++3J2xAMC4o7VV\n",
              "+n2nVd5msxlOBAC+4coBQzRxQIqaXC16Yfta03EAwG3cVuaPHTumLVu26Pbbb5ckzZo1S2VlZSou\n",
              "Lu5y3KhRo5SS0rpIBQcHKzc3VyUlJe6KBQAe4aXt69TQ0qwr4gZrUvxQ03EAwKc82rbOv130pQ6f\n",
              "qTScBgDcw21lvqysTPHx8XI4HJIkm82mpKQklZaWXvDvHDlyRO+++65+8IMfXPCYhoYGVVVVdXm0\n",
              "tLT0eH4AcJdjtdV6Y/cXklpfDsoqDwA9a2L8UF3Zf4gaXS16IX+t6TgA4BYecwO8qqoq/fCHP9Qv\n",
              "fvELXXHFFRc87qmnnlJUVFSXx+bNm3sxKQBcniUFrav86NgkXTUwzXQcAPBJ7e87/1bRZpWzzgPw\n",
              "QW4r84mJiSovL1dzc7MkybIslZaWKikp6Zxjq6urdc011+j666/XggULvvHjPvHEE6qsrOzyGDdu\n",
              "nFs+BwDoacfrqrV8F6s8ALjbxPihGtc/WY2uFr3Ine0B+CC3lfm4uDiNHj1ab775piRpxYoVSkhI\n",
              "UGpqapfjampqdM011+iaa67Rv/3bv33rx3U6nYqMjOzysNvtbvkcAKCnLSlYr/qWJuX2S9S0Qemm\n",
              "4wCAz7LZbB13tv9D0WYdqa0ynAgAepZbX2a/dOlSLV26VOnp6Xr66ae1bNkySdK9996rlStXSpIW\n",
              "LVqkzZs367333lNubq5yc3P1f//v/3VnLAAw4kRdjZbv2iSJVR4AesPk+FRdETdYDS3Neol1HoCP\n",
              "sVmWZZkOcbkWLFighQsXmo4BAN/oP7f8RS9uX6ecfgn68AcPUuYBoBesO1Skn/79NTntDm266XHF\n",
              "hUaYjgQAPcJjboAHAL7sVP0Zvb6TVR4AettVA9M0OjZJDS3NWlLAOg/Ad1DmAaAXvFy4XrXNjcru\n",
              "O0gzE4aZjgMAfqPztfPLd32h43XVhhMBQM+gzAOAm52uP6NlOzZKkh5llQeAXjdtULpy+yWqvqVJ\n",
              "SwrWm44DAD2CMg8Abvbbwg0609yoETHx+m5ipuk4AOB3uq7zm3SirsZwIgC4fJR5AHCj0w21em0n\n",
              "qzwAmDYjIUM5/RJU19ykpazzAHwAZR4A3OiVwg2qaWpQZp8BujppuOk4AOC3bDabHs2ZIUn63a5N\n",
              "OlV/xnAiALg8lHkAcJOKhlq9tuMzSa2rfICN/8sFAJO+k5ipkX0Hqba5kXUegNfjO0sAcJNXd3ym\n",
              "6qYGZUT3178MHmE6DgD4vc7r/Os7N+o06zwAL0aZBwA3qGyo06ttq/xjrPIA4DG+lzRcI2Lidaa5\n",
              "US8XbjAdBwAuGd9dAoAbLNu5UVWN9cqI7q9rk7NMxwEAtLHZbHq07c72y3Zu1OmGWsOJAODSUOYB\n",
              "oIdVN9brt21rz/ycGazyAOBhrk4arsw+A1TT1KBXWOcBeCm+wwSAHrZs50ZVNtYpLSpO308eaToO\n",
              "AOCfBNgCOtb513Z8pgrWeQBeiDIPAD2opqmh4xrMR3JmyB7A/80CgCf6l8EjlBHdX9VNDR33OAEA\n",
              "b8J3mQDQg17fuVEVDbUaGhWr64Zkm44DALiAzuv8qzs+U2VDneFEAHBxKPMA0EPONDV0vG8xqzwA\n",
              "eL7vJ2cpPTpOVY31em0n6zwA78J3mgDQQ17fuUmnG2o1JLKfrmeVBwCPF2AL0Pyc1nX+lcINqmqs\n",
              "N5wIALqPMg8APaDzKj8/Z7ocAXbDiQAA3fGD5JFKjYpVZWO9lnHtPAAvQpkHgB6wfNfnOtVwRskR\n",
              "fXVDSq7pOACAbrIHnF3nXy7coGrWeQBegjIPAJeptqlRSwo+lSQ9wioPAF7nuiHZGhoVq8rGOr2+\n",
              "c5PpOADQLZR5ALhMb+7+Qifrz2hwRIxuHDrKdBwAwEWyBwTokZwZkqSlhetV09RgOBEAfDvKPABc\n",
              "hrrmRr1UsE6S9HA2qzwAeKvrh2RrSGQ/VTTU6nes8wC8AGUeAC7D73dv1vG6GiWG99Gs1NGm4wAA\n",
              "LpEjwK75OdMlSUsL1usM6zwAD0eZB4BLVNfcpBe3t67yD2VPVyCrPAB4tRtScjU4oq9ONZzR8l2f\n",
              "m44DAN+IMg8Al+gPRZt1rK5ag8Ki9WNWeQDweo4Aux5pW+eXFHyq2qZGw4kA4MIo8wBwCeo7rfIP\n",
              "Z09XkN1hOBEAoCfcOHSUksJjdLL+jN7YzToPwHNR5gHgErxV9KWO1lZpYFiUbk4bYzoOAKCHBAbY\n",
              "9XDbOv/S9k9V18w6D8AzUeYB4CI1tDTrhe1rJbVeK88qDwC+5abU0UoM76MT9TV6c/cXpuMAwHlR\n",
              "5gHgIr1d9KWO1FYpPjRKP0m7wnQcAEAPCwyw66Hszut8k+FEAHAuyjwAXISGlmY9n79WkvRg9jQ5\n",
              "WeUBwCf9OHW0BoVF61hdtf5QtNl0HAA4B2UeAC7CO3u+UnltpfqHRuoWVnkA8FlBdoceblvnX9y+\n",
              "TvWs8wA8DGUeALqpsaVZi/PXSJIeHDlVwY5Aw4kAAO7047QxGhgWpaO1VXqr6EvTcQCgC8o8AHTT\n",
              "O8Vf69CZCsWFROjW9HGm4wAA3Mxpd+jBkdMkSS9sX6uGlmajeQCgM8o8AHRDk6tFz7et8g+MnKoQ\n",
              "VnkA8Au3pI/VgNBIHamt0tus8wA8CGUeALrh3eKvVVZzWrEh4fppxpWm4wAAeknndf75fNZ5AJ6D\n",
              "Mg8A36LJ1aLFea2r/P1ZrPIA4G9uTR+r/qGRKq+t1J/2bDEdBwAkUeYB4Fu9t3erSmtOqV9wuO4Y\n",
              "xioPAP4m2BGoB0ZOldS6zjeyzgPwAJR5APgGza4WPde2ys/LukohjiDDiQAAJtyWPk5xIRE6dKZC\n",
              "fyr+ynQcAKDMA8A3eX/vNh2oPqm+wWG6c9h403EAAIaEdFnn17DOAzCOMg8AF9DsatFzbXewn5t1\n",
              "lUIDWeUBwJ/9NONKxYaE62BNhVbs3Wo6DgA/R5kHgAv48/587a86oRhnmO5ilQcAvxfiCNT9Wa3r\n",
              "/OK8NWpytRhOBMCfUeYB4DxaXC49l7dakjQna4rCAp2GEwEAPMEdw65Uv+Bwldac0nus8wAMoswD\n",
              "wHms3J+vvZXHFe0M1ezMCabjAAA8RIgjSHOzpkiSnstbo2bWeQCGUOYB4J+0uFxalLdKkjRnxGSF\n",
              "s8oDADq5a9gExTjDdKD6pN7fu810HAB+ijIPAP/kw5LtKq48rqigEP0sc6LpOAAADxMaeHadX5S3\n",
              "mnUegBGUeQDoxGWdXeXvGzFZEUHBhhMBADzR7MwJ6uMMVUn1SX2wL890HAB+iDIPAJ18VFKgoopj\n",
              "igoK1t3DJ5mOAwDwUGGBzk7Xzq9Wi8tlOBEAf0OZB4A2LsulZ7e1rvL3DJ+sSFZ5AMA3mJ05UdHO\n",
              "UO2rOqE/72edB9C7KPMA0OYvBwq1u+KoIoOCdQ+rPADgW4QHOjVnxGRJrPMAeh9lHgDUdZW/e/gk\n",
              "RTlDDCcCAHiDn2VOVFRQiIorj+vDku2m4wDwI5R5AJD0t9Id2nn6iMIDnbqXVR4A0E0RQcG6r22d\n",
              "X5S3Si6LdR5A76DMA/B7lmWdXeXbrn8EAKC7fpY5UZFBwSqqOKaPSgpMxwHgJyjzAPze30t3qPBU\n",
              "ucIcQR3rCgAA3RXlDOm418qz21jnAfQOyjwAv2ZZlp5pW+V/Nnyi+gSHGU4EAPBG9wyfpIhAp3ZX\n",
              "HNXHBwpNxwHgByjzAPzaJ2U7VXDqsEIdQZozYorpOAAALxXtDNXdrPMAehFlHoDf6rzKz86coBhW\n",
              "eQDAZbh3xGSFBzq16/QR/fXADtNxAPg4yjwAv7X64G7lnzykEEeg5maxygMALk8fZ6juzpwoSXqW\n",
              "O9sDcDPKPAC/ZFmWFm77RJJ017AJ6hscbjgRAMAX3DdissIcQdpxqlx/L91pOg4AH0aZB+CX1h4q\n",
              "Ut6JgwpxBGpe1lWm4wAAfESf4DD9bHjbOr9tlSzLMpwIgK+izAPwO52vlb8zY7z6hbDKAwB6zpwR\n",
              "UxTqCFLBqcP6pIx1HoB7UOYB+J1PD+/R18dL5bQ7NJdVHgDQw2KCw3TXsAmSpGdY5wG4CWUegF/p\n",
              "vMrfkXGl4kIjDCcCAPiieSOnKMQRqPyTh7T64G7TcQD4IMo8AL+yobxYW44dkNPu0P0jp5qOAwDw\n",
              "UX2Dw3Vn2zq/cNsnrPMAehxlHoDf6LzK/zR9nPqHRhpOBADwZfOypijYHqi8Ewe15lCR6TgAfAxl\n",
              "HoDf2Fi+V5uPlshpd+iB7Gmm4wAAfFxsSITuHHalJOkZ1nkAPYwyD8BvLGxb5W9NH6sBrPIAgF4w\n",
              "L2uqnHaHth4v07rDe0zHAeBDKPMA/MLG8r364uh+BQXY9cDIaabjAAD8RFxohO7IaFvnt7LOA+g5\n",
              "lHkAfuHZTqv8wLAow2kAAP7k/pGt6/xXx0u1obzYdBwAPoIyD8DnfXFkvzYe2afAALseZJUHAPSy\n",
              "/qGR+mn6OEm87zyAnkOZB+Dz2u9gf0vaFRoYHm02DADALz2QPU1Ou0Obj5ZoY/le03EA+ADKPACf\n",
              "9uXREm0oL25d5bmDPQDAkAGhkbolbaykszdkBYDLQZkH4NPaV/kfp45RQngfw2kAAP7swexpCgqw\n",
              "64uj+1nnAVw2yjwAn/XVsQP69PAeOWwBephVHgBg2MCwKN2S3rrOP8M6D+AyUeYB+Kz2lzHelDpa\n",
              "iRExhtMAACA9OHKaAgPs2nRknz4/ss90HABejDIPwCd9fbxU6w4VyW4L0MM5003HAQBAkjQoPFo/\n",
              "SbtCEus8gMtDmQfgk57Z2r7Kj9LgiL6G0wAAcNZD2a3r/Gfle7X5aInpOAC8FGUegM/ZerxMaw7t\n",
              "bl3ls2eYjgMAQBcJ4X3049QxkqRntn1iOA0Ab0WZB+BzFuW1rvI3Ds1VciSrPADA8zycPU0OW4DW\n",
              "Hy7WlqMHTMcB4IUo8wB8Sv6Jg/qkbJcCbDZWeQCAx0qMiNFNqaMlSc/kce08gItHmQfgU55tu5nQ\n",
              "DSm5SonqZzgNAAAX9nDOdNltAVp3qEhfHy81HQeAl3Frmd+zZ48mTpyo9PR0jR07VoWFhec97tVX\n",
              "X1VaWpqGDh2q++67T01NTe6MBcBHFZw8pL+X7VSAzab5OazyAADPNjiir2YNHSXp7I1bAaC73Frm\n",
              "586dqzlz5qioqEiPP/64Zs+efc4x+/fv15NPPqn169eruLhYR48e1csvv+zOWAB8VPtb/Fw3JEdD\n",
              "o2INpwEA4Nu1r/NrDu3W1uNlpuMA8CI2y7Isd3zgY8eOKTU1VadOnZLD4ZBlWYqPj9eGDRuUmpra\n",
              "cdxvfvMb7d27V0uWLJEkffzxx/rP//xPbdiw4bwft6GhQQ0NDV1+78knn9SiRYvc8Wn0qAnv/JfK\n",
              "ak6bjgH4NJtsWv2jx5QWHWc6CgAA3fLop3/Su3u/Nh0D8HlPT/yRbs+40nSMHuO2Zb6srEzx8fFy\n",
              "OBySJJvNpqSkJJWWdr0eqLS0VIMHD+74dXJy8jnHdPbUU08pKiqqy2Pz5s3u+SQAeJ3b0sdS5AEA\n",
              "XuXR3JmKDAo2HQOAl3GYDnCxnnjiCS1YsKDL7z355JOG0lycj374kFzueSEEAEkBNpv6OENNxwAA\n",
              "4KIkR/bV1z/5/1TT1PDtBwO4ZGGBTtMRepTbynxiYqLKy8vV3Nzc8TL70tJSJSUldTkuKSlJe/fu\n",
              "7fh1SUnJOcd05nQ65XR2PQl2u71nw7tJTHCY6QgAAADwQMGOQAU7Ak3HAOBF3PYy+7i4OI0ePVpv\n",
              "vvmmJGnFihVKSEjocr28JM2aNUsrV67UkSNHZFmWlixZoltuucVdsQAAAAAA8HpuvZv90qVLtXTp\n",
              "UqWnp+vpp5/WsmXLJEn33nuvVq5cKUlKSUnRr371K02aNEmpqamKjY3V3Llz3RkLAAAAAACv5ra7\n",
              "2femBQsWaOHChaZjAAAAAADQK9y6zAMAAAAAgJ5HmQcAAAAAwMtQ5gEAAAAA8DKUeQAAAAAAvAxl\n",
              "HgAAAAAAL0OZBwAAAADAy1DmAQAAAADwMpR5AAAAAAC8DGUeAAAAAAAvQ5kHAAAAAMDLUOYBAAAA\n",
              "APAylHkAAAAAALwMZR4AAAAAAC9DmQcAAAAAwMtQ5gEAAAAA8DKUeQAAAAAAvIzNsizLdIjLdeON\n",
              "Nyo5Odl0jG/V0tKizZs3a9y4cbLb7abj4FtwvrwP58y7cL68C+fL+3DOvAvny7twvryLN56vwYMH\n",
              "a/78+d94jE+UeW9RVVWlqKgoVVZWKjIy0nQcfAvOl/fhnHkXzpd34Xx5H86Zd+F8eRfOl3fx1fPF\n",
              "y+wBAAAAAPAylHkAAAAAALwMZR4AAAAAAC9Dme9FTqdT//7v/y6n02k6CrqB8+V9OGfehfPlXThf\n",
              "3odz5l04X96F8+VdfPV8cQM8AAAAAAC8DMs8AAAAAABehjIPAAAAAICXocwDAAAAAOBlKPNusGfP\n",
              "Hk2cOFHp6ekaO3asCgsLz3vcq6++qrS0NA0dOlT33XefmpqaejkppO6dr7Vr1yokJES5ubkdj7q6\n",
              "OgNp8cgjjyg5OVk2m03btm274HF8fXmG7pwvvr48R319vW644Qalp6crJydH3/3ud1VcXHzeYz/8\n",
              "8EMNGzZMaWlpuvHGG1VVVdXLaSF1/5yVlJTIbrd3+Trbu3evgcT43ve+p+zsbOXm5mrKlCnaunXr\n",
              "eY/jecwzdOd88TzmeZYtWyabzaYPPvjgvH/uM89hFnrc9OnTrWXLllmWZVnvvPOOdcUVV5xzzL59\n",
              "+6z4+HirvLzccrlc1g9/+EPr+eef7+WksKzuna81a9ZYOTk5vRsM57Vu3TqrrKzMGjx4sLV169bz\n",
              "HsPXl+fozvni68tz1NXVWR999JHlcrksy7KsxYsXW1OnTj3nuOrqaisuLs7auXOnZVmW9eCDD1o/\n",
              "//nPezMq2nT3nO3fv9+Kiorq3XA4r9OnT3f893vvvWdlZ2efcwzPY56jO+eL5zHPsn//fmvChAnW\n",
              "+PHjrffff/+cP/el5zCW+R527NgxbdmyRbfffrskadasWSorKzvnp+TvvvuurrvuOg0YMEA2m03z\n",
              "5s3TW2+9ZSKyX+vu+YLnuOqqq5SQkPCNx/D15Tm6c77gOYKDg3XttdfKZrNJksaPH6+SkpJzjvvL\n",
              "X/6iUaNGadiwYZKkBx54gK8xQ7p7zuA5oqOjO/67srKy49x1xvOY5+jO+YLncLlcuvfee7V48eIL\n",
              "vg2dLz2HUeZ7WFlZmeLj4+VwOCRJNptNSUlJKi0t7XJcaWmpBg8e3PHr5OTkc46B+3X3fEnS3r17\n",
              "NXr0aI0dO1Yvvvhib0fFReDry/vw9eWZFi1apOuvv/6c3z/f11h5ebmam5t7Mx7O40LnTJLOnDmj\n",
              "sWPHavTo0fqP//gPtbS09HI6tLvzzjuVmJioJ598Um+88cY5f87zmGf5tvMl8TzmKRYuXKhJkyZp\n",
              "zJgxFzzGl57DHKYDAN5g9OjROnjwoKKionTw4EFde+216tevn26++WbT0QCvx9eXZ/rP//xPFRcX\n",
              "a9WqVaajoJu+6ZzFx8fr0KFDiouL06lTp/STn/xE/+///T/94he/MJAUy5cvlyT97ne/0+OPP66P\n",
              "P/7YcCJ8k287XzyPeYaCggKtWLFCn376qekovYZlvoclJiZ2+cmOZVkqLS1VUlJSl+OSkpJ04MCB\n",
              "jl+XlJSccwzcr7vnKzIyUlFRUZKkhIQE3XrrrVq/fn2v50X38PXlXfj68jz//d//rffee09/+ctf\n",
              "FBoaes6fn+9rrPOrnND7vu2cOZ1OxcXFSZJiYmJ0991383XmAe666y6tWbNGJ0+e7PL7PI95pgud\n",
              "L57HPMP69etVUlKitLQ0JScn6/PPP9ecOXP00ksvdTnOl57DKPM9LC4uTqNHj9abb74pSVqxYoUS\n",
              "EhKUmpra5bhZs2Zp5cqVOnLkiCzL0pIlS3TLLbeYiOzXunu+ysvL5XK5JEnV1dX68MMPNWrUqF7P\n",
              "i+7h68u78PXlWRYuXKi33npL//jHP7pcK9rZNddco6+//lq7du2SJL344ot8jRnUnXN27Nixjruh\n",
              "NzQ06L333uPrzICKigodPny449cffPCB+vbtq5iYmC7H8TzmGbp7vnge8wz333+/ysvLVVJSopKS\n",
              "Eo0fP14vv/yy7r///i7H+dRzmNHb7/moXbt2WePHj7fS0tKsMWPGWPn5+ZZlWdY999xj/fnPf+44\n",
              "7uWXX7ZSUlKslJQU6+6777YaGxtNRfZr3TlfixcvtoYPH25lZ2dbw4cPt/793/+9487B6F1z5syx\n",
              "Bg0aZNntdisuLs4aOnSoZVl8fXmq7pwvvr48R1lZmSXJSklJsXJycqycnBxr3LhxlmVZ1pNPPmm9\n",
              "9NJLHcf++c9/tjIyMqyhQ4da119/vVVRUWEqtl/r7jlbsWKFNWLEiI6vs4ceesiqr683Gd0vlZSU\n",
              "WGPHjrWysrKs7Oxsa+bMmR3v9MHzmOfp7vniecwzTZ06teNu9r76HGazLMsy/QMFAAAAAADQfbzM\n",
              "HgAAAAAAL0OZBwAAAADAy1DmAQAAAADwMpR5AAD8TG5urqqrqy/679100016/fXXez4QAAC4aN73\n",
              "ZnoAAOCybNu2zXQEAABwmVjmAQDwMzabTRUVFZKk5ORk/e///b81YcIEDRkyRL/+9a87jtu1a5cm\n",
              "TpyoESNG6IYbblBVVVXHn1VXV+u+++7TuHHjlJ2drTlz5qixsVG7d+9WQkKC9u3bJ0n67//+b11z\n",
              "zTUd78EMAAB6BmUeAAA/V1FRoU2bNunLL7/Ub37zGx06dEiSdMcdd+iee+5RYWGh/s//+T9at25d\n",
              "x9/5X//rf2nKlCnavHmz8vLy5HK5tGjRImVkZOg3v/mNbr75Zq1du1YvvPCC3njjDQUE8C0HAAA9\n",
              "iZfZAwDg52677TZJUr9+/ZSSkqL9+/crIiJC27Zt0+zZsyVJI0eO1OTJkzv+zgcffKBNmzZp4cKF\n",
              "kqS6ujrZ7XZJ0q233qo1a9bo6quv1qpVqxQbG9u7nxAAAH6AMg8AgJ8LDg7u+G+73a7m5ubzHmez\n",
              "2Tr+27IsrVixQunp6ecc19zcrIKCAsXExHSs/AAAoGfxmjcAAHCOyMhIjRo1SsuXL5ckFRYWasOG\n",
              "DR1/fsMNN+i//uu/Oor/6dOnVVxcLEn613/9V2VkZGj9+vX6+c9/3vH7AACg51DmAQDAeS1fvlwv\n",
              "v/yysrKy9G//9m+66qqrOv7smWeeUUhIiHJzc5Wdna2ZM2eqpKREH374of7617/qhRdeUGpqqhYu\n",
              "XKibb75Z9fX1Bj8TAAB8j82yLMt0CAAAAAAA0H0s8wAAAAAAeBnKPAAAAAAAXoYyDwAAAACAl6HM\n",
              "AwAAAADgZSjzAAAAAAB4Gco8AAAAAABehjIPAAAAAICXocwDAAAAAOBlKPMAAAAAAHgZyjwAAAAA\n",
              "AF7m/wfZeldU1NyvNAAAAABJRU5ErkJggg==\n",
              "\">\n",
              "      </div>\n",
              "      <script type=\"text/javascript\">\n",
              "        (() => {\n",
              "          const chartElement = document.getElementById(\"chart-d171f392-d6c4-4220-9ffe-e53dd4146900\");\n",
              "          async function getCodeForChartHandler(event) {\n",
              "            const chartCodeResponse =  await google.colab.kernel.invokeFunction(\n",
              "                'getCodeForChart', [\"chart-d171f392-d6c4-4220-9ffe-e53dd4146900\"], {});\n",
              "            const responseJson = chartCodeResponse.data['application/json'];\n",
              "            await google.colab.notebook.addCell(responseJson.code, 'code');\n",
              "          }\n",
              "          chartElement.onclick = getCodeForChartHandler;\n",
              "        })();\n",
              "      </script>\n",
              "      <style>\n",
              "        .colab-quickchart-chart-with-code  {\n",
              "            display: block;\n",
              "            float: left;\n",
              "            border: 1px solid transparent;\n",
              "        }\n",
              "\n",
              "        .colab-quickchart-chart-with-code:hover {\n",
              "            cursor: pointer;\n",
              "            border: 1px solid #aaa;\n",
              "        }\n",
              "      </style>"
            ]
          },
          "metadata": {}
        },
        {
          "output_type": "display_data",
          "data": {
            "text/plain": [
              "from matplotlib import pyplot as plt\n",
              "import seaborn as sns\n",
              "def _plot_series(series, series_name, series_index=0):\n",
              "  from matplotlib import pyplot as plt\n",
              "  import seaborn as sns\n",
              "  palette = list(sns.palettes.mpl_palette('Dark2'))\n",
              "  xs = series['index']\n",
              "  ys = series[3]\n",
              "  \n",
              "  plt.plot(xs, ys, label=series_name, color=palette[series_index % len(palette)])\n",
              "\n",
              "fig, ax = plt.subplots(figsize=(10, 5.2), layout='constrained')\n",
              "df_sorted = _df_11.sort_values('index', ascending=True)\n",
              "_plot_series(df_sorted, '')\n",
              "sns.despine(fig=fig, ax=ax)\n",
              "plt.xlabel('index')\n",
              "_ = plt.ylabel(3)"
            ],
            "text/html": [
              "      <div class=\"colab-quickchart-chart-with-code\" id=\"chart-925fc36b-6773-41c8-9aac-aa0acde85516\">\n",
              "        <img style=\"width: 180px;\" src=\"data:image/png;base64,iVBORw0KGgoAAAANSUhEUgAAA/MAAAITCAYAAABLz0yVAAAAOXRFWHRTb2Z0d2FyZQBNYXRwbG90\n",
              "bGliIHZlcnNpb24zLjcuMSwgaHR0cHM6Ly9tYXRwbG90bGliLm9yZy/bCgiHAAAACXBIWXMAAA9h\n",
              "AAAPYQGoP6dpAABZPUlEQVR4nO3deXSV9aHv/8/OzhwyMCQQCCEkIUAISUCZQSZbPVqHirXaOlBF\n",
              "wAmU21WPZ53ec3vvuUfP75wLIg5Aqzi1eqqo5ahtrTLIpIiShCRAEiAkQCBMmcic/fz+yCApoAGy\n",
              "893P3u/XWnstCQ/hk/W42Xz45Hm2w7IsSwAAAAAAwDb8TAcAAAAAAACXhjIPAAAAAIDNUOYBAAAA\n",
              "ALAZyjwAAAAAADZDmQcAAAAAwGYo8wAAAAAA2AxlHgAAAAAAm6HMAwAAAABgM15R5pcvX246AgAA\n",
              "AAAAPcYryvyhQ4dMRwAAAAAAoMd4RZkHAAAAAMCXUOYBAAAAALAZyjwAAAAAADZDmQcAAAAAwGYo\n",
              "8wAAAAAA2AxlHgAAAAAAm6HMAwAAAABgM5R5AAAAAABshjIPAAAAAIDNUOYBAAAAALAZyjwAAAAA\n",
              "ADZDmQcAAAAAwGYo8wAAAAAA2AxlHgAAAAAAm6HMAwAAAABgM5R5AAAAAABshjIPAAAAAIDNuLXM\n",
              "L1q0SAkJCXI4HMrKyrrocS+//LKGDRumpKQkPfjgg2pqanJnLAAAAAAAbM2tZf7222/Xli1bNGTI\n",
              "kIsec/DgQf3617/W5s2bVVRUpOPHj2v16tXujAUAAAAAgK25tcxfc801iouL+85j3n33Xd18880a\n",
              "MGCAHA6HFi5cqLfeeuuixzc0NKiqqqrTo6WlpbujAwAAAD2ioqFW93yyRs/nbDQdBYCNGL9mvqSk\n",
              "pNNyn5CQoJKSkose//TTTysyMrLTY8eOHT0RFQAAAOh2q3I3a8ORffr/vvmrDlSeMB0HgE0YL/OX\n",
              "6qmnnlJlZWWnx/jx403HAgAAAC7ZmYZardmzTZLksiytyNlgOBEAuzBe5uPj43Xo0KGOHxcXFys+\n",
              "Pv6ixwcFBSkiIqLTw+l09kRUAAAAoFv9Lm+LapoaNCA0QpL03v4sFVedMpwKgB0YL/Nz5szRunXr\n",
              "dOzYMVmWpZUrV+rOO+80HQsAAABwq4qGWr2Sv1WS9JsJN2nmoOFqsVxakbPecDIAduDWMr9gwQLF\n",
              "xcXp8OHDuu6665ScnCxJmjdvntatWydJSkxM1G9+8xtNmTJFycnJio6O1oIFC9wZCwAAADDu5fyt\n",
              "qm5q0PCo/vqHIaP0xJjZkqR3i3bpUDXrPIDv5rAsyzId4kotWbJES5cuNR0DAAAA6JLKhjpNevff\n",
              "VdVYr5UzfqYfDU2XJP38k1e06UiB7hx2tf5z6u2GUwLwZMa/zR4AAADwNa/s2aqqxnoNj+qvGxLS\n",
              "Oj6+JLN9nf9GpdWnTcUDYAOUeQAAAKAHVTXW63d5WyRJizNmyc/x7V/Jr4oZomsGDlOz5dIK3nce\n",
              "wHegzAMAAAA9aE3+VlU21is5Mlo3Jow+7+cfb1vn/1i4U4drzvR0PAA2QZkHAAAAekh1Y71Wd6zy\n",
              "s+X0O/+v4+P7J2hKbJKaLZeeZ50HcBGUeQAAAKCHvLpnuyob65QUGa2b2256dyFPtK3z/1W4U0dq\n",
              "KnooHQA7ocwDAAAAPaCmqUGr8jZLkhZlzLrgKt9u4oBETRqQqCZXi17cvbFnAgKwFco8AAAA0ANe\n",
              "27NdFQ21GhrRT7d8xyrfrn2df6vgKx09W+nueABshjIPAAAAuNnZpgatym1d5RdnzJS/n/N7f83k\n",
              "2CRN6D9UjazzAC6AMg8AAAC42et7v9DphrNKCO+rWxMzu/zrlpyzzh+rrXJTOgB2RJkHAAAA3Ki2\n",
              "qVErcz+XJC3q4irfbnJsksb3T1BDS7Ne5M72AM5BmQcAAADc6I19X+hU/VkNCe+jHyeNuaRf63A4\n",
              "Oq6d/33BDh1nnQfQhjIPAAAAuEldc6Ne2t26yj+aPlMBl7DKt5sam6yrY4aooaVZL+3e1N0RAdgU\n",
              "ZR4AAABwkzf3famT9TUa3Ku3bk8ee1mfw+Fw6PG2df6NfV+qvLa6OyMCsCnKPAAAAOAGdc1NV7zK\n",
              "t5s+cJjGRA9WQ0uzVuayzgOgzAMAAABu8YeCHSqvq9agsCj95DJX+Xat185fK0l6fe+XOllX0x0R\n",
              "AdgYZR4AAADoZvXNTXqx7fr2x9JnKtDpf8Wfc+agFGX0i1N9S1PH3fEB+C7KPAAAANDN3ir4Ssdr\n",
              "qzQwLFJ3DLuqWz6nw+HQkrZ1/rW923WqnnUe8GWUeQAAAKAbNbQ064XdGyW1XivfHat8u1lxw5XR\n",
              "L051zU1albu52z4vAPuhzAMAAADd6O2Cr3SstkqxoZH66bCru/VzOxwOPZ4xS5L06p7tOl1/tls/\n",
              "PwD7oMwDAAAA3aShpVnP52yUJD2SPkNB3bjKt7t28EiN7jtItc2NWp3HOg/4Kso8AAAA0E3+WLhT\n",
              "ZbWV6h8aoTu7eZVvd+46vyZ/m86wzgM+iTIPAAAAdIPGc1b5h0dPV7B/gNt+rx/Gpyq1T6zONjfq\n",
              "t3lb3Pb7APBclHkAAACgG/yx6GsdOVuhmJBw/SxlvFt/r9Z1frYk6ZU923Smodatvx8Az0OZBwAA\n",
              "AK5Qk6tFz+dskNS6yoe4cZVvd/2QVI3oPUA1TQ36Hes84HMo8wAAAMAVerfoGx2uqVB0SC/9fPiE\n",
              "Hvk9/Rx+ejyzbZ3P36rKhroe+X0BeAbKPAAAAHAFmlwtWpHduso/lNYzq3y7G4aM0vCo/qpuatDL\n",
              "+Vt77PcFYB5lHgAAALgC7+3fpZKa0+oX3Ev3jOiZVb7duev8y/lbVNVY36O/PwBzKPMAAADAZWp2\n",
              "tei5tlV+Ydo1CvEP7PEMNyakKSUqRpWN9XqFdR7wGZR5AAAA4DK9vz9Lh6pPqW9wmO4dMdFIBj+H\n",
              "nxa33dn+t3lbVM06D/gEyjwAAABwGZpdLVqevV6StCDtGoUG9Pwq3+5HCaOVHBmtysY6rdmzzVgO\n",
              "AD2HMg8AAABchg8OZKu4+pR6B4XqPkOrfDun37fr/Oq8LappajCaB4D7UeYBAACAS9Ticum5jlV+\n",
              "msICggwnkm4emq7EiH6qaKjVq6zzgNejzAMAAACX6E8Hs3Wg6qSigkI1d+Rk03Ekta7zizJmSZJW\n",
              "5W7WWdZ5wKtR5gEAAIBLcO4qP3/UVPXygFW+3a2JGUoI76szDbV6dc9203EAuBFlHgAAALgEHxbv\n",
              "VlHlCUUGhugXHrLKt/P3c2rxOet8bVOj4UQA3IUyDwAAAHSRy3JpefZnkqQHR01VeGCw4UTn+3FS\n",
              "poaE99XphrN6fe8XpuMAcBPKPAAAANBFHxXnqqCiXJGBwbo/dYrpOBfk7+fUooyZkqSVuZ+rrpl1\n",
              "HvBGlHkAAACgC1yWS89mta7yD6ROVYQHrvLtbksao/hefXSyvkZv7P3SdBwAbkCZBwAAALrg40N5\n",
              "2ldxXBGBwXrAQ1f5dgF+Tj3Wts6/lLuJdR7wQpR5AAAA4Hucu8rfnzpFkUEhhhN9v9uTxyquV5RO\n",
              "1NXo9/t2mI4DoJtR5gEAAIDv8ZdD+dp75ph6BQR5/CrfLsDPqUfTW9f5F3dvUl1zk+FEALoTZR4A\n",
              "AAD4Di7LpWfb7mB//8jJ6h0UajhR192RfJUGhUWpvK5afyhgnQe8CWUeAAAA+A5/K9mj/NNlCvMP\n",
              "1IOjppqOc0kCnf56NH2GpNZ1vp51HvAalHkAAADgIizL0rK2a+V/kTpZvYPDDCe6dHcMu1qxoZE6\n",
              "Xlultwt3mo4DoJtQ5gEAAICL+LR0j3JPH1Wof6Dmj5pmOs5lCTpnnX8hZ6MaWprNBgLQLSjzAAAA\n",
              "wAWcu8rPHTlJfWy4yre7M2WcBoRGqKy2Uv/FOg94Bco8AAAAcAHrD+9TzqkjCvEP0II0e67y7YKc\n",
              "/npk9AxJ0vM5G1jnAS9AmQcAAAD+jmVZWpr1qSTpvhGT1De4l+FEV+6ulHHqHxqho2cr9U7h16bj\n",
              "ALhClHkAAADg72w4UqDsk4cV7AzQwrRrTMfpFsH+AXp49HRJ0oqcDWpknQdsjTIPAAAAnKP1WvnW\n",
              "Vf7eERPUL8T+q3y7n6WMV0xIuI6crdA7Rd+YjgPgClDmAQAAgHNsOlqoXSdKFeT018K06abjdKsQ\n",
              "/wA9NLr1Ow2ez9mgJleL4UQALhdlHgAAAGhjWZaW7Wpd5e8ZPkExoeGGE3W/u4dPUHRIL5XWnNG7\n",
              "rPOAbVHmAQAAgDZbyor09YkSBTn99dBo71rl24X4B3bcB2BFNus8YFeUeQAAAECd31f+5ynj1T80\n",
              "wnAi97ln+ET1DQ5TSc1pvb9/l+k4AC4DZR4AAACQtK1sv3YcL1aQ018Pp88wHcetQgO+XeeXZ29Q\n",
              "M+s8YDuUeQAAAEDS0rZV/q6UcRrgxat8u/tGTFKfoDAdqj6lDw5kmY4D4BJR5gEAAODztpXt15fH\n",
              "DyrQz6mHR88wHadHhAYEakHaNEms84AdUeYBAADg85ads8oPDIs0nKbnzB05Sb2DQnWw6qT+dDDH\n",
              "dBwAl4AyDwAAAJ/2xbED2n7sgAL8nHrER1b5dmEBQR3r/HPZ69XichlOBKCrKPMAAADwae2r/E+H\n",
              "Xa2BvaLMhjHgvhGTFBkYov2VJ7SOdR6wDco8AAAAfNaO48XaWrZfAX5OPerld7C/mPDAYM0fNVWS\n",
              "tDz7M9Z5wCYo8wAAAPBZz7at8j9JvkpxvXobTmPOL1KnKDIwWEWVJ/Rh8W7TcQB0AWUeAAAAPunr\n",
              "8kP6/Gih/B1+esxHV/l2EYHBmnfOOu+yWOcBT0eZBwAAgE9qf1/525PHanB4H8NpzLt/5BRFBAar\n",
              "oKJcHxfnmo4D4HtQ5gEAAOBzvjlRok1HCuR0+OmxjJmm43iEyKAQPZA6RVLrTQFZ5wHPRpkHAACA\n",
              "z1m2q32VH6Mh4X0Np/EcD6ROUXhAkPZVHNefD+WZjgPgO1DmAQAA4FN2nSjVhiP7Wlf59Fmm43iU\n",
              "qKBQ3d+2zj/LOg94NMo8AAAAfEr7HexvS8pUQgSr/N+bN2qqegUEac+ZY/prSb7pOAAugjIPAAAA\n",
              "n5F98rA+O7xXfg4Hq/xF9A4K1f0jJ0tq/YcPy7IMJwJwIZR5AAAA+Iz2Vf7WxEwlRvYznMZzPThq\n",
              "qsL8A5V3ukyfsM4DHokyDwAAAJ+Qe+qI/la6R34OhxZnsMp/l97BYZrbts4vY50HPBJlHgAAAD5h\n",
              "Wdsqf/PQDCVFRhtO4/kWpE1TqH+gck8f1aele0zHAfB3KPMAAADwevmnj+qvJflyiFW+q/oEh+m+\n",
              "EZMkSc9mr2edBzwMZR4AAABe79tVPl3DomIMp7GPhaOnKcQ/QNknD2v94X2m4wA4B2UeAAAAXi3/\n",
              "dJn+fCivdZXPZJW/FH2De+netnWea+cBz0KZBwAAgFdbnr1ekvSjhNFKiepvOI39LEybpmBngLJO\n",
              "lmrjkQLTcQC0ocwDAADAa+09c0wfFe+WJFb5yxQdEq57R0yQxDoPeBLKPAAAALzW8qzWVf7GhNEa\n",
              "0XuA4TT2tTBtuoKc/vrmRIk+P1poOg4AubnMFxYWavLkyUpJSdG4ceOUl5d33jEul0tLlixRamqq\n",
              "0tPTNXPmTBUVFbkzFgAAAHxAQcVxfdi+ynMH+ysSExque4azzgOexK1lfsGCBZo/f74KCgr05JNP\n",
              "au7cuecds27dOm3dulXZ2dnKycnR7Nmz9U//9E/ujAUAAAAfsDx7vSxZuj5+lFL7xJqOY3sLR7eu\n",
              "8zvLD2lLGeMbYJrbynx5ebl27typu+++W5I0Z84clZaWnre6OxwONTQ0qL6+XpZlqaqqSnFxce6K\n",
              "BQAAAB9QVFGudQdyJElPZM42nMY7DAiN0M9SxktinQc8gb+7PnFpaaliY2Pl79/6WzgcDsXHx6uk\n",
              "pETJyckdx910003asGGDBgwYoPDwcA0aNEibNm266OdtaGhQQ0NDp4+1tLS454sAAACALbWv8tfF\n",
              "p2pU34Gm43iNh0dP1+/3fakdx4u17dgBTYlNMh0J8FnGb4C3c+dO5ebm6siRIzp69Khmz56thQsX\n",
              "XvT4p59+WpGRkZ0eO3bs6MHEAAAA8GQHKk/oTwezJUmPZ7DKd6fYsEjd1bHOf2o4DeDb3FbmBw8e\n",
              "rLKyMjU3N0uSLMtSSUmJ4uPjOx33+uuva9asWYqKipKfn5/uu+8+bdiw4aKf96mnnlJlZWWnx/jx\n",
              "4931ZQAAAMBmlmevl8uy9IPBIzW63yDTcbzOI+kzFOjn1BfHDmr7sQOm4wA+y21lPiYmRmPHjtWb\n",
              "b74pSVq7dq3i4uI6fYu9JCUmJmr9+vVqbGyUJH344YdKS0u76OcNCgpSREREp4fT6XTXlwEAAAAb\n",
              "OVB5Uu8fyJLEtfLuMjAsUnemjJMkLdvFOg+Y4tZvs1+1apVWrVqllJQUPfPMM1qzZo0kad68eVq3\n",
              "bp0k6ZFHHtHQoUOVkZGh9PR0ffbZZ3rppZfcGQsAAABeakVO6yo/O26E0vtxU2V3eWT0DAX4ObXt\n",
              "2AF9eeyg6TiAT3JYXnAbyiVLlmjp0qWmYwAAAMCg4qpTmv7e/1OL5dJ//+gRjYkebDqSV/vHbe/r\n",
              "zX1fampsst6+fp7pOIDPMX4DPAAAAKA7rMhZrxbLpRmDUijyPeDR9Bnyd/hpS1mRvjpebDoO4HMo\n",
              "8wAAALC9Q9Wn9G7RLknSE5nXGk7jG+J69dZPhl0lqfV95wH0LMo8AAAAbO/5nI1qsVyaPnCYroqJ\n",
              "//5fgG7xWPpM+Tv89PnRQn1dfsh0HMCnUOYBAABga6XVp/VO4deSWOV7Wnx4H81JHitJWso6D/Qo\n",
              "yjwAAABs7fmcjWq2XJo2MFlX9x9iOo7PWZQxU06HnzYdKdA3J0pMxwF8BmUeAAAAtnWkpkJ/LGKV\n",
              "N2lIeF/NSRojSXqWdR7oMZR5AAAA2NbzORvU5GrRlNgkje+fYDqOz3qsbZ1ff3ifsk6Umo4D+ATK\n",
              "PAAAAGzpaE2F3i7cKUl6InO24TS+bWhEP/04MVOS9Gw26zzQEyjzAAAAsKUXdm9Uk6tFkwYkauKA\n",
              "RNNxfN6ijFnyczj0aele5Zw8bDoO4PUo8wAAALCdo2cr9VbBV5JY5T1FYmQ/3dq+znPtPOB2lHkA\n",
              "AADYzou7N6rR1aIJ/RM0iVXeYyzOmCWHHPqkdI9yTx0xHQfwapR5AAAA2Mqx2qpzVvlr5XA4DCdC\n",
              "u6TIaN2cmC5JWsY6D7gVZR4AAAC28tLuTWpoada4mCGaEptkOg7+zuMZs+WQQ38tyVf+6aOm4wBe\n",
              "izIPAAAA2zheW6U3930piVXeUw2LitFNQ0dLYp0H3IkyDwAAANtYmfu5GlqadVV0vKYNTDYdBxex\n",
              "uG2d//OhPO05fcx0HMArUeYBAABgCyfqqvXG3rZVfgyrvCcb3ru/bkxIkyQt533nAbegzAMAAMAW\n",
              "Vu7+XPUtTRoTPVjTBw4zHQffY3FG61sGflScq31njhtOA3gfyjwAAAA83sm6Gr229wtJXCtvFyP7\n",
              "DNANQ9JkyWKdB9yAMg8AAACPtzK3dZXP6BenmYNSTMdBFz2e2brO//fB3SqoYJ0HuhNlHgAAAB7t\n",
              "VH2NXtu7XZL0ROZsVnkbSe0Tq+vjR7Wt8+tNxwG8CmUeAAAAHm117hbVNTcpve8gzY4bYToOLtHj\n",
              "mbMkSesO5KiootxwGsB7UOYBAADgsc7Un9Wre7ZJav2WbVZ5+0nrO0g/HDySdR7oZpR5AAAAeKzV\n",
              "eVt0trlRaX0G6geDR5qOg8vUfu38nw5m60DlCcNpAO9AmQcAAIBHOtNQqzWs8l4hvV+crh08Qi7L\n",
              "0nPZG0zHAbwCZR4AAAAe6Xd5W1TT1KDUPrG6Lj7VdBxcoScyr5UkvX8gSwerThpOA9gfZR4AAAAe\n",
              "p6KhVq/kb5UkPZ7BKu8NMvrFaVbccLVYLq1gnQeuGGUeAAAAHud3+VtV3dSgEb0H6PohrPLeon2d\n",
              "X7t/l4qrThlOA9gbZR4AAAAepbKh7ttVPnO2/Bz8ldVbjIkerBmDUlrX+RzWeeBK8CcjAAAAPMrL\n",
              "+VtV1Viv4VH9dcOQUabjoJt1rPNF36ik+rThNIB9UeYBAADgMaoa6/Vy/hZJ0uKMWazyXuiqmHhN\n",
              "HzhMzazzwBXhT0cAAAB4jDX5W1XZWK9hkTG6MWG06Thwk/b3nX+n8GuVss4Dl4UyDwAAAI9Q3Viv\n",
              "1Xltq3zmLDn9+KuqtxrXP0FTY5PVbLn0fM5G03EAW+JPSAAAAHiEV/dsV2VjnZIjo3VTQrrpOHCz\n",
              "J9rW+T8Wfa0jNRVmwwA2RJkHAACAcTVNDVqVt1mStCiDVd4XTBgwVJMHJKrJ1aIXdm80HQewHf6U\n",
              "BAAAgHGv7tmuioZaJUb00y1DM0zHQQ95Ykzrne3fLvhKR89WGk4D2AtlHgAAAEadbWrQqtzPJbHK\n",
              "+5pJAxI1ccBQNbpa9ALXzgOXhD8pAQAAYNRre7/QmYZaJYT31a2JrPK+pv19598q2KEy1nmgyyjz\n",
              "AAAAMKa2qbFjlV+cMUv+fk7DidDTJg9I1IT+CWp0tejF3ZtMxwFsgzIPAAAAY17f+4VO1Z/VkPA+\n",
              "+nFSpuk4MMDhcHSs838o2KFjtVWGEwH2QJkHAACAEXXNjVrZtso/lj6TVd6HTYlN0tUxQ9TQ0qyX\n",
              "WOeBLqHMAwAAwIg3932pk/U1iu/VR3OSx5qOA4Na1/nW951/c9+XOs46D3wvyjwAAAB6XF1zk17a\n",
              "3brKP5oxQwGs8j7vmoHDNDY6Xg0tzR3fsQHg4ijzAAAA6HG/3/elyuuqFdcrSrcnscqj8zr/xt4v\n",
              "daKu2nAiwLNR5gEAANCj6pubOq6LfjR9pgKd/oYTwVPMGJSizH6DVd/SpJW5m03HATwaZR4AAAA9\n",
              "6g8FO3S8rlqDwqJ0R/JVpuPAg5y7zr++d7tO1tUYTgR4Lso8AAAAekx9c5Ne6FjlZ7DK4zyz4oYr\n",
              "o1+c6pqbtIp1HrgoyjwAAAB6zNuFO3W8tkqxoZG6Y9jVpuPAA527zr+2d7tO1581nAjwTJR5AAAA\n",
              "9IiGlma9kLNRkvRI+gwFscrjImbHjVB630GqbW5knQcugjIPAACAHvHHwp0qq61U/9AI3ckqj+/g\n",
              "cDj0eNs6/+qebTrDOg+chzIPAAAAt2tsadbz7av86OkK9g8wGwge7weDR2pUn1idbW7U6rwtpuMA\n",
              "HocyDwAAALf7Y9HXOnK2Qv1DwvWzlPGm48AGzl3n1+zZpjMNtYYTAZ6FMg8AAAC3al3lN0iSHmKV\n",
              "xyW4Lj5VI3sPUE1Tg37HOg90QpkHAACAW727/xsdrqlQTEi4fj58guk4sBE/h1/HOv9K/lZVsM4D\n",
              "HSjzAAAAcJsmV4tWZLev8tcohFUel+gfhozS8Kj+qm5q0Mv5W03HATwGZR4AAABus7boG5XWnFF0\n",
              "SC/dzSqPy+Dn8Ot43/mX87eqsqHOcCLAM1DmAQAA4BZNrhataLtWfmHaNQrxDzScCHZ1Q0Kahkf1\n",
              "V1VjvV7ZwzoPSJR5AAAAuMn7+3fpUPVp9Q0O0z3DJ5qOAxvzc/hpccYsSdLv8raoqrHecCLAPMo8\n",
              "AAAAul2zq0XL266VX5B2jUIDWOVxZW5MGK1hkTGqbKzXGq6dByjzAAAA6H4fHMjWoepT6hMUpvtG\n",
              "sMrjyjn9/LSobZ1fnbdF1azz8HGUeQAAAHSrFpdLz2WvlyTNT5umsIAgw4ngLW4emq6kyGhVNtbp\n",
              "1T3bTccBjKLMAwAAoFv96WC2DlSdVFRQqOaOnGQ6DrzIuev8qrzNqmlqMJwIMIcyDwAAgG7T4nJp\n",
              "edsqv2DUNPVilUc3u2VouoZG9FNFQy3rPHwaZR4AAADd5r+Lc7S/8oQiA0NY5eEW/n5OLc6YKUla\n",
              "nbtZZ1nn4aMo8wAAAOgWLS6Xlme1XSs/aqrCA4MNJ4K3ujUxUwnhfXW64axe3/uF6TiAEZR5AAAA\n",
              "dIuPinersLJckYHB+kXqFNNx4MX8/Zxa1LbOr8z9XLVNjYYTAT2PMg8AAIAr5rK+vVZ+3qipimCV\n",
              "h5vdljRGQ8L76FT9Wb2xj3UevocyDwAAgCv2cXGu9lUcV0RgsO4fySoP9/P3c+qx9NZ1/qXdn6uu\n",
              "mXUevoUyDwAAgCvislx6tm2Vvz91iiKDQgwngq+YkzxWg3v11sn6Gr2570vTcYAeRZkHAADAFfnL\n",
              "oXztPXNM4QFBmse18uhBAX5OPdppnW8ynAjoOZR5AAAAXLbWVf4zSa2rfFRQqOFE8DU/SR6rQWFR\n",
              "Kq+r1u9Z5+FDKPMAAAC4bJ+U7FH+6TL1CgjSvFFTTceBDwp0+p9z7fwm1bPOw0dQ5gEAAHBZLMvS\n",
              "s1mtq/wvRk5Wb1Z5GHLHsKs0MCxSx+uq9VbBV6bjAD2CMg8AAIDL8rfSPco9fVRh/oGazyoPgwKd\n",
              "/h3Xzr+we6MaWprNBgJ6AGUeAAAAl8yyLC1rW+Xnjpys3sFhhhPB1/102NWKDY3Usdoqvc06Dx9A\n",
              "mQcAAMAl++zwXu0+dUSh/oFakDbNdBxAQU5/PZI+Q5L0fA7rPLwfZR4AAACX5NxV/r4Rk9SHVR4e\n",
              "4s5hV6t/aITKaiv1x8KdpuMAbkWZBwAAwCXZcKRA2ScPK8Q/gFUeHiXYP0CPjJ4uqXWdb2Sdhxej\n",
              "zAMAAKDLWlf5TyVJ9w6fqH4hvQwnAjr7Wcp49Q8J15GzFfpj0dem4wBuQ5kHAABAl206WqhdJ0oV\n",
              "7AzQwtHXmI4DnCfYP0APdazzG1jn4bXcWuYLCws1efJkpaSkaNy4ccrLy7vgcbt379aMGTM0cuRI\n",
              "jRw5Uu+99547YwEAAOAyWJalZbtaV/l7RkxQdEi44UTAhf18+ARFh/TS4ZoKvbv/G9NxALdwa5lf\n",
              "sGCB5s+fr4KCAj355JOaO3fuecfU1tbqlltu0b/+679qz549ys3N1bRpXHsFAADgaTYfLdLXJ0oU\n",
              "5PTXQ2nTTccBLirEP6Dj/9EV2RvU5GoxnAjofm4r8+Xl5dq5c6fuvvtuSdKcOXNUWlqqoqKiTsf9\n",
              "4Q9/0MSJEzV16lRJktPpVHR09EU/b0NDg6qqqjo9Wlp4cgIAALjTudfK3z18gmJCWeXh2e4ZMUH9\n",
              "gnuptOaM3tu/y3QcoNu5rcyXlpYqNjZW/v7+kiSHw6H4+HiVlJR0Oi4/P19BQUH60Y9+pMzMTN17\n",
              "7706ceLERT/v008/rcjIyE6PHTt2uOvLAAAAgKStZfv1Vfmh1lV+NKs8PF+If6AWprXe1+G57A1q\n",
              "Zp2HlzF+A7zm5mZ9+umnWrVqlXbt2qVBgwbpoYceuujxTz31lCorKzs9xo8f34OJAQAAfMu5q/zP\n",
              "UsZrQGiE4URA19w7YqL6BofpUPUpvb8/y3QcoFu5rcwPHjxYZWVlam5uvXukZVkqKSlRfHx8p+Pi\n",
              "4+M1c+ZMDRo0SA6HQ3fffbe++OKLi37eoKAgRUREdHo4nU53fRkAAAA+b9uxA/ryeLEC/Zx6mFUe\n",
              "NhIaEKgFbev88uz1rPPwKm4r8zExMRo7dqzefPNNSdLatWsVFxen5OTkTsfdcccd+uqrr1RVVSVJ\n",
              "+vjjj5WRkeGuWAAAALhE7av8XSnjFBsWaTgNcGnuGzFRfYLCVFx9Sh8cyDYdB+g2bv02+1WrVmnV\n",
              "qlVKSUnRM888ozVr1kiS5s2bp3Xr1klqXeb/6Z/+SZMnT1Z6errWr1+vlStXujMWAAAAumj7sQP6\n",
              "4thBBfg59cjoGabjAJcsLCBI89Na3y3ruez1anG5DCcCuofDsizLdIgrtWTJEi1dutR0DAAAAK/z\n",
              "07/8VlvL9uue4RP09OQfm44DXJaapgZNfOffVdFQq+eu+aluSxpjOhJwxYzfAA8AAACeacfxYm0t\n",
              "268AP6ceTZ9pOg5w2XoFBGn+qNa3wl7OOg8vQZkHAADABbVfK39H8lUa1CvKbBjgCv1i5GRFBoZo\n",
              "f+UJ/Xdxjuk4wBWjzAMAAOA8O48f0uajRfJ3+OnR9Bmm4wBXLDwwWA+2r/NZ6+WyWOdhb5R5AAAA\n",
              "nKd9lf/JsKs0OLyP4TRA97g/dYoiA4NVWFmuj4pzTccBrghlHgAAAJ18XV6iTUcL5e/w02NcKw8v\n",
              "EhEYrAdSW9f5Z7M+Y52HrVHmAQAA0En7Kj8neaziWeXhZR5InaKIwGDtqziujw/lmY4DXDbKPAAA\n",
              "ADrsOlGqjUcK5GSVh5eKDArR/alTJLHOw94o8wAAAOjwbNZnkqTbkjKVENHXcBrAPealTlF4QJD2\n",
              "njmmvxzKNx0HuCyUeQAAAEiSsk8e1meH98rP4dBj6bNMxwHcJioo9Nt1Ppt1HvZEmQcAAICkb1f5\n",
              "HydmKjGyn+E0gHvNS52iMP9A5Z8u0ycle0zHAS4ZZR4AAADaffKI/la6R34OhxZnsMrD+/UODtMv\n",
              "UidLav2HLMuyDCcCLg1lHgAAAHo2u3WVv2VohhIjow2nAXrG/FHTFOofqNzTR/W3UtZ52AtlHgAA\n",
              "wMflnTqqv5bkyyFWefiWPsFhmjtykiTWedgPZR4AAMDHLWu7Vv7mxHQlR8UYTgP0rAVp0xTiH6Cc\n",
              "U0e0/vA+03GALqPMAwAA+LD802X6S0meHHLo8YzZpuMAPa5vcC/dN6J1nV+a9SnrPGyDMg8AAODD\n",
              "2u9gf9PQ0RrGKg8ftTDtGoX4Byj75GFtOFJgOg7QJZR5AAAAH7X3zDF9fChXkrSIa+Xhw/qF9NK9\n",
              "wydKkpaxzsMmKPMAAAA+annWeknSjQmjNaL3AMNpALMWjr5GQU5/7TpRqk1HC03HAb4XZR4AAMAH\n",
              "FVQc14fFuyWJa+UBSdEh4bpn+ARJ0rJdrPPwfJR5AAAAH7Q8a70sWfqHIaM0sg+rPCBJD42eriCn\n",
              "v74+UaLNR4tMxwG+E2UeAADAxxRWlGvdwRxJ0hOZrPJAu/6hEfp5ynhJXDsPz0eZBwAA8DHLs1tX\n",
              "+eviU5XaZ6DpOIBHeTh9hoKc/vqq/JC2le03HQe4KMo8AACAD9lfeULrDmZLYpUHLmRAaITuShkn\n",
              "SVra9taNgCeizAMAAPiQ5dnr5bIs/XDwSKX1HWQ6DuCRHh49Q4F+Tn15/CDrPDwWZR4AAMBHHKg8\n",
              "oQ8OZEmSHmeVBy5qYFhkxzq/jHUeHooyDwAA4COey94gl2VpdtwIpfeLMx0H8GiPjJ6hAD+nth87\n",
              "oC+OHTAdBzgPZR4AAMAHHKw6qffbVnmulQe+38BeUbpz2NWSWOfhmSjzAAAAPuD5nA1qsVyaOWi4\n",
              "MqMHm44D2MKj6TMV4OfU1rL92nG82HQcoBPKPAAAgJc7VH1K7xbtkiQ9MYZVHuiqQb2i9JPkqyS1\n",
              "vu884Eko8wAAAF5uRXbrKj99UIrGRsebjgPYymPpM+Tv8NPmo0XaefyQ6ThAB8o8AACAFyutPq13\n",
              "i76RJC3hWnngkg0O76Pbk8dKYp2HZ6HMAwAAeLEVORvVbLl0zcBhuipmiOk4gC09ljFTToefNh0t\n",
              "1NflJabjAJIo8wAAAF7rcM0Z/bFwpyTuYA9ciSHhfXV78hhJ0rPc2R4egjIPAADgpZ5vW+WnxiZr\n",
              "XP8E03EAW3ssfZacDj9tOLJPu06Umo4DUOYBAAC80ZGaCv0XqzzQbRIi+uq2pExJrPPwDJR5AAAA\n",
              "L/Ti7o1qcrVo0oBETRgw1HQcwCs8lj5Lfg6HPju8V9knD5uOAx93RWX+zJkz3ZUDAAAA3eTo2Uq9\n",
              "VfCVJFZ5oDslRvbTjxMzJbHOw7wul/msrCxlZmZq7NixysvL04033qhBgwYpPj5eOTk57swIAACA\n",
              "S/Di7o1qdLVoQv+hmhybZDoO4FUWZbSu838r3aPdJ4+YjgMf1uUyv3jxYv2v//W/tGjRIt1www26\n",
              "8847VVtbq+eee06//OUv3ZkRAAAAXXSstqpjled95YHulxQZrZuHZkiSns1mnYc5XS7zVVVVuvXW\n",
              "WzV37lxZlqV77rlHknTrrbeqvLzcbQEBAADQdS/mbFRDS7PG909glQfcZHHGLDnk0F9L8pV36qjp\n",
              "OPBRXS7zlmV1/PfMmTMv+nMAAAAw43htlX5fsENS67XyDofDcCLAOw2LitHNQ9MlScu4dh6GdLnM\n",
              "9+/fX1VVVZKk1157rePjZWVlCg4O7v5kAAAAuCQv7d6khpZmXR0zRFNjk03HAbza4szWdf4vJXnK\n",
              "P11mOg58UJfL/F//+ldFRESc9/HQ0FC988473RoKAAAAl6a8tlpv7PtSEqs80BNSovrrRwmjJUnL\n",
              "s9cbTgNfdMXvMx8ZGan4+PjuyAIAAIDLtDK3dZUfGx2vawYOMx0H8AmLM2dJkj4q3q29Z44ZTgNf\n",
              "c8VlHgAAAGadrKvR63tbV/nHWeWBHjOi9wDd2L7OZ7HOo2dR5gEAAGxuZe7nqm9pUka/OM0clGI6\n",
              "DuBTHs9ofQvID4t3q6DiuOE08CWUeQAAABs7VV+j1/ZulyQtybyWVR7oYSP7DNA/DBklSxbrPHoU\n",
              "ZR4AAMDGVuVuVl1z6yo/K2646TiAT2pf59cdzFFhRbnhNPAVlHkAAACbOl1/Vq/uaV3lH8+YxSoP\n",
              "GDKq70BdF5/aus5zZ3v0EMo8AACATa3O26za5kaN7jtI1w4eaToO4NO+Xeeztb/yhOE08AWUeQAA\n",
              "ABs6U39Wa/K3SWKVBzzB6H6D9IPBI+WyLD3HOo8eQJkHAACwod/mbdHZ5kaN6hOrH8anmo4DQNIT\n",
              "ma3r/PsHsnSg8qThNPB2lHkAAACbOdNQq1f2tK3yvK884DHS+8VpdtwIuSxLK3JY5+FelHkAAACb\n",
              "+V3eFtU0NWhk7wG6jlUe8Cjt6/x7+7NUXHXKcBp4M8o8AACAjVQ21OmV/K2SpMWZs+Xn4K9zgCfJ\n",
              "jB6smYOGq8Vysc7DrfjTHwAAwEZezt+q6qYGDY/qrxuGjDIdB8AFPDGmdZ1/t2iXDlWzzsM9KPMA\n",
              "AAA2UdVYr5fzt0hqvVaeVR7wTGOj4zV9UErrOp+9wXQceCleAQAAAGzilfytqmysV0pUjG5MSDMd\n",
              "B8B3eCKjfZ3/RqXVpw2ngTeizAMAANhAdWO9fpvXusovzmCVBzzd1f2HaNrAZDVbLq3I2Wg6DrwQ\n",
              "rwIAAAA2sGbPNlU21ik5Mlo/ShhtOg6ALngi81pJ0h8Ld+pwzRnDaeBtKPMAAAAerqapQavPWeWd\n",
              "fvwVDrCD8f0TNCU2Sc2WSy+wzqOb8UoAAADg4V7ds00VDbVKiozWzUPTTccBcAna33f+7cKdOlpT\n",
              "YTYMvAplHgAAwIOdbWrQqtzNkqRFGbNY5QGbmTggUZMGJKrJ1aIXdm80HQdehFcDAAAAD/ba3i90\n",
              "pqFWCeF9dQurPGBL7ev8WwVf6ejZSsNp4C0o8wAAAB6qtqlRq3I/lyQtzpglfz+n4UQALsfk2CRN\n",
              "6D9Uja4Wvbh7o+k48BKUeQAAAA/1+t4vdKr+rIaE99WPkzJNxwFwBZacs84fq60ynAbegDIPAADg\n",
              "geqaG7WybZVflDGTVR6wucmxSRoXM0QNLc16kTvboxtQ5gEAADzQG3u/1Mn6GsX36qPbksaYjgPg\n",
              "Cjkcjo73nf99wQ4dZ53HFaLMAwAAeJi65ka9lLtJkvRYxkwFsMoDXmHawGRdFR2vhpZmvbR7k+k4\n",
              "sDnKPAAAgIf5/b4dOlFXo8G9euv25LGm4wDoJg6HQ0+MaV3n39j3pcprqw0ngp1R5gEAADxIXXOT\n",
              "Xmxb7B5NZ5UHvM30gcM0JnqwGlqaO96tArgclHkAAAAP8oeCHSqvq9agsCj9hFUe8DrnXjv/2t4v\n",
              "dLKuxnAi2BVlHgAAwEPUn7PKP5Y+U4FOf8OJALjDzEEpyugXp/qWpo53rQAuFWUeAADAQ7xduFPH\n",
              "a6sUGxqpnwy7ynQcAG7icDi0pGOd365T9azzuHSUeQAAAA/Q0NKsF9ree/rR9BkKYpUHvNqsuOHK\n",
              "6BenuuYmrcrdbDoObIgyDwAA4AH+q3CnymorNSA0QnemjDMdB4CbORwOPZ4xS5L06p7tOl1/1nAi\n",
              "2A1lHgAAwLCGlmY9n7NBkvTIaFZ5wFdcO3ik0voMVG1zo1bnsc7j0lDmAQAADHun8GsdPVup/qER\n",
              "uotVHvAZDodDj2fOliStyd+mM6zzuARuLfOFhYWaPHmyUlJSNG7cOOXl5V30WMuyNGvWLEVFRbkz\n",
              "EgAAgEdpbGnWirZV/uHR0xXsH2A4EYCedF18qlL7xOpsc6N+m7fFdBzYiFvL/IIFCzR//nwVFBTo\n",
              "ySef1Ny5cy967LJly5SUlOTOOAAAAB7nnaJvdORshWJCwvWzlPGm4wDoYa3Xzreu86/s2aaKhlrD\n",
              "iWAXbivz5eXl2rlzp+6++25J0pw5c1RaWqqioqLzjs3Ly9MHH3ygf/zHf/zez9vQ0KCqqqpOj5aW\n",
              "lm7PDwAA4G5NrpaOa+UfHj1dIazygE+6fkiqRvQeoJqmBv0uf6vpOLAJt5X50tJSxcbGyt+/9QYu\n",
              "DodD8fHxKikp6XRcU1OTHnzwQa1atUpOp/N7P+/TTz+tyMjITo8dO3a45WsAAABwp3eLvlFpzRlF\n",
              "h/TSz4ezygO+ys/h13Ht/Cv5W1XZUGc4EezA+A3wfvOb3+i2227TyJEju3T8U089pcrKyk6P8eN5\n",
              "8QMAAPbS5GrRiuzWVX5h2jUK8Q80nAiASTcMGaXhUf1V1Vivl1nn0QVuK/ODBw9WWVmZmpubJbXe\n",
              "4K6kpETx8fGdjtu0aZNWrFihhIQETZ06VVVVVUpISNCJEycu+HmDgoIUERHR6dGVRR8AAMCTvL9/\n",
              "l0pqTqtvcJjuGT7RdBwAhp27zr+cv0VVjfWGE8HTua3Mx8TEaOzYsXrzzTclSWvXrlVcXJySk5M7\n",
              "Hbd582YdOnRIxcXF2rJliyIiIlRcXKzo6Gh3RQMAADCq2dWi5ees8qEBrPIApBsT0pQSFaPKxnq9\n",
              "wjqP7+HWb7NftWqVVq1apZSUFD3zzDNas2aNJGnevHlat26dO39rAAAAj/XBgSwdqj6lPkFhum/E\n",
              "JNNxAHgIP4efFmXMkiT9Nm+Lqlnn8R383fnJhw8fru3bt5/38d/97ncXPD4hIUEVFRXujAQAAGDU\n",
              "uav8grRprPIAOrkpIV3PZn2mosoTWrNnW0e5B/6e8RvgAQAA+JI/HczRwaqT6h0UqrkjWeUBdOb0\n",
              "+3adX523RTVNDYYTwVNR5gEAAHpIi8ul57LXS2pd5cMCggwnAuCJbhmaocSIfqpoqNWre7aZjgMP\n",
              "RZkHAADoIesO5mh/5QlFBYVq7sjJpuMA8FDnrvOrcjfrLOs8LoAyDwAA0ANaXC4tz/5MkjR/1FT1\n",
              "YpUH8B1uTcxQQnhfnWmo1Wt7vzAdBx6IMg8AANADPireraLKE4oMDNYvWOUBfA9/P6cWd6zzn6u2\n",
              "qdFwIngayjwAAICbuSyXlrddKz9v1FSFBwYbTgTADn6clKkh4X11qv6sXmedx9+hzAMAALjZx8W5\n",
              "2ldxXBGBwbp/5BTTcQDYhL+fU4syZkqSVuZ+rrpm1nl8izIPAADgRi7LpWVZrdfKP5A6RZFBIYYT\n",
              "AbCT25LGKL5XH52sr9Ebe780HQcehDIPAADgRn8+lKd9FccVHhCkB1JZ5QFcmgA/px7NmCFJeil3\n",
              "E+s8OlDmAQAA3MRlufRs2yp/f+oURQWFGk4EwI5uTxqruF5ROlFXo9/v22E6DjwEZR4AAMBN/lqS\n",
              "rz1njqlXQJDmjZpqOg4Amwp0+uvR9NZr51/cvUl1zU2GE8ETUOYBAADcwLKsb1f5kZPVm1UewBW4\n",
              "I/kqDQqLUnldtd4qYJ0HZR4AAMAtPinJV97pMoX5B+pBVnkAV6h1nZ8hSXph9ybVs877PMo8AABA\n",
              "N7MsS8+2va/8L1Inq3dwmOFEALzBHcOuVmxopI7XVuntwp2m48AwyjwAAEA3++zwXu0+dUSh/oGa\n",
              "P2qa6TgAvETQuet8zkY1tDSbDQSjKPMAAADdyLKsjveVv2/EJPVhlQfQje5MGacBoREqq63Uf7HO\n",
              "+zTKPAAAQDdaf3ifsk8eVoh/gBaOZpUH0L2CnP56ZPQMSdLzORtY530YZR4AAKCbnLvK3ztikvoG\n",
              "9zKcCIA3uitlnPqHhOvo2Uq9U/i16TgwhDIPAADQTTYeKVDWyVIFOwO0MI1VHoB7BPsH6KHR0yVJ\n",
              "K3I2qJF13idR5gEAALpB51V+gqJDwg0nAuDNfj58gmJCwnXkbIXeKfrGdBwYQJkHAADoBp8fLdQ3\n",
              "J0oU5PTXwrTppuMA8HIh/gF6aPQ1klqvnW9ytRhOhJ5GmQcAALhC567y9wyfoJhQVnkA7nf38AmK\n",
              "Duml0pozWss673Mo8wAAAFdoS1mRdpYfUpDTv+M6VgBwtxD/QC1Ma13nV7DO+xzKPAAAwBU4d5X/\n",
              "ecp49Q+NMJwIgC+5Z/hE9Q0O06Hq03p//y7TcdCDKPMAAABXYNuxA9pxvFiBfk5WeQA9LjTg23V+\n",
              "efYGNbPO+wzKPAAAwBVYlvWpJOmulPGKDYs0nAaAL7pvxCT1CQrToepT+uBAluk46CGUeQAAgMu0\n",
              "/dgBfXHsoAL9nHokfYbpOAB8VGhAoBakTZPEOu9LKPMAAACXadmu1lX+zpRxGsgqD8Cg+0ZOUlRQ\n",
              "qA5WndSfDuaYjoMeQJkHAAC4DF8eO6htxw4owM+pR0bPMB0HgI/rFRCkBaNa1/nnsterxeUynAju\n",
              "RpkHAAC4DO13sP/psKs1qFeU2TAAIGnuyEmKDAzR/soTWsc67/Uo8wAAAJfoq+PF2lJWpAA/px7l\n",
              "WnkAHiI8MFjzR02VxDrvCyjzAAAAl6h9lf9J8lWK69XbcBoA+NYvUqcoMjBYhZXl+qh4t+k4cCPK\n",
              "PAAAwCX4uvyQPj9aKH+Hnx5jlQfgYSICgzWvbZ1fnr1eLot13ltR5gEAAC5B+yo/J3msBof3MZwG\n",
              "AM53/8gpiggM1r6K4/q4ONd0HLgJZR4AAKCLdp0o1cYjBXI6/LQoY6bpOABwQZFBIXogdYqk1n+A\n",
              "ZJ33TpR5AACALlqW1fq+8nOSxmhIeF/DaQDg4h5InaLwgCDtqziuPx/KMx0HbkCZBwAA6IKsE6Va\n",
              "f3ifnA4/PcYqD8DDRQWF6v62df5Z1nmvRJkHAADogmezW6+V/3FipoZG9DOcBgC+37xRU9UrIEh7\n",
              "zhzTX0vyTcdBN6PMAwAAfI+ck4f1aele+TkcWpQxy3QcAOiS3kGh+sXIyZJa13nLsgwnQneizAMA\n",
              "AHyPZ9vuYH9rYqYSI1nlAdjH/FFTFeYfqLzTZfqEdd6rUOYBAAC+Q+6pI/qkdI/8HA4tZpUHYDO9\n",
              "g8M0t32dz17POu9FKPMAAADf4dms9ZKkm4dmKCky2nAaALh0C9KmKdQ/ULtPHdFnh/eajoNuQpkH\n",
              "AAC4iPzTZfpLSZ4cYpUHYF99gsN034hJklrfd5513jtQ5gEAAC6i/Vr5m4aO1rCoGMNpAODyLRw9\n",
              "TSH+Aco+eVjrD+8zHQfdgDIPAABwAXtOH9PHh3LbVvnZpuMAwBXpG9xL97LOexXKPAAAwAUsb3tf\n",
              "+RsT0jS8d3/DaQDgyi1Mm6ZgZ4CyTpZq45EC03FwhSjzAAAAf2ffmeP6qDhXkljlAXiN6JBw3TNi\n",
              "giTWeW9AmQcAAPg7y7M/kyVLNwxJ08g+A0zHAYBu81DadAU5/fXNiRJ9frTQdBxcAco8AADAOQoq\n",
              "juu/D+6WJD2eySoPwLvEhIbr7uGs896AMg8AAHCO5dnrZcnS9fGjlNon1nQcAOh2D41uXed3lh/S\n",
              "1rL9puPgMlHmAQAA2hRVlGvdgRxJ0hOs8gC81IDQCP0sZbwkaVnWp6zzNkWZBwAAaPNczgZZsnRd\n",
              "fKpG9R1oOg4AuM3Do6cr0M+pL48Xa9uxA6bj4DJQ5gEAACQdqDyhDw5kSZIWZ8wyGwYA3Cw2LFJ3\n",
              "nbPOw34o8wAAAJKey94gl2Xp2sEjlN4vznQcAHC7R9JnKNDPqS+OHdR21nnbocwDAACfd7DqpN5v\n",
              "W+WfyLzWbBgA6CEDwyJ1Z8o4SdKyXazzdkOZBwAAPm9F9ga1WC7NihuuDFZ5AD7kkdEzFODn1LZj\n",
              "B/TlsYOm4+ASUOYBAIBPK646pbX7d0lilQfgewb1itIdyVdJan3fedgHZR4AAPi0FTmtq/yMQSka\n",
              "Ez3YdBwA6HGPps+Qv8NPW8qK9NXxYtNx0EWUeQAA4LNKqk9rbdE3kljlAfiuweF99JNhrPN2Q5kH\n",
              "AAA+a0XOBjVbLk0fOExXxcSbjgMAxjyWPlP+Dj99frRQX5cfMh0HXUCZBwAAPulwzRm9U/i1JFZ5\n",
              "AIgP76M5yWMlsc7bBWUeAAD4pOdzNqrZcmlqbLKu7j/EdBwAMG5Rxkw5HX7aeKRAu06Umo6D70GZ\n",
              "BwAAPudITYX+q3CnJOmJzNmG0wCAZxgS3ldzksZIkpZl8b7zno4yDwAAfM4LuzeqydWiyQMSNWHA\n",
              "UNNxAMBjPNa2zq8/vE9ZrPMejTIPAAB8ytGzlXq74CtJ0hNjuFYeAM41NKKffpyYKUl6Nptr5z0Z\n",
              "ZR4AAPiUF3I2qtHVookDhmrSgETTcQDA4yzKmCk/h0Oflu5VzsnDpuPgIijzAADAZ5SdrdRbBTsk\n",
              "cQd7ALiYxMho3TI0Q5L0LHe291iUeQAA4DNe3L1Jja4WTeifoMms8gBwUYszZskhhz4p3aPcU0dM\n",
              "x8EFUOYBAIBPOFZbpT+cs8o7HA7DiQDAcyVHxejmxHRJvO+8p6LMAwAAn7By9yY1tDRrXMwQTYlN\n",
              "Mh0HADze4xmz5ZBDfy3JV/7po6bj4O9Q5gEAgNcrr63WG/u+lMQqDwBdNSwqRjcNHS1JejZrveE0\n",
              "+HuUeQAA4PVW5rau8mOj4zVtYLLpOABgG4vb1vmPD+Vqz+ljpuPgHJR5AADg1U7UVev1ve2r/GxW\n",
              "eQC4BMN799eNCWmSpOW877xHocwDAACvtjJ3s+pbmpTZb7BmDEoxHQcAbGdxxmxJ0kfFudp35rjh\n",
              "NGhHmQcAAF7rZF2NXt+7XRKrPABcrpF9BuiGIWmyZLHOexDKPAAA8FqrcjerrrlJGf3iNCtuuOk4\n",
              "AGBbj2fOkiT998HdKqhgnfcElHkAAOCVTtef1Wus8gDQLVL7DNR18alt6zx3tvcElHkAAOCVVuVu\n",
              "Vm1zo9L7DtLsuBGm4wCA7T2R2Xrt/LoDOSqqKDecBm4t84WFhZo8ebJSUlI0btw45eXlnXfM+vXr\n",
              "NX78eKWmpmrUqFH61a9+JZfL5c5YAADAy52pP6tX92yTJD3OKg8A3SKt7yD9cPBIWbL0XM4G03F8\n",
              "nlvL/IIFCzR//nwVFBToySef1Ny5c887pnfv3nr77beVn5+vr7/+Wtu2bdPrr7/uzlgAAMDL/TZv\n",
              "i842N2pUn1j9YPBI03EAwGs83rbOf3AgSwcqTxhO49vcVubLy8u1c+dO3X333ZKkOXPmqLS0VEVF\n",
              "RZ2OGzNmjBITEyVJwcHByszMVHFxsbtiAQAAL3emoVavsMoDgFuk94vTtYNHyGVZei6bdd4kt5X5\n",
              "0tJSxcbGyt/fX5LkcDgUHx+vkpKSi/6aY8eO6d1339WPfvSjix7T0NCgqqqqTo+WlpZuzw8AAOzp\n",
              "d3lbVNPUoJG9B+i6+FTTcQDA6zyRea0k6f0DWTpYddJwGt/lMTfAq6qq0k033aRf/epXuvrqqy96\n",
              "3NNPP63IyMhOjx07dvRgUgAA4KkqGmr1Sv5WSa2rvJ/DY/6qAwBeo/3tPlssl1awzhvjtle4wYMH\n",
              "q6ysTM3NzZIky7JUUlKi+Pj4846trq7W9ddfr1tuuUVLliz5zs/71FNPqbKystNj/PjxbvkaAACA\n",
              "vbycv1XVTQ0aHtVf/zBklOk4AOC12q+dX7t/l4qrThlO45vcVuZjYmI0duxYvfnmm5KktWvXKi4u\n",
              "TsnJyZ2Oq6mp0fXXX6/rr79e//zP//y9nzcoKEgRERGdHk6n0y1fAwAAsI/Khjq93LbKP8EqDwBu\n",
              "NTY6XtMHpbSu89zZ3gi3vsqtWrVKq1atUkpKip555hmtWbNGkjRv3jytW7dOkrR8+XLt2LFD7733\n",
              "njIzM5WZman/+3//rztjAQAAL/TKnq2qaqzX8Kj+uiEhzXQcAPB6S9rX+aJvVFJ92nAa3+OwLMsy\n",
              "HeJKLVmyREuXLjUdAwAAGFLVWK9J7zyjysZ6vTj9Lt2cmGE6EgD4hJ/99WV9frRQd6WM039MmWM6\n",
              "jk/h+88AAIDtrcnfqsrGeg2LjNGNCaNNxwEAn/FE2zr/TuHXKmWd71GUeQAAYGs1TQ1anbdFkrQ4\n",
              "c5acfvz1BgB6yrj+CZoam6xmy6UXdm8yHcen8GoHAABs7dU921TZWKekyGjdlJBuOg4A+Jz2df6/\n",
              "CnfqSE2F2TA+hDIPAABs62xTg1blbpYkLcpglQcAEyYMGKrJAxLV5GrRC7s3mo7jM3jFAwAAtvXq\n",
              "nu0601CroRH9dMtQVnkAMOWJMddKkt4u+EpHz1YaTuMbKPMAAMCWzl3lF2fMlL+f03AiAPBdkwYk\n",
              "auKAoWp0teiFnI2m4/gEyjwAALCl1/d+odMNZ5UQ3le3JmaajgMAPu+JzNZ1/q2CHSpjnXc7yjwA\n",
              "ALCd2qZGrcz9XJK0iFUeADzC5AGJGt8/QY2uFr3Ine3djjIPAABs5419X+hU/VkNCe+j25LGmI4D\n",
              "AJDkcDg67mz/h4IdOlZbZTiRd6PMAwAAW6lrbtRLu1tX+cfSWeUBwJNMjU3W1TFD1NDSrJdY592K\n",
              "Mg8AAGzl9/t26GR9jeJ79dGc5LGm4wAAznHuOv/mvi9VXlttOJH3oswDAADbqGtu6rgO89GMGQpg\n",
              "lQcAj3PNwGEaGx2vhpZmrcxlnXcXyjwAALCNPxTsUHldtQaFRen2JFZ5APBE567zr+/9UifqWOfd\n",
              "gTIPAABsof6cVf6x9JkKdPobTgQAuJgZg1KU2W+w6luatDJ3s+k4XokyDwAAbOGtgq90vLZKA8Mi\n",
              "dcewq0zHAQB8h87r/HadrKsxnMj7UOYBAIDHa2hp1gu7N0qSHmWVBwBbmBU3XBn94lTX3KRVrPPd\n",
              "jjIPAAA83tsFX+lYbZViQyP102FXm44DAOgCh8OhxzNmSZJe27tdp+vPGk7kXSjzAADAozW0NOv5\n",
              "nI2SpEfSZyiIVR4AbOPawSM1uu8g1TY3ss53M8o8AADwaH8s3Kmy2kr1D43QnazyAGAr567zr+7Z\n",
              "pjOs892GMg8AADxW47mr/OjpCvYPMBsIAHDJfhifqlF9YnW2uVGr87aYjuM1KPMAAMBjvVP0jY6c\n",
              "rVD/kHD9LGW86TgAgMvgcDj0eNud7dfs2aYzDbWGE3kHyjwAAPBITa4WPZ+zQZL0EKs8ANjadfGp\n",
              "Gtl7gGqaGvQ71vluQZkHAAAe6d2ib1Rac0bRIb308+ETTMcBAFwBP4dfxzr/Sv5WVbDOXzHKPAAA\n",
              "8DhNrhatyG5b5dOmK4RVHgBs7x+GjNLwqP6qbmrQy/lbTcexPco8AADwOO/t36WSmtPqF9xL94xg\n",
              "lQcAb+Dn8NMTbev8y/lbVdlQZziRvVHmAQCAR2l2tei5tlV+Ydo1CvEPNJwIANBdbkhIU0pUjKoa\n",
              "6/XKHtb5K0GZBwAAHuX9/Vk6VH1KfYPDdO+IiabjAAC6kZ/DT4szWtf53+VtUVVjveFE9kWZBwAA\n",
              "HqPZ1aLl2eslSQvSrlFoAKs8AHibHyWMVnJktCob67WGa+cvG2UeAAB4jA8OZKu4+pT6BIXpPlZ5\n",
              "APBKTr9v1/nVeVtUzTp/WSjzAADAI7S4XHqubZWfnzZNYQFBhhMBANzl5qHpSoqMVmVjnV7bu910\n",
              "HFuizAMAAI+w7mCODlSdVFRQqOaOnGQ6DgDAjZx+flqUMUuStCp3s842NRhOZD+UeQAAYFyLy6Xl\n",
              "2Z9JkuaPmqperPIA4PVuGZquoRH9dKahVq/uYZ2/VJR5AABg3IfFu1VUeUKRgSH6xcjJpuMAAHqA\n",
              "v59TizNmSmKdvxyUeQAAYJTL+naVf3DUVIUHBhtOBADoKbcmZiohvK9ON5zV63u/MB3HVijzAADA\n",
              "qI+Kc1VQUa7IwGDdnzrFdBwAQA/y93NqUds6vzL3c9U2NRpOZB+UeQAAYIzLcunZrNZV/oHUqYpg\n",
              "lQcAn/PjpDEaEt5Hp+rP6o19rPNdRZkHAADGfHwoT/sqjisiMFgPsMoDgE8K8HPq0fTWdf6l3Z+r\n",
              "rpl1viso8wAAwIhzV/n7U6coMijEcCIAgCm3J4/V4F69dbK+Rm/u+9J0HFugzAMAACP+cihfe88c\n",
              "U3hAkOaxygOATzt/nW8ynMjzUeYBAECPsyxLz2Z/u8pHBYUaTgQAMO0nyWM1KCxK5XXV+kPBDtNx\n",
              "PB5lHgAA9LhPSvKVf7pMYf6Bmjdqquk4AAAPEOj012Nt6/yLuzepnnX+O1HmAQBAj7IsS8varpX/\n",
              "Repk9WaVBwC0uWPYVRoYFqnjtVV6q+Ar03E8GmUeAAD0qE9L9yj39FGF+gdq/qhppuMAADxIoNO/\n",
              "49r5F3ZvVENLs9lAHowyDwAAesy5q/zckZPUJzjMcCIAgKf56bCrFRsaqWO1VXqbdf6iKPMAAKDH\n",
              "rD+8TzmnjijEP0AL0ljlAQDnC3L665H0GZKk53NY5y+GMg8AAHqEZVlamvWpJOm+EZPUN7iX4UQA\n",
              "AE9157Cr1T80QmW1lfpj4U7TcTwSZR4AAPSIDUcKlH3ysEL8A7Qw7RrTcQAAHizYP0APj54uqXWd\n",
              "b2SdPw9lHgAAuF3rtfKtq/y9wyeqXwirPADgu/0sZbxiQsJ15GyF/lj0tek4HocyDwAA3O7zo4Xa\n",
              "daJUwc4ALRzNKg8A+H4hndb5Dazzf4cyDwAA3OrcO9jfM2KCokPCDScCANjFz4dPUHRILx2uqdDa\n",
              "/btMx/EolHkAAOBWW8qKtLP8kIKc/lwrDwC4JCH+AXoorXWdX5G9QU2uFsOJPAdlHgAAuM25q/zP\n",
              "U8arf2iE4UQAALu5Z8QE9QvupZKa03qPdb4DZR4AALjNtrL92nG8WEFOfz3c9p7BAABcihD/wI7v\n",
              "7Houe4OaWeclUeYBAIAbLW1b5e9KGacBrPIAgMt074iJ6hscpkPVp/T+/izTcTwCZR4AALjFtrL9\n",
              "+vL4QQX6OfXw6Bmm4wAAbCw0IFAL2tb55dnrWedFmQcAAG6y7JxVfmBYpOE0AAC7u2/ERPUOClVx\n",
              "9Sl9cCDbdBzjKPMAAKDbfXHsgLYfO6AAP6ceYZUHAHSDsIAgLUibJkl6Lnu9Wlwuw4nMoswDAIBu\n",
              "92zWeknSncOu1sBeUWbDAAC8xtyRkxUVFKoDVSf1p4O+vc5T5gEAQLf66nixtpQVKcDPqUfTZ5qO\n",
              "AwDwIr0CgjR/1FRJrPOUeQAA0K3ar5X/SfJVGsQqDwDoZr8YOVmRgSEqqjyhD4t3m45jDGUeAAB0\n",
              "m6/LD+nzo4Xyd/jpMd5XHgDgBuGBwXqwbZ1fnv2ZXJZvrvOUeQAA0G3a31f+9uSxGhzex3AaAIC3\n",
              "uj91iiIDg1VQUa6PinNNxzGCMg8AALrFNydKtOlIgZwOPz2WwbXyAAD3iQgM1gOprev8s1m+uc5T\n",
              "5gEAQLdYtqt9lR+jIeF9DacBAHi7B1KnKDwgSPsqjuvjQ3mm4/Q4yjwAALhiu06UasORfa2rfPos\n",
              "03EAAD4gMihE96dOkeSb6zxlHgAAXLFn266Vvy0pUwkRrPIAgJ4xb9RU9QoI0t4zx/SXQ/mm4/Qo\n",
              "yjwAALgi2ScP67PDe+XncLDKAwB6VO+gUN0/crIk6Vkfu7M9ZR4AAFyR5W2r/I8TM5UY2c9wGgCA\n",
              "r3lw1FSF+Qcq/3SZPinZYzpOj6HMAwCAy5Z76og+Kd0jP4dDizJY5QEAPa93cJh+kdq2zmd9Jsuy\n",
              "DCfqGZR5AABw2Za1rfI3D81QUmS04TQAAF81f9Q0hfoHKvf0UX1a6hvrPGUeAABclvzTR/XXknw5\n",
              "5NBiVnkAgEF9gsM0d+QkSa3/0OwL6zxlHgAAXJZvV/l0DYuKMZwGAODrFqRNU4h/gHJOHdH6w/tM\n",
              "x3E7yjwAALhk+afL9OdDea2rfCarPADAvL7BvXTfiNZ1fmnWp16/zlPmAQDAJVuevV6S9KOE0UqJ\n",
              "6m84DQAArRamXaNgZ4CyTx7WhiMFpuO4FWUeAABckr1njumj4t2SxCoPAPAo/UJ66d4REyRJy7x8\n",
              "nafMAwCAS7I8q3WVvzFhtEb0HmA4DQAAnS1Mm64gp792nSjVpqOFpuO4DWUeAAB0WUHFcX3Ytso/\n",
              "njHbcBoAAM4XExque4a3rfO7vHedp8wDAIAuW569XpYs/cOQURrZh1UeAOCZHhrdus5/faJEW8qK\n",
              "TMdxC8o8AADokqKKcq07kCOJVR4A4Nn6h0bo5ynjJXnv+867tcwXFhZq8uTJSklJ0bhx45SXl3fB\n",
              "415++WUNGzZMSUlJevDBB9XU1OTOWAAA4DK0r/LXxadqVN+BpuMAAPCdHk6foSCnv3YcL9a2sv2m\n",
              "43Q7t5b5BQsWaP78+SooKNCTTz6puXPnnnfMwYMH9etf/1qbN29WUVGRjh8/rtWrV7szFgAAuEQH\n",
              "Kk/oTwezJbHKAwDsYUBohO5KGSdJWpr1meE03c/fXZ+4vLxcO3fu1CeffCJJmjNnjh599FEVFRUp\n",
              "OTm547h3331XN998swYMaL3ubuHChfq3f/s3PfLIIxf8vA0NDWpoaOj0sZaWFjd9Fd1r0jv/rtKa\n",
              "M6ZjAABw2X4weKRG9xtkOgYAAF3y8OgZ+sO+Hfry+EFtK9uvybFJpiN1G7ct86WlpYqNjZW/f+u/\n",
              "FzgcDsXHx6ukpKTTcSUlJRoyZEjHjxMSEs475lxPP/20IiMjOz127Njhni8CAAB0CHYG6JdjfmA6\n",
              "BgAAXTYwLFJ3pYyTn8OhXSdKTcfpVm5b5t3lqaee0pIlSzp97Ne//rWhNJfmo5selcsLb7wAAPAN\n",
              "YQGBCvEPNB0DAIBLsihjlh5InaLEyGjTUbqV28r84MGDVVZWpubmZvn7+8uyLJWUlCg+Pr7TcfHx\n",
              "8dq//9ubERQXF593zLmCgoIUFBTU6WNOp7N7w7tJn+Aw0xEAAAAAwKf0D40wHcEt3PZt9jExMRo7\n",
              "dqzefPNNSdLatWsVFxfX6Xp5qfVa+nXr1unYsWOyLEsrV67UnXfe6a5YAAAAAADYnlvvZr9q1Sqt\n",
              "WrVKKSkpeuaZZ7RmzRpJ0rx587Ru3TpJUmJion7zm99oypQpSk5OVnR0tBYsWODOWAAAAAAA2JrD\n",
              "sux/EfeSJUu0dOlS0zEAAAAAAOgRbl3mAQAAAABA96PMAwAAAABgM5R5AAAAAABshjIPAAAAAIDN\n",
              "UOYBAAAAALAZyjwAAAAAADZDmQcAAAAAwGYo8wAAAAAA2AxlHgAAAAAAm6HMAwAAAABgM5R5AAAA\n",
              "AABshjIPAAAAAIDNUOYBAAAAALAZyjwAAAAAADZDmQcAAAAAwGYo8wAAAAAA2IzDsizLdIgrddtt\n",
              "tykhIcF0jO/V0tKiHTt2aPz48XI6nabj4HtwvuyHc2YvnC974XzZD+fMXjhf9sL5shc7nq8hQ4Zo\n",
              "8eLF33mMV5R5u6iqqlJkZKQqKysVERFhOg6+B+fLfjhn9sL5shfOl/1wzuyF82UvnC978dbzxbfZ\n",
              "AwAAAABgM5R5AAAAAABshjIPAAAAAIDNUOZ7UFBQkP7lX/5FQUFBpqOgCzhf9sM5sxfOl71wvuyH\n",
              "c2YvnC974XzZi7eeL26ABwAAAACAzbDMAwAAAABgM5R5AAAAAABshjIPAAAAAIDNUObdoLCwUJMn\n",
              "T1ZKSorGjRunvLy8Cx738ssva9iwYUpKStKDDz6opqamHk4KqWvna+PGjQoJCVFmZmbHo66uzkBa\n",
              "LFq0SAkJCXI4HMrKyrrocTy/PENXzhfPL89RX1+vW2+9VSkpKcrIyNAPfvADFRUVXfDYDz/8UCNG\n",
              "jNCwYcN02223qaqqqofTQur6OSsuLpbT6ez0PNu/f7+BxPjhD3+o9PR0ZWZmatq0adq1a9cFj+N1\n",
              "zDN05XzxOuZ51qxZI4fDoQ8++OCCP+81r2EWut3MmTOtNWvWWJZlWe+884519dVXn3fMgQMHrNjY\n",
              "WKusrMxyuVzWTTfdZD3//PM9nBSW1bXztWHDBisjI6Nng+GCNm3aZJWWllpDhgyxdu3adcFjeH55\n",
              "jq6cL55fnqOurs766KOPLJfLZVmWZa1YscKaPn36ecdVV1dbMTEx1p49eyzLsqxHHnnE+uUvf9mT\n",
              "UdGmq+fs4MGDVmRkZM+GwwWdOXOm47/fe+89Kz09/bxjeB3zHF05X7yOeZaDBw9akyZNsiZOnGi9\n",
              "//775/28N72Gscx3s/Lycu3cuVN33323JGnOnDkqLS0971/J3333Xd18880aMGCAHA6HFi5cqLfe\n",
              "estEZJ/W1fMFz3HNNdcoLi7uO4/h+eU5unK+4DmCg4N1ww03yOFwSJImTpyo4uLi847785//rDFj\n",
              "xmjEiBGSpIcffpjnmCFdPWfwHFFRUR3/XVlZ2XHuzsXrmOfoyvmC53C5XJo3b55WrFhx0beh86bX\n",
              "MMp8NystLVVsbKz8/f0lSQ6HQ/Hx8SopKel0XElJiYYMGdLx44SEhPOOgft19XxJ0v79+zV27FiN\n",
              "GzdOL774Yk9HxSXg+WU/PL880/Lly3XLLbec9/ELPcfKysrU3Nzck/FwARc7Z5J09uxZjRs3TmPH\n",
              "jtX//t//Wy0tLT2cDu3uvfdeDR48WL/+9a/1xhtvnPfzvI55lu87XxKvY55i6dKlmjJliq666qqL\n",
              "HuNNr2H+pgMAdjB27FgdPnxYkZGROnz4sG644Qb169dPd9xxh+logO3x/PJM//Zv/6aioiJ99tln\n",
              "pqOgi77rnMXGxurIkSOKiYnR6dOn9dOf/lT/7//9P/3qV78ykBSvv/66JOm1117Tk08+qY8//thw\n",
              "InyX7ztfvI55htzcXK1du1aff/656Sg9hmW+mw0ePLjTv+xYlqWSkhLFx8d3Oi4+Pl6HDh3q+HFx\n",
              "cfF5x8D9unq+IiIiFBkZKUmKi4vTXXfdpc2bN/d4XnQNzy974fnlef7zP/9T7733nv785z8rNDT0\n",
              "vJ+/0HPs3O9yQs/7vnMWFBSkmJgYSVKfPn10//338zzzAPfdd582bNigU6dOdfo4r2Oe6WLni9cx\n",
              "z7B582YVFxdr2LBhSkhI0BdffKH58+frpZde6nScN72GUea7WUxMjMaOHas333xTkrR27VrFxcUp\n",
              "OTm503Fz5szRunXrdOzYMVmWpZUrV+rOO+80EdmndfV8lZWVyeVySZKqq6v14YcfasyYMT2eF13D\n",
              "88teeH55lqVLl+qtt97S3/72t07Xip7r+uuv1zfffKO9e/dKkl588UWeYwZ15ZyVl5d33A29oaFB\n",
              "7733Hs8zAyoqKnT06NGOH3/wwQfq27ev+vTp0+k4Xsc8Q1fPF69jnuGhhx5SWVmZiouLVVxcrIkT\n",
              "J2r16tV66KGHOh3nVa9hRm+/56X27t1rTZw40Ro2bJh11VVXWTk5OZZlWdYDDzxg/elPf+o4bvXq\n",
              "1VZiYqKVmJho3X///VZjY6OpyD6tK+drxYoVVmpqqpWenm6lpqZa//Iv/9Jx52D0rPnz51uDBg2y\n",
              "nE6nFRMTYyUlJVmWxfPLU3XlfPH88hylpaWWJCsxMdHKyMiwMjIyrPHjx1uWZVm//vWvrZdeeqnj\n",
              "2D/96U/W8OHDraSkJOuWW26xKioqTMX2aV09Z2vXrrVGjRrV8Tx79NFHrfr6epPRfVJxcbE1btw4\n",
              "Ky0tzUpPT7dmz57d8U4fvI55nq6eL17HPNP06dM77mbvra9hDsuyLNP/oAAAAAAAALqOb7MHAAAA\n",
              "AMBmKPMAAAAAANgMZR4AAAAAAJuhzAMA4GMyMzNVXV19yb/u9ttv16uvvtr9gQAAwCWz35vpAQCA\n",
              "K5KVlWU6AgAAuEIs8wAA+BiHw6GKigpJUkJCgv7n//yfmjRpkoYOHap//dd/7Thu7969mjx5skaN\n",
              "GqVbb71VVVVVHT9XXV2tBx98UOPHj1d6errmz5+vxsZG7du3T3FxcTpw4IAk6T//8z91/fXXd7wH\n",
              "MwAA6B6UeQAAfFxFRYW2b9+ur776Sv/xH/+hI0eOSJLuuecePfDAA8rLy9P/+T//R5s2ber4Nf/j\n",
              "f/wPTZs2TTt27FB2drZcLpeWL1+u4cOH6z/+4z90xx13aOPGjXrhhRf0xhtvyM+Pv3IAANCd+DZ7\n",
              "AAB83M9+9jNJUr9+/ZSYmKiDBw8qPDxcWVlZmjt3riRp9OjRmjp1asev+eCDD7R9+3YtXbpUklRX\n",
              "Vyen0ylJuuuuu7RhwwZdd911+uyzzxQdHd2zXxAAAD6AMg8AgI8LDg7u+G+n06nm5uYLHudwODr+\n",
              "27IsrV27VikpKecd19zcrNzcXPXp06dj5QcAAN2L73kDAADniYiI0JgxY/T6669LkvLy8rRly5aO\n",
              "n7/11lv17//+7x3F/8yZMyoqKpIk/eM//qOGDx+uzZs365e//GXHxwEAQPehzAMAgAt6/fXXtXr1\n",
              "aqWlpemf//mfdc0113T83LJlyxQSEqLMzEylp6dr9uzZKi4u1ocffqi//OUveuGFF5ScnKylS5fq\n",
              "jjvuUH19vcGvBAAA7+OwLMsyHQIAAAAAAHQdyzwAAAAAADZDmQcAAAAAwGYo8wAAAAAA2AxlHgAA\n",
              "AAAAm6HMAwAAAABgM5R5AAAAAABshjIPAAAAAIDNUOYBAAAAALAZyjwAAAAAADZDmQcAAAAAwGb+\n",
              "f/RKYcyA1nr4AAAAAElFTkSuQmCC\n",
              "\">\n",
              "      </div>\n",
              "      <script type=\"text/javascript\">\n",
              "        (() => {\n",
              "          const chartElement = document.getElementById(\"chart-925fc36b-6773-41c8-9aac-aa0acde85516\");\n",
              "          async function getCodeForChartHandler(event) {\n",
              "            const chartCodeResponse =  await google.colab.kernel.invokeFunction(\n",
              "                'getCodeForChart', [\"chart-925fc36b-6773-41c8-9aac-aa0acde85516\"], {});\n",
              "            const responseJson = chartCodeResponse.data['application/json'];\n",
              "            await google.colab.notebook.addCell(responseJson.code, 'code');\n",
              "          }\n",
              "          chartElement.onclick = getCodeForChartHandler;\n",
              "        })();\n",
              "      </script>\n",
              "      <style>\n",
              "        .colab-quickchart-chart-with-code  {\n",
              "            display: block;\n",
              "            float: left;\n",
              "            border: 1px solid transparent;\n",
              "        }\n",
              "\n",
              "        .colab-quickchart-chart-with-code:hover {\n",
              "            cursor: pointer;\n",
              "            border: 1px solid #aaa;\n",
              "        }\n",
              "      </style>"
            ]
          },
          "metadata": {}
        },
        {
          "output_type": "display_data",
          "data": {
            "text/plain": [
              "<google.colab._quickchart_helpers.SectionTitle at 0x7857dd4d5630>"
            ],
            "text/html": [
              "<h4 class=\"colab-quickchart-section-title\">Values</h4>\n",
              "<style>\n",
              "  .colab-quickchart-section-title {\n",
              "      clear: both;\n",
              "  }\n",
              "</style>"
            ]
          },
          "metadata": {}
        },
        {
          "output_type": "display_data",
          "data": {
            "text/plain": [
              "from matplotlib import pyplot as plt\n",
              "_df_12['index'].plot(kind='line', figsize=(8, 4), title='index')\n",
              "plt.gca().spines[['top', 'right']].set_visible(False)"
            ],
            "text/html": [
              "      <div class=\"colab-quickchart-chart-with-code\" id=\"chart-39d7402a-7192-4528-8083-1ed83d0b539d\">\n",
              "        <img style=\"width: 180px;\" src=\"data:image/png;base64,iVBORw0KGgoAAAANSUhEUgAAApsAAAFuCAYAAADOJdNTAAAAOXRFWHRTb2Z0d2FyZQBNYXRwbG90\n",
              "bGliIHZlcnNpb24zLjcuMSwgaHR0cHM6Ly9tYXRwbG90bGliLm9yZy/bCgiHAAAACXBIWXMAAA9h\n",
              "AAAPYQGoP6dpAAA+MElEQVR4nO3de1jUdf7//wcHxRMHRTmJgDCjZh4xFQ95wrVyN3QzO22bth5T\n",
              "Ay/bb/367tont+vK/ey2fkNdNas1q83tYFlZfT4bKJ4ys1I7mjOcURAVQRQZYHj//hjEWLFAGQaY\n",
              "++26vK7mPS+G57yu6e3dGYbxMAzDEAAAAOAEnq4eAAAAAG0XsQkAAACnITYBAADgNMQmAAAAnIbY\n",
              "BAAAgNMQmwAAAHAaYhMAAABOQ2wCAADAaYhNAAAAOA2xCQA/47bbbtNTTz11zV8/duxYPfnkk003\n",
              "EAC0It6uHgAAWrqPPvrI1SMAQKvFM5sAAABwGmITAH7GhAkT9Mc//lGS5OHhoTVr1mjMmDHq0qWL\n",
              "Bg4cqL1799auraqq0qOPPqqQkBD16NFDjz/++BW3d/z4cd13333q2bOngoKCdO+99+rUqVOSpLS0\n",
              "NHXu3FkHDx6UJBmGoV/+8pe6/fbbZRhGM9xbAGhaxCYANNILL7ygzZs3q7i4WPHx8frNb35Te91f\n",
              "/vIXvfHGG9qxY4fy8vLk7e2tAwcO1F5vs9kUHx+vsLAwHTt2TBkZGfL29tZ9990nyRG2Tz75pO68\n",
              "806dOXNGTz31lI4ePapXXnlFHh4ezX5fAeB6EZsA0EiPPPKITCaTvL29NW/ePOXk5OjkyZOSpE2b\n",
              "NumRRx5R//795ePjoyeffFJdu3at/doPPvhApaWl+utf/6rOnTurS5cu+vOf/6yUlBTl5eVJkv7P\n",
              "//k/Gj58uOLj4/WXv/xFW7duVUBAgCvuKgBcN94gBACNFBYWVvvfnTt3liSVlpYqODhYeXl56t27\n",
              "d+31Xl5eioiIqL1ssVh08uTJOgEqST4+PsrJyVF4eLgkadmyZRozZozuvfdeDRkyxIn3BgCci9gE\n",
              "gCYUHh6urKys2st2u125ubm1l0NCQhQZGan09PSr3kZJSYlmzZqlOXPm6I033tD777+v22+/3Zlj\n",
              "A4DT8DI6ADShWbNm6W9/+5uOHj0qm82mP/3pTyoqKqq9/o477lBlZaWWL1+ukpISSVJhYaFef/11\n",
              "SY43BM2aNUt9+/bV888/r+eee04PPPCAMjIyXHJ/AOB6EZsA0IQee+wx3XHHHRo/frzCw8NVUVGh\n",
              "kSNH1l7v6+ur/fv3KycnRwMHDpSfn59Gjx6t3bt3S5L++7//W1999VXtG4Luvfde3X///ZoxY4Yu\n",
              "XrzoqrsFANfMw+B3aQAAAMBJeGYTAAAATkNsAgAAwGmITQAAADgNsQkAAACnITYBAADgNMQmAAAA\n",
              "nIbYBAAAgNO0yNhMTk529QgAAABoAi0yNrOzs109AgAAAJpAi4xNAAAAtA3EJgAAAJyG2AQAAIDT\n",
              "EJsAAABwGmITAAAATkNsAgAAwGmITQAAADgNsQkAAACnuebY3LRpkzw8PLRt27Z6r9++fbv69esn\n",
              "s9msO+64Q+fOnbvWbwUAAIBW6ppiMysrS88//7zi4uLqvf78+fOaM2eOtm3bJovForCwMD311FPX\n",
              "NSgAAABan0bHZnV1tebOnas1a9bIx8en3jUfffSRhg4dqn79+kmSFi1apC1btlzfpAAAALiqSnu1\n",
              "q0eoV6Njc9WqVRozZoyGDRt21TU5OTmKjIysvRwVFaX8/HxVVVVdsdZms+ncuXN1/tjt9saOBQAA\n",
              "4JZKLlbq2ZRjGv3nHTp5rtzV41zBuzGLv/nmG23dulW7d+9usgFWrlypFStW1Dl2tZfnAQAA4FBS\n",
              "Vql/7MvUP/ZlqrTc8YTeGwdz9XC82cWT1dWo2NyzZ4+ysrJkNjvuREFBgebPn6/8/Hw99NBDtesi\n",
              "IiL08ccf117OyspSaGiovL2v/HaPP/64li1bVufY8uXLG3UnAAAA3EVxWYX+sTdTm/ZlqdTmiMw+\n",
              "wV2UGG/W1AGhLp7uSh6GYRjX+sUTJkzQ0qVLNX369DrHS0tLFRMTo927d6tfv35asmSJOnTooGee\n",
              "eaZBt7ts2TKtWrXqWscCAABoc4rLKvTCnky99EmWztdEZr8QXyXGm3XrjSHy9PRw8YT1a9Qzmz/l\n",
              "iSeeUFhYmBYuXChfX1+98MILmj59uqqqqjRgwABt3ry5qb4VAACA2zh7oUIv7M3Q5k+y60Tm0slm\n",
              "TenfciPzkut6ZtNZeGYTAAC4u6ILFXp+T4Ze/iRLFyocb57uH+qnxHizpvQPbvGReUmTPbMJAACA\n",
              "63fmvE0b92Tolf3ZKquJzBvD/JQUb9Yv+gfLw6N1ROYlxCYAAEALcPq8Tc/vztDL+7N1sdIRmQN6\n",
              "+mlpfB/F3xDU6iLzEmITAADAhU6V2rRxd7pe/TSnNjIHhfsrKd6sSf1ab2ReQmwCAAC4QGFpuZ7b\n",
              "laF/HshWeaXj038G9wrQ0nizJvTt0eoj8xJiEwAAoBkVnivXhprItFU5InNIrwAtnWzW+D5tJzIv\n",
              "ITYBAACawclz5Vqflq4tn+XURmZsRICSJvfROHP3NheZlxCbAAAATlRQUq71aVZtOZiriprIvCmy\n",
              "q5ImmzXW1HYj8xJiEwAAwAnySy5qfVq6/vVZrirsjsgcHtVVSyf30eiYwDYfmZcQmwAAAE3oRPFF\n",
              "rUuz6o2DebWROaJ3Ny2NN2uUG0XmJcQmAABAEzhefFHrdlr1xue5qrQ7PqAxLrqbkuL7aFRMoIun\n",
              "cx1iEwAA4DrkFpVpXVq63vricmSOig5U0mSz4qLdNzIvITYBAACuQW5Rmf6+06q3vshTVbUjMseY\n",
              "ApUU30cjendz8XQtB7EJAADQCDlnyrR2p0Vvf3m8NjLHmrorabJZw6OIzP9EbAIAADRA9pkLWrvD\n",
              "qrcPHZe9JjJvNnfX0slmDYskMq+G2AQAAPgJWacvaM0Oq7YdvhyZ4/v0UGK8WcMiu7p4upaP2AQA\n",
              "AKhHxqnzWlsTmTWNqQl9eygp3qyhEURmQxGbAAAAP5JeE5nv/igyJ/ULUmK8WUN6Bbh0ttaI2AQA\n",
              "AJBkLTyvNTssev/IidrInHyDIzIHhQe4dLbWjNgEAABuzXKyVKt3WLX9qxMyaiMzWEnxZg0M93ft\n",
              "cG0AsQkAANzSsZOlWp1q0Qdf59dG5pT+wUqMN2tATyKzqRCbAADArfxQ4IjMD7+5HJm33hiih+NN\n",
              "ujGMyGxqxCYAAHAL3+ef0+pUiz76pqD22G0DQpQYb9YNoX4unKxtIzYBAECb9t0JR2T+z7eOyPTw\n",
              "kKYOCNXD8Sb1CyEynY3YBAAAbdI3x0u0OtWif393UpIjMn85MFSJ8Wb1CfZ18XTug9gEAABtyjfH\n",
              "S/RsikUp31+OzF8NClPiJJPMRGazIzYBAECb8HVeiZJTjynl+0JJkqeHdPvgMD08ySRTEJHpKo2O\n",
              "zSlTpqigoECenp7y9fXV6tWrNXTo0Dpr0tLSdNttt6lv3761x/bv36+OHTte/8QAAAA/ciS3WMmp\n",
              "Fu04ejkypw3pqSWTTIrp0cXF06HRsfnGG28oICBAkvTOO+9o9uzZOnLkyBXr+vbtq8OHD1/vfAAA\n",
              "APU6lHNWyakWpf1wSpIjMqfXRGY0kdliNDo2L4WmJJWUlMjDw6Mp5wEAAPhJX+acVXKKRbuOOSLT\n",
              "y9OjNjJ7d+/s4unwn67pZzYfeOAB7dy5U5L04Ycf1rsmPT1dsbGx8vLy0oMPPqhFixbVu85ms8lm\n",
              "s9U5Zrfbr2UsAADQhn2RXaRnUyzaYzktyRGZdwztqcUTTYoiMlssD8O49LvzG2/z5s16/fXXrwjO\n",
              "c+fOyTAM+fv7Ky8vT1OnTtUf//hH3XXXXVfcxpNPPqkVK1bUORYXF6f9+/df61gAAKANOZhVpOQU\n",
              "i/ZaHZHp7emhO2IdkRkZSGS2dNcVm5LUsWNH5eXlKTAw8KprVq5cqRMnTmjNmjVXXFffM5vLly9X\n",
              "cnLy9YwFAABauc8yi5Scekz7rGckOSLzzmHhWjzRpF7dOrl4OjRUo15GLy4uVllZmcLCwiRJ27Zt\n",
              "U2BgoLp161ZnXX5+voKDg+Xp6anS0lJt375dc+bMqfc2fXx85OPjU+eYl5dXY8YCAABtyKcZZ5Sc\n",
              "YtH+jMuROfOmXlo0IYbIbIUaFZslJSWaOXOmLl68KE9PT/Xo0UPbt2+Xh4eH5s6dq4SEBCUkJGjr\n",
              "1q1av369vL29VVVVpZkzZ+rBBx901n0AAABtwP70M3o25ZgOZBZJktp5XY7M8K5EZmt13S+jO8Oy\n",
              "Zcu0atUqV48BAACczDAMR2SmWvRZTWS29/LUXcPD9dAEk3oG8Du6Wzs+QQgAADQ7wzC0z3pGyanH\n",
              "dDDrrCRHZN49vJcemhCjMCKzzSA2AQBAszEMQ3utp/VsikVfZNdEpren7h3eSwsnxCjUn8hsa4hN\n",
              "AADgdIZhaLfltJJTjunLnGJJjsi8b0SEFo6PUYh/B9cOCKchNgEAgNMYhqG0Y6eUnGLR4dxiSZKP\n",
              "t6fuG+mIzGA/IrOtIzYBAECTMwxDaT+c0rOpFh2picwO7Tz1m5GRWjAuWkFEptsgNgEAQJMxDEM7\n",
              "jhYqOdWir/JKJDki87dxkZo3LlpBvkSmuyE2AQDAdTMMQynfF2p1qkVfH3dEZsd2XvrtqEjNuzla\n",
              "PXx9fuYW0FYRmwAA4JoZhqGPvzup5FSLvj1xTpLUqf3lyOzehch0d8QmAABotOpqQ//+7qRWp1r0\n",
              "Xb4jMju399IDo6M0d2xvBRKZqEFsAgCABquuNvS/3xYoOdWiowWlkhyROWt0lObeHK1undu7eEK0\n",
              "NMQmAAD4WdXVhv7n2wKt/lFkdvHx1uzRUZoztre6Epm4CmITAABcVXW1oQ+/ydeaVKt+OOmITF8f\n",
              "bz04Jkq/G9tbAZ2ITPw0YhMAAFzBXm3og6/ztSbVIkvheUmSbwdvPTimt+aM6S3/Tu1cPCFaC2IT\n",
              "AADUslcb2v7VCa3ZYZX1R5E5Z2xvPTimt/w7EploHGITAADIXm3o/SMntGaHRemnLkiS/Dp4a87Y\n",
              "aM0eE0Vk4poRmwAAuLEqe7XeO3JCa3dYlXHaEZn+Hdtp7tjemjUmSn4diExcH2ITAAA3VGWv1ruH\n",
              "T2jtTqsyayIzoFM7zbs5Wg+MipQvkYkmQmwCAOBGquzVeufQcf19p1VZZ8okSV07tdPcm6M1a3SU\n",
              "uviQBmhaPKIAAHADlfZqvfPlca3daVVOkSMyu3VuX/tMZmciE07CIwsAgDas0l6tt7/M09qdVuUW\n",
              "XZQkBXZur/njonV/HJEJ5+MRBgBAG1RRVa2tX+bp7zutyjvriMzuXS5HZqf2JACaB480AADakIqq\n",
              "ar35Ra7W7UzX8eJLkemjheOj9ZuRkerY3svFE8LdEJsAALQBtiq73vw8T+t2WnWipFyS1MPXRwvH\n",
              "x+i+ERFEJlyG2AQAoBWzVdn1xsFcrUtLV35NZAZdisyREerQjsiEaxGbAAC0QuWVdr1+MFfr09JV\n",
              "cM4RmcF+PnpofIzuGUFkouUgNgEAaEXKK+3612c5Wr8rXSfP2SRJIX4dtGhijO66qReRiRan0bE5\n",
              "ZcoUFRQUyNPTU76+vlq9erWGDh16xboXX3xRf/7zn1VdXa1JkyZp3bp1ateOTyMAAOBalFfa9dqB\n",
              "HG3Yla7CUkdkhvp30KIJMbpreC/5eBOZaJkaHZtvvPGGAgICJEnvvPOOZs+erSNHjtRZk5mZqeXL\n",
              "l+vLL79UcHCwpk2bpo0bN2rx4sVNMjQAAO7iYoVd/zyQred2Z+hUTWSG+XfQookmzbwpnMhEi9fo\n",
              "2LwUmpJUUlIiDw+PK9a89dZbSkhIUEhIiCRp4cKFevrpp4lNAAAa6FJkbtiVodPnHZHZM6CjFk80\n",
              "6c5h4Wrv7eniCYGGuaaf2XzggQe0c+dOSdKHH354xfU5OTmKjIysvRwVFaWcnJx6b8tms8lms9U5\n",
              "Zrfbr2UsAABavbKKKr36abY27s7Q6fMVkqTwro7InBFLZKL1uabYfPnllyVJmzdv1mOPPVZvcDbU\n",
              "ypUrtWLFijrH4uLirvn2AABojS7YqvTKp9l6fneGzlxwRGavbh21ZKJJd8SGq50XkYnW6brejT5r\n",
              "1iwtXLhQZ86cUWBgYO3xiIgIpaen117OyspSREREvbfx+OOPa9myZXWOLV++/HrGAgCg1bhgq9LL\n",
              "+7P1/J4MFdVEZkS3Tloy0aRfx/YkMtHqNSo2i4uLVVZWprCwMEnStm3bFBgYqG7dutVZN2PGDI0d\n",
              "O1ZPPvmkgoODtWHDBt1zzz313qaPj498fHzqHPPy4oedAQBt23lblTZ/kqUX9mTobFmlJCky0BGZ\n",
              "04cSmWg7GhWbJSUlmjlzpi5evChPT0/16NFD27dvl4eHh+bOnauEhAQlJCQoOjpaK1as0JgxYyRJ\n",
              "EyZM0IIFC5xyBwAAaE1Kyysdkbk3U8U1kdm7e2ctmWjStCFh8iYy0cZ4GIZhuHqI/7Rs2TKtWrXK\n",
              "1WMAANBkzpVXavM+R2SWXHREZnT3zno43qTbBxGZaLv4BCEAAJyo5GKlXtqXpRf3ZuhceZUkKbpH\n",
              "ZyVOMuv2wWHy8rzyVwgCbQmxCQCAE5RcrNQ/9mbqH/syVVoTmaagLnp4kkm/GkRkwn0QmwAANKGS\n",
              "skq9uC9Tm34UmeagLkqMN2vqwFAiE26H2AQAoAkUl1Xoxb2ZemlflkptjsjsE1wTmQNC5Ulkwk0R\n",
              "mwAAXIezFyr0wt4Mbf4kW+drIrNfiK8S48269cYQIhNuj9gEAOAaFF2o0At7MrT5kyxdqHB8zHK/\n",
              "EF8tnWzWlP5EJnAJsQkAQCOcOW/T83sy9fL+LJXVRGb/UD8lxps1pX8wkQn8B2ITAIAGOH3epud3\n",
              "Z+iVT7NrI/PGMD8lxZv1i/7B8vAgMoH6EJsAAPyE0+dt2rg7Q6/sz9bFSkdkDujpp6XxfRR/QxCR\n",
              "CfwMYhMAgHoUlpZr464MvXogW+WV1ZKkQeH+Soo3a1I/IhNoKGITAIAfKTxXrg27MvTPA9myVTki\n",
              "c3CvAC2NN2tC3x5EJtBIxCYAAHJE5vpd6XrtQE5tZA7pFaClk80a34fIBK4VsQkAcGsFJeXasCtd\n",
              "r32Wo4qayIyNCFDS5D4aZ+5OZALXidgEALil/JKLWp+Wrn8dzK2NzGGRXbV0slljTUQm0FSITQCA\n",
              "WzlR7IjM1w/mqsLuiMzhUV2VFN9HY0yBRCbQxIhNAIBbOF58Uet2WvXm53m1kTmidzctjTdrVAyR\n",
              "CTgLsQkAaNPyzpZpXVq63vw8V5V2Q5I0snc3LZ3cR6NiAl08HdD2EZsAgDYpt6hM69KseuuLvNrI\n",
              "HBUdqKTJZsVFE5lAcyE2AQBtSs6ZMv19p1Vbv8xTVbUjMseYApUU30cjendz8XSA+yE2AQBtQs6Z\n",
              "Mq3dadHWL4/LXhOZY03dlTTZrOFRRCbgKsQmAKBVyzp9QWt3WvXOocuRebO5u5ZONmtYJJEJuBqx\n",
              "CQBolTJPX9CaHRa9e/hEbWSO79NDifFmDYvs6uLpAFxCbAIAWpWMU+e1dodV2w4fV01jakLfHkqK\n",
              "N2toBJEJtDTEJgCgVbAWntfaHRa9d+REbWRO6hekxHizhvQKcOlsAK6O2AQAtGjWwlKtTrXq/a9O\n",
              "yKiJzMk3OCJzUHiAS2cD8POITQBAi2Q5WarVO6zaXicyg5UUb9bAcH/XDgegwRoVm+Xl5brnnnv0\n",
              "3XffqWPHjgoKCtL69etlMpnqrMvKylJMTIwGDhxYe2zr1q2KiYlpmqkBAG3WDwWlWr3Dog+/zq+N\n",
              "zCn9g5UYb9aAnkQm0No0+pnN+fPn67bbbpOHh4fWrl2ruXPnKi0t7Yp1vr6+Onz4cBOMCABwB0cL\n",
              "zml1qkUffl1Qe+zWG0P0cLxJN4YRmUBr1ajY7NChg6ZOnVp7OS4uTs8880yTDwUAcB/f5zsi86Nv\n",
              "LkfmbQNClBhv1g2hfi6cDEBTuK6f2UxOTta0adPqve7ChQsaPny47Ha7pk+frj/84Q/y8vK6Yp3N\n",
              "ZpPNZqtzzG63X89YAIBW4NsTJVqdatH/fnuy9tgvB4bq4XiT+oUQmUBbcc2x+fTTT8tqtSo1NfWK\n",
              "60JDQ3X8+HEFBQWpqKhId999t/72t7/p0UcfvWLtypUrtWLFijrH4uLirnUsAEAL983xEiWnWvTx\n",
              "d47I9PCQpg4MVeIks/qG+Lp4OgBNzcMwLv34dcM988wz+te//qWUlBQFBAT87PotW7botdde0/vv\n",
              "v3/FdfU9s7l8+XIlJyc3diwAQAv2dZ4jMlO+vxyZvxoUpsRJJpmDiUygrWr0M5urVq3Sli1bfjI0\n",
              "CwsL1bVrV7Vr1042m01vv/22hg4dWu9aHx8f+fj41DlW38vtAIDW6au8YiWnWJR6tFCSIzITBofp\n",
              "4UkmmYKITKCta1Rs5uXl6ZFHHlF0dLQmTpwoyRGLBw4c0BNPPKGwsDAtXLhQe/fu1RNPPCEvLy9V\n",
              "VVVp0qRJ+sMf/uCUOwAAaJmO5BYrOdWiHTWR6VkTmUsmmWUK6uLi6QA0l2t6Gd3Zli1bplWrVrl6\n",
              "DADANTiUc1bJqRal/XBKkiMypw/pqSWTTIruQWQC7oZPEAIANIkvsh2RufuYIzK9PD1qI7N3984u\n",
              "ng6AqxCbAIDr8kV2kZ5NsWiP5bQkR2T+emhPLZloUhSRCbg9YhMAcE0OZhUpOcWivdbLkTkjtqcW\n",
              "TzQpMpDIBOBAbAIAGuVAxhklp1r0SfoZSZK3p4fuHBauxRNN6tWtk4unA9DSEJsAgAb5NOOMklMs\n",
              "2p9xOTJn3hSuRROITABXR2wCAK7KMAztr4nMA5lFkqR2Xh6aeVMvLZoQo/CuRCaAn0ZsAgCuYBiG\n",
              "9qef0bMpFn2WdTky7x7eSw9NMKlnQEcXTwigtSA2AQC1DMPQPusZJace08Gss5Kk9l6eNZEZozAi\n",
              "E0AjEZsAABmGoT2W00pOteiL7JrI9PbUvcN7aeGEGIX6E5kArg2xCQBuzDAM7bac1rMpx3Qop1iS\n",
              "IzLvGxGhheNjFOLfwbUDAmj1iE0AcEOGYSjt2Cklp1h0OLdYkuTj7an7RjoiM9iPyATQNIhNAHAj\n",
              "hmFo5w+FSk616khNZHZo56nfjIzUgnHRCiIyATQxYhMA3IBhGNpxtFDJqRZ9lVciyRGZ94+M1Pzx\n",
              "0QryJTIBOAexCQBtmGEYSvm+UKtTLfr6uCMyO7bz0m9HRWrezdHq4evj4gkBtHXEJgC0QYZh6N/f\n",
              "ndTqVIu+PXFOktSp/eXI7N6FyATQPIhNAGhDqqsdkZmcatH3+Zcj84FRUZp3c28FEpkAmhmxCQBt\n",
              "QHW1of/9tkDJqRYdLSiVJHVu76VZo6M09+Zodevc3sUTAnBXxCYAtGLV1YY++qZAa3ZcjswuPt6a\n",
              "PTpKc8b2VlciE4CLEZsA0ApVVxv68Jt8rU616NjJ85IkXx9vzR7jiMyATkQmgJaB2ASAVsRebeiD\n",
              "r/O1JtUiS+HlyHxwbG/NGdNb/p3auXhCAKiL2ASAVsBebWj7Vye0ZodV1kuR2cFbvxvTW78jMgG0\n",
              "YMQmALRg9mpD7x85odU7LMo4dUGS5NfBW3PGRmv2mCj5dyQyAbRsxCYAtEBV9mq9d+SE1u6wKuO0\n",
              "IzL9O7bT3LG9NWtMlPw6EJkAWgdiEwBakCp7tbYdPqG/77QqsyYyAzrVROboKPkSmQBaGWITAFqA\n",
              "Knu13jl0XGt3WpV9pkyS1LVTO829OVqzRkepiw+nawCtE2cvAHChSnu13vnSEZk5RY7I7Na5vebd\n",
              "HK3fjookMgG0eo06i5WXl+uee+7Rd999p44dOyooKEjr16+XyWS6Yu327dv1+9//Xna7XQMHDtRL\n",
              "L70kPz+/JhscAFqzSnu1tn6Rp7+nWZVbdFGSFNi5veaNi9Zv4yLVmcgE0EZ4NvYL5s+frx9++EFH\n",
              "jhzRtGnTNHfu3CvWnD9/XnPmzNG2bdtksVgUFhamp556qkkGBoDWrKKqWls+y9GEv6bp/3v7a+UW\n",
              "XVT3Lu31f6f2057HJmrh+BhCE0Cb0qgzWocOHTR16tTay3FxcXrmmWeuWPfRRx9p6NCh6tevnyRp\n",
              "0aJFmjJliv76179e57gA0DpVVFXrzS9ytW5nuo4XO57J7N7FRwvHR+s3IyPVsb2XiycEAOe4rn8+\n",
              "Jycna9q0aVccz8nJUWRkZO3lqKgo5efnq6qqSt7edb+lzWaTzWarc8xut1/PWADQYtiq7Hrj8zxt\n",
              "SLscmT18fbRgHJEJwD1cc2w+/fTTslqtSk1Nva4BVq5cqRUrVtQ5FhcXd123CQCuZquy642DuVqX\n",
              "lq78knJJUpCvjxaOj9F9IyPUoR2RCcA9XFNsPvPMM3r77beVkpKiTp06XXF9RESEPv7449rLWVlZ\n",
              "Cg0NveJZTUl6/PHHtWzZsjrHli9ffi1jAYDLlVfa9frBXK1PS1fBOUdkBvs5IvPeEUQmAPfT6Nhc\n",
              "tWqVtmzZopSUFAUEBNS75tZbb9XixYt19OhR9evXT+vWrdM999xT71ofHx/5+PjUOeblxckYQOtS\n",
              "XmnXls9ytGFXuk6ec/xoUIhfBz00IUZ3D+9FZAJwW42Kzby8PD3yyCOKjo7WxIkTJTli8cCBA3ri\n",
              "iScUFhamhQsXytfXVy+88IKmT5+uqqoqDRgwQJs3b3bKHQAAVyqvtOu1A47ILCx1RGaofwctmhCj\n",
              "mTcRmQDgYRiG4eoh/tOyZcu0atUqV48BAFd1scKufx7I1nO7M3SqJjLD/Dto0USTZt4ULh9vIhMA\n",
              "JD5BCAAapayiSv/8NEfP7c7Q6fOOyOwZ0FGLJsbozmFEJgD8J2ITABqgrKJKr36arY27M3T6fIUk\n",
              "KbxrRy2eaNKM2HC19270Z2QAgFsgNgHgJ1ywVemVT7P1/O4MnblwOTIfnmTSHbHhaudFZALATyE2\n",
              "AaAe521Venl/ll7Yk6mimsiM6NZJSyaa9OvYnkQmADQQsQkAP3LeVqXNn2TphT0ZOltWKUmKDHRE\n",
              "5vShRCYANBaxCQCSSssrHZG5N1PFNZEZFdhJD08ya9qQMHkTmQBwTYhNAG7tXHmlNu9zRGbJRUdk\n",
              "RnfvrCWTTEoYTGQCwPUiNgG4pZKLlXppX5Ze3Juhc+VVkqToHp2VOMms2weHycvTw8UTAkDbQGwC\n",
              "cCslFyv1j72Z+se+TJXWRGZMj85KjDfrV4OITABoasQmALdQUlapF/dlatOPItMc1EUPx5v1y4Gh\n",
              "RCYAOAmxCaBNKy6r0It7M/XSviyV2hyR2Se4ixLjzZo6IFSeRCYAOBWxCaBNOnuhQi/szdDmT7J1\n",
              "viYy+wb7KmmyWbfeGEJkAkAzITYBtClFFyr0wp4Mbf4kSxcq7JKkfiG+Soo36xYiEwCaHbEJoE04\n",
              "c96m5/dk6uX9WSqricz+oX5KjDdrSv9gIhMAXITYBNCqnT5v0/O7M/TKp9m1kXljmJ+S4s36Rf9g\n",
              "eXgQmQDgSsQmgFbp9HmbNu7O0Cv7s3Wx0hGZA3r6KSm+jybfEERkAkALQWwCaFUKS8u1cVeGXj2Q\n",
              "rfLKaknSoHB/JcWbNakfkQkALQ2xCaBVKDxXrg27MvTPA9myVTkic3C4v5ZO7qMJfXsQmQDQQhGb\n",
              "AFq0wnPlWr8rXa8dyKmNzCG9ApQ02awJfYhMAGjpiE0ALVJBSbk27ErXa5/lqKImMmMjApQ0uY/G\n",
              "mbsTmQDQShCbAFqU/JKLWp+Wrn8dzK2NzGGRXbV0slljTUQmALQ2xCaAFuFEsSMyXz+Yqwq7IzKH\n",
              "R3VVUnwfjTEFEpkA0EoRmwBc6njxRa1Ps+qNg3m1kTmidzctjTdrVAyRCQCtHbEJwCXyzpZpXVq6\n",
              "3vw8V5V2Q5I0snc3LZ3cR6NiAl08HQCgqRCbAJpVblGZ1qVZ9dYXebWROSo6UEmTzYqLJjIBoK0h\n",
              "NgE0i9yiMv19pyMyq6odkTk6JlBJ8WaNJDIBoM1qVGwmJibqvffeU3Z2tg4dOqQhQ4ZcsSYtLU23\n",
              "3Xab+vbtW3ts//796tix43UPC6D1yTlTprU7LXr7y+O1kTnW1F1Jk80aHtXNxdMBAJytUbF55513\n",
              "6tFHH9XYsWN/cl3fvn11+PDh65kLQCuXdfqC1u606p1Dx2Wvicybzd21dLJZwyKJTABwF42KzXHj\n",
              "xjlrDgBtRObpC1q7w6pthy9H5rg+PZQUb9awyK4ung4A0Nyc8jOb6enpio2NlZeXlx588EEtWrTo\n",
              "qmttNptsNludY3a73RljAXCijFPnayOzpjE1oa8jModGEJkA4K6aPDZjY2OVl5cnf39/5eXlaerU\n",
              "qerevbvuuuuuetevXLlSK1asqHMsLi6uqccC4CTWwvNau8Oi946cqI3MSf2ClBhv1pBeAS6dDQDg\n",
              "ep5NfYN+fn7y9/eXJIWHh+vee+/Vnj17rrr+8ccfV0lJSZ0/I0aMaOqxADQxa2Gpkv51SL/4f7u0\n",
              "7bAjNOP7BendxWP0j9nDCU0AgCQnPLOZn5+v4OBgeXp6qrS0VNu3b9ecOXOuut7Hx0c+Pj51jnl5\n",
              "eTX1WACaiOVkqVbvsGr7Vydk1DyTOfmGYCXFmzUw3N+1wwEAWpxGxeaCBQv0wQcfqKCgQLfccot8\n",
              "fX1ltVo1d+5cJSQkKCEhQVu3btX69evl7e2tqqoqzZw5Uw8++KCz5gfQTH4oKNXqHRZ9+HV+bWRO\n",
              "6R+sxHizBvQkMgEA9fMwjEt/bbQcy5Yt06pVq1w9BgBJRwvOaU2qVR98nV977JYbHZF5YxiRCQD4\n",
              "aXyCEIB6fZ9/TqtTLfrom4LaY7cNCFFivFk3hPq5cDIAQGtCbAKo49sTJVqdatH/fnuy9tgvB4bq\n",
              "4XiT+oUQmQCAxiE2AUiSvjnuiMx/f+eITA8PaerAUCVOMqtviK+LpwMAtFbEJuDmvs4rUXKqRSnf\n",
              "X47MXw0KU+Ikk8zBRCYA4PoQm4Cb+iqvWMkpFqUeLZTkiMyEwWF6eJJJpiAiEwDQNIhNwM0cyS1W\n",
              "cqpFO2oi07MmMpdMMssU1MXF0wEA2hpiE3ATh3LOKjnVorQfTklyROb0IT21ZJJJ0T2ITACAcxCb\n",
              "QBv3RbYjMncfc0Sml6dHbWT27t7ZxdMBANo6YhNoo77ILtKzKRbtsZyW5IjMXw/tqSUTTYoiMgEA\n",
              "zYTYBNqYg1lFSk6xaK/1cmTOiO2pxRNNigwkMgEAzYvYBNqIAxlnlJxq0SfpZyRJ3p4eunNYuBZP\n",
              "NKlXt04ung4A4K6ITaCV+zTjjJJTLNqfcTkyZ94UrkUTiEwAgOsRm0ArtT/9jJ5NOaYDmUWSpHZe\n",
              "Hpp5Uy8tmhCj8K5EJgCgZSA2gVbEMAxHZKZa9NmPIvPu4b300ASTegZ0dPGEAADURWwCrYBhGNpn\n",
              "PaPk1GM6mHVWktTey7MmMmMURmQCAFooYhNowQzD0F7raT2bYtEX2TWR6e2pe4f30sIJMQr1JzIB\n",
              "AC0bsQm0QIZhaLfltJJTjunLnGJJjsi8b0SEFo6PUYh/B9cOCABAAxGbQAtiGIbSjp1ScopFh3OL\n",
              "JUk+3p66b6QjMoP9iEwAQOtCbAItgGEYSvvhlJ5NtehITWR2aOep34yM1IJx0QoiMgEArRSxCbiQ\n",
              "YRjacbRQyakWfZVXIskRmfePjNT88dEK8iUyAQCtG7EJuIBhGEr5vlCrUy36+rgjMju289JvR0Vq\n",
              "3s3R6uHr4+IJAQBoGsQm0IwMw9DH351UcqpF3544J0nq1P5yZHbvQmQCANoWYhNoBtXVhv793Umt\n",
              "TrXou/zLkfnAqCjNu7m3AolMAEAbRWwCTlRdbeh/vy1QcqpFRwtKJUmd23tp1ugozb05Wt06t3fx\n",
              "hAAAOBexCThBdbWh//m2QKt/FJldfLw1e3SU5oztra5EJgDATRCbQBOqrjb04Tf5WpNq1Q8nHZHp\n",
              "6+Ot2WMckRnQicgEALgXz8YsTkxMVFRUlDw8PHT48OGrrnvxxRdlNpsVExOjefPmqbKy8nrnBFo0\n",
              "e7Wh946c0C3P7taS1w7ph5Ol8vXxVmK8WXsfm6RHpvQlNAEAbqlRsXnnnXdq7969ioyMvOqazMxM\n",
              "LV++XHv27JHVatXJkye1cePG6x4UaIns1YbePXxctzy7W4lbDslSeF6+HbyVVBOZy37RR/6d2rl6\n",
              "TAAAXKZRL6OPGzfuZ9e89dZbSkhIUEhIiCRp4cKFevrpp7V48eJrmxBogezVht4/ckJrdliUfuqC\n",
              "JMmvg7fmjI3W7DFR8u9IYAIAIDnhZzZzcnLqPPMZFRWlnJycq6632Wyy2Wx1jtnt9qYeC2gSVfZq\n",
              "vXfkhNbusCrjtCMy/Tu209yxvTVrTJT8OhCZAAD8mMvfILRy5UqtWLGizrG4uDgXTQPUr8perXcP\n",
              "n9DanVZl1kRmQKeayBwdJV8iEwCAejV5bEZERCg9Pb32clZWliIiIq66/vHHH9eyZcvqHFu+fHlT\n",
              "jwVckyp7td45dFx/32lV1pkySVLXTu009+ZozRodpS4+Lv/3GgAALVqT/005Y8YMjR07Vk8++aSC\n",
              "g4O1YcMG3XPPPVdd7+PjIx+fup+e4uXl1dRjAY1Saa/WO18e19qdVuUUOSKzW+f2mndztH47KpLI\n",
              "BACggRr1N+aCBQv0wQcfqKCgQLfccot8fX1ltVo1d+5cJSQkKCEhQdHR0VqxYoXGjBkjSZowYYIW\n",
              "LFjglOGBplZpr9bbX+Zp7U6rcosuSpICO7fXvHHR+m1cpDoTmQAANIqHYRiGq4f4T8uWLdOqVatc\n",
              "PQbcSEVVtbZ+mae/77Qq76wjMrt3aa/546J1f1ykOrUnMgEAuBb8DQq3VlFVrTe/yNW6nek6Xnwp\n",
              "Mn20cHy0fjMyUh3b8yMdAABcD2ITbslWZdebn+dp3U6rTpSUS5J6+PpowTgiEwCApkRswq3Yqux6\n",
              "42Cu1qWlK78mMoN8fbRwfIzuGxmhDu2ITAAAmhKxCbdQXmnX6wdztT4tXQXnHJEZ7Oejh8bH6J4R\n",
              "RCYAAM5CbKJNK6+061+f5Wj9rnSdPOf4pKoQvw56aEKM7h7ei8gEAMDJiE20SeWVdr12IEcbdqWr\n",
              "sNQRmaH+HbRoQozuGt5LPt5EJgAAzYHYRJtyscKufx7I1nO7M3SqJjLD/Dto0USTZt4UTmQCANDM\n",
              "iE20CZcic8OuDJ0+74jMngEdtWhijO4cRmQCAOAqxCZatbKKKr36abY27s7Q6fMVkqTwrh21eKJJ\n",
              "M2LD1d7b08UTAgDg3ohNtEplFVV6Zb8jMs9cuByZD08y6Y7YcLXzIjIBAGgJiE20KhdsVXp5f7ae\n",
              "35OhoprIjOjWSUsmmvTr2J5EJgAALQyxiVbhvK1Kmz/J0gt7MnS2rFKSFBnoiMzpQ4lMAABaKmIT\n",
              "LVppeWXtM5nFNZEZFdhJD08ya9qQMHkTmQAAtGjEJlqkc+WV2rwvSy/szVTJRUdkRnfvrCWTTEoY\n",
              "TGQCANBaEJtoUc6VV2rT3iy9uDdD58qrJEnRPTorcZJZtw8Ok5enh4snBAAAjUFsokUouVipTfsy\n",
              "9Y+9mbWRGdOjsxLjzfrVICITAIDWitiES5WUVerFfZnatC9TpTWRaQ7qoofjzfrlwFAiEwCAVo7Y\n",
              "hEsUl1Xoxb2ZemlflkptjsjsE9xFifFmTR0QKk8iEwCANoHYRLM6e6EmMj/J0vmayOwb7KukyWbd\n",
              "emMIkQkAQBtDbKJZFF2o0At7MrT5kyxdqLBLkvqF+Cop3qxbiEwAANosYhNOdea8Tc/vydTL+7NU\n",
              "VhOZ/UP9lBhv1pT+wUQmAABtHLEJpzhz3qaNezL0yv7s2si8McxPSfFm/aJ/sDw8iEwAANwBsYkm\n",
              "dfq8TRt3OyLzYqUjMgf09FNSfB9NviGIyAQAwM0Qm2gShaXl2rgrQ68eyFZ5ZbUkaVC4v5LizZrU\n",
              "j8gEAMBdEZu4LoWl5XpuV4b++aPIHBzur6WT+2hC3x5EJgAAbo7YxDUpPFeu9bvS9dqBHNmqHJE5\n",
              "pFeAkiabNaEPkQkAABwaHZsWi0WzZs3S6dOn5e/vr5deekk33nhjnTVpaWm67bbb1Ldv39pj+/fv\n",
              "V8eOHa9/YrhUQUm5NuxK12uf5aiiJjJjIwKUNLmPxpm7E5kAAKCORsfmggULNH/+fM2ePVtvvfWW\n",
              "Zs+erYMHD16xrm/fvjp8+HBTzIgWoKCkXOvTrNpyMLc2ModFdtXSyWaNNRGZAACgfo2KzcLCQn3+\n",
              "+ef697//LUmaMWOGlixZIqvVKpPJ5JQB4Vonii9qfVq6Xj+Yqwq7IzKHR3VVUnwfjTEFEpkAAOAn\n",
              "NSo2c3NzFRoaKm9vx5d5eHgoIiJCOTk5V8Rmenq6YmNj5eXlpQcffFCLFi2q9zZtNptsNludY3a7\n",
              "vTFjwQmOF1/U+jSr3jiYVxuZI3p309J4s0bFEJkAAKBhnPIGodjYWOXl5cnf3195eXmaOnWqunfv\n",
              "rrvuuuuKtStXrtSKFSvqHIuLi3PGWGiAvLNlWpeWrjc/z1Wl3ZAkjezdTUsn99GomEAXTwcAAFob\n",
              "D8MwjIYuLiwslMlkUlFRkby9vWUYhkJDQ7V3796ffBl95cqVOnHihNasWXPFdfU9s7l8+XIlJyc3\n",
              "4m7geuUWlWldmlVvfZFXG5mjogOVNNmsuGgiEwAAXJtGPbMZFBSk2NhYvfrqq5o9e7a2bt2q8PDw\n",
              "K0IzPz9fwcHB8vT0VGlpqbZv3645c+bUe5s+Pj7y8fGpc8zLy6uRdwPXKreoTH/f6YjMqmpHZI6O\n",
              "CVRSvFkjiUwAAHCdGv0y+nPPPafZs2fr6aeflp+fnzZt2iRJmjt3rhISEpSQkKCtW7dq/fr18vb2\n",
              "VlVVlWbOnKkHH3ywyYfHtcs5U6a1Oy16+8vjtZE51tRdSZPNGh7VzcXTAQCAtqJRL6M3l2XLlmnV\n",
              "qlWuHqNNyjp9QWt3WvXOoeOy10TmzebuWjrZrGGRRCYAAGhafIKQm8g8fUFrd1i17fDlyBzXp4eS\n",
              "4s0aFtnVxdMBAIC2iths4zJOna+NzJrG1IS+jsgcGkFkAgAA5yI226j0msh890eROalfkBLjzRrS\n",
              "K8ClswEAAPdBbLYx1sJSrdlh1ftHTtRGZnxNZA4mMgEAQDMjNtsIy8lSrd5h1favTujSW74m3xCs\n",
              "pHizBob7u3Y4AADgtojNVu7YyVKtTrXog6/zayNzSv9gJcabNaAnkQkAAFyL2Gyljhac05pUqz78\n",
              "5nJk3nKjIzJvDCMyAQBAy0BstjLf55/T6lSLPvqmoPbYbQNClBhv1g2hfi6cDAAA4ErEZivx3QlH\n",
              "ZP7Pt5cj85cDQ/VwvEn9QohMAADQMhGbLdw3x0u0OtWif393UpLk4SFNHRiqxElm9Q3xdfF0AAAA\n",
              "P43YbKG+OV6iZ1MsSvn+cmT+alCYEieZZA4mMgEAQOtAbLYwX+eVKDn1mFK+L5TkiMyEwWF6eJJJ\n",
              "piAiEwAAtC7EZgtxJLdYyakW7TjqiEzPmshcMsksU1AXF08HAABwbYhNFzuUc1bJqRal/XBKkiMy\n",
              "pw/pqcWTTIrpQWQCAIDWjdh0kS9zzio5xaJdxxyR6eXpoelDemrJJJN6d+/s4ukAAACaBrHZzL7I\n",
              "LtKzKRbtsZyW5IjMXw/tqSUTTYoiMgEAQBtDbDaTg1lFSk6xaK/1cmTOiO2pxRNNigwkMgEAQNtE\n",
              "bDrZZ5lFSk49pn3WM5Ikb08P3TksXIsnmtSrWycXTwcAAOBcxKaTfJpxRskpFu3PuByZM28K16IJ\n",
              "RCYAAHAfxGYT259+Rs+mHNOBzCJJUjsvD828qZcWTYhReFciEwAAuBdiswkYhuGIzFSLPvtRZN49\n",
              "vJcemmBSz4COLp4QAADANYjN62AYhvZZzyg59ZgOZp2VJLX38qyJzBiFEZkAAMDNEZvXwDAM7bWe\n",
              "1rMpFn2RXROZ3p66d3gvLZwQo1B/IhMAAEAiNhvFMAzttpxWcsoxfZlTLMkRmfeNiNDC8TEK8e/g\n",
              "2gEBAABaGGKzAQzDUNqxU0pOsehwbrEkycfbU/eNdERmsB+RCQAAUB9i8ycYhqG0H07p2VSLjtRE\n",
              "Zod2nvrNyEgtGBetICITAADgJ3k29gssFotGjx6tPn36aPjw4fr222/rXffiiy/KbDYrJiZG8+bN\n",
              "U2Vl5XUP21wMw1Dq9yc17e/79OBLB3Ukt1gd2nlq7tje2v3oRC3/VX9CEwAAoAEaHZsLFizQ/Pnz\n",
              "dezYMT322GOaPXv2FWsyMzO1fPly7dmzR1arVSdPntTGjRubYl6nMgxDKd+dVMLafZqz+XN9lVei\n",
              "ju28NH9ctPY8Okl//FV/BfkSmQAAAA3VqNgsLCzU559/rvvvv1+SNGPGDOXm5spqtdZZ99Zbbykh\n",
              "IUEhISHy8PDQwoULtWXLlqabuokZhqF/f1ug29fu1dyXP9fXx0vUqb2XFoyP1p7HJur/Tr1BPXx9\n",
              "XD0mAABAq9Oon9nMzc1VaGiovL0dX+bh4aGIiAjl5OTIZDLVrsvJyVFkZGTt5aioKOXk5NR7mzab\n",
              "TTabrc4xu93emLGuy+5jp/Tnj47qu/xzkqRO7b30wKgozbu5twK7EJgAAADXw+VvEFq5cqVWrFhR\n",
              "51hcXFyzff/cs2X6Lv+cOrf30qzRUZp7c7S6dW7fbN8fAACgLWtUbPbq1Uv5+fmqqqqSt7e3DMNQ\n",
              "Tk6OIiIi6qyLiIhQenp67eWsrKwr1lzy+OOPa9myZXWOLV++vDFjXZeZw3qpuKxS942IUFciEwAA\n",
              "oEk16mc2g4KCFBsbq1dffVWStHXrVoWHh9d5CV1y/Czne++9p4KCAhmGoQ0bNuiee+6p9zZ9fHzk\n",
              "5+dX54+Xl9c13p3Ga+/tqcUTTYQmAACAEzT63ejPPfecnnvuOfXp00d//vOftWnTJknS3Llz9d57\n",
              "70mSoqOjtWLFCo0ZM0Ymk0k9evTQggULmnZyAAAAtHgehmEYrh7iPy1btkyrVq1y9RgAAAC4To1+\n",
              "ZhMAAABoKGITAAAATkNsAgAAwGmITQAAADgNsQkAAACnITYBAADgNMQmAAAAnIbYBAAAgNMQmwAA\n",
              "AHCaFvkJQnfccYeioqKa7fvZ7XZ99tlnGjFiRLN+LntLx75cHXtTP/alfuzL1bE39WNfro69qZ8r\n",
              "9iUyMlJJSUk/u65FxmZzO3funPz9/VVSUiI/Pz9Xj9NisC9Xx97Uj32pH/tydexN/diXq2Nv6teS\n",
              "94WX0QEAAOA0xCYAAACchtgEAACA0xCbknx8fPRf//Vf8vHxcfUoLQr7cnXsTf3Yl/qxL1fH3tSP\n",
              "fbk69qZ+LXlfeIMQAAAAnIZnNgEAAOA0xCYAAACchtgEAACA07hVbFosFo0ePVp9+vTR8OHD9e23\n",
              "39a77sUXX5TZbFZMTIzmzZunysrKZp60eTVkX9LS0tSxY0cNGTKk9s/FixddMG3zSUxMVFRUlDw8\n",
              "PHT48OGrrnO3x0tD9sUdHy/l5eWaPn26+vTpo8GDB+sXv/iFrFZrvWu3b9+ufv36yWw264477tC5\n",
              "c+eaedrm1dC9ycrKkpeXV53HTXp6ugsmbj5TpkzRoEGDNGTIEN188806dOhQvevc7TwjNWxv3PFc\n",
              "c8mmTZvk4eGhbdu21Xt9izrPGG5k4sSJxqZNmwzDMIw333zTuOmmm65Yk5GRYYSGhhr5+flGdXW1\n",
              "cfvttxtr165t5kmbV0P2ZefOncbgwYObdzAX27Vrl5Gbm2tERkYahw4dqneNOz5eGrIv7vh4uXjx\n",
              "ovHBBx8Y1dXVhmEYxpo1a4zx48dfsa60tNQICgoyvv/+e8MwDGPx4sXG73//++Yctdk1dG8yMzMN\n",
              "f3//5h3Oxc6ePVv732+//bYxaNCgK9a443nGMBq2N+54rjEMx/8ro0aNMuLi4ox33nnniutb2nnG\n",
              "bZ7ZLCws1Oeff677779fkjRjxgzl5uZe8a/rt956SwkJCQoJCZGHh4cWLlyoLVu2uGLkZtHQfXFH\n",
              "48aNU3h4+E+ucbfHi9SwfXFHHTp00NSpU+Xh4SFJiouLU1ZW1hXrPvroIw0dOlT9+vWTJC1atKjN\n",
              "P2YaujfuKCAgoPa/S0pKavfox9zxPCM1bG/cUXV1tebOnas1a9Zc9dcctbTzjNvEZm5urkJDQ+Xt\n",
              "7S1J8vDwUEREhHJycuqsy8nJUWRkZO3lqKioK9a0JQ3dF0lKT09XbGyshg8frnXr1jX3qC2Suz1e\n",
              "GsPdHy/JycmaNm3aFcfre8zk5+erqqqqOcdzqavtjSRduHBBw4cPV2xsrP70pz/Jbrc383TN74EH\n",
              "HlCvXr20fPlyvfLKK1dc787nmZ/bG8n9zjWrVq3SmDFjNGzYsKuuaWnnGW+XfFe0OrGxscrLy5O/\n",
              "v7/y8vI0depUde/eXXfddZerR0ML5O6Pl6efflpWq1WpqamuHqXF+am9CQ0N1fHjxxUUFKSioiLd\n",
              "fffd+tvf/qZHH33UBZM2n5dfflmStHnzZj322GP68MMPXTxRy/Fze+Nu55pvvvlGW7du1e7du109\n",
              "SqO4zTObvXr1qlP1hmEoJydHERERddZFREQoOzu79nJWVtYVa9qShu6Ln5+f/P39JUnh4eG69957\n",
              "tWfPnmaft6Vxt8dLQ7nz4+WZZ57R22+/rY8++kidOnW64vr6HjM/fnWhLfu5vfHx8VFQUJAkqVu3\n",
              "bvrd737nNo8bSZo1a5Z27typM2fO1DnOeebqe+Nu55o9e/YoKytLZrNZUVFR+vTTTzV//nytX7++\n",
              "zrqWdp5xm9gMCgpSbGysXn31VUnS1q1bFR4eLpPJVGfdjBkz9N5776mgoECGYWjDhg265557XDFy\n",
              "s2jovuTn56u6ulqSVFpaqu3bt2vo0KHNPm9L426Pl4Zy18fLqlWrtGXLFn388cd1ft7sx2699VZ9\n",
              "+eWXOnr0qCRp3bp1bvGYacjeFBYW1r7L2maz6e23327Tj5vi4mKdOHGi9vK2bdsUGBiobt261Vnn\n",
              "jueZhu6Nu51rHnroIeXn5ysrK0tZWVmKi4vTxo0b9dBDD9VZ1+LOMy57a5ILHD161IiLizPMZrMx\n",
              "bNgw46uvvjIMwzDmzJljvPvuu7XrNm7caERHRxvR0dHG7373O6OiosJVIzeLhuzLmjVrjP79+xuD\n",
              "Bg0y+vfvb/zXf/1X7TtL26r58+cbPXv2NLy8vIygoCAjJibGMAweLw3ZF3d8vOTm5hqSjOjoaGPw\n",
              "4MHG4MGDjREjRhiGYRjLly831q9fX7v23XffNfr27WvExMQY06ZNM4qLi101drNo6N5s3brVuPHG\n",
              "G2sfN0uWLDHKy8tdObpTZWVlGcOHDzcGDBhgDBo0yIiPj6/9DQ/ufp5p6N6447nmx8aPH1/7bvSW\n",
              "fJ7hs9EBAADgNG7zMjoAAACaH7EJAAAApyE2AQAA4DTEJgAAAJyG2AQAAIDTEJsAAABwGmITAAAA\n",
              "TkNsAgAAwGmITQAAADgNsQkAAACnITYBAADgNP8/MM2hsQwVxJsAAAAASUVORK5CYII=\n",
              "\">\n",
              "      </div>\n",
              "      <script type=\"text/javascript\">\n",
              "        (() => {\n",
              "          const chartElement = document.getElementById(\"chart-39d7402a-7192-4528-8083-1ed83d0b539d\");\n",
              "          async function getCodeForChartHandler(event) {\n",
              "            const chartCodeResponse =  await google.colab.kernel.invokeFunction(\n",
              "                'getCodeForChart', [\"chart-39d7402a-7192-4528-8083-1ed83d0b539d\"], {});\n",
              "            const responseJson = chartCodeResponse.data['application/json'];\n",
              "            await google.colab.notebook.addCell(responseJson.code, 'code');\n",
              "          }\n",
              "          chartElement.onclick = getCodeForChartHandler;\n",
              "        })();\n",
              "      </script>\n",
              "      <style>\n",
              "        .colab-quickchart-chart-with-code  {\n",
              "            display: block;\n",
              "            float: left;\n",
              "            border: 1px solid transparent;\n",
              "        }\n",
              "\n",
              "        .colab-quickchart-chart-with-code:hover {\n",
              "            cursor: pointer;\n",
              "            border: 1px solid #aaa;\n",
              "        }\n",
              "      </style>"
            ]
          },
          "metadata": {}
        },
        {
          "output_type": "display_data",
          "data": {
            "text/plain": [
              "from matplotlib import pyplot as plt\n",
              "_df_13[0].plot(kind='line', figsize=(8, 4), title=0)\n",
              "plt.gca().spines[['top', 'right']].set_visible(False)"
            ],
            "text/html": [
              "      <div class=\"colab-quickchart-chart-with-code\" id=\"chart-5c15d12e-240d-462a-bd61-c15881a9f348\">\n",
              "        <img style=\"width: 180px;\" src=\"data:image/png;base64,iVBORw0KGgoAAAANSUhEUgAAApsAAAFbCAYAAACakkVNAAAAOXRFWHRTb2Z0d2FyZQBNYXRwbG90\n",
              "bGliIHZlcnNpb24zLjcuMSwgaHR0cHM6Ly9tYXRwbG90bGliLm9yZy/bCgiHAAAACXBIWXMAAA9h\n",
              "AAAPYQGoP6dpAAApJUlEQVR4nO3deXTU9b3/8ddkAglbwpZASDIJySTKIoFoUmRftPKzKi201vby\n",
              "U2ohQVFsc+6RS3+X02NPb+H3u70opUVCL5cr0treCmqu2t7KvihGFBeCmAQIEyAQZEnClvX7+yOL\n",
              "GZNAJpmZ7yzPxzlzjkk+Tt75nOn46ms+3xmLYRiGAAAAAA8IMXsAAAAABC7CJgAAADyGsAkAAACP\n",
              "IWwCAADAYwibAAAA8BjCJgAAADyGsAkAAACPIWwCAADAY3wybK5evdrsEQAAAOAGPhk2T548afYI\n",
              "AAAAcAOfDJsAAAAIDIRNAAAAeAxhEwAAAB5D2AQAAIDHEDYBAADgMYRNAAAAeAxhEwAAAB5D2AQA\n",
              "AIDHEDYBAADgMS6FzSVLligxMVEWi0Uff/xxh+s2bNiglJQUJScna+HChaqtre3unAAAAPBDLoXN\n",
              "7373u9q3b58SEhI6XHPixAktX75ce/fuVXFxsc6dO6f169d3e1BPMgxDdfUNZo8BAAAQcFwKm1Om\n",
              "TFFcXNxN17z66qt66KGHNHToUFksFi1atEivvPJKh+urq6tVWVnpdKuvr3dlrG7ZU3he3/rNPr18\n",
              "gM9jBwAAcDe3n9l0OBxOzWdiYqIcDkeH61esWKHIyEinW35+vrvH6pDj4jUdKavU2l3HdKPWeyEX\n",
              "AAAgGJh+gdCyZctUUVHhdMvMzPTa73/4rnjF9u+l81XV+sP7HYdiAAAAuM7tYdNms+nkya9eki4p\n",
              "KZHNZutwfVhYmCIiIpxuVqvV3WN1qGdoiBZPt0uS1u2m3QQAAHAnt4fNuXPnKi8vT2fPnpVhGFq3\n",
              "bp0eeeQRd/8at/runXEt7eZmzm4CAAC4jUthMzs7W3FxcTp16pTuu+8+2e2NjeCCBQuUl5cnSUpK\n",
              "StJzzz2niRMnym63KyoqStnZ2e6f3I16hoboqRnN7eZxXa+h3QQAAHAHi2EYhtlDfF1OTo5WrVrl\n",
              "1d9ZW9+g6b/epVOXruv/3D9CC6ckefX3AwAABCLTLxDyFT2sIXp6xldnN6/V1Jk8EQAAgP8jbLYy\n",
              "Jz1OtoG9deFqjV5+j7ObAAAA3UXYbKWH9auzm7l7jtNuAgAAdBNh82vmjItVwqDeuni1RptoNwEA\n",
              "ALqFsPk1odYQPdX0vpvr9xzX1WraTQAAgK4ibLbjO+NildjUbr70XonZ4wAAAPgtwmY7Qq0henpG\n",
              "iqTGdvMK7SYAAECXEDY7MHvsMA0f3EeXr9XqpXdLzB4HAADALxE2OxBqDdGSmY1nN3+/97iqbtSa\n",
              "PBEAAID/IWzexENpsUqi3QQAAOgywuZNWEMsWjKz8ezm7/eeUCXtJgAAgEsIm7fwYNowJUf1UcX1\n",
              "Wv3n/hKzxwEAAPArhM1baN1u/vve46q4TrsJAADQWYTNTnhgzDDZo/uq8kadNu4/YfY4AAAAfoOw\n",
              "2QnWEIueaWo3N+w7QbsJAADQSYTNTvrWHTFKie6rqht1+o99tJsAAACdQdjspJAQi565p7Hd/I99\n",
              "J1RxjXYTAADgVgibLrh/dIxuG9JPVdV12rDvuNnjAAAA+DzCpguc2s39Jbp8rcbkiQAAAHwbYdNF\n",
              "s0YN1e1D++lKdZ02cHYTAADgpgibLgoJsegnTe3mRtpNAACAmyJsdsE3Rw7ViJgIXamu0+/3cnYT\n",
              "AACgI4TNLghp9b6b/7m/RBev0m4CAAC0h7DZRfeNGqKRMRG6WlNPuwkAANABwmYXWSxfnd186d0S\n",
              "XbhSbfJEAAAAvoew2Q33jhyi0bERulZTr9/v5cp0AACAryNsdoPFYtFPZqZKkja9R7sJAADwdYTN\n",
              "bpo5Ilp3xEbqWk291u/h7CYAAEBrhM1uan12c9N7J/Ul7SYAAEALwqYbzLg9WmlxkbpeW6/c3cfM\n",
              "HgcAAMBnEDbdoLHdbDy7+fKBkyqvumHyRAAAAL6BsOkm026L0tj4/rpR26D1uzm7CQAAIBE23ab1\n",
              "2c3N79NuAgAASIRNt5qaGqVxtsZ2c90u2k0AAADCphu1Prv5h/dPqrySdhMAAAQ3wqabTUkZrHRb\n",
              "f1XXNWjtLq5MBwAAwY2w6WYWi0U/vbex3fxjvkNnK2g3AQBA8CJsesAk+2DdlTBANXUNWsf7bgIA\n",
              "gCBG2PQA2k0AAIBGhE0PmZA8SJmJA1VT16C1u4rNHgcAAMAUhE0Paf2+m3/KL9WZy9dNnggAAMD7\n",
              "CJsedHfyIGUOH6iaetpNAAAQnAibHmSxWPTTpvfd/PMHpTpNuwkAAIIMYdPD7k4epPFJA1Vbb2jt\n",
              "TtpNAAAQXAibXtDcbv7XwVKdunTN5GkAAAC8h7DpBd9IGqQJyYNUW2/odzt5300AABA8CJte0vyZ\n",
              "6X85WKrSi7SbAAAgOLgcNouKijRhwgSlpqYqIyNDBQUFbdY0NDQoJydHI0eO1JgxYzR9+nQVFwf3\n",
              "ecXM4QM10T5IdQ2GfsfZTQAAECRcDpvZ2dnKyspSYWGhli5dqvnz57dZk5eXp/379+uTTz7Rp59+\n",
              "qpkzZ+pnP/uZO+b1a81nN1/98BTtJgAACAouhc3y8nIdPHhQ8+bNkyTNnTtXpaWlbVpLi8Wi6upq\n",
              "3bhxQ4ZhqLKyUnFxce3eZ3V1tSorK51u9fX1XfxzfNtdiQM1OWWw6hoM/XYH7SYAAAh8LoXN0tJS\n",
              "xcTEKDQ0VFJjqLTZbHI4HE7rHnzwQU2bNk1Dhw5VTEyMtm/frl/84hft3ueKFSsUGRnpdMvPz+/i\n",
              "n+P7ms9uvvrRKTku0G4CAIDA5pELhA4ePKjDhw/r9OnTOnPmjGbOnKlFixa1u3bZsmWqqKhwumVm\n",
              "ZnpiLJ9wZ8IATUmNUn2DoTU7isweBwAAwKNcCpvx8fEqKytTXV2dJMkwDDkcDtlsNqd1mzZt0owZ\n",
              "M9S/f3+FhIToscce086dO9u9z7CwMEVERDjdrFZrF/8c/9D8melbD51WyZdXTZ4GAADAc1wKm9HR\n",
              "0UpPT9fmzZslSVu2bFFcXJzsdrvTuqSkJO3YsUM1NTWSpDfffFOjR49208j+L902QFNb2k3ObgIA\n",
              "gMDl8svoubm5ys3NVWpqqlauXKmNGzdKkhYsWKC8vDxJ0uLFizV8+HClpaVpzJgx2r59u1588UX3\n",
              "Tu7nfnpv49nN1w6d0gnaTQAAEKAshmEYZg/xdTk5OVq1apXZY3jcjzbma+cX5zUnPVarHh5r9jgA\n",
              "AABuxycImaj5yvTXD53W8fNXTJ4GAADA/QibJkqL76+Zt0erwRBnNwEAQEAibJrsmaYr09/4+LSO\n",
              "0W4CAIAAQ9g02Zi4/rpnRGO7+ZvtvO8mAAAILIRNH9B8djPvkzMqLqfdBAAAgYOw6QNGx0bq3pFD\n",
              "ZNBuAgCAAEPY9BHNnyr035+eUdG5KpOnAQAAcA/Cpo8YNSxS941qbDdX024CAIAAQdj0Ic/MbDy7\n",
              "+dZnZSqk3QQAAAGAsOlDRg6L0KxRQxvbzW20mwAAwP8RNn1M8/tuvvVZmb44S7sJAAD8G2HTx4yI\n",
              "idD9dwyVJK3eXmjyNAAAAN1D2PRBz8xMlcUivf3ZWX1eVmn2OAAAAF1G2PRBtw3tp/vviJHE2U0A\n",
              "AODfCJs+6pmZKbJYpL8VnFXBmQqzxwEAAOgSwqaPSh3ST9+i3QQAAH6OsOnDmtvNvx85p8OnaTcB\n",
              "AID/IWz6sJQh/fTgmGGS+FQhAADgnwibPm7JzBSFWKR3aDcBAIAfImz6OHt0Xz2U1thuvrCN990E\n",
              "AAD+hbDpB55uaje3fV6uT09dNnscAACATiNs+oHkqL6aPTZWkvQCV6YDAAA/Qtj0E0/PsCvEIu04\n",
              "Wq5PSi+bPQ4AAECnEDb9RFJUX317XHO7ydlNAADgHwibfmTJjBRZQyza+cV5HXJcMnscAACAWyJs\n",
              "+pHEwX30nXGc3QQAAP6DsOlnnp5hlzXEot2F5/XhSdpNAADg2wibfiZhUB/N4ewmAADwE4RNP/T0\n",
              "jBSFhli0t+hLfXjyotnjAAAAdIiw6Ydsg3prbnqcJM5uAgAA30bY9FNPzbC3tJsHS2g3AQCAbyJs\n",
              "+qn4gb31vbsa283nObsJAAB8FGHTjz05rbHd3F98QfknaDcBAIDvIWz6scZ2M16S9Pw7tJsAAMD3\n",
              "EDb93FMz7Ophtei94xd04PgFs8cBAABwQtj0c7H9e+nhpnaT990EAAC+hrAZABZPt6unNUQHjl/U\n",
              "e8doNwEAgO8gbAaAYf176fsZTWc3txXKMAyTJwIAAGhE2AwQT05PVk9riPJP0G4CAADfQdgMEDGR\n",
              "vfRIJu0mAADwLYTNAPLkNLt6hobog5JLepd2EwAA+ADCZgAZGhmuH2baJDW+7ybtJgAAMBthM8A8\n",
              "MS1ZYaEhOnjykvYVf2n2OAAAIMgRNgPMkIhw/fAbtJsAAMA3EDYD0BNTG9vNjxyXtaeIdhMAAJiH\n",
              "sBmAoiPC9Q/fSJDU+KlCtJsAAMAshM0AtWhaksJ7hOiQ47J2F543exwAABCkXA6bRUVFmjBhglJT\n",
              "U5WRkaGCgoJ213322WeaNm2aRowYoREjRmjr1q3dHhadF90vXPOa2s3ntxXRbgIAAFO4HDazs7OV\n",
              "lZWlwsJCLV26VPPnz2+z5tq1a5o9e7Z++ctf6vPPP9fhw4c1efJkd8wLF2RPTVZ4jxB9UnpZu76g\n",
              "3QQAAN7nUtgsLy/XwYMHNW/ePEnS3LlzVVpaquLiYqd1f/zjHzV+/HhNmjRJkmS1WhUVFdXufVZX\n",
              "V6uystLpVl9f35W/BV8T1S9Mj96dKIlPFQIAAOZwKWyWlpYqJiZGoaGhkiSLxSKbzSaHw+G07siR\n",
              "IwoLC9MDDzygsWPH6tFHH9X58+03aytWrFBkZKTTLT8/v4t/Dr4ua0qSevWw6tNTFdpxtNzscQAA\n",
              "QJDxyAVCdXV12rZtm3Jzc3Xo0CHFxsbqiSeeaHftsmXLVFFR4XTLzMz0xFhBaXDfMD16d/OV6Zzd\n",
              "BAAA3uVS2IyPj1dZWZnq6uokSYZhyOFwyGazOa2z2WyaPn26YmNjZbFYNG/ePB04cKDd+wwLC1NE\n",
              "RITTzWq1dvHPQXuypiSpd0+rPjtdoe2f024CAADvcSlsRkdHKz09XZs3b5YkbdmyRXFxcbLb7U7r\n",
              "Hn74YX3wwQeqrKyUJL399ttKS0tz08hw1aC+X53dfGE7ZzcBAID3uPwyem5urnJzc5WamqqVK1dq\n",
              "48aNkqQFCxYoLy9PUmOz+bOf/UwTJkzQmDFjtGPHDq1bt869k8MlWVOS1KenVYdPV+qdI+fMHgcA\n",
              "AAQJi+GDNVdOTo5WrVpl9hgB5//97ajW7jqmkTERemvJJFksFrNHAgAAAY5PEAoiCyc3tptHyir1\n",
              "PwW0mwAAwPMIm0FkQJ+emj8xUZK0enuRGhp8rtQGAAABhrAZZBZOTlLfsFB9Xlapvx85a/Y4AAAg\n",
              "wBE2g0z/3j31o6Z284VttJsAAMCzCJtBaMGkJPULC9XRs1X6WwHtJgAA8BzCZhCK7N1DP5o0XJK0\n",
              "mnYTAAB4EGEzSP144nD1Cw/VF+eq9PbhMrPHAQAAAYqwGaQie/fQ4xNpNwEAgGcRNoPY45Ma282i\n",
              "8it66zPaTQAA4H6EzSAW2auHFkxKktT4vpv1tJsAAMDNCJtB7keTEhURHqri8it689MzZo8DAAAC\n",
              "DGEzyEWE99DCyY3t5m9oNwEAgJsRNqH5ExMV2auHjp2/qv/+hHYTAAC4D2ET6hfeQwsnN16ZTrsJ\n",
              "AADcibAJSdJjExLVv3cPHf/yqvI+OW32OAAAIEAQNiGpud1sPrtZrLr6BpMnAgAAgYCwiRaPTUjU\n",
              "gN49dOLLq3rjY85uAgCA7iNsokXfsFBlTUmWJK3ZUUS7CQAAuo2wCSeP3p2ggX16quTCNb12iLOb\n",
              "AACgewibcNInLFRZUxrPbv52J2c3AQBA9xA20cajdydoUJ+eOnnhmrbSbgIAgG4gbKKN3j1DlT21\n",
              "sd1cs6NItbSbAACgiwibaNe88Qka3LenSi9e19aPTpk9DgAA8FOETbSrd89QLZrafGV6sWrqaDcB\n",
              "AIDrCJvo0D98I0GD+4bp1KXr2kK7CQAAuoCwiQ716mnVoqazm7+l3QQAAF1A2MRNzRufoKh+YTp9\n",
              "+bpe/ZB2EwAAuIawiZsK72HVE01nN3+3k3YTAAC4hrCJW/rhN2yKbmo3/+tgqdnjAAAAP0LYxC2F\n",
              "97DqyWlftZvVdfUmTwQAAPwFYROd8kimTUMiwlRWcUP/dZCzmwAAoHMIm+iUxnbTLklaS7sJAAA6\n",
              "ibCJTvt+RryGRoSrrOKG/vwBZzcBAMCtETbRaeE9rFo8/auzmzdqaTcBAMDNETbhkocz4jUsMlzn\n",
              "Kqv1p3yH2eMAAAAfR9iES8JCrXpyetPZzV3HaDcBAMBNETbhsu/dFadhkeEqr6rWK7SbAADgJgib\n",
              "cFlYqFWLZ9BuAgCAWyNsoku+d2e8Yvv30vmqav3hfdpNAADQPsImuqRnaIieamo3X9x1TNdraDcB\n",
              "AEBbhE102XfvjFPcgF768kq1/vD+SbPHAQAAPoiwiS7rYQ3R003t5rrdx3Stps7kiQAAgK8hbKJb\n",
              "5qTHKX5gL315pUZ/OMDZTQAA4IywiW7pYQ3R09NTJNFuAgCAtgib6LbvpMfKNrC3Llyt0cvvcXYT\n",
              "AAB8hbCJbmt9djN3z3FdrabdBAAAjQibcIvvjItV4qDeuni1RptoNwEAQBOXw2ZRUZEmTJig1NRU\n",
              "ZWRkqKCgoMO1hmFoxowZ6t+/f3dmhB8ItYbo6RmNZzfX7zmmK7SbAABAXQib2dnZysrKUmFhoZYu\n",
              "Xar58+d3uPb5559XcnJyd+aDH5k9dpiGD+6jS9dqtem9ErPHAQAAPsClsFleXq6DBw9q3rx5kqS5\n",
              "c+eqtLRUxcXFbdYWFBTo9ddf1z/90z/d9D6rq6tVWVnpdKuv59No/FFoq7Ob6/ccp90EAACuhc3S\n",
              "0lLFxMQoNDRUkmSxWGSz2eRwOL+/Ym1trRYuXKjc3FxZrdab3ueKFSsUGRnpdMvPz3fxz4CveCht\n",
              "mJIG99Hla7V66d0Ss8cBAAAm88gFQs8995zmzJmjESNG3HLtsmXLVFFR4XTLzMz0xFjwglBriJbM\n",
              "bD67eVxVN2pNnggAAJjJpbAZHx+vsrIy1dU1vjxqGIYcDodsNpvTut27d2vNmjVKTEzUpEmTVFlZ\n",
              "qcTERJ0/f77NfYaFhSkiIsLpdqs2FL7twbRhSo7qo4rrtfrP/SVmjwMAAEzkUtiMjo5Wenq6Nm/e\n",
              "LEnasmWL4uLiZLfbndbt3btXJ0+eVElJifbt26eIiAiVlJQoKirKfZPDZ1lDLC3t5u/3Hlcl7SYA\n",
              "AEHL5ZfRc3NzlZubq9TUVK1cuVIbN26UJC1YsEB5eXluHxD+6YExw2SP7qvKG3W0mwAABDGLYRiG\n",
              "2UN8XU5OjlatWmX2GOimvE/OaMkrhxQRHqq9S2coslcPs0cCAABexicIwWO+dUeMUprazY37T5g9\n",
              "DgAAMAFhEx5jDbHomXsaz25u2HdCFdc5uwkAQLAhbMKj7h8do9uG9FPVjTpt2Ee7CQBAsCFswqNC\n",
              "WrWbG/edUMU12k0AAIIJYRMeN2vUUN0+tJ+qquu0Yd9xs8cBAABeRNiEx4WEWPRM0/tu/sf+El2+\n",
              "VmPyRAAAwFsIm/CK+5razSvVdfr3vZzdBAAgWBA24RUhIRb95J5USdLG/Sd06SrtJgAAwYCwCa+5\n",
              "b9QQjYyJ0NWaev1+L2c3AQAIBoRNeI3FYtFPmq5Mf+ndEl2k3QQAIOARNuFV944colHDaDcBAAgW\n",
              "hE14VWO72Xh286V3S3ThSrXJEwEAAE8ibMLr7hkRrTtiI3Wtpl7raTcBAAhohE14Xeuzm5vePakv\n",
              "aTcBAAhYhE2YYsbt0UqLi9T12nqt30O7CQBAoCJswhStz25ueq+EdhMAgABF2IRppt0WpbT4/rpR\n",
              "26Dc3cfMHgcAAHgAYROmaX128+UDJ1VedcPkiQAAgLsRNmGqaalRGtvSbnJ2EwCAQEPYhKksFot+\n",
              "em/j2c3NB06qvJJ2EwCAQELYhOmmpAxWuq2/qusa9CJnNwEACCiETZiudbv5x/cdtJsAAAQQwiZ8\n",
              "wiT7YN2ZMEDVdQ1au4t2EwCAQEHYhE+wWCz6adP7bv4x36GzFbSbAAAEAsImfMZE+yBlJA5QTV2D\n",
              "XtxVbPY4AADADQib8Bmt281X8ktVVnHd5IkAAEB3ETbhU+5OHqTM4QNVU9+gtTs5uwkAgL8jbMKn\n",
              "tG43//xBqc5cpt0EAMCfETbhc+5OHqRvNLebnN0EAMCvETbhk5rfd/PPH5TqNO0mAAB+i7AJnzQ+\n",
              "aZDuThqk2npDv9tJuwkAgL8ibMJnNbebfzlYqlOXrpk8DQAA6ArCJnxW5vCBmmin3QQAwJ8RNuHT\n",
              "fnJPc7t5SqUXaTcBAPA3hE34tIzEgZpkH6y6BtpNAAD8EWETPu+n96ZIkl79kHYTAAB/Q9iEz7sz\n",
              "YaAmpzS2m2t2FJk9DgAAcAFhE36h+cr0LR+d1skLV02eBgAAdBZhE34h3TZAU1OjVN9gaM0Ozm4C\n",
              "AOAvCJvwGz+5p/Hs5muHTqvkS9pNAAD8AWETfmOcbYCm3Ua7CQCAPyFswq80v+/ma4dO6QTtJgAA\n",
              "Po+wCb8yNr6/ZtwerQZDWrOdK9MBAPB1hE34neazm69/fFrHzl8xeRoAAHAzhE34nTFx/XXPCNpN\n",
              "AAD8AWETfqn57GbeJ2dUXE67CQCAryJswi+Njo3UPSOGNLabfKoQAAA+y+WwWVRUpAkTJig1NVUZ\n",
              "GRkqKChos2bHjh3KzMzUyJEjNWrUKD377LNqaGhwy8BAs+azm43tZpXJ0wAAgPa4HDazs7OVlZWl\n",
              "wsJCLV26VPPnz2+zZsCAAfrTn/6kI0eO6MMPP9S7776rTZs2uWNeoMXo2Eh9c+QQGYa0ejvvuwkA\n",
              "gC9yKWyWl5fr4MGDmjdvniRp7ty5Ki0tVXGx83/ox40bp6SkJElSeHi4xo4dq5KSknbvs7q6WpWV\n",
              "lU63+vr6LvwpCEbNZzff/PSMCs/RbgIA4GtcCpulpaWKiYlRaGioJMlischms8nhcHT475w9e1av\n",
              "vvqqHnjggXZ/vmLFCkVGRjrd8vPzXRkLQWzksAjNGjW0qd3k7CYAAL7GoxcIVVZW6sEHH9Szzz6r\n",
              "u+66q901y5YtU0VFhdMtMzPTk2MhwDzTdHbz7c/K9MVZ2k0AAHyJS2EzPj5eZWVlqqurkyQZhiGH\n",
              "wyGbzdZmbVVVlWbNmqXZs2crJyenw/sMCwtTRESE081qtbr4ZyCYjYiJ0P8a3dhu/oZ2EwAAn+JS\n",
              "2IyOjlZ6ero2b94sSdqyZYvi4uJkt9ud1l25ckWzZs3SrFmz9M///M/umxboQHO7+dZnZTp6ttLk\n",
              "aQAAQDOXX0bPzc1Vbm6uUlNTtXLlSm3cuFGStGDBAuXl5UmSVq9erfz8fG3dulVjx47V2LFj9S//\n",
              "8i/unRxo5fahEfrWHTGSpNXbaDcBAPAVFsMwDLOH+LqcnBytWrXK7DHgZwrPVem+F/bIMKS3l0zW\n",
              "yGERZo8EAEDQ4xOEEDBSh/RraTc5uwkAgG8gbCKgPDMzRRaL9LeCsyo4U2H2OAAABD3CJgJKypB+\n",
              "emDMMEmc3QQAwBcQNhFwnplpl8Ui/f3IOR0+TbsJAICZCJsIOPbofnoorbHdfIF2EwAAUxE2EZCW\n",
              "zExRiEXa9vk5fXaKdhMAALMQNhGQkqP6avbYWEnS6u2FJk8DAEDwImwiYD09w97Ubpbr01OXzR4H\n",
              "AICgRNhEwEqK6qtvN7WbnN0EAMAchE0EtKdnpsgaYtGOo+X6uPSy2eMAABB0CJsIaMMH92nVbnJ2\n",
              "EwAAbyNsIuAtmWmXNcSiXV+c10eOS2aPAwBAUCFsIuAlDOqjOeOarkzn7CYAAF5F2ERQeHpG49nN\n",
              "3YXn9eFJ2k0AALyFsImgYBvUW3PTObsJAIC3ETYRNJ6ekaLQEIv2Fn2pD09eNHscAACCAmETQSN+\n",
              "YG999844SdLz73B2EwAAbyBsIqgsnm5XaIhF+4q/1AcltJsAAHgaYRNBJX5gb33vrnhJnN0EAMAb\n",
              "CJsIOounJ6uH1aL9xReUf4J2EwAATyJsIujEDfiq3Xz+HdpNAAA8ibCJoLR4ul09rBa9d/yCDhy/\n",
              "YPY4AAAELMImglJs/176fgbtJgAAnkbYRNBaPN2untYQvX/iot499qXZ4wAAEJAImwhaMZG99Ehm\n",
              "85XpRTIMw+SJAAAIPIRNBLUnpzW2m/knLuq9Y5zdBADA3QibCGpDI8P1g6Z28/lthbSbAAC4GWET\n",
              "Qe/J6Xb1DA3RByWXtL+YdhMAAHcibCLoDYkI1w8zbZJoNwEAcDfCJiDpyWnJCgsN0YcnL2lvEVem\n",
              "AwDgLoRNQFJ0RLj+4RsJkho/M512EwAA9yBsAk0WTUtSWGiIPnJc1h7aTQAA3IKwCTSJ7heueeMb\n",
              "283n36HdBADAHQibQCuLpiYrvEeIPi69rF2F580eBwAAv0fYBFqJ6hem/93Ubr5AuwkAQLcRNoGv\n",
              "yZ6arF49rPrkVIV2flFu9jgAAPg1wibwNYP7hunRu5uvTOcz0wEA6A7CJtCOrClJ6tXDqk9PVWjH\n",
              "UdpNAAC6irAJtGNQ3zA9OoF2EwCA7iJsAh3InpKs3j2t+ux0hbZ9TrsJAEBXEDaBDgzs01OPTUiU\n",
              "xKcKAQDQVYRN4CayJiepT0+rCs5U6u9Hzpk9DgAAfoewCdzEgD49NX9ioiRpNWc3AQBwGWETuIUF\n",
              "k5LUNyxUR8oq9T8FtJsAALiCsAncwoA+PTW/1dnNhgbaTQAAOouwCXTCgsnD1S8sVEfPVul/Cs6a\n",
              "PQ4AAH6DsAl0Qv/ePfWjprObL2wrot0EAKCTXA6bRUVFmjBhglJTU5WRkaGCgoJ2123YsEEpKSlK\n",
              "Tk7WwoULVVtb2+1hATP9eFKS+oWH6otzVfob7SYAAJ3ictjMzs5WVlaWCgsLtXTpUs2fP7/NmhMn\n",
              "Tmj58uXau3eviouLde7cOa1fv94d8wKmiezdQ49PHC6p8cp02k0AAG7NYrjwXi7l5eWy2+26ePGi\n",
              "QkNDZRiGYmJitG/fPtnt9pZ1//qv/6pjx45p3bp1kqS3335bv/rVr7Rv374291ldXa3q6mqn7y1f\n",
              "vlyrV6/u6t8EeEzF9VpN+r87VHWjTqNjIxQeajV7JAAAWuTcm6oJ9sFmj+Ek1JXFpaWliomJUWho\n",
              "479msVhks9nkcDicwqbD4VBCQkLL14mJiXI4HO3e54oVK/Tcc885fW/8+PGujAV4TWSvHsqekqRf\n",
              "/71Qh09Xmj0OAABOLl3zvWOLLoVNT1i2bJlycnKcvrd8+XKTpgFu7Ylpdt0R11/Xa+rMHgUAACdp\n",
              "8f3NHqENl8JmfHy8ysrKVFdX1/IyusPhkM1mc1pns9l07Nixlq9LSkrarGkWFhamsLAwp+9Zrbw0\n",
              "Cd9lDbFoamqU2WMAAOAXXLpAKDo6Wunp6dq8ebMkacuWLYqLi3N6CV2S5s6dq7y8PJ09e1aGYWjd\n",
              "unV65JFH3Dc1AAAA/ILLV6Pn5uYqNzdXqampWrlypTZu3ChJWrBggfLy8iRJSUlJeu655zRx4kTZ\n",
              "7XZFRUUpOzvbvZMDAADA57l0Nbq35OTkaNWqVWaPAQAAgG7iE4QAAADgMYRNAAAAeAxhEwAAAB5D\n",
              "2AQAAIDHEDYBAADgMYRNAAAAeAxhEwAAAB5D2AQAAIDH+OSbus+ZM0eJiYle+3319fXKz89XZmYm\n",
              "n8veCvvSMfamfexL+9iXjrE37WNfOsbetM+MfUlISNAzzzxzy3U+GTa9rbKyUpGRkaqoqFBERITZ\n",
              "4/gM9qVj7E372Jf2sS8dY2/ax750jL1pny/vCy+jAwAAwGMImwAAAPAYwiYAAAA8hrApKSwsTD//\n",
              "+c8VFhZm9ig+hX3pGHvTPvalfexLx9ib9rEvHWNv2ufL+8IFQgAAAPAYmk0AAAB4DGETAAAAHkPY\n",
              "BAAAgMcQNgEAAOAxQRU2i4qKNGHCBKWmpiojI0MFBQXtrtuwYYNSUlKUnJyshQsXqra21suTeldn\n",
              "9mXXrl3q1auXxo4d23K7fv26CdN6z5IlS5SYmCiLxaKPP/64w3XB9njpzL4E4+Plxo0b+va3v63U\n",
              "1FSlpaXp3nvvVXFxcbtr33zzTd1+++1KSUnRnDlzVFlZ6eVpvauze1NSUiKr1er0uDl27JgJE3vP\n",
              "N7/5TY0ZM0Zjx47V5MmTdejQoXbXBdvzjNS5vQnG55pmGzdulMVi0euvv97uz33qecYIItOnTzc2\n",
              "btxoGIZh/OUvfzHuuuuuNmuOHz9uxMTEGGVlZUZDQ4Px4IMPGr/97W+9PKl3dWZfdu7caaSlpXl3\n",
              "MJPt3r3bKC0tNRISEoxDhw61uyYYHy+d2ZdgfLxcv37deOutt4yGhgbDMAxjzZo1xtSpU9usq6qq\n",
              "MqKjo43PP//cMAzDWLx4sfGP//iP3hzV6zq7NydOnDAiIyO9O5zJLl261PLPW7duNcaMGdNmTTA+\n",
              "zxhG5/YmGJ9rDKPxfyt33323MX78eOO1115r83Nfe54JmmazvLxcBw8e1Lx58yRJc+fOVWlpaZv/\n",
              "d/3qq6/qoYce0tChQ2WxWLRo0SK98sorZozsFZ3dl2A0ZcoUxcXF3XRNsD1epM7tSzAKDw/X/fff\n",
              "L4vFIkkaP368SkpK2qz761//qnHjxun222+XJD355JMB/5jp7N4Eo/79+7f8c0VFRcsetRaMzzNS\n",
              "5/YmGDU0NGjBggVas2ZNh++p6WvPM0ETNktLSxUTE6PQ0FBJksVikc1mk8PhcFrncDiUkJDQ8nVi\n",
              "YmKbNYGks/siSceOHVN6eroyMjK0du1ab4/qk4Lt8eKKYH+8rF69WrNnz27z/fYeM2VlZaqrq/Pm\n",
              "eKbqaG8k6erVq8rIyFB6erp+8YtfqL6+3svTed+jjz6q+Ph4LV++XC+//HKbnwfz88yt9kYKvuea\n",
              "VatWaeLEibrzzjs7XONrzzOhpvxW+J309HSdOnVKkZGROnXqlO6//34NHjxYDz/8sNmjwQcF++Pl\n",
              "V7/6lYqLi7V9+3azR/E5N9ubmJgYnT59WtHR0bp48aK+//3v69/+7d/07LPPmjCp92zatEmS9NJL\n",
              "L2np0qV6++23TZ7Id9xqb4Ltuebw4cPasmWL9uzZY/YoLgmaZjM+Pt4p1RuGIYfDIZvN5rTOZrPp\n",
              "5MmTLV+XlJS0WRNIOrsvERERioyMlCTFxcXpBz/4gfbu3ev1eX1NsD1eOiuYHy+//vWvtXXrVv31\n",
              "r39V79692/y8vcdM61cXAtmt9iYsLEzR0dGSpIEDB+rxxx8PmseNJD322GPauXOnLly44PR9nmc6\n",
              "3ptge67Zu3evSkpKlJKSosTERB04cEBZWVl68cUXndb52vNM0ITN6Ohopaena/PmzZKkLVu2KC4u\n",
              "Tna73Wnd3LlzlZeXp7Nnz8owDK1bt06PPPKIGSN7RWf3paysTA0NDZKkqqoqvfnmmxo3bpzX5/U1\n",
              "wfZ46axgfbysWrVKr7zyit555x2n82atzZo1Sx999JGOHj0qSVq7dm1QPGY6szfl5eUtV1lXV1dr\n",
              "69atAf24uXz5ss6cOdPy9euvv65BgwZp4MCBTuuC8Xmms3sTbM81TzzxhMrKylRSUqKSkhKNHz9e\n",
              "69ev1xNPPOG0zueeZ0y7NMkER48eNcaPH2+kpKQYd955p/Hpp58ahmEYP/7xj4033nijZd369euN\n",
              "pKQkIykpyXj88ceNmpoas0b2is7sy5o1a4yRI0caY8aMMUaOHGn8/Oc/b7myNFBlZWUZsbGxhtVq\n",
              "NaKjo43k5GTDMHi8dGZfgvHxUlpaakgykpKSjLS0NCMtLc3IzMw0DMMwli9fbrz44osta9944w3j\n",
              "tttuM5KTk43Zs2cbly9fNmtsr+js3mzZssUYNWpUy+PmqaeeMm7cuGHm6B5VUlJiZGRkGKNHjzbG\n",
              "jBljzJw5s+UdHoL9eaazexOMzzWtTZ06teVqdF9+nrEYhmGYF3UBAAAQyILmZXQAAAB4H2ETAAAA\n",
              "HkPYBAAAgMcQNgEAAOAxhE0AAAB4DGETAAAAHkPYBAAAgMcQNgEAAOAxhE0AAAB4DGETAAAAHvP/\n",
              "ATzniqiuWbhnAAAAAElFTkSuQmCC\n",
              "\">\n",
              "      </div>\n",
              "      <script type=\"text/javascript\">\n",
              "        (() => {\n",
              "          const chartElement = document.getElementById(\"chart-5c15d12e-240d-462a-bd61-c15881a9f348\");\n",
              "          async function getCodeForChartHandler(event) {\n",
              "            const chartCodeResponse =  await google.colab.kernel.invokeFunction(\n",
              "                'getCodeForChart', [\"chart-5c15d12e-240d-462a-bd61-c15881a9f348\"], {});\n",
              "            const responseJson = chartCodeResponse.data['application/json'];\n",
              "            await google.colab.notebook.addCell(responseJson.code, 'code');\n",
              "          }\n",
              "          chartElement.onclick = getCodeForChartHandler;\n",
              "        })();\n",
              "      </script>\n",
              "      <style>\n",
              "        .colab-quickchart-chart-with-code  {\n",
              "            display: block;\n",
              "            float: left;\n",
              "            border: 1px solid transparent;\n",
              "        }\n",
              "\n",
              "        .colab-quickchart-chart-with-code:hover {\n",
              "            cursor: pointer;\n",
              "            border: 1px solid #aaa;\n",
              "        }\n",
              "      </style>"
            ]
          },
          "metadata": {}
        },
        {
          "output_type": "display_data",
          "data": {
            "text/plain": [
              "from matplotlib import pyplot as plt\n",
              "_df_14[1].plot(kind='line', figsize=(8, 4), title=1)\n",
              "plt.gca().spines[['top', 'right']].set_visible(False)"
            ],
            "text/html": [
              "      <div class=\"colab-quickchart-chart-with-code\" id=\"chart-aa821ba6-ebe0-40a0-b014-75412ee5622e\">\n",
              "        <img style=\"width: 180px;\" src=\"data:image/png;base64,iVBORw0KGgoAAAANSUhEUgAAApsAAAFuCAYAAADOJdNTAAAAOXRFWHRTb2Z0d2FyZQBNYXRwbG90\n",
              "bGliIHZlcnNpb24zLjcuMSwgaHR0cHM6Ly9tYXRwbG90bGliLm9yZy/bCgiHAAAACXBIWXMAAA9h\n",
              "AAAPYQGoP6dpAAA6AElEQVR4nO3deXRUBZ7+/6eSIgkBkrAFQlayscoSSICwg9vYbi3danfTSrcs\n",
              "KirKd3469hlPj/OdGT3n24MiLgS1aRG3FlAZbadb2VcjiCK4kIWQBAIBQhayV+X+/qhUSCSBBFK5\n",
              "tbxf59Q5DVzCh3uqi8cnn3uvxTAMQwAAAIAL+Jk9AAAAALwXYRMAAAAuQ9gEAACAyxA2AQAA4DKE\n",
              "TQAAALgMYRMAAAAuQ9gEAACAyxA2AQAA4DKETQAAALgMYRMAAAAuQ9gEABd69913NXXqVIWEhMhi\n",
              "schms5k9EgB0KQvPRgcA1/n73/+ukpISVVdX67777lN9fb2sVqvZYwFAl+ETDwBc6IYbbpAkbd26\n",
              "1dxBAMAkfBsdAAAALkPYBAAAgMsQNgEAAOAyhE0AAAC4DBcIAYAL2e121dfXq66uTpJUW1srm82m\n",
              "gIAA+fnx3/sAvB+fdADgQm+++aa6d+/edFV6z5491b17d23fvt3kyQCga3CfTQAAALgMzSYAAABc\n",
              "hrAJAAAAlyFsAgAAwGUImwAAAHAZwiYAAABchrAJAAAAlyFsAgAAwGXcMmwuX77c7BEAAADQCdwy\n",
              "bB47dszsEQAAANAJ3DJsAgAAwDsQNgEAAOAyhE0AAAC4DGETAAAALkPYBAAAgMsQNgEAAOAyhE0A\n",
              "AAC4DGETAAAALtOhsPnII48oLi5OFotFX3/9dZvHvf7660pKSlJCQoIWLFig+vr6q50TAAAAHqhD\n",
              "YfMXv/iFdu7cqdjY2DaPOXr0qJ566int2LFD2dnZOnXqlFatWnXVgwIAAMDzdChsTps2TVFRUZc8\n",
              "Zt26dbr11ls1cOBAWSwW3X///XrnnXeuakgAAAB4pk7f2czPz2/RfMbFxSk/P7/N42tra1VeXt7i\n",
              "ZbfbO3ssoNMcPVOpRW/u04H8c2aPAgCA2zP9AqFnnnlGoaGhLV6ZmZlmjwW06Y8bD+vvh0/p8XUH\n",
              "ZW8wzB4HAAC31ulhMyYmRseOHWv6cV5enmJiYto8/sknn1RZWVmLV1paWmePBXSK/cfOafuR05Kk\n",
              "rOLz+uTbIpMnAgDAvXV62JwzZ442btyokydPyjAMrVy5UnfffXebxwcGBiokJKTFy9/fv7PHAjrF\n",
              "858fkST16REgSVr++RHaTQAALqFDYXPRokWKiopSYWGhbrjhBiUmJkqS5s+fr40bN0qS4uPj9fTT\n",
              "T2vy5MlKTExU//79tWjRos6fHOhi+/JKtCPrjKx+Fr01f4JCu3dTzulKfXzwhNmjAQDgtiyGYbhd\n",
              "LbN06VItW7bM7DGAFua+9oV2Zp/Rr9Ki9cwdo/Ti5iz96R9HlNC/h/7x2HT5+1nMHhEAALdj+gVC\n",
              "gCf4Mq9EO7MdreaDMxyN/r3pcQoLdrSb//MN7SYAAK0hbALt8Nxnjl3NX46PVnSfYElSr6BuWjA1\n",
              "XpL0wqYs2ewNps0HAIC7ImwCl/FF7lntzjmrbv4WPTQrscWv3Zsep97B3ZR7plIbaTcBALgIYRO4\n",
              "jOcar0C/c3y0IsO6t/i1noFWLZhGuwkAQFsIm8Al7Mk5q725JQrw99PimYmtHnPvpDj16RGgvLNV\n",
              "+uhr2k0AAJojbAKX4Lyv5l2p0Rr0k1bTqUegVQsb280Vm2k3AQBojrAJtGF3zhl9cdTRaj44M+GS\n",
              "x/52YmxTu/nBgeNdNCEAAO6PsAm0wjAMPf9ZliTp7rRoRYS23mo69Qi0alFTu5mtetpNAAAkETaB\n",
              "Vu3OOavMvBIFWP2a7qt5Ob+dFKt+PQOUX1KlD76i3QQAQCJsAhcxDKPpvpq/TovRwNCgdv2+4ACr\n",
              "Fk1zfLt9xZYs2k0AAETYBC6yK/us9h07p0Crnx6YceldzZ+aOzFW/XoGqqCkWhu+KnTRhAAAeA7C\n",
              "JtCMYRhN99X89YQYDQhpX6vp1D3AX/dPv7C7WWej3QQA+DbCJtDMjqwz2u9sNad3rNV0+s0ER7tZ\n",
              "eK5a62k3AQA+jrAJNGreav5mQqzCO9hqOnUP8G/69vuLtJsAAB9H2AQabTtyWgfySxXUzU/3z4i/\n",
              "qq/1mwkxCu8VqOOl1Xp/f0EnTQgAgOchbAJytpqO+2rOnRCr8F5X1mo6BXW70G6+tDlbtTb7Vc8I\n",
              "AIAnImwCkrYeOa1vChyt5qIr3NX8qV+lxWhASKBOlNXo/X3sbgIAfBNhEz7P8bQgx67mPZPi1L9X\n",
              "YKd83aBu/k03hH9pC+0mAMA3ETbh87b8WKxvCsvUvZu/Fk67ul3Nn7orNVoDQ4JUVFajv37J7iYA\n",
              "wPcQNuHTDMPQ8427mvdMctyyqDMFdfPXgzMbdze35KimnnYTAOBbCJvwaZu+L9bBwjIFB3R+q+l0\n",
              "V2q0IkKDdLK8Ru/RbgIAfAxhEz7LMAw9v+nCrmbfTm41nQKt/npwpmN38+Wt2bSbAACfQtiEz/r8\n",
              "+2IdOl6uHi5sNZ3uHB+lQaFBOlVeq3cz8136ZwEA4E4Im/BJjl1NR6t5b3qc+vQIcOmfF2j11+JZ\n",
              "znaT3U0AgO8gbMIn/eO7Uzp8wtFqLpjq2lbT6ZfjohUZ1l3FFbV6+wvaTQCAbyBswuc0NFy4An3e\n",
              "5Dj1dnGr6RRg9dPixt3NV7bRbgIAfANhEz7nH9+d1PdF5eoZaO2yVtPpF+OiFBnWXacrarV277Eu\n",
              "/bMBADADYRM+pXmr+bvJcQoL7ppW0ynA6qeHG3c3V27LVXUd7SYAwLsRNuFT/n74pH44WaFegVbN\n",
              "n9K1rabTnHFRiu7TXWfO1+qtL2g3AQDejbAJn9Gi1ZwyWKHB3UyZo5u/nx6emSRJWrktR1V1NlPm\n",
              "AACgKxA24TM+PXRSP56qUK8gq+6bPNjUWX6eEqmYPsE6c76O3U0AgFcjbMInNDQYWt74tKDfTzav\n",
              "1XTq5u+nhxp3NzO25dJuAgC8FmETPuGTb4t05NR59Qqy6vdTzG01ne4YG6nYvsE6W1mnNXtoNwEA\n",
              "3omwCa9nbzC0fJNjV3P+lHiFdje31XSy+vvp4VmO3c1V23NVWUu7CQDwPoRNeL1Pvi1SdvF5hQRZ\n",
              "9bspcWaP08LtYwZpcL8eKqHdBAB4KcImvJq9wdDyxmegL5gar5Ag92g1nRztpmN3c9X2HJ2n3QQA\n",
              "eBnCJrzaxwdPKOd0pUK7d9O8yXFmj9OqW0c72s1zVfV6Y3ee2eMAANCpCJvwWs13NRdMHaxebtZq\n",
              "Oln9/fTIbEe7+eqOXFXU1Js8EQAAnYewCa+18Zvjyj1dqbDgbro3Pc7scS7p1tGRiu/fQ6W0mwAA\n",
              "L0PYhFey2Rv0wqZsSY5dTXdtNZ38/SxaMttxZfqrO46qnHYTAOAlCJvwShu/OaGjZyrV2wNaTaeb\n",
              "Rw1SYnhPlVXX641deWaPAwBApyBswus4Wk3HrubCaQnqGWg1eaL28fez6JGmdjOXdhMA4BUIm/A6\n",
              "H359Qnlnq9SnR4DumRRr9jgd8rNrIpQY3lPlNTat3pln9jgAAFw1wia8is3eoBWbna1mvHp4SKvp\n",
              "1Hx387WduSqrpt0EAHg2wia8yoYDx3XsbJX6emCr6fSzayKUPKCnKmps+vPOo2aPAwDAVSFswmvU\n",
              "N2s1F02PV3CAZ7WaTn5+Fi2ZnSxJ+vPOoyqrot0EAHguwia8xgdfHVdBSbX69QzQ3Ime2Wo6/dPI\n",
              "gRo6sJcqam16fRftJgDAc3U4bGZlZSk9PV3JyclKTU3V4cOHLzqmoaFBS5cu1fDhwzVq1CjNnDlT\n",
              "2dnZnTIw0Jp6e4NWbGlsNacleGyr6eTXbHdzNe0mAMCDdThsLlq0SAsXLtSRI0f0xBNPaN68eRcd\n",
              "s3HjRu3atUvffPONDh48qNmzZ+sPf/hDZ8wLtGr9/sLGVjPQ41tNpxtGXGg3X9uZa/Y4AABckQ6F\n",
              "zeLiYu3bt09z586VJM2ZM0cFBQUXtZYWi0W1tbWqqamRYRgqLy9XVFRU500NNFNna9CKzY734P3T\n",
              "49U9wN/kiTqHn59Fj17b2G7uylNpVZ3JEwEA0HEd+l5jQUGBIiIiZLU6fpvFYlFMTIzy8/OVmJjY\n",
              "dNwtt9yiLVu2aODAgerVq5ciIyO1bdu2Vr9mbW2tamtrW/yc3W7v6N8DPmzd/kIdL61W/17e02o6\n",
              "XT98oIZFhOj7onK9uiNX/98NQ80eCQCADnHJBUL79u3ToUOHdPz4cZ04cUKzZ8/W/fff3+qxzzzz\n",
              "jEJDQ1u8MjMzXTEWvFCdrUEvbXG0mg9MT1BQN+9oNZ2at5t/2ZWnkkraTQCAZ+lQ2IyOjlZRUZFs\n",
              "NpskyTAM5efnKyYmpsVxa9as0axZsxQWFiY/Pz/de++92rJlS6tf88knn1RZWVmLV1pa2hX+deBr\n",
              "3t9foOOl1QrvFahfT4i5/G/wQNcPH6ARg0JUWWfXazvY3QQAeJYOhc3w8HClpKRo7dq1kqT169cr\n",
              "KiqqxbfQJSk+Pl6bN29WXZ2jhfn44481cuTIVr9mYGCgQkJCWrz8/b2rnYJr1NrseqlxV/OBGd7X\n",
              "ajpZLBY9eq3jvptv7KbdBAB4lg5/Gz0jI0MZGRlKTk7Ws88+q9WrV0uS5s+fr40bN0qSFi9erMGD\n",
              "B2v06NEaNWqUNm3apFdeeaVzJ4fP++u+Qp0oq9GAkED9Ks07W02na4eFa2Sko91ctZ12EwDgOSyG\n",
              "YRhmD/FTS5cu1bJly8weA26s1mbXjP+3VUVlNXr61hG6Nz3O7JFc7vPvTmn+mn0KDvDXjsdnqm/P\n",
              "QLNHAgDgsniCEDzSe18WqKisRgNDgnRXarTZ43SJ2cPCNSoqVFW0mwAAD0LYhMepqbc3XYG+eKb3\n",
              "7mr+lGN303Fl+po9x3TmfO1lfgcAAOYjbMLjvPdlgU6V1yoiNEh3+kir6TRzSLhGR4epup52EwDg\n",
              "GQib8Cg19Xa9vNXRaj44M1GBVt9oNZ1atpt5Ol1BuwkAcG+ETXiUdzLzdaq8VoNCg3TneN98BOqM\n",
              "5P4aEx2mmvoGZWzLMXscAAAuibAJj+FoNR3havEs32s1nZq3m2u/OKbiihqTJwIAoG2ETXiMt77I\n",
              "1+mKWkWGddcvx/nWruZPTU/ur7ExjnZz5VZ2NwEA7ouwCY9QXWfXK42t5kOzEhVg9e23rsVi0WON\n",
              "TxV664tjKi6n3QQAuCff/hcbHuOtLxy3+onq3V1zUnxzV/Onpib107jY3qq1NegVdjcBAG6KsAm3\n",
              "V11n18ptjm8VPzSTVtOpZbuZr1O0mwAAN8S/2nB7a/c6Ws3oPt01ZxytZnOTE/tqfGxv1dkamtYM\n",
              "AABwJ4RNuLWqOptWNn6L+OGZSermz1u2OYvFoseuc7Sbb2fm62QZ7SYAwL3wLzfc2pt7julsZZ1i\n",
              "+gTr5ymRZo/jltIT+iotro/qbA1NN7wHAMBdEDbhtiprbcpofCTjw7MSaTXbYLFY9Oh1jvtuvptZ\n",
              "oBOl1SZPBADABfzrDbf15t5jKqmsU2zfYP18LK3mpaQn9NOEwX1UZ2d3EwDgXgibcEuVtTatamo1\n",
              "k2Sl1bysRxuvTH/vS9pNAID74F9wuKU39uSppLJOg/v10O1jBpk9jkeYlNBXE+Md7eZLW9jdBAC4\n",
              "B8Im3M75Fq1mIq1mBzjvu/nXfQUqPFdl8jQAABA24Ybe2J2n0qp6xffroVtH02p2xIT4vkpP6Kt6\n",
              "u6GXtrC7CQAwH2ETbqWipr6p1XxkNruaV8J538339xWooIR2EwBgLv4lh1t5Y3eeyqrrFd+/h26h\n",
              "1bwiqXF9NCWxn2wNBvfdBACYjrAJt1FeU69XdxyVJC2ZnSR/P4vJE3muR6913Hfz/X2FtJsAAFMR\n",
              "NuE2/rLL0WomhvfUzaNoNa/G+Lg+mprkaDdf3Ey7CQAwD2ETbqGsul6v7biwq0mrefWc991c91Wh\n",
              "8s/SbgIAzEHYhFtYveuoymtsSgrvqZ9dE2H2OF5hXGxvTUvuL3uDoRWbs8weBwDgowibMF1Zdb1e\n",
              "39m4q3ktrWZneqxxd3PDgePKO1Np8jQAAF9E2ITp/rzzqCpqbEoe0FM3jaTV7ExjY3prxhBHu/ki\n",
              "TxUCAJiAsAlTlVXV68/OVnN2svxoNTudc3fzA9pNAIAJCJsw1es7c1VRa9PQgb30TyMHmj2OVxoT\n",
              "HaaZje3mC+xuAgC6GGETpimtqtOfd+VJctxXk1bTdZzt5ocHjiv39HmTpwEA+BLCJkzz2o6jOt/Y\n",
              "at4wglbTlUZHh2n20HA1GNIK7rsJAOhChE2Y4lxlnVbvcuxqPnotu5pdwdlufvT1ceXQbgIAughh\n",
              "E6Z4bWeuKuvsGhYRouuHDzB7HJ9wTVSorh02wNFubmJ3EwDQNQib6HIllXX6S+Ou5qPXsqvZlZzP\n",
              "TN/4zQllF9NuAgBcj7CJLvfqDkerOWIQrWZXGxkZquuGO9rNF2g3AQBdgLCJLnX2fK3e2J0nybFD\n",
              "aLHQanY1Z7v5PwdPKOtUhcnTAAC8HWETXWrVjlxV1dl1TWSorh0WbvY4PmnEoFDdMGKADENaTrsJ\n",
              "AHAxwia6zJnztVqz+5gkR7tGq2ke55Xpn3xbpCO0mwAAFyJsosu8uj1X1fV2jYoK1ayhtJpmGhYR\n",
              "on8aOZB2EwDgcoRNdIkz52u1Zg+tpjtZ0ri7+bdvi/TjSdpNAIBrEDbRJTK25ai63q7R0WGaOYRW\n",
              "0x0MHRiim65xtptHzB4HAOClCJtwueKKGr25l1bTHS2ZnSyLRfrbtyf1fVG52eMAALwQYRMul7Et\n",
              "VzX1DRoTHaYZyf3NHgfNDBnYSzddEyFJWv45u5sAgM5H2IRLFZfXaG1jq/nYddxX0x09OjtJFov0\n",
              "v4dP6vCJMrPHAQB4GcImXGrltlzV2ho0NiZM05L6mT0OWpE0oJduHjVIEk8VAgB0PsImXKa4vEZv\n",
              "fdHYavK0ILe2ZHaiLBbp74dP0W4CADoVYRMu8/LWHNXaGjQutrem0mq6tcTwXrqlsd18nt1NAEAn\n",
              "6nDYzMrKUnp6upKTk5WamqrDhw+3ety3336rGTNmaNiwYRo2bJg2bNhw1cPCc5wsq9HbmfmSaDU9\n",
              "xSOzk+RnkT777pQOHafdBAB0jg6HzUWLFmnhwoU6cuSInnjiCc2bN++iY6qqqnTbbbfpP/7jP/T9\n",
              "99/r0KFDmjp1amfMCw/xytZs1dkalBrXW5MT+5o9DtohMbynbh3tbDe57yYAoHN0KGwWFxdr3759\n",
              "mjt3riRpzpw5KigoUHZ2dovj3n77bU2cOFFTpkyRJPn7+6t/f2554yuKyqr1TmaBJFpNT+NsNz//\n",
              "vlgHC0vNHgcA4AU6FDYLCgoUEREhq9UqSbJYLIqJiVF+fn6L47777jsFBgbq5ptv1pgxY3TPPffo\n",
              "9OnTrX7N2tpalZeXt3jZ7fYr/OvAHbyyNUd19galxfXRpARaTU8S37+nbh8TKYn7bgIAOodLLhCy\n",
              "2Wz6/PPPlZGRoQMHDigyMlIPPPBAq8c+88wzCg0NbfHKzMx0xVjoAidKq/VuY6v56HU8LcgTPdzY\n",
              "bm76oVjfFJSaPQ4AwMN1KGxGR0erqKhINptNkmQYhvLz8xUTE9PiuJiYGM2cOVORkZGyWCyaO3eu\n",
              "9u7d2+rXfPLJJ1VWVtbilZaWdoV/HZjt5a3ZqrM3aMLgPkpP4Ap0TzS4Xw/dPtbRbrK7CQC4Wh0K\n",
              "m+Hh4UpJSdHatWslSevXr1dUVJQSExNbHHfnnXfqyy+/VHm541nLf/vb3zR69OhWv2ZgYKBCQkJa\n",
              "vPz9/a/k7wKTHS+t1ntfNu5qXpds8jS4Go/MSpK/n0VbfjytA/nnzB4HAODBOvxt9IyMDGVkZCg5\n",
              "OVnPPvusVq9eLUmaP3++Nm7cKMnRbP7hD39Qenq6Ro0apc2bN2vlypWdOznczktbslVvNzQpvq8m\n",
              "xrOr6cni+vXQz5vaTXY3AQBXzmIYhmH2ED+1dOlSLVu2zOwx0AGF56o0809bVW839N7CiZpA2PR4\n",
              "x85WatZ/b5O9wdD6B9I1Lra32SMBADwQTxBCp3hpS47q7YbSE/oSNL1EbN8empPSeGU6z0wHAFwh\n",
              "wiauWkFJld7fx66mN3poZpKsfhZtP3Ja+4+xuwkA6DjCJq7aS1uyZWswNCWxn1Lj+pg9DjpRTN9g\n",
              "zUmJksSV6QCAK0PYxFUpKKnSuv2FkqTHrksyeRq4wkOzEmX1s2hH1hntyysxexwAgIchbOKqrNic\n",
              "JVuDoalJ/TQullbTG0X3CdYvxzvazedoNwEAHUTYxBU7drZS6786Lkl69Fp2Nb3Z4pmJ6uZv0a7s\n",
              "s8o8SrsJAGg/wiau2Iubs2VvMDQtuT+3xfFyUb2D9cvx0ZLY3QQAdAxhE1ck70ylNhxwtJqPXcuu\n",
              "pi9wtpu7c87qi9yzZo8DAPAQhE1ckRWNreaMIf01NoZW0xdEhnXXnY3tJrubAID2Imyiw46eqdQH\n",
              "BxxXoLOr6VsWz0xUgL+f9uaWaE8O7SYA4PIIm+iwFZuy1GBIs4aGa0x0mNnjoAsNCuuuu1IvtJtu\n",
              "+LRbAICbIWyiQ3JOn9eHXzuvQGdX0xc9ODNBAf5+yjxaoj3sbgIALoOwiQ55cXO2Ggxp9tBwjYoK\n",
              "M3scmCAitLt+ldZ4ZfpnWbSbAIBLImyi3XJOn9dHX3NfTUgPzEhUgNVPmXkl2s3uJgDgEgibaLcX\n",
              "Gnc1rx02QNdEhZo9Dkw0MDRIv06LkSQ99xm7mwCAthE20S7ZxRXa+M0JSexqwuGBGQkKtPpp37Fz\n",
              "2pl9xuxxAABuirCJdlm+KVuGIV0/fIBGRtJqQhoQEqRfT6DdBABcGmETl3XkVIU+PuhoNZfQaqKZ\n",
              "B6Y72s2v8ku1I4t2EwBwMcImLuuFTVkyDOmGEQM0YhCtJi4IDwnS3ImxkrjvJgCgdYRNXNKRUxX6\n",
              "5NsiSVyBjtYtmh6voG5+OpBfqm1HTps9DgDAzRA2cUnLP3e0mv80cqCGRYSYPQ7cUHivIM2d4Gw3\n",
              "ue8mAKAlwiba9MPJ8qZWk11NXMqi6QkK6uanbwpKtfVH2k0AwAWETbRp+edZkqSfXROhoQNpNdG2\n",
              "/r0Cdc+kOEnsbgIAWiJsolXfnSjXp4dOymKRHplNq4nLWzgtXt27+etgYZm2/Fhs9jgAADdB2ESr\n",
              "XtjkaDVvuiZCQwb2MnkaeIJ+PQN1T7pjd/N5djcBAI0Im7jI4RNl+t/DjlbzUVpNdMDCqfEKDnC0\n",
              "m5u+p90EABA20QrnrubNowYpaQCtJtqvb88Lu5vPb2J3EwBA2MRPHDpepn98d0oWi7RkdqLZ48AD\n",
              "LZwWrx4B/jp0vFyffXfK7HEAACYjbKKF5xtbzVtHD1JiOK0mOq5PjwDdmx4nid1NAABhE818W1im\n",
              "z78/JT+L9PAsdjVx5RZMjVfPQKu+KyrXP2g3AcCnETbRZPmmI5KcrWZPk6eBJ+vdI0DzmrWbDQ20\n",
              "mwDgqwibkCQdLCzV598Xy4/7aqKTzJ86WD0Drfq+qFz/+O6k2eMAAExC2ISkC7uat4+JVHx/Wk1c\n",
              "vbDgAP1ucpwk2k0A8GWETejrglJt/qFY/n4WPUyriU40f0q8egVa9cPJCv3vYdpNAPBFhE3o+c8d\n",
              "u5q3j4nU4H49TJ4G3iQ0uJt+N2WwJMf9W2k3AcD3EDZ93Ff557T1x9OOVnMW99VE57tvymD1CrLq\n",
              "x1MV+vQQ7SYA+BrCpo9zPi3o52MjFUerCRcI7d5N9znbzU1HaDcBwMcQNn3Y/mPntO0IrSZc73eT\n",
              "ByskyKojp87rk2+LzB4HANCFCJs+zLmrOSclUrF9aTXhOo52M16StHxTluy0mwDgMwibPmr/sRLt\n",
              "yDojq5+FpwWhS/xuSpxCgqzKLj6vjw+eMHscAEAXIWz6qOc+c+xq/mJclKL7BJs8DXxBSFA3LZjq\n",
              "aDdfoN0EAJ9B2PRBX+aVaGe2o9VcPJNdTXSdeZPjFBbcTTmnK2k3AcBHEDZ9kHNX85fjaTXRtXo1\n",
              "azfZ3QQA30DY9DGZR0u0K/usuvnTasIc96Y72s3c05Xa+M1xs8cBALgYYdPHPPeZs9WMVlRvWk10\n",
              "vZ6B1ma7m9my2RtMnggA4EqETR+yN/es9uTSasJ896bHqXdwNx09U6mPvmZ3EwC8GWHThzhbzbtS\n",
              "oxUZ1t3kaeDLegZatXBagiRpxeYs2k0A8GIdDptZWVlKT09XcnKyUlNTdfjw4TaPNQxDs2bNUlhY\n",
              "2NXMiE6wO+eMvjhaogB/Pz04g1YT5rtnUqz69AhQ3tkqfUi7CQBeq8Nhc9GiRVq4cKGOHDmiJ554\n",
              "QvPmzWvz2Oeee04JCQlXMx86gWEYer7xGeh3pUZrEK0m3ECPQKsWTXPsbtJuAoD36lDYLC4u1r59\n",
              "+zR37lxJ0pw5c1RQUKDs7OyLjj18+LA+/PBD/cu//EvnTIortifnrDKdreZMwj/cx28nxapvjwAd\n",
              "O1ulDQe4Mh0AvFGHwmZBQYEiIiJktVolSRaLRTExMcrPz29xXH19vRYsWKCMjAz5+/tf8mvW1taq\n",
              "vLy8xctut3fwr4G2GIah5xrvq/mrtGhFhNJqwn0EB1i1aPqFdrOedhMAvI5LLhB6+umndccdd2jY\n",
              "sGGXPfaZZ55RaGhoi1dmZqYrxvJJu7LP6su8cwqw+ulBrkCHG5o7MVb9egaooKRaG74qNHscAEAn\n",
              "61DYjI6OVlFRkWw2myRHa5afn6+YmJgWx23btk0rVqxQXFycpkyZovLycsXFxen06dMXfc0nn3xS\n",
              "ZWVlLV5paWlX8VeCU/NW89dpMRoQEmTyRMDFggOsun+688r0bNXZaDcBwJt0KGyGh4crJSVFa9eu\n",
              "lSStX79eUVFRSkxs2Zjt2LFDx44dU15ennbu3KmQkBDl5eWpf//+F33NwMBAhYSEtHhd7lvvaJ8d\n",
              "WWe0/9g5BVr99MAMdjXhvn4zIVb9egaq8BztJgB4mw5/Gz0jI0MZGRlKTk7Ws88+q9WrV0uS5s+f\n",
              "r40bN3b6gLgyjivQG1vNCbSacG/dA/yb/oOIdhMAvIu1o79hyJAh2rNnz0U//9prr7V6fFxcnEpL\n",
              "Szs8GK7O9qwz+iq/1NFqTqfVhPv7zYQYrdyWo+Ol1Vq3v1C/nhBz+d8EAHB7PEHICxmG0fS0oLkT\n",
              "YxVOqwkPENTNv+k/jF7aQrsJAN6CsOmFth45ra8LShXUza/pwgvAE/x6QozCewXqeGm1/rqvwOxx\n",
              "AACdgLDpZQzD0PONreZvJ8aqf69AkycC2i+om78enHGh3ay1cc9dAPB0hE0vs+XHYn1TWKagbn5a\n",
              "OI1WE57n7rQYDQwJUlFZjf66jyvTAcDTETa9SPNnoN8zKY5WEx4pqJt/02NVX6bdBACPR9j0Ipt/\n",
              "KNbBwjJ17+avhdPizR4HuGJ3jo9uajff+5LdTQDwZIRNL9Gi1Ux33CAb8FRB3fy1eOaF3c2aetpN\n",
              "APBUhE0v8fn3xfr2eJmCA/y1cCqtJjzfnanRGhQapFPltXo3M9/scQAAV4iw6QWaPy3onklx6kur\n",
              "CS8QaPXXgzMdj8J9eWsO7SYAeCjCphf4x3endPhEuXoEsKsJ73Ln+GhFhnVXcUWt3qHdBACPRNj0\n",
              "cIZhaHnjrua96XHq0yPA5ImAzhNg9dNi2k0A8GiETQ/398On9F1RuXoGWrWAXU14oV+Mi1JkWHed\n",
              "rqjVW1/QbgKApyFserCGhgu7mvPS49SbVhNeKMDqp4dmOdrNV7bmqLqOdhMAPAlh04P9/fBJ/XCy\n",
              "Qj0DrZo/dbDZ4wAu84txUYrq3V1nztfqrS+OmT0OAKADCJseytFqOnY1fzc5TmHBtJrwXt38/fRw\n",
              "Y7u5cluOqupsJk8EAGgvwqaH+vTQSf14qkK9Aq2aP4VdTXi/O1KiFNMnWGfO1+mtvexuAoCnIGx6\n",
              "oIYGQ8s3OXY1fzdlsEKDu5k8EeB63fwv7G7SbgKA5yBseqC/HSrSkVPn1SvIqvumsKsJ3/HzsZGK\n",
              "6ROss5V1enMPu5sA4AkImx7G3nDhvpr3TRms0O60mvAdzXc3M7bnqrKWdhMA3B1h08N88m2RsorP\n",
              "KyTIqt9NptWE7/n52EjF9Q1WSWWd1tBuAoDbI2x6EEer6djVvG9KPK0mfJLV308Pz0qSJK3anqPz\n",
              "tJsA4NYImx7k44MnlHO60tFqTokzexzANLeNGaTB/XroXFW91uzJM3scAMAlEDY9hL3B0PJNjl3N\n",
              "BVPjFRJEqwnfZfX30yOzHbubq7bn0m4CgBsjbHqI//nmhHJPVyosuJvmTY4zexzAdLeMGqT4fj1U\n",
              "WlWvN3bnmT0OAKANhE0PYLM36IVmrWYvWk2gsd107m7mqqKm3uSJAACtIWx6gI3fnFDuGUereW96\n",
              "nNnjAG7jltGDlNC/h8qq6/WXXXlmjwMAaAVh0839tNXsGWg1eSLAffj7WZrazVd35KqcdhMA3A5h\n",
              "0819+PUJ5Z2tUm9aTaBVN48apMTwniqvsdFuAoAbImy6MZu9QSs2O1rNhdMSaDWBVvj7WbSksd18\n",
              "bUeuyqppNwHAnRA23dgHB47r2Nkq9ekRoHsmxZo9DuC2bromQkmN7ebqXUfNHgcA0Axh003V2xu0\n",
              "YnO2JGnRtHj1oNUE2uTvZ9GSax3t5us7j9JuAoAbIWy6qQ++Oq78kir17RGg39JqApd108gIDRnQ\n",
              "SxU1Nr2+k3YTANwFYdMN1dsbtGKLY1dz0fR4BQfQagKX49es3Vy986jKqmg3AcAdEDbd0Pr9hSoo\n",
              "qVa/ngGaO5FWE2ivG0cM1NCBvVRRa9PrO3PNHgcAIMKm26mzNejFLY5dzfunJ9BqAh3g52fRo43t\n",
              "5p935am0qs7kiQAAhE03s/6rQhWeq1a/noH6zQRaTaCjrh/uaDfP19r02g52NwHAbIRNN1Jna9CL\n",
              "jVegPzAjQd0D/E2eCPA8jnYzWZK0etdRnauk3QQAMxE23cj7+wt0vLRa/XsF6jcTYsweB/BYN4wY\n",
              "oOERIaqss+vVHexuAoCZCJtuotZm10vOVnN6goK60WoCV8piubC7+cbuPJXQbgKAaQibbuKv+wp1\n",
              "oqxG4b0C9WtaTeCqXTd8gEZG0m4CgNkIm26g1mbXy41XoD84g1YT6AwWi0WPznbsbr6xO09nz9ea\n",
              "PBEA+CbCphv465cFKiqr0cCQIN2dRqsJdJbZw8J1TWSoqursWkW7CQCmIGyarKberpe25EiSHpxJ\n",
              "qwl0pua7m2t2H9MZ2k0A6HKETZO992WBTpY7Ws27UqPNHgfwOrOGhmt0VKiq6+1atZ12EwC6GmHT\n",
              "RDX1dr281bGruXhmggKttJpAZ3O0m47dzTV78nS6gnYTALoSYdNE72Tm61R5rQaFBulOWk3AZWYM\n",
              "6a8x0WGqqW/Qqu05Zo8DAD6FsGmSmnq7Xtnq3NVMpNUEXKj57uabe4+puKLG5IkAwHd0OGxmZWUp\n",
              "PT1dycnJSk1N1eHDhy86ZvPmzUpLS9Pw4cM1YsQIPf7442poaOiUgb3F21/kq7iiVpFh3XXneFpN\n",
              "wNWmJ19oNzO2sbsJAF2lw2Fz0aJFWrhwoY4cOaInnnhC8+bNu+iY3r17691339V3332n/fv3a/fu\n",
              "3VqzZk1nzOsVaurtemWbo9VcPDNRAVYKZsDVLBaLHrvOsbu5du8xFZfTbgJAV+hQyikuLta+ffs0\n",
              "d+5cSdKcOXNUUFCg7OzsFseNHTtW8fHxkqSgoCCNGTNGeXl5nTOxF1i795hON7aavxgXZfY4gM+Y\n",
              "ltRPKTFhqrU1NP0HHwDAtToUNgsKChQRESGr1SrJ0RTExMQoPz+/zd9z8uRJrVu3TjfffHOrv15b\n",
              "W6vy8vIWL7vd3pGxPEp1nV0rG7+F99AsWk2gKzVvN9/6Il+naDcBwOVcmnTKy8t1yy236PHHH9f4\n",
              "8eNbPeaZZ55RaGhoi1dmZqYrxzLV2r2OG0tH9abVBMwwJbGfxsf2Vp2toekiPQCA63QobEZHR6uo\n",
              "qEg2m02SZBiG8vPzFRNz8SMWKyoqdOONN+q2227T0qVL2/yaTz75pMrKylq80tLSOvjX8AxVdTZl\n",
              "NN525eFZiermT6sJdLXm7ebbmfk6WUa7CQCu1KG0Ex4erpSUFK1du1aStH79ekVFRSkxMbHFcefP\n",
              "n9eNN96oG2+8Uf/6r/96ya8ZGBiokJCQFi9/f++8DZCj1axTTJ9g3ZFCqwmYJT2hr1LjnO1m9uV/\n",
              "AwDginW4WsvIyFBGRoaSk5P17LPPavXq1ZKk+fPna+PGjZKk5cuXKzMzUxs2bNCYMWM0ZswY/ed/\n",
              "/mfnTu5hqupsTbdbeYhWEzCVxWLRY41PFXons0BFZdUmTwQA3stiGIZh9hA/tXTpUi1btszsMTrV\n",
              "ym05evbTHxTTJ1ib/s90wiZgMsMwdNeqvco8WqLfTozV/719pNkjAYBXIvF0gcpam1Ztd7Sa7GoC\n",
              "7qF5u/nelwU6UUq7CQCuQOrpAm/syVNJZZ3i+gbr52MjzR4HQKNJCX01Mb6P6uwNepndTQBwCcKm\n",
              "i52vtenVplYzSVZaTcCtPNqs3TxOuwkAnY7k42Jv7M7Tuap6De7XQ7eNGWT2OAB+YmJ8X02K76t6\n",
              "u6GXttBuAkBnI2y6UEVNvV7d4Wg1H5mdSKsJuCnnfTff31egwnNVJk8DAN6F9ONCb+zOU2lVveL7\n",
              "9dAto2g1AXeVNriPJifSbgKAKxA2XaS8pl6v7jgqSXpkNruagLtzXpn+/r5CFZTQbgJAZyEBuchf\n",
              "duWprLpeCf176JbRtJqAuxsf10dTk/rJ1kC7CQCdibDpAuU19XqtaVczSf5+FpMnAtAej16bJEla\n",
              "t592EwA6C2HTBVbvzFN5jU2J4T11M7uagMcYF3uh3VyxOcvscQDAKxA2O1lZdb1e2+loNZfQagIe\n",
              "x3ll+vqvjuvY2UqTpwEAz0fY7GR/3nlUFTU2JYX31E3XRJg9DoAOSonprenJ/WVvMLRiM7ubAHC1\n",
              "CJudqKyqXn/e6bgCfcm1tJqAp3K2mx8cOK68M7SbAHA1CJud6PWduaqotWnIgF66aSStJuCpxkSH\n",
              "aeYQ2k0A6AyEzU5SWlWn1bvyJDlaTT9aTcCjOZ+Z/sGBQh2l3QSAK0bY7CSv7zyqilqbhg7spRtH\n",
              "DDR7HABXaXR0mGYNDVeDIa3YxJXpAHClCJudoHmr+SitJuA1nPfd/PDr48o5fd7kaQDAMxE2O8Gr\n",
              "O3J1vrHVvH44rSbgLUZFhenaYbSbAHA1CJtXqaSyTn9pajWTaTUBL+Pc3dz4zQllF9NuAkBHETav\n",
              "0qs7clVZZ9fwiBDdMGKA2eMA6GQjI0N13fABjnaTpwoBQIcRNq9CSWWd3tidJ8mx22Wx0GoC3mjJ\n",
              "bMfupqPdrDB5GgDwLITNq7Bqe66q6uwaGRmi64bTagLeamRkqK4fPkCGIS3fxH03AaAjCJtX6Oz5\n",
              "Wq3ZkydJenR2Mq0m4OWcu5sfHzyhI6doNwGgvQibV8jZal4TGarZw8LNHgeAiw0fFKIbRwxsbDfZ\n",
              "3QSA9iJsXoEz52u1Zs8xSexqAr5kSeN9N//2bZF+PEm7CQDtQdi8AhnbclRdb9foqFDNGkqrCfiK\n",
              "YREhuukaR7v5Au0mALQLYbODTlfU6s29zlaTXU3A1yyZ7djd/OTbIv1wstzkaQDA/RE2OyhjW45q\n",
              "6hs0JjpMM4b0N3scAF1syMBe+tk1EZKk5Z/TbgLA5RA2O6C4okZrv2BXE/B1S65NksUifXropL47\n",
              "QbsJAJdC2OyAlVtzm1rN6cm0moCvSh7QrN3cdMTkaQDAvRE226m4vEZvNbaaj13Hribg65bMdrSb\n",
              "fz98SodPlJk9DgC4LcJmO728NUe1tgalxIRpWlI/s8cBYLKkAb10y6hBktjdBIBLIWy2w6nyGr2d\n",
              "mS+JVhPABY80tpv/+O6UDh2n3QSA1hA22+GVrTmqszVofGxvTUmk1QTgkBjeU7eOdrSbz9NuAkCr\n",
              "CJuXcbKMVhNA2x6ZnSQ/i/T596f0bSHtJgD8FGHzMl7emq06W4NS43orPaGv2eMAcDMJ/XvqtjGR\n",
              "kqTnP+fKdAD4KcLmJZworda7mQWSpMd4WhCANjw8K1F+FmnTD8U6WFhq9jgA4FYIm5fw8tZs1dkb\n",
              "lDa4jybRagJoQ3z/nrp9rLPdZHcTAJojbLbhRGm13vuSVhNA+zwyK0n+fhZt/qFYXxeUmj0OALgN\n",
              "wmYbXtqSrXq7oYnxtJoALi+uXw/dzu4mAFyEsNmKwnNV+us+R6v56LXJJk8DwFM8MjtR/n4Wbf3x\n",
              "tL7KP2f2OADgFgibrXhpS47q7YYmxffVxHhaTQDtE9u3h+5gdxMAWiBs/kRBSZXeb2w1H7uOVhNA\n",
              "xzw8K0lWP4u2Hzmt/cdoNwGAsPkTL23Jlq3B0OTEvkob3MfscQB4mJi+wZqTEiWJ3U0AkAibLRSU\n",
              "VGnd/kJJjivQAeBKPDQrUVY/i3ZkndH+YyVmjwMApiJsNvPiZkerOTWpn8bH0WoCuDLRfYL1i3GO\n",
              "dvO5z9jdBODbCJuN8s9Wad1Xjlbz0WuTTJ4GgKdbPNPRbu7MPqMv82g3AfiuDofNrKwspaenKzk5\n",
              "WampqTp8+HCrx73++utKSkpSQkKCFixYoPr6+qse1pVWbM6SvbHVHBdLqwng6kT3CdYvx0dLkp77\n",
              "jN1NAL6rw2Fz0aJFWrhwoY4cOaInnnhC8+bNu+iYo0eP6qmnntKOHTuUnZ2tU6dOadWqVZ0xr0vk\n",
              "nanUhgPHJXEFOoDO89CsRHXzt2h3zll9kXvW7HEAwBQdCpvFxcXat2+f5s6dK0maM2eOCgoKlJ2d\n",
              "3eK4devW6dZbb9XAgQNlsVh0//3365133um8qTvZis3ZsjcYmp7cXykxvc0eB4CXiAzrrjsb203u\n",
              "uwnAV1k7cnBBQYEiIiJktTp+m8ViUUxMjPLz85WYmNh0XH5+vmJjY5t+HBcXp/z8/Fa/Zm1trWpr\n",
              "a1v8nN1u78hYVyXvTKU+/JpWE4BrLJ6ZqL/uK9Ce3LO6/aVdsvpZzB4JgBdbel2y0hP7mT1GCx0K\n",
              "m67wzDPP6Omnn27xcxMnTuyyP//tzHzZGwzNHNJfY6LDuuzPBeAbBoV1128mxOovu/P0dUGp2eMA\n",
              "8HLnqtzvGpkOhc3o6GgVFRXJZrPJarXKMAzl5+crJiamxXExMTHKyclp+nFeXt5Fxzg9+eSTWrp0\n",
              "aYufe+qppzoy1lV5/IYhGjqwl5IH9OqyPxOAb3nypqGantxftbau+64NAN802g2Lsw6FzfDwcKWk\n",
              "pGjt2rWaN2+e1q9fr6ioqBbfQpccu5xTpkzRv/3bv2nAgAFauXKl7r777la/ZmBgoAIDA1v8nL+/\n",
              "fwf/GlfO6u+nOxqf9gEArhBo9dfMoeFmjwEApujw1egZGRnKyMhQcnKynn32Wa1evVqSNH/+fG3c\n",
              "uFGSFB8fr6efflqTJ09WYmKi+vfvr0WLFnXu5AAAAHB7FsMwDLOH+KmlS5dq2bJlZo8BAACAq8QT\n",
              "hAAAAOAyhE0AAAC4DGETAAAALkPYBAAAgMsQNgEAAOAyhE0AAAC4DGETAAAALkPYBAAAgMsQNgEA\n",
              "AOAybvkEoTvuuENxcXFd9ufZ7XZlZmYqLS2tS5/L7u44L23j3LSO89I6zkvbODet47y0jXPTOjPO\n",
              "S2xsrJYsWXLZ49wybHa18vJyhYaGqqysTCEhIWaP4zY4L23j3LSO89I6zkvbODet47y0jXPTOnc+\n",
              "L3wbHQAAAC5D2AQAAIDLEDYBAADgMoRNSYGBgfrjH/+owMBAs0dxK5yXtnFuWsd5aR3npW2cm9Zx\n",
              "XtrGuWmdO58XLhACAACAy9BsAgAAwGUImwAAAHAZwiYAAABcxqfCZlZWltLT05WcnKzU1FQdPny4\n",
              "1eNef/11JSUlKSEhQQsWLFB9fX0XT9q12nNetm7dqu7du2vMmDFNr+rqahOm7TqPPPKI4uLiZLFY\n",
              "9PXXX7d5nK+9X9pzXnzx/VJTU6Pbb79dycnJGj16tK677jplZ2e3euzHH3+soUOHKikpSXfccYfK\n",
              "y8u7eNqu1d5zk5eXJ39//xbvm5ycHBMm7jrXX3+9Ro0apTFjxmjq1Kk6cOBAq8f52ueM1L5z44uf\n",
              "NU6rV6+WxWLRhx9+2Oqvu9XnjOFDZs6caaxevdowDMN4//33jfHjx190TG5urhEREWEUFRUZDQ0N\n",
              "xi233GK8+OKLXTxp12rPedmyZYsxevTorh3MZNu2bTMKCgqM2NhY48CBA60e44vvl/acF198v1RX\n",
              "VxuffPKJ0dDQYBiGYaxYscKYPn36RcdVVFQY4eHhxvfff28YhmEsXrzY+Od//ueuHLXLtffcHD16\n",
              "1AgNDe3a4Ux27ty5pv+9YcMGY9SoURcd44ufM4bRvnPji581huH4/8qkSZOMiRMnGh988MFFv+5u\n",
              "nzM+02wWFxdr3759mjt3riRpzpw5KigouOi/rtetW6dbb71VAwcOlMVi0f3336933nnHjJG7RHvP\n",
              "iy+aNm2aoqKiLnmMr71fpPadF18UFBSkm266SRaLRZI0ceJE5eXlXXTcp59+qrFjx2ro0KGSpAcf\n",
              "fNDr3zPtPTe+KCwsrOl/l5WVNZ2j5nzxc0Zq37nxRQ0NDZo/f75WrFjR5m2O3O1zxmfCZkFBgSIi\n",
              "ImS1WiVJFotFMTExys/Pb3Fcfn6+YmNjm34cFxd30THepL3nRZJycnKUkpKi1NRUvfzyy109qlvy\n",
              "tfdLR/j6+2X58uW67bbbLvr51t4zRUVFstlsXTmeqdo6N5JUWVmp1NRUpaSk6N///d9lt9u7eLqu\n",
              "d8899yg6OlpPPfWU3nzzzYt+3Zc/Zy53biTf+6xZtmyZJk+erHHjxrV5jLt9zlhN+VPhcVJSUlRY\n",
              "WKjQ0FAVFhbqpptuUr9+/XTnnXeaPRrckK+/X/7rv/5L2dnZ2rRpk9mjuJ1LnZuIiAgdP35c4eHh\n",
              "Kikp0V133aX//u//1uOPP27CpF1nzZo1kqQ33nhDTzzxhP72t7+ZPJH7uNy58bXPmkOHDmn9+vXa\n",
              "vn272aN0iM80m9HR0S1SvWEYys/PV0xMTIvjYmJidOzYsaYf5+XlXXSMN2nveQkJCVFoaKgkKSoq\n",
              "Sr/61a+0Y8eOLp/X3fja+6W9fPn98qc//UkbNmzQp59+quDg4It+vbX3TPPvLnizy52bwMBAhYeH\n",
              "S5L69Omj3//+9z7zvpGke++9V1u2bNHZs2db/DyfM22fG1/7rNmxY4fy8vKUlJSkuLg47d27VwsX\n",
              "LtQrr7zS4jh3+5zxmbAZHh6ulJQUrV27VpK0fv16RUVFKTExscVxc+bM0caNG3Xy5EkZhqGVK1fq\n",
              "7rvvNmPkLtHe81JUVKSGhgZJUkVFhT7++GONHTu2y+d1N772fmkvX32/LFu2TO+8844+++yzFvtm\n",
              "zd1444366quv9MMPP0iSXn75ZZ94z7Tn3BQXFzddZV1bW6sNGzZ49fumtLRUJ06caPrxhx9+qL59\n",
              "+6pPnz4tjvPFz5n2nhtf+6x54IEHVFRUpLy8POXl5WnixIlatWqVHnjggRbHud3njGmXJpnghx9+\n",
              "MCZOnGgkJSUZ48aNMw4ePGgYhmHcd999xkcffdR03KpVq4z4+HgjPj7e+P3vf2/U1dWZNXKXaM95\n",
              "WbFihTF8+HBj1KhRxvDhw40//vGPTVeWequFCxcakZGRhr+/vxEeHm4kJCQYhsH7pT3nxRffLwUF\n",
              "BYYkIz4+3hg9erQxevRoIy0tzTAMw3jqqaeMV155penYjz76yBgyZIiRkJBg3HbbbUZpaalZY3eJ\n",
              "9p6b9evXGyNGjGh63zz00ENGTU2NmaO7VF5enpGammqMHDnSGDVqlDF79uymOzz4+udMe8+NL37W\n",
              "NDd9+vSmq9Hd+XOGZ6MDAADAZXzm2+gAAADoeoRNAAAAuAxhEwAAAC5D2AQAAIDLEDYBAADgMoRN\n",
              "AAAAuAxhEwAAAC5D2AQAAIDLEDYBAADgMoRNAAAAuAxhEwAAAC7z/wMH+AadMcW6bgAAAABJRU5E\n",
              "rkJggg==\n",
              "\">\n",
              "      </div>\n",
              "      <script type=\"text/javascript\">\n",
              "        (() => {\n",
              "          const chartElement = document.getElementById(\"chart-aa821ba6-ebe0-40a0-b014-75412ee5622e\");\n",
              "          async function getCodeForChartHandler(event) {\n",
              "            const chartCodeResponse =  await google.colab.kernel.invokeFunction(\n",
              "                'getCodeForChart', [\"chart-aa821ba6-ebe0-40a0-b014-75412ee5622e\"], {});\n",
              "            const responseJson = chartCodeResponse.data['application/json'];\n",
              "            await google.colab.notebook.addCell(responseJson.code, 'code');\n",
              "          }\n",
              "          chartElement.onclick = getCodeForChartHandler;\n",
              "        })();\n",
              "      </script>\n",
              "      <style>\n",
              "        .colab-quickchart-chart-with-code  {\n",
              "            display: block;\n",
              "            float: left;\n",
              "            border: 1px solid transparent;\n",
              "        }\n",
              "\n",
              "        .colab-quickchart-chart-with-code:hover {\n",
              "            cursor: pointer;\n",
              "            border: 1px solid #aaa;\n",
              "        }\n",
              "      </style>"
            ]
          },
          "metadata": {}
        },
        {
          "output_type": "display_data",
          "data": {
            "text/plain": [
              "from matplotlib import pyplot as plt\n",
              "_df_15[2].plot(kind='line', figsize=(8, 4), title=2)\n",
              "plt.gca().spines[['top', 'right']].set_visible(False)"
            ],
            "text/html": [
              "      <div class=\"colab-quickchart-chart-with-code\" id=\"chart-3e4f7a82-a1d9-4ba3-8b5f-ad0083865ffa\">\n",
              "        <img style=\"width: 180px;\" src=\"data:image/png;base64,iVBORw0KGgoAAAANSUhEUgAAApsAAAFuCAYAAADOJdNTAAAAOXRFWHRTb2Z0d2FyZQBNYXRwbG90\n",
              "bGliIHZlcnNpb24zLjcuMSwgaHR0cHM6Ly9tYXRwbG90bGliLm9yZy/bCgiHAAAACXBIWXMAAA9h\n",
              "AAAPYQGoP6dpAAA6aklEQVR4nO3deXRUBZ7+/6eysyVhC4SsZENAtmAQwg5ubbtju7SMorK5K985\n",
              "2vZ3PD3OmRn9/c4MLaJAUBulUbtVXJDWGWUVFMQoyKaShZACAmHLvlfd7x+VikSCJKSqbi3v1zl1\n",
              "jsAl+eSesvLw5HNvWQzDMAQAAAC4QZDZAwAAAMB/ETYBAADgNoRNAAAAuA1hEwAAAG5D2AQAAIDb\n",
              "EDYBAADgNoRNAAAAuA1hEwAAAG5D2AQAAIDbEDYBAADgNoRNAHCTP/zhDxo2bJgiIyMVGxurO++8\n",
              "U1ar1eyxAMCjCJsA4CYWi0Wvv/66Tp48qR9++EEWi0XXX3+92WMBgEdZDMMwzB4CAALBrl27NGrU\n",
              "KJ0+fVo9e/Y0exwA8AiaTQDwkM8++0xJSUkETQABJcTsAQAgEKxbt07PPvusVq9ebfYoAOBRNJsA\n",
              "4GZr167VrbfeqlWrVumaa64xexwA8CjCJgC40Ztvvqm77rpLf//733XzzTebPQ4AeBxhEwDc5KWX\n",
              "XtLDDz+stWvX6uqrrzZ7HAAwBVejA4CbWCwWhYSEKDw8vNXvf/rpp5o4caJJUwGAZ3GBEAC4Cf+W\n",
              "BwB+jA4AAAA3ImwCAADAbQibAAAAcBvCJgAAANyGsAkAAAC3IWwCAADAbQibAAAAcBuvDJuLFi0y\n",
              "ewQAAAC4gFeGzUOHDpk9AgAAAFzAK8MmAAAA/ANhEwAAAG5D2AQAAIDbEDYBAADgNoRNAAAAuA1h\n",
              "EwAAAG5D2AQAAIDbEDYBAADgNh0Km48++qiSk5NlsVi0a9eu8x732muvKT09XampqZozZ44aGxs7\n",
              "OycAAAB8UIfC5q233qqtW7cqKSnpvMccPHhQzzzzjLZs2aL8/HwdP35cy5cv7/SgAAAA8D0dCpuT\n",
              "Jk1SfHz8rx7z3nvv6YYbblD//v1lsVg0f/58vf32250aEgAAAL7J5TubxcXFrZrP5ORkFRcXn/f4\n",
              "+vp6VVRUtHrYbDZXjwUAptl7pFxzV+Yqv7TS7FEAwONMv0DoueeeU1RUVKvHjh07zB4LAFzCMAw9\n",
              "tXq3Ptt/XP/3g71mjwMAHufysJmYmKhDhw61/LqoqEiJiYnnPf7pp59WeXl5q8eYMWNcPRYAmOKz\n",
              "/ce172iFJOnrg6f1VcFJkycCAM9yedicMWOG1qxZo2PHjskwDC1btkx33HHHeY8PDw9XZGRkq0dw\n",
              "cLCrxwIAj7PbDb2wLk+S1KtbmCTphc/zZBiGmWMBgEd1KGzOmzdP8fHxOnz4sK6++mqlpaVJkmbP\n",
              "nq01a9ZIklJSUvTss89q/PjxSktLU9++fTVv3jzXTw4AXu6z/cf1Q0mFuoeH6K05lyssJEg7ik5r\n",
              "W8Eps0cDAI+xGF74T+wFCxZo4cKFZo8BABfNbjd07Ytb9OOxSj0yLU3/56pB+tc1+/T6V0XKSu6p\n",
              "d+aNk8ViMXtMAHA70y8QAgB/9L/7junHY5XqER6i+ycMlCQ9MCVVYSFB+qbojL7Mp90EEBgImwDg\n",
              "Ymfvat47PlnRXR37mv0iI/T7MY4LJv+87gC7mwACAmETAFzs073H9NPxSvWICNH9E1Ja/dmDU1IV\n",
              "HhKkbw+d0ZY8rkwH4P8ImwDgQna7oUXrD0iS7hs/UFFdQ1v9eUxkhO663PHGF7SbAAIBYRMAXOiT\n",
              "vSU6cLxKPSJCdF/zruYvzZ+SoojQIO0sLtMXtJsA/BxhEwBcxGY3tKh5V3P2hBRFdQlt87iYHhGa\n",
              "6Ww3P6fdBODfCJsA4CL/2FOivNIqRUaE6N4Jyb967LzJqYoIDdIua5k2HTjhmQEBwASETQBwAUer\n",
              "6djVnD0xRZERbbeaTn17hOufxjrazRdoNwH4McImALjA2t1HVXCiWlFdQnXv+OR2/Z15k1PVJTRY\n",
              "3x8u18afSt07IACYhLAJAJ1ksxtatN6xqzln4kD1uECr6dSne7juHtfcbq7jPdMB+CfCJgB00sff\n",
              "H1XhiWpFdw3VPdnJHfq7cyelqGtYsHYfLteGH2k3AfgfwiYAdEKTza4XW1rNlHa3mk69u4fr7nHJ\n",
              "kmg3AfgnwiYAdMKa74+q8GS1el5Eq+nkbDf3HCnXuh9oNwH4F8ImAFykVq3mpBR1Dw+5qI/Tq1tY\n",
              "S1B9gXcVAuBnCJsAcJE+3HVURadqHGGx+UfhF2vuxBR1CwvWvqMV+mz/cdcMCABegLAJABehyWbX\n",
              "4g2OVnPupBR1u8hW06lntzDNar5l0gvr8mS3024C8A+ETQC4CB/sPKJDp2rUu1tYy+2LOmvORMeP\n",
              "4n8ood0E4D8ImwDQQY02uxZvyJckzZucoq5hnWs1naK7hrXcEP6FdQdoNwH4BcImAHTQB98dUfHp\n",
              "GvXpHqaZY13TajrdP2GgeoSH6Mdjlfrffcdc+rEBwAyETQDogEabXYs3OnY1501KdVmr6dS63WR3\n",
              "E4DvI2wCQAes/vawrKdr1ad7uMtbTaf7J6SoR0SIfjpeqU/30m4C8G2ETQBop4amn3c1509OUZew\n",
              "YLd8nqiuobpv/EBJ0qL17G4C8G2ETQBop9XfHdaRslr17eG+VtPpvgkD1SMiRAeOV+mTvSVu/VwA\n",
              "4E6ETQBoh4Ymu15qbjUfmJyqiFD3tJpOUV1CNXtCiiRp0bo82Wg3AfgowiYAtMO731p1pKxWMT3C\n",
              "9fvLEz3yOe+dkKzIiBDllVbpH3toNwH4JsImAFxAfZNNLztbzSnubzWdIiNCNXuis908QLsJwCcR\n",
              "NgHgAt7JPayj5XXqFxmuO8d4ptV0und8sqK6hKrgRLXW7j7q0c8NAK5A2ASAX1HfZNOSjY5W88Ep\n",
              "aR5rNZ16RIRqzkTnlensbgLwPYRNAPgV73xjVUl5nfpHRuj2rARTZrgnO1nRXUNVeKJaH39PuwnA\n",
              "txA2AeA86hptenljgSTpoame29X8JUe76djdfHF9nppsdlPmAICLQdgEgPP4+zdWHauoU2xUhG4z\n",
              "qdV0uic7WT27hqrwZLXW0G4C8CGETQBoQ12jTUs2Ne9qTk1TeIg5raZT9/AQzZlEuwnA9xA2AaAN\n",
              "b+8o1vGKeg2IitBtl8WbPY4k6Z5xyerVLUxFp2r04S7aTQC+gbAJAL/gaDWbdzWnmd9qOnULD9Hc\n",
              "5nZz8QbaTQC+gbAJAL/w1tfFOlFZr7joLvrdaHN3NX/p7nFJ6tUtTIdO1eiDnUfMHgcALoiwCQBn\n",
              "qWu0aelmR6v58LQ0hYV418tk17AQzWtpN/PVSLsJwMt516soAJhs1fZDLa3mjEzv2NX8pX8al6Q+\n",
              "3cNUfLpGH3xHuwnAuxE2AaBZbYNNyzYXSpIe8cJW08nRbqZKkhZvzKPdBODVvPOVFABMsGr7IZ2s\n",
              "qldCry6aMdo7W02nmWOT1Kd7uKyna7X628NmjwMA50XYBABJNQ1NWta8q/nI1HSFBnv3y2OXsGDN\n",
              "n/zz7mZDE+0mAO/k3a+mAOAhq7Yf0qnqBiX26qqbM+PMHqddZo5NUt8e4TpSVqvV39FuAvBOhE0A\n",
              "Aa+moUk5Z+1qenur6RQRGqz5kx27my/RbgLwUr7xigoAbrRym6PVTOrdVTeP8o1W0+muyxMV09xu\n",
              "vvut1exxAOAchE0AAa26vknLv3C2mukK8ZFW0ykiNFgPTHG0my9vyFd9k83kiQCgNd96VQUAF3tj\n",
              "W5FOVzdoYJ9uumnkALPHuSh3jklUv8hwHS2v0zu57G4C8C6ETQABq6pVq5nmc62mU0RosB6ckiZJ\n",
              "WrKRdhOAd/HNV1YAcIE3vipSWU2jUvp00w0jfLPVdLo9K0H9IyNUUl6nd75hdxOA9+hw2MzLy1N2\n",
              "drYyMjKUlZWlffv2nXOM3W7XggULNGTIEA0fPlxTp05Vfn6+SwYGAFeorGvUK1screaj031vV/OX\n",
              "IkKD9eDU5t3NjQWqa6TdBOAdOvzqOm/ePM2dO1cHDhzQU089pVmzZp1zzJo1a/Tll1/q+++/1+7d\n",
              "uzV9+nT98Y9/dMW8AOASLa1m32663sdbTafbsxIUGxWhYxV1+jvtJgAv0aGwWVpaqtzcXM2cOVOS\n",
              "NGPGDFmt1nNaS4vFovr6etXV1ckwDFVUVCg+3rvf+g1A4Kioa9QrWw5Kkh6bnq7gIIvJE7lGeEiw\n",
              "HpzavLu5KZ92E4BXCOnIwVarVbGxsQoJcfw1i8WixMREFRcXKy0treW466+/Xhs3blT//v3Vo0cP\n",
              "xcXFafPmzW1+zPr6etXX17f6PZuNF0gA7vP6l0Uqr21UWkx3XTfcP1pNp9sui9fSjfk6Wl6nt3cU\n",
              "697xA80eCUCAc8uSUm5urvbu3asjR47o6NGjmj59uubPn9/msc8995yioqJaPXbs2OGOsQBA5bWN\n",
              "evWsXU1/aTWdwkOC9dA0Z7vJ7iYA83UobCYkJKikpERNTU2SJMMwVFxcrMTExFbHrVy5UtOmTVN0\n",
              "dLSCgoJ0zz33aOPGjW1+zKefflrl5eWtHmPGjLnILwcAft3rXxapoq5J6THd9dthsWaP4xa/G52g\n",
              "uOguOlFZr7e+LjZ7HAABrkNhMyYmRpmZmVq1apUkafXq1YqPj2/1I3RJSklJ0YYNG9TQ0CBJWrt2\n",
              "rS699NI2P2Z4eLgiIyNbPYKDgy/mawGAX1Ve26hXtzpazceu8L9W0yksJEgPNe9uLt1MuwnAXB3+\n",
              "MXpOTo5ycnKUkZGh559/XitWrJAkzZ49W2vWrJEkPfTQQxo4cKBGjBih4cOHa/369Vq6dKlrJweA\n",
              "DvrL1oOqrGtSRr/uuvZS/2w1nW4dHd/Sbq7afsjscQAEMIthGIbZQ/zSggULtHDhQrPHAOBHymsa\n",
              "NeH/26DK+ia9/PtM/Xa4f4dNSfrbjmL94f096tM9XFuenKouYfzUCIDn+fZdjAGgnV7bWqjK+iZd\n",
              "0r+HfnNpf7PH8YgZo+OV0KuLTlbRbgIwD2ETgN8rq2nQX74skuS4r2aQn+5q/lJocJAemZouSVq2\n",
              "uUA1DU0mTwQgEBE2Afi917YeVFVzq3n10MBoNZ1uzoxTYq+uOlXdQLsJwBSETQB+raymQSuaW83H\n",
              "r8gImFbTKTQ4SA8333czZ3Mh7SYAjyNsAvBrr2wpVFV9kwbHRuqqIf3MHscUt4yKU1JvR7u5chvt\n",
              "JgDPImwC8Funqxv0ekurGTi7mr8UEhykR6Y5djeXf1Go6nraTQCeQ9gE4Lde2VKo6gabhg4I3FbT\n",
              "6aaRAzSwTzedrm7QG9uKzB4HQAAhbALwS6eq6vXGV0WSHLuaFktgtppOjnbTsbu5/AvHagEAeAJh\n",
              "E4BfemXLQdU02DQsLkpXDI4xexyvcMOIAUrp001lNY0tQRwA3I2wCcDvnKqq18rmHxU/fkV6wLea\n",
              "TiHBQXpkuqPdfGVLoSrrGk2eCEAgIGwC8DvLvyhUTYNNw+OjNO0SWs2z3TAiTil9aTcBeA5hE4Bf\n",
              "OVlV33J7H1rNcwUHWfTYdMeV6a9sOagK2k0AbkbYBOBXcjYXqLbRphEJ0Zo6iFazLdcNH6C0mO4q\n",
              "r21suTUUALgLYROA3yitrNNft9NqXkhwkEWPNrebr24pVHkt7SYA9yFsAvAbyzcXqq7RrpEJ0ZqS\n",
              "0dfscbzab4fFKj2muyrqmmg3AbgVYROAXyitrNOqrx2t5hNXcl/NC2nVbm6l3QTgPoRNAH5h2SZH\n",
              "qzkqMVqT0vuYPY5P+O2wWGX0667Kuib9ZetBs8cB4KcImwB8XmlFnd50tpq8W1C7BQVZ9Nj0DEnS\n",
              "X7YeVHkN7SYA1yNsAvB5SzYVqL7JrtFJPTWRVrNDfnNpf13Sv4cq65v02tZCs8cB4IcImwB82rHy\n",
              "Or21o1gSrebFCDrrvpt/+bJIZTUNJk8EwN8QNgH4tGWbC9TQZFdWck+NT+tt9jg+6eqhjnazqr5J\n",
              "r7G7CcDFCJsAfBatpmsEBVn0+BWOdnMF7SYAFyNsAvBZSzblq6HJrjHJvTQulVazM64a0l+DYyNV\n",
              "Vd+kV7awuwnAdQibAHzS0bJa/W2HVZL0+JW8W1Bnnd1uvv5lkU5X024CcA3CJgCftGRTvhpsdl0+\n",
              "sJeyU7kC3RWuGtJPQwdEqrrBRrsJwGUImwB8zpGyWv39G0er+cSVGSZP4z8sFosev8JxPt/4qkin\n",
              "qupNngiAPyBsAvA5Szbmq9FmaFxKb41NYVfTla4YHKNL4yJV02DTK1u4Mh1A5xE2AfiUw2dq9E5u\n",
              "865m844hXMdisejx5ncVWrmNdhNA5xE2AfiUlzcWqNFmKDu1ty6n1XSL6YNjNDw+SjUNNi3/gt1N\n",
              "AJ1D2ATgM6yna/RuLrua7ubY3XS0xiu3HdJJ2k0AnUDYBOAzXt6Yrya7oQlpfZSV3Mvscfza1EEx\n",
              "GpEQrdpGm3I2F5g9DgAfRtgE4BOsp2v03reHJUlPXMmuprud3W7+dfshlVbWmTwRAF9F2ATgE17a\n",
              "4Gg1J6b30egkWk1PmJLRVyMTolXXaNfyzexuArg4hE0AXq/4VI3e+87RajrvAwn3O7vdXPU17SaA\n",
              "i0PYBOD1Fm/Ik81uaFJGX41O6mn2OAFlckZfjUp0tJvLNtFuAug4wiYAr1Z0slrv7zwiSXqC+2p6\n",
              "nMVi0RPNbfKbXx9SaQXtJoCOIWwC8GqLN+TLZjc0ZVBfjUqk1TSDY0+2p+qb7FqyiSvTAXQMYROA\n",
              "1zp4slof7GRX02xnt5tv7SjWsXLaTQDtR9gE4LUWb8iT3ZCmXRKjkQnRZo8T0Man9dZlST3V0GTX\n",
              "Mu67CaADCJsAvFLhiSp92LyryXugm89isbS8axPtJoCOIGwC8EqLN+TLbkjTL4nR8Phos8eBpOzU\n",
              "3hqT3EsNTXYt2ZRv9jgAfARhE4DXKThRpY92OVtNdjW9hcVi0ePN7970tx1WHS2rNXkiAL6AsAnA\n",
              "67y43rGrecXgfhoWH2X2ODhLdmofXT6wlxpstJsA2oewCcCr5JdWas33RyWxq+mtnG3z37+x6gjt\n",
              "JoALIGwC8Covrs+XYUhXDemnS+NoNb3RuNTeGpvSS402Q0s20m4C+HWETQBeI+94pT7e7Wg1H6PV\n",
              "9GrO+26+k2vV4TM1Jk8DwJsRNgF4jUXr82QY0tVD+2noAFpNb3Z5Sm9lp/ZWo83Qyxu57yaA8+tw\n",
              "2MzLy1N2drYyMjKUlZWlffv2tXncnj17NGXKFA0ePFiDBw/W+++/3+lhAfivA8cr9Y89JZK4At1X\n",
              "OO+7+W6uVdbTtJsA2tbhsDlv3jzNnTtXBw4c0FNPPaVZs2adc0xNTY1uvPFG/fu//7t++OEH7d27\n",
              "VxMnTnTFvAD81KJ1jlbzN5f21+DYSLPHQTtkJffShLQ+arIbepndTQDn0aGwWVpaqtzcXM2cOVOS\n",
              "NGPGDFmtVuXnt36ReeuttzR27FhNmDBBkhQcHKy+ffu6aGQA/ubHYxUtrSa7mr7FeceA9749TLsJ\n",
              "oE0dCptWq1WxsbEKCQmR5LjBb2JiooqLi1sdt3//foWHh+u6667TyJEjdffdd+vEiRNtfsz6+npV\n",
              "VFS0ethstov8cgD4ohfX50mSfjssVpf0p9X0JZcl99LEdEe7+dIG2k0A53LLBUJNTU1at26dcnJy\n",
              "tHPnTsXFxemBBx5o89jnnntOUVFRrR47duxwx1gAvNAPJRX6ZM8xWSzSo9NpNX2Rc8f2ve8Oq/gU\n",
              "7SaA1joUNhMSElRSUqKmpiZJkmEYKi4uVmJiYqvjEhMTNXXqVMXFxclisWjmzJnavn17mx/z6aef\n",
              "Vnl5eavHmDFjLvLLAeBrFq1ztJrXDovVoP49TJ4GF2N0Uk9Nyugrm93Q4g15Zo8DwMt0KGzGxMQo\n",
              "MzNTq1atkiStXr1a8fHxSktLa3Xcbbfdpm+++UYVFRWSpE8++UQjRoxo82OGh4crMjKy1SM4OPhi\n",
              "vhYAPmbf0XL9zz5Hq/k4raZPe6J5d/P9nUdUdLLa5GkAeJMO/xg9JydHOTk5ysjI0PPPP68VK1ZI\n",
              "kmbPnq01a9ZIcjSbf/zjH5Wdna3hw4drw4YNWrZsmWsnB+DznK3mdcMHKL0fraYvG5XYU1MGOdtN\n",
              "djcB/MxiGIZh9hC/tGDBAi1cuNDsMQC40d4j5bpu8VZZLNLnT0xSWgxh09ftspbpppe/VJBFWv9/\n",
              "pmhgn25mjwTAC/AOQgBMsaj5CvQbRgwgaPqJkQnRmjqor+yG2N0E0IKwCcDj9h4p1+f7jyvIIj0y\n",
              "jV1Nf+K8Mv3DnUdUeKLK5GkAeAPCJgCPe2HdAUnOVrO7ydPAlUYkRGv6JTHN7Sa7mwAImwA8bPfh\n",
              "Mq37oVRB3FfTbznbzY92HVEB7SYQ8AibADzqheYr0G8aGaeUvrSa/mhYfJSuGNxPduPnd4cCELgI\n",
              "mwA8Zpe1TBt+LFVwkEWP0Gr6Ned7pq/5/qjySytNngaAmQibADxmUfOu5k0j47gtjp+7NC5KVw7p\n",
              "J8OQXlzP7iYQyAibADxiZ/EZbfzphKPVnJZ24b8An+dsNz/efVR5x2k3gUBF2ATgEc5dzZtHxSmZ\n",
              "VjMgDB0QpauHOtrNRexuAgGLsAnA7b49dEabD9BqBiLnlen/2FOiA7SbQEAibAJwO+d9NWdkximp\n",
              "N61mIBkcG6nfXNrf0W6uo90EAhFhE4BbfXvotLbknVRIkIV3CwpQzvup/mNPiX46RrsJBBrCJgC3\n",
              "cu5q3jo6Xgm9upo8DcwwODZS1w7rL0latP6AydMA8DTCJgC3yS36udV8aCq7moHssekZslikT/Yc\n",
              "0w8lFWaPA8CDCJsA3ObPzbuav7uMVjPQDerfQ9cOi5XE7iYQaAibANxix8HT+jL/lEKDaTXh8Pj0\n",
              "dFks0v/sO6Z9R8vNHgeAhxA2AbjFnz93tpoJiu9JqwkpvV8PXTd8gCTaTSCQEDYBuNz2wlPaVkir\n",
              "iXM9Oi1NFov02f7j2nuEdhMIBIRNAC7nvK/m7VkJiovuYvI08Cbp/Xroeme7ybsKAQGBsAnApbYV\n",
              "nNL2wtMKCw7Sg1NoNXGuR6enK8gifU67CQQEwiYAlzEMo+UK9NuzEjSAVhNtSIvprhtGONpNZwsO\n",
              "wH8RNgG4zLaCU9pxsLnVnJpq9jjwYs52c90Ppdp9uMzscQC4EWETgEuc3WreOSZBsVG0mji/lL7d\n",
              "ddPIOEk/v8sUAP9E2ATgEl8VnNI3RWcUFhKkB7kCHe3w8LQ0BVmkDT+W6ntrmdnjAHATwiaATjMM\n",
              "o+W+mr8fk6h+kREmTwRfkNK3u24a5Ww32d0E/BVhE0Cnbc0/qdxDZxQeEqQHp7CrifZ7dFq6goMs\n",
              "2vjTCe0sPmP2OADcgLAJoFNatZqXJyqGVhMdkNynm24exe4m4M8ImwA65Yu8k/quuEzhIUF6YDKt\n",
              "JjrukWlpCg6yaPOBE/r2EO0m4G8ImwAu2tmt5syxSbSauChJvbtpRia7m4C/ImwCuGibD5zQLmuZ\n",
              "IkKDNJ9WE53w8NR0hQRZtCXvpL49dNrscQC4EGETwEVx3FfTsWP3T2OT1LdHuMkTwZcl9u6qGZnx\n",
              "ktjdBPwNYRPARdn00wl939xqzqPVhAs8PC2tpd3MLaLdBPwFYRNAh539bkF3j0tWn+60mui8hF5d\n",
              "9bvLHO3mn9ndBPwGYRNAh234sVS7D5erS2iw5k5KMXsc+JGHpjrazS/zT2nHQdpNwB8QNgF0iGEY\n",
              "LTt1d2cn0WrCpeJ7dtXvLkuQpJY7HQDwbYRNAB2y/odS7TlSrq5hwZo3iV1NuN7D09IUGmzRtsJT\n",
              "2l54yuxxAHQSYRNAuxmGoRfWO9qme7KT1atbmMkTwR/FRXfRbc3tJvfdBHwfYRNAu32+/7j2HqlQ\n",
              "t7BgzZnIribc56GpaQoLDtL2wtPaVkC7CfgywiaAdjl7V5NWE+42ILqLbs9q3t1cd0CGYZg8EYCL\n",
              "RdgE0C7/u++49pdUqHt4CK0mPOLBqakKCw7SjoO0m4AvI2wCuCC73WjZnZuVnayetJrwgNioLrpj\n",
              "DO0m4OsImwAu6LP9x/TjsUr1CA/R7IkDzR4HAeTBKWkKCwnSN0Vn9BXtJuCTCJsAfpWj1XTsat47\n",
              "PlnRXWk14Tn9oyL0+zGJkhz33aTdBHwPYRPAr/qffT+3mvdPYFcTnvfAlFSFhwQp99AZbc0/afY4\n",
              "ADqIsAngvOx2Q4ucreaEgYrqGmryRAhE/SIj9PvLaTcBX0XYBHBen+wt0U/HK9UjIkT3T2BXE+Z5\n",
              "YLKj3fyuuExf5NFuAr6EsAmgTbazWs37JwxUVBdaTZgnJjJCd12eJIl2E/A1HQ6beXl5ys7OVkZG\n",
              "hrKysrRv377zHmsYhqZNm6bo6OjOzAjABJ/sKVFeaZUiI0J0H60mvMD8KSmKCA3SLmuZNh84YfY4\n",
              "ANqpw2Fz3rx5mjt3rg4cOKCnnnpKs2bNOu+xf/7zn5WamtqZ+QCYwGY3tGi9o9WcPTFFkRG0mjBf\n",
              "TI8IzXS2m+vyaDcBH9GhsFlaWqrc3FzNnDlTkjRjxgxZrVbl5+efc+y+ffv04Ycf6g9/+INrJgXg\n",
              "MWt3H1V+c6s5a3yy2eMALeZNTlVEaJC+t5Zp00+0m4Av6FDYtFqtio2NVUhIiCTJYrEoMTFRxcXF\n",
              "rY5rbGzUnDlzlJOTo+Dg4F/9mPX19aqoqGj1sNlsHfwyALiKzW7oxeZWcw6tJrxM3x7huntcsiTe\n",
              "VQjwFW65QOjZZ5/VLbfcosGDB1/w2Oeee05RUVGtHjt27HDHWADa4ePvj6rgRLWiu4bSasIrzZ2U\n",
              "oi6hwdp9uFwbfiw1exwAF9ChsJmQkKCSkhI1NTVJclwAVFxcrMTExFbHbd68WYsXL1ZycrImTJig\n",
              "iooKJScn68SJc3/k8fTTT6u8vLzVY8yYMZ34kgBcrCabvVWr2YNWE16oT/dw3T3Osbv5ArubgNfr\n",
              "UNiMiYlRZmamVq1aJUlavXq14uPjlZaW1uq4LVu26NChQyoqKtLWrVsVGRmpoqIi9e3b95yPGR4e\n",
              "rsjIyFaPC/3oHYB7fLz7qApPVqtn11Ddk51s9jjAec2dlKKuYcHac6Rc63+g3QS8WYd/jJ6Tk6Oc\n",
              "nBxlZGTo+eef14oVKyRJs2fP1po1a1w+IADPcLSajov95kxKUffwEJMnAs6vd/efdzdfWM/uJuDN\n",
              "OvzdZNCgQdq2bds5v//qq6+2eXxycrLKyso6PBgAz/po11EdbG41nd/EAW82d1KK/rqtSHuPVOjz\n",
              "/cd11dD+Zo8EoA28gxAANdnsWrzBsas5d1IqrSZ8Qq9uYS3rHuxuAt6LsAlAH+w8oqJTNerVLazl\n",
              "wgvAF8yZmKJuYcHaX1Kh/9133OxxALSBsAkEuEabXYs3OHY1501KUTdaTfiQnt3CWm7R9cK6A7Lb\n",
              "aTcBb0PYBALcBzuPqPh0jfp0D9M/0WrCB82Z6Lig7cdjlfps/zGzxwHwC4RNIIA1nrWrOW9SqrqG\n",
              "0WrC90R3DdO9Le1mHu0m4GUIm0AAe/+7w7KerlWf7mG6a2zihf8C4KVmT0hRj+Z283/20W4C3oSw\n",
              "CQSohqafdzXnT6bVhG+L6hqqeycMlCQtot0EvAphEwhQq787rMNnatWne7juupxdTfi++ycMVI+I\n",
              "EP10vFKf7C0xexwAzQibQABqaLLrpeZW84EpqeoSxlvEwvdFdQnVfeN/bjdttJuAVyBsAgHovW8P\n",
              "60hZrWJ6hOuuy9nVhP+4r7ndzCut0id7aDcBb0DYBAJMQ5NdL2/8udWMCKXVhP+I6hKq2RNSJEmL\n",
              "1tNuAt6AsAkEmHdyrS2t5p1jaDXhf+6dkKzIiBDll1Zp7e6jZo8DBDzCJhBA6ptsLa3mg7Sa8FOR\n",
              "EaGaM9HRbr5IuwmYjrAJBJB3vrGqpLxO/SMjdAetJvzYrPHJiuoSqoIT1fr4e9pNwEyETSBA1DXa\n",
              "9PLGAknSg1NpNeHfekSEas5Ex5XpL67PU5PNbvJEQOAibAIB4p1cq45V1Ck2KkK3ZyWYPQ7gdvdk\n",
              "Jyu6a6gKT1brY3Y3AdMQNoEA4Gg1m3c1p6YpPIRWE/6vR6vdzXzaTcAkhE0gAPxtR7GOV9RrQFSE\n",
              "brss3uxxAI+5JztZPbuG6uDJan20i3YTMANhE/BzdY02Ldnk3NWk1URg6R4eormTUiVJizewuwmY\n",
              "gbAJ+Lm3vi5WaWW94qK76LbL2NVE4Ll7XJJ6dQtT0akafbDziNnjAAGHsAn4sbpGm5ZudrSaD01N\n",
              "U1gI/8sj8HQLD9HcSY7dzcUb8tVIuwl4FN95AD/25tfFOtHcat46ml1NBK67xyWpd7cwFZ+m3QQ8\n",
              "jbAJ+KnaBpuWNu9qPjKNVhOBrWtYiOZNdrabebSbgAfx3QfwU29+fUgnq+oV37OLZtBqApo5Nkl9\n",
              "uofJerpW73932OxxgIBB2AT8UE1Dk5Zt/rnVDA3mf3Wga1iI5k92Xpmer4Ym2k3AE/gOBPihVdsP\n",
              "6WRVgxJ7ddUtmbSagNNdlyepT/dwHT5Tq9W0m4BHEDYBP1PT0KSczYWSpIdpNYFWuoQFa37z7uZL\n",
              "tJuAR/BdCPAzf912SKeqG5TUu6tuGRVn9jiA15k5Nkl9e4TrSFmt3vuWdhNwN8Im4Eeq65uU84Wj\n",
              "1XxkWrpCaDWBc0SEBuuB5t3NlzfSbgLuxnciwI+s3HZIp6sblNy7q24aOcDscQCv9fvLExXT3G6+\n",
              "k2s1exzArxE2AT9RVd+k5V84r0Cn1QR+TURosB6c8nO7Wd9kM3kiwH/x3QjwE298VaQzNY0a2Keb\n",
              "bqTVBC7ojjGJ6hcZrpLyOr3zDe0m4C6ETcAPVNY16pUtjl3NR6en0WoC7eBoN9MkSS9vLFBdI+0m\n",
              "4A58RwL8wMpth1RW06iUvt10wwiuQAfa6/asBPWPjNCxijp2NwE3IWwCPq6yrlHLm69Af2x6uoKD\n",
              "LCZPBPiOiNBgPTT1591N2k3A9QibgI97/csildc2KrVvN103nF1NoKNuy0rQgKgIHa+o1992FJs9\n",
              "DuB3CJuAD6totatJqwlcjPCQYD041bG7uWQTu5uAqxE2AR+2YmuRKuqalBbTnVYT6ITfXRavAVER\n",
              "Kq2s11tf024CrkTYBHxUeW2jXt3KribgCuEhwXpomqPdXLqZdhNwJcIm4KNWfHlQlXVNyujXXb8d\n",
              "Fmv2OIDP+93oBMVFd9GJynq9SbsJuAxhE/BB5bWNem3rQUnSY9MzFESrCXRaWEiQHna2m5sKVNtA\n",
              "uwm4AmET8EGvbXW0moP69dBvLu1v9jiA37h1dLzie3bRyap6vfn1IbPHAfwCYRPwMeU1jVrhbDWv\n",
              "SKfVBFwoNDhIjzS3m8s2F6imocnkiQDfR9gEfMyrWwtVWd+kS/r30DVDaTUBV7slM14JvbroZFWD\n",
              "Vm2n3QQ6i7AJ+JCymgat+LJIkvQ4rSbgFqHBQXpkarokKWdzIe0m0EmETcCHvLrloKrqmzQ4NlJX\n",
              "DaHVBNzl5sw4JfbqqlPVDfrrNtpNoDMIm4CPOFPdoBVfOnY1aTUB9zp7dzPni0JV19NuAherw2Ez\n",
              "Ly9P2dnZysjIUFZWlvbt23fOMRs2bNCYMWM0ZMgQDR06VE8++aTsdrtLBgYC1StbClXdYNOQ2Ehd\n",
              "NaSf2eMAfu/mUXFK6t1Vp6sbtJJ2E7hoHQ6b8+bN09y5c3XgwAE99dRTmjVr1jnH9OzZU3/729+0\n",
              "f/9+ffvtt/rqq6+0cuVKV8wLBKTT1Q1646siSY5W02Kh1QTcLSQ4SI9Mc+xuLv+iQFW0m8BF6VDY\n",
              "LC0tVW5urmbOnClJmjFjhqxWq/Lz81sdN2rUKKWkpEiSIiIiNHLkSBUVFblmYiAALf/C0WpeGhep\n",
              "K2k1AY+5aeQADezTTWdqGlv+wQegYzoUNq1Wq2JjYxUSEiJJslgsSkxMVHHx+d/W69ixY3rvvfd0\n",
              "3XXXtfnn9fX1qqioaPWw2XjXBsDpVFW9Vm4rkiQ9Pj2DVhPwoJCzdjdf2VKoyrpGkycCfI9bLxCq\n",
              "qKjQ9ddfryeffFKXXXZZm8c899xzioqKavXYsWOHO8cCfMryLYWqabBpeHyUpg+OMXscIODcMGKA\n",
              "Uvp0U1lNI7ubwEXoUNhMSEhQSUmJmpoceyuGYai4uFiJiYnnHFtZWalrrrlGN954oxYsWHDej/n0\n",
              "00+rvLy81WPMmDEd/DIA/3Syql4rv3J8c2NXEzBHSHCQHp3u3N2k3QQ6qkNhMyYmRpmZmVq1apUk\n",
              "afXq1YqPj1daWlqr46qqqnTNNdfommuu0b/8y7/86scMDw9XZGRkq0dwcHAHvwzAPy3/olC1jTaN\n",
              "iI/S1EG0moBZrh8xQCl9u6m8tlGvN7+xAoD26fCP0XNycpSTk6OMjAw9//zzWrFihSRp9uzZWrNm\n",
              "jSRp0aJF2rFjh95//32NHDlSI0eO1H/8x3+4dnLAz52oPGtX8wp2NQEzBQdZ9Fhzu/nKlkJV0G4C\n",
              "7WYxDMMwe4hfWrBggRYuXGj2GICp/n3tfr269aBGJkTrgwezCZuAyWx2Q1e/8IXyS6v0xBUZeuyK\n",
              "dLNHAnwC7yAEeKHSyjqt+ppdTcCbBAdZWnY3X91aqPJa2k2gPQibgBfK2Vyouka7RiVGa3JGX7PH\n",
              "AdDst8NilR7TXZV1TS1vHwvg1xE2AS9TWlGnVdsdreYT7GoCXiU4yNLy4/PXth6k3QTagbAJeJml\n",
              "mwtU32RXZmK0Jqb3MXscAL9w7aWxyujnaDdf20q7CVwIYRPwIscr6vTm14535HriSlpNwBsFBVn0\n",
              "2PQMSdKKrQdVXkO7CfwawibgRZZuKlBDk12XJfXUhDRaTcBb/ebS/rqkfw9V1jfp1a2FZo8DeDXC\n",
              "JuAljpXX6a0dtJqALwg6676bK74sUllNg8kTAd6LsAl4iaWb8tXQZNeY5F7KTu1t9jgALuDqoY52\n",
              "s6q+Sa9uYXcTOB/CJuAFSspr9fYOqyTp8Su5rybgC4KCLHr8iubdzS8P6kw17SbQFsIm4AWWbCxQ\n",
              "g82uMQN7aVwKrSbgK64e2k9DYiNV3WDTK1vY3QTaQtgETHa0rFZ//8bRanJfTcC3WCw/33fzja+K\n",
              "dJp2EzgHYRMw2csb89Vgs2tsSi+NY1cT8DlXDemnoQMc7ebyL2g3gV8ibAImOnymRu/k/txqAvA9\n",
              "FsvPu5srtxXpVFW9yRMB3oWwCZhoyaYCNdoMZaf21uXsagI+64rBMRoWF6WaBpuWs7sJtELYBExy\n",
              "+EyN3m1uNR+n1QR8mqPddOxurvzqkE7SbgItCJuASV7emK9Gm6Hxab01ZmAvs8cB0EnTLonR8Pgo\n",
              "1TayuwmcjbAJmMB6ukbv5h6WxK4m4C9atZvbinSiknYTkAibgCle2pCvJruhiel9dFkyrSbgL6YO\n",
              "itGIhGjVNdqVs7nA7HEAr0DYBDys+FSN3vvO0Wqyqwn4l7PbzVVfH1JpZZ3JEwHmI2wCHvbSxjzZ\n",
              "7IYmZfTV6KSeZo8DwMWmZPTVyJZ2k91NgLAJeNChU9Va/d0RSWppPwD4F4vFoieudPzUYtX2Qyqt\n",
              "oN1EYCNsAh60eEO+bHZDkzP6KjORVhPwV5PS+ygzMVr1TXYtZXcTAY6wCXhI0clqfbDT0Wo6Ww8A\n",
              "/unsdxV68+tiHafdRAAjbAIe8uIGx67m1EGOfS4A/m1ieh+NTuqphia7lm6i3UTgImwCHlB4okof\n",
              "7nTuatJqAoHAYrG03Ef3rR3FOlZOu4nARNgEPOClDfmyG9L0Sxz34AMQGMan9VZWsrPdzDd7HMAU\n",
              "hE3AzQpOVOnDXbSaQCA6u918e4dVJeW1Jk8EeB5hE3CzxevzZDekKwbHaFh8lNnjAPCwcam9NSa5\n",
              "lxpsdi3ZyO4mAg9hE3Cj/NIqrfn+qCRaTSBQWSwWPX6l4766f//GqqNltJsILIRNwI1ebG41rxzS\n",
              "T5fG0WoCgSo7tY8uH+hoN1/eyO4mAgthE3CT/NJKfbzb2WrybkFAoHPeX/edXKuO0G4igBA2ATdZ\n",
              "tD5fhiFdPbSfhg6g1QQC3diU3hqX0luNNoN2EwGFsAm4wYHjlVrb3Go+Np1dTQAOzp9yvJtr1eEz\n",
              "NSZPA3gGYRNwg0Xr82QY0jVD+2vIgEizxwHgJS5P6a3sVNpNBBbCJuBiPx2r1Cd7SiRJj7GrCeAX\n",
              "nLub7+YelvU07Sb8H2ETcLFF6w/IMKRrh/XX4FhaTQCtZSX30oS0PmqyG3ppA+0m/B9hE3ChH49V\n",
              "6JM9x2SxsKsJ4PyeaL7v5urvDqv4FO0m/BthE3ChRevyJEnXDovVoP49TJ4GgLcandRLE9Ob282N\n",
              "eWaPA7gVYRNwkf1HK/TpXmerya4mgF/nfFex1d8d0aFT1SZPA7gPYRNwkUXrD0iSfjssVhn9aDUB\n",
              "/LrRST01KaOvbHZDi9ndhB8jbAIusO9ouf5333FaTQAd8kTzHSs+2HlERSdpN+GfCJuAC7zQvKt5\n",
              "/fABSqfVBNBOoxJ7asogR7v54gZ2N+GfCJtAJ+09Uq7P9x9XkEV6lFYTQAc5dzc/3HlEB2k34YcI\n",
              "m0AnOVvNG0YMUFpMd5OnAeBrRiZEa9olMbIb0uL1tJvwP4RNoBP2HC7Xuh8creYjtJoALpLzPdM/\n",
              "3HVEBSeqTJ4GcC3CJtAJL6xzXIF+48g4pfal1QRwcYbHR2s67Sb8FGETuEjfW8u0/sdSR6s5Lc3s\n",
              "cQD4OOfu5prvjyq/lHYT/qPDYTMvL0/Z2dnKyMhQVlaW9u3b1+Zxr732mtLT05Wamqo5c+aosbGx\n",
              "08MC3sTZat40Kk4ptJoAOmlYfJSuGNxPdkN6kXYTfqTDYXPevHmaO3euDhw4oKeeekqzZs0655iD\n",
              "Bw/qmWee0ZYtW5Sfn6/jx49r+fLlrpgX8Aq7rGXa+NMJBQdZ9Og0djUBuIZzd/Pj3UeVX1pp8jSA\n",
              "a3QobJaWlio3N1czZ86UJM2YMUNWq1X5+a3f+eC9997TDTfcoP79+8tisWj+/Pl6++23XTc1YDJn\n",
              "q3nzqDgl9+lm8jQA/MWlcVG6akg/GYa0aD3vKgT/ENKRg61Wq2JjYxUS4vhrFotFiYmJKi4uVlra\n",
              "zztrxcXFSkpKavl1cnKyiouL2/yY9fX1qq+vb/V7NputI2N1yvofjmvppgKPfT74Prth6LviMgUH\n",
              "WdjVBOByj12Rrs/2H9fa3Ud1tKxWFrMHgk9ZcGWGstP6mD1GKx0Km+7w3HPP6dlnn231e2PHjvXY\n",
              "5z9ZVa/cQ2c89vngP343Ol5JvWk1AbjW0AFR+u2wWP1jT4m+5fsTOuhMjfddI9OhsJmQkKCSkhI1\n",
              "NTUpJCREhmGouLhYiYmJrY5LTExUQcHPbWFRUdE5xzg9/fTTWrBgQavfe+aZZzoyVqdkp/bRspmZ\n",
              "Hvt88A9hIUHKTvWufzkC8B///63DdfOoODXZ7WaPAh8zIiHa7BHO0aGwGRMTo8zMTK1atUqzZs3S\n",
              "6tWrFR8f3+pH6JJjl3PChAn613/9V/Xr10/Lli3THXfc0ebHDA8PV3h4eKvfCw4O7uCXcfESenVV\n",
              "Qq+uHvt8AABcSLfwEF0xpJ/ZYwAu0eGr0XNycpSTk6OMjAw9//zzWrFihSRp9uzZWrNmjSQpJSVF\n",
              "zz77rMaPH6+0tDT17dtX8+bNc+3kAAAA8HoWwzAMs4f4pQULFmjhwoVmjwEAAIBO4h2EAAAA4DaE\n",
              "TQAAALgNYRMAAABuQ9gEAACA2xA2AQAA4DaETQAAALgNYRMAAABuQ9gEAACA2xA2AQAA4DZe+Q5C\n",
              "t9xyi5KTkz32+Ww2m3bs2KExY8Z49H3ZvR3n5fw4N23jvLSN83J+nJu2cV7Oj3PTNjPOS1JSkh57\n",
              "7LELHueVYdPTKioqFBUVpfLyckVGRpo9jtfgvJwf56ZtnJe2cV7Oj3PTNs7L+XFu2ubN54UfowMA\n",
              "AMBtCJsAAABwG8ImAAAA3IawKSk8PFx/+tOfFB4ebvYoXoXzcn6cm7ZxXtrGeTk/zk3bOC/nx7lp\n",
              "mzefFy4QAgAAgNvQbAIAAMBtCJsAAABwG8ImAAAA3CagwmZeXp6ys7OVkZGhrKws7du3r83jXnvt\n",
              "NaWnpys1NVVz5sxRY2Ojhyf1rPacl02bNqlLly4aOXJky6O2ttaEaT3n0UcfVXJysiwWi3bt2nXe\n",
              "4wLt+dKe8xKIz5e6ujrddNNNysjI0IgRI3TllVcqPz+/zWPXrl2rSy65ROnp6brllltUUVHh4Wk9\n",
              "q73npqioSMHBwa2eNwUFBSZM7DlXXXWVhg8frpEjR2rixInauXNnm8cF2uuM1L5zE4ivNU4rVqyQ\n",
              "xWLRhx9+2Oafe9XrjBFApk6daqxYscIwDMN49913jcsuu+ycYwoLC43Y2FijpKTEsNvtxvXXX2+8\n",
              "9NJLHp7Us9pzXjZu3GiMGDHCs4OZbPPmzYbVajWSkpKMnTt3tnlMID5f2nNeAvH5Ultba/zjH/8w\n",
              "7Ha7YRiGsXjxYmPy5MnnHFdZWWnExMQYP/zwg2EYhvHQQw8Z//zP/+zJUT2uvefm4MGDRlRUlGeH\n",
              "M9mZM2da/vv99983hg8ffs4xgfg6YxjtOzeB+FpjGI7/V8aNG2eMHTvW+OCDD875c297nQmYZrO0\n",
              "tFS5ubmaOXOmJGnGjBmyWq3n/Ov6vffe0w033KD+/fvLYrFo/vz5evvtt80Y2SPae14C0aRJkxQf\n",
              "H/+rxwTa80Vq33kJRBEREbr22mtlsVgkSWPHjlVRUdE5x3366acaNWqULrnkEknSgw8+6PfPmfae\n",
              "m0AUHR3d8t/l5eUt5+hsgfg6I7Xv3AQiu92u2bNna/Hixee9zZG3vc4ETNi0Wq2KjY1VSEiIJMli\n",
              "sSgxMVHFxcWtjisuLlZSUlLLr5OTk885xp+097xIUkFBgTIzM5WVlaUlS5Z4elSvFGjPl44I9OfL\n",
              "okWLdOONN57z+209Z0pKStTU1OTJ8Ux1vnMjSdXV1crKylJmZqb+7d/+TTabzcPTed7dd9+thIQE\n",
              "PfPMM/rrX/96zp8H8uvMhc6NFHivNQsXLtT48eM1evTo8x7jba8zIaZ8VviczMxMHT58WFFRUTp8\n",
              "+LCuvfZa9enTR7fddpvZo8ELBfrz5T//8z+Vn5+v9evXmz2K1/m1cxMbG6sjR44oJiZGp0+f1u23\n",
              "367//u//1pNPPmnCpJ6zcuVKSdIbb7yhp556Sp988onJE3mPC52bQHut2bt3r1avXq0vvvjC7FE6\n",
              "JGCazYSEhFap3jAMFRcXKzExsdVxiYmJOnToUMuvi4qKzjnGn7T3vERGRioqKkqSFB8frzvvvFNb\n",
              "tmzx+LzeJtCeL+0VyM+X//qv/9L777+vTz/9VF27dj3nz9t6zpz90wV/dqFzEx4erpiYGElSr169\n",
              "dN999wXM80aS7rnnHm3cuFGnTp1q9fu8zpz/3ATaa82WLVtUVFSk9PR0JScna/v27Zo7d66WLl3a\n",
              "6jhve50JmLAZExOjzMxMrVq1SpK0evVqxcfHKy0trdVxM2bM0Jo1a3Ts2DEZhqFly5bpjjvuMGNk\n",
              "j2jveSkpKZHdbpckVVZWau3atRo1apTH5/U2gfZ8aa9Afb4sXLhQb7/9tj7//PNW+2Znu+aaa/Td\n",
              "d9/pxx9/lCQtWbIkIJ4z7Tk3paWlLVdZ19fX6/333/fr501ZWZmOHj3a8usPP/xQvXv3Vq9evVod\n",
              "F4ivM+09N4H2WvPAAw+opKRERUVFKioq0tixY7V8+XI98MADrY7zutcZ0y5NMsGPP/5ojB071khP\n",
              "TzdGjx5t7N692zAMw7j//vuNjz76qOW45cuXGykpKUZKSopx3333GQ0NDWaN7BHtOS+LFy82hgwZ\n",
              "YgwfPtwYMmSI8ac//anlylJ/NXfuXCMuLs4IDg42YmJijNTUVMMweL6057wE4vPFarUakoyUlBRj\n",
              "xIgRxogRI4wxY8YYhmEYzzzzjLF06dKWYz/66CNj0KBBRmpqqnHjjTcaZWVlZo3tEe09N6tXrzaG\n",
              "Dh3a8rx5+OGHjbq6OjNHd6uioiIjKyvLuPTSS43hw4cb06dPb7nDQ6C/zrT33ATia83ZJk+e3HI1\n",
              "uje/zvDe6AAAAHCbgPkxOgAAADyPsAkAAAC3IWwCAADAbQibAAAAcBvCJgAAANyGsAkAAAC3IWwC\n",
              "AADAbQibAAAAcBvCJgAAANyGsAkAAAC3IWwCAADAbf4foBgsUasInBoAAAAASUVORK5CYII=\n",
              "\">\n",
              "      </div>\n",
              "      <script type=\"text/javascript\">\n",
              "        (() => {\n",
              "          const chartElement = document.getElementById(\"chart-3e4f7a82-a1d9-4ba3-8b5f-ad0083865ffa\");\n",
              "          async function getCodeForChartHandler(event) {\n",
              "            const chartCodeResponse =  await google.colab.kernel.invokeFunction(\n",
              "                'getCodeForChart', [\"chart-3e4f7a82-a1d9-4ba3-8b5f-ad0083865ffa\"], {});\n",
              "            const responseJson = chartCodeResponse.data['application/json'];\n",
              "            await google.colab.notebook.addCell(responseJson.code, 'code');\n",
              "          }\n",
              "          chartElement.onclick = getCodeForChartHandler;\n",
              "        })();\n",
              "      </script>\n",
              "      <style>\n",
              "        .colab-quickchart-chart-with-code  {\n",
              "            display: block;\n",
              "            float: left;\n",
              "            border: 1px solid transparent;\n",
              "        }\n",
              "\n",
              "        .colab-quickchart-chart-with-code:hover {\n",
              "            cursor: pointer;\n",
              "            border: 1px solid #aaa;\n",
              "        }\n",
              "      </style>"
            ]
          },
          "metadata": {}
        }
      ]
    },
    {
      "cell_type": "code",
      "source": [
        "np.random.rand(2,3)"
      ],
      "metadata": {
        "id": "h1ZbKD7CML0y",
        "outputId": "f128c867-6470-4dd8-aec9-f82877930323",
        "colab": {
          "base_uri": "https://localhost:8080/"
        }
      },
      "execution_count": null,
      "outputs": [
        {
          "output_type": "execute_result",
          "data": {
            "text/plain": [
              "array([[0.49886632, 0.86099543, 0.38264608],\n",
              "       [0.75168633, 0.09155072, 0.84478259]])"
            ]
          },
          "metadata": {},
          "execution_count": 79
        }
      ]
    },
    {
      "cell_type": "code",
      "source": [],
      "metadata": {
        "id": "-M-Hw-W2a6W5"
      },
      "execution_count": null,
      "outputs": []
    },
    {
      "cell_type": "code",
      "source": [
        "arr1=np.random.randint(1,5, (3,4)) //for importing the random elements in array"
      ],
      "metadata": {
        "id": "aYik3VVpMMBi"
      },
      "execution_count": null,
      "outputs": []
    },
    {
      "cell_type": "code",
      "source": [
        "arr1"
      ],
      "metadata": {
        "id": "MX4rBbtpMMNK",
        "outputId": "03d84bbc-d1b0-4e9e-9aec-581830e09615",
        "colab": {
          "base_uri": "https://localhost:8080/"
        }
      },
      "execution_count": null,
      "outputs": [
        {
          "output_type": "execute_result",
          "data": {
            "text/plain": [
              "array([[3, 1, 2, 4],\n",
              "       [1, 3, 3, 2],\n",
              "       [1, 2, 4, 1]])"
            ]
          },
          "metadata": {},
          "execution_count": 87
        }
      ]
    },
    {
      "cell_type": "code",
      "source": [
        "arr1.shape"
      ],
      "metadata": {
        "id": "JN3apBYBMMZG",
        "outputId": "2422806d-b2e0-48c4-f650-24a0007bb793",
        "colab": {
          "base_uri": "https://localhost:8080/"
        }
      },
      "execution_count": null,
      "outputs": [
        {
          "output_type": "execute_result",
          "data": {
            "text/plain": [
              "(3, 4)"
            ]
          },
          "metadata": {},
          "execution_count": 89
        }
      ]
    },
    {
      "cell_type": "code",
      "source": [
        "arr1.reshape(2,2,3)"
      ],
      "metadata": {
        "id": "ZYdbH0ODOtec",
        "outputId": "0202e8b1-e114-4193-acb0-56947adb6e5c",
        "colab": {
          "base_uri": "https://localhost:8080/"
        }
      },
      "execution_count": null,
      "outputs": [
        {
          "output_type": "execute_result",
          "data": {
            "text/plain": [
              "array([[[3, 1, 2],\n",
              "        [4, 1, 3]],\n",
              "\n",
              "       [[3, 2, 1],\n",
              "        [2, 4, 1]]])"
            ]
          },
          "metadata": {},
          "execution_count": 93
        }
      ]
    },
    {
      "cell_type": "code",
      "source": [
        "arr3=np.random.randint(1,8, (3,4))"
      ],
      "metadata": {
        "id": "aEtXUpYKOtx5"
      },
      "execution_count": null,
      "outputs": []
    },
    {
      "cell_type": "code",
      "source": [
        "arr3"
      ],
      "metadata": {
        "id": "hmeeXMCaOuHe",
        "outputId": "cde40adf-1662-4580-d013-2c3572ab3456",
        "colab": {
          "base_uri": "https://localhost:8080/"
        }
      },
      "execution_count": null,
      "outputs": [
        {
          "output_type": "execute_result",
          "data": {
            "text/plain": [
              "array([[1, 6, 4, 5],\n",
              "       [5, 6, 4, 3],\n",
              "       [2, 6, 7, 7]])"
            ]
          },
          "metadata": {},
          "execution_count": 100
        }
      ]
    },
    {
      "cell_type": "code",
      "source": [
        "arr3>4"
      ],
      "metadata": {
        "id": "1VIishrZOuUk",
        "outputId": "a525f226-61d7-4974-af4c-67de321f991c",
        "colab": {
          "base_uri": "https://localhost:8080/"
        }
      },
      "execution_count": null,
      "outputs": [
        {
          "output_type": "execute_result",
          "data": {
            "text/plain": [
              "array([[False,  True, False,  True],\n",
              "       [ True,  True, False, False],\n",
              "       [False,  True,  True,  True]])"
            ]
          },
          "metadata": {},
          "execution_count": 101
        }
      ]
    },
    {
      "cell_type": "code",
      "source": [
        "arr3[arr3>4]"
      ],
      "metadata": {
        "id": "UH-fo2EgOugF",
        "outputId": "a6b5f39e-1494-4f5f-b972-bd0bf45b1fcb",
        "colab": {
          "base_uri": "https://localhost:8080/"
        }
      },
      "execution_count": null,
      "outputs": [
        {
          "output_type": "execute_result",
          "data": {
            "text/plain": [
              "array([6, 5, 5, 6, 6, 7, 7])"
            ]
          },
          "metadata": {},
          "execution_count": 102
        }
      ]
    },
    {
      "cell_type": "code",
      "source": [
        "arr3"
      ],
      "metadata": {
        "id": "WElnP9ZHOusb",
        "outputId": "d83e9600-17a2-4036-baee-8d8bc3d80e29",
        "colab": {
          "base_uri": "https://localhost:8080/"
        }
      },
      "execution_count": null,
      "outputs": [
        {
          "output_type": "execute_result",
          "data": {
            "text/plain": [
              "array([[1, 6, 4, 5],\n",
              "       [5, 6, 4, 3],\n",
              "       [2, 6, 7, 7]])"
            ]
          },
          "metadata": {},
          "execution_count": 103
        }
      ]
    },
    {
      "cell_type": "code",
      "source": [
        "arr3[0]"
      ],
      "metadata": {
        "id": "2bT8hBbCOu4H",
        "outputId": "fefe4a73-265d-4343-b03a-5e535e9b4d19",
        "colab": {
          "base_uri": "https://localhost:8080/"
        }
      },
      "execution_count": null,
      "outputs": [
        {
          "output_type": "execute_result",
          "data": {
            "text/plain": [
              "array([1, 6, 4, 5])"
            ]
          },
          "metadata": {},
          "execution_count": 104
        }
      ]
    },
    {
      "cell_type": "code",
      "source": [
        "arr3[1,[1,2]]"
      ],
      "metadata": {
        "id": "jJvDgYY6Ovcj",
        "outputId": "549eb6ef-d906-4a4c-9b98-921851198299",
        "colab": {
          "base_uri": "https://localhost:8080/"
        }
      },
      "execution_count": null,
      "outputs": [
        {
          "output_type": "execute_result",
          "data": {
            "text/plain": [
              "array([6, 4])"
            ]
          },
          "metadata": {},
          "execution_count": 116
        }
      ]
    },
    {
      "cell_type": "code",
      "source": [
        "arr3[2:3,[1,2]]"
      ],
      "metadata": {
        "id": "3P9A5tCVOv5F",
        "outputId": "0b5589b1-ecad-45fc-f6b4-3cd41ef9d926",
        "colab": {
          "base_uri": "https://localhost:8080/"
        }
      },
      "execution_count": null,
      "outputs": [
        {
          "output_type": "execute_result",
          "data": {
            "text/plain": [
              "array([[6, 7]])"
            ]
          },
          "metadata": {},
          "execution_count": 119
        }
      ]
    },
    {
      "cell_type": "code",
      "source": [
        "arr1=np.random.randint(1,4,(3,3))\n",
        "arr2=np.random.randint(5,9,(3,3))"
      ],
      "metadata": {
        "id": "aJP7CiioOwGE"
      },
      "execution_count": null,
      "outputs": []
    },
    {
      "cell_type": "code",
      "source": [
        "arr1\n",
        "arr2"
      ],
      "metadata": {
        "id": "Q-c728_WOwRU",
        "outputId": "6ec7d603-594e-466a-c43c-1101027e829b",
        "colab": {
          "base_uri": "https://localhost:8080/"
        }
      },
      "execution_count": null,
      "outputs": [
        {
          "output_type": "execute_result",
          "data": {
            "text/plain": [
              "array([[6, 6, 7],\n",
              "       [6, 7, 8],\n",
              "       [7, 7, 8]])"
            ]
          },
          "metadata": {},
          "execution_count": 122
        }
      ]
    },
    {
      "cell_type": "code",
      "source": [
        "arr2"
      ],
      "metadata": {
        "id": "5ShmuoZzOwtR",
        "outputId": "a2c44f1c-d5d2-4bab-93f5-b46a4b0510fb",
        "colab": {
          "base_uri": "https://localhost:8080/"
        }
      },
      "execution_count": null,
      "outputs": [
        {
          "output_type": "execute_result",
          "data": {
            "text/plain": [
              "array([[6, 6, 7],\n",
              "       [6, 7, 8],\n",
              "       [7, 7, 8]])"
            ]
          },
          "metadata": {},
          "execution_count": 123
        }
      ]
    },
    {
      "cell_type": "code",
      "source": [
        "arr1"
      ],
      "metadata": {
        "id": "eKfYJ_DcOxQM",
        "outputId": "ac549781-955e-4f09-be20-8844f5e8e2ef",
        "colab": {
          "base_uri": "https://localhost:8080/"
        }
      },
      "execution_count": null,
      "outputs": [
        {
          "output_type": "execute_result",
          "data": {
            "text/plain": [
              "array([[3, 2, 3],\n",
              "       [1, 2, 2],\n",
              "       [1, 1, 3]])"
            ]
          },
          "metadata": {},
          "execution_count": 124
        }
      ]
    },
    {
      "cell_type": "code",
      "source": [
        "arr1+arr2"
      ],
      "metadata": {
        "id": "PvCjRnz1Oxj6",
        "outputId": "8af130a0-8269-4e6a-e57d-ad8d4975a36c",
        "colab": {
          "base_uri": "https://localhost:8080/"
        }
      },
      "execution_count": null,
      "outputs": [
        {
          "output_type": "execute_result",
          "data": {
            "text/plain": [
              "array([[ 9,  8, 10],\n",
              "       [ 7,  9, 10],\n",
              "       [ 8,  8, 11]])"
            ]
          },
          "metadata": {},
          "execution_count": 127
        }
      ]
    },
    {
      "cell_type": "code",
      "source": [
        "# Array Manupilation"
      ],
      "metadata": {
        "id": "wQzE0mWQOxz9"
      },
      "execution_count": null,
      "outputs": []
    },
    {
      "cell_type": "code",
      "source": [
        "import numpy as np //for impoting the power of araay and matrix formation"
      ],
      "metadata": {
        "id": "SW1pl-VwZsU1"
      },
      "execution_count": 2,
      "outputs": []
    },
    {
      "cell_type": "code",
      "source": [
        "arr=np.random.randint(1,10, (4,4))"
      ],
      "metadata": {
        "id": "DdIpnzBcMMjW"
      },
      "execution_count": 7,
      "outputs": []
    },
    {
      "cell_type": "code",
      "source": [
        "arr1=arr.reshape(2,8) //reshapes the array"
      ],
      "metadata": {
        "id": "CKX_-kj3MMsr"
      },
      "execution_count": 14,
      "outputs": []
    },
    {
      "cell_type": "markdown",
      "source": [
        "arr.T"
      ],
      "metadata": {
        "id": "O7mzvSV8MM1p"
      }
    },
    {
      "cell_type": "code",
      "source": [
        "arr1.T"
      ],
      "metadata": {
        "id": "TLRtPNY1aPkH",
        "outputId": "d562bf06-8af3-4e41-f650-7c58a946be52",
        "colab": {
          "base_uri": "https://localhost:8080/"
        }
      },
      "execution_count": 15,
      "outputs": [
        {
          "output_type": "execute_result",
          "data": {
            "text/plain": [
              "array([[5, 5],\n",
              "       [3, 6],\n",
              "       [7, 9],\n",
              "       [7, 1],\n",
              "       [8, 9],\n",
              "       [6, 1],\n",
              "       [3, 8],\n",
              "       [9, 5]])"
            ]
          },
          "metadata": {},
          "execution_count": 15
        }
      ]
    },
    {
      "cell_type": "code",
      "source": [
        "arr.flatten() //convert the 2d array into a single array"
      ],
      "metadata": {
        "id": "ChhzP0gjaP5-",
        "outputId": "2650b314-a2d9-4dcc-90ee-ef802342958f",
        "colab": {
          "base_uri": "https://localhost:8080/"
        }
      },
      "execution_count": 16,
      "outputs": [
        {
          "output_type": "execute_result",
          "data": {
            "text/plain": [
              "array([5, 3, 7, 7, 8, 6, 3, 9, 5, 6, 9, 1, 9, 1, 8, 5])"
            ]
          },
          "metadata": {},
          "execution_count": 16
        }
      ]
    },
    {
      "cell_type": "code",
      "source": [
        "arr"
      ],
      "metadata": {
        "id": "rIRsINXEaQzO",
        "outputId": "eda31a82-c20c-4395-be4f-3ab0ddfe6283",
        "colab": {
          "base_uri": "https://localhost:8080/"
        }
      },
      "execution_count": 19,
      "outputs": [
        {
          "output_type": "execute_result",
          "data": {
            "text/plain": [
              "array([[5, 3, 7, 7],\n",
              "       [8, 6, 3, 9],\n",
              "       [5, 6, 9, 1],\n",
              "       [9, 1, 8, 5]])"
            ]
          },
          "metadata": {},
          "execution_count": 19
        }
      ]
    },
    {
      "cell_type": "code",
      "source": [
        "np.expand_dims(arr,axis=1) //forming the dimension the array forming differetent rows"
      ],
      "metadata": {
        "id": "V9gSsjmhaRBg",
        "outputId": "4d6fcee8-4b08-4cd4-ef6d-e021741117f6",
        "colab": {
          "base_uri": "https://localhost:8080/"
        }
      },
      "execution_count": 21,
      "outputs": [
        {
          "output_type": "execute_result",
          "data": {
            "text/plain": [
              "array([[[5, 3, 7, 7]],\n",
              "\n",
              "       [[8, 6, 3, 9]],\n",
              "\n",
              "       [[5, 6, 9, 1]],\n",
              "\n",
              "       [[9, 1, 8, 5]]])"
            ]
          },
          "metadata": {},
          "execution_count": 21
        }
      ]
    },
    {
      "cell_type": "code",
      "source": [
        "data=np.array([[1],[2],[3]])"
      ],
      "metadata": {
        "id": "GFEQvhGfaRst"
      },
      "execution_count": 22,
      "outputs": []
    },
    {
      "cell_type": "code",
      "source": [
        "np.squeeze(data)  //squeezes the n dimension array into single dimenion array"
      ],
      "metadata": {
        "id": "PM5Tr8rwaR7b",
        "outputId": "d5661ccc-a257-40ad-bb1a-4216d08133c7",
        "colab": {
          "base_uri": "https://localhost:8080/"
        }
      },
      "execution_count": 23,
      "outputs": [
        {
          "output_type": "execute_result",
          "data": {
            "text/plain": [
              "array([1, 2, 3])"
            ]
          },
          "metadata": {},
          "execution_count": 23
        }
      ]
    },
    {
      "cell_type": "code",
      "source": [
        "np.repeat(data,2)  //repeates the eleemtns"
      ],
      "metadata": {
        "id": "mUD5MJezaV6h",
        "outputId": "9f84843f-bcd3-4172-d94a-a22e6d4c53cc",
        "colab": {
          "base_uri": "https://localhost:8080/"
        }
      },
      "execution_count": 24,
      "outputs": [
        {
          "output_type": "execute_result",
          "data": {
            "text/plain": [
              "array([1, 1, 2, 2, 3, 3])"
            ]
          },
          "metadata": {},
          "execution_count": 24
        }
      ]
    },
    {
      "cell_type": "code",
      "source": [
        "np.roll(data,2)  //repeats the data by 2 times in arary"
      ],
      "metadata": {
        "id": "kaZtzyoWaWKZ",
        "outputId": "7b809161-6f97-4c14-aedf-c2e2719be01c",
        "colab": {
          "base_uri": "https://localhost:8080/"
        }
      },
      "execution_count": 26,
      "outputs": [
        {
          "output_type": "execute_result",
          "data": {
            "text/plain": [
              "array([[2],\n",
              "       [3],\n",
              "       [1]])"
            ]
          },
          "metadata": {},
          "execution_count": 26
        }
      ]
    },
    {
      "cell_type": "code",
      "source": [
        "np.diag(np.array([1,2,3]))  //converts into diagonal"
      ],
      "metadata": {
        "id": "EllR_V7raWZJ",
        "outputId": "83f44dcd-3de2-43a0-fcf9-2ec7020118fe",
        "colab": {
          "base_uri": "https://localhost:8080/"
        }
      },
      "execution_count": 27,
      "outputs": [
        {
          "output_type": "execute_result",
          "data": {
            "text/plain": [
              "array([[1, 0, 0],\n",
              "       [0, 2, 0],\n",
              "       [0, 0, 3]])"
            ]
          },
          "metadata": {},
          "execution_count": 27
        }
      ]
    },
    {
      "cell_type": "code",
      "source": [
        "arr1=np.random.randint(1,10,(3,3))\n",
        "arr2=np.random.randint(1,10,(3,3))"
      ],
      "metadata": {
        "id": "WLKeeeFiaWo8"
      },
      "execution_count": 28,
      "outputs": []
    },
    {
      "cell_type": "code",
      "source": [
        "arr1+arr2"
      ],
      "metadata": {
        "id": "qNMbtaD_aW3B",
        "outputId": "bef00128-fa5d-4873-ba0c-98744aaff0a6",
        "colab": {
          "base_uri": "https://localhost:8080/"
        }
      },
      "execution_count": 29,
      "outputs": [
        {
          "output_type": "execute_result",
          "data": {
            "text/plain": [
              "array([[13, 10,  7],\n",
              "       [ 8,  4,  3],\n",
              "       [ 7, 14,  4]])"
            ]
          },
          "metadata": {},
          "execution_count": 29
        }
      ]
    },
    {
      "cell_type": "code",
      "source": [
        "arr1*arr2"
      ],
      "metadata": {
        "id": "e84uk407aXG0",
        "outputId": "5ca78295-0718-4c6b-a1b9-490a1fab9029",
        "colab": {
          "base_uri": "https://localhost:8080/"
        }
      },
      "execution_count": 30,
      "outputs": [
        {
          "output_type": "execute_result",
          "data": {
            "text/plain": [
              "array([[42,  9, 12],\n",
              "       [15,  3,  2],\n",
              "       [ 6, 45,  3]])"
            ]
          },
          "metadata": {},
          "execution_count": 30
        }
      ]
    },
    {
      "cell_type": "code",
      "source": [
        "arr1/arr2"
      ],
      "metadata": {
        "id": "qdEqAuNfaXVk",
        "outputId": "d63fbe02-54ff-4293-9f53-0d44879e39ec",
        "colab": {
          "base_uri": "https://localhost:8080/"
        }
      },
      "execution_count": 31,
      "outputs": [
        {
          "output_type": "execute_result",
          "data": {
            "text/plain": [
              "array([[0.85714286, 0.11111111, 1.33333333],\n",
              "       [0.6       , 0.33333333, 2.        ],\n",
              "       [0.16666667, 0.55555556, 3.        ]])"
            ]
          },
          "metadata": {},
          "execution_count": 31
        }
      ]
    },
    {
      "cell_type": "code",
      "source": [
        "arr1-arr2"
      ],
      "metadata": {
        "id": "bP5nUCDqaXkV",
        "outputId": "e26a005f-39d4-4751-dd88-46e3f91966c3",
        "colab": {
          "base_uri": "https://localhost:8080/"
        }
      },
      "execution_count": 32,
      "outputs": [
        {
          "output_type": "execute_result",
          "data": {
            "text/plain": [
              "array([[-1, -8,  1],\n",
              "       [-2, -2,  1],\n",
              "       [-5, -4,  2]])"
            ]
          },
          "metadata": {},
          "execution_count": 32
        }
      ]
    },
    {
      "cell_type": "code",
      "source": [
        "arr1**arr2"
      ],
      "metadata": {
        "id": "OejQVBSDaX0X",
        "outputId": "5393d74b-f735-4482-955a-f1cd8517fe61",
        "colab": {
          "base_uri": "https://localhost:8080/"
        }
      },
      "execution_count": 33,
      "outputs": [
        {
          "output_type": "execute_result",
          "data": {
            "text/plain": [
              "array([[ 279936,       1,      64],\n",
              "       [    243,       1,       2],\n",
              "       [      1, 1953125,       3]])"
            ]
          },
          "metadata": {},
          "execution_count": 33
        }
      ]
    },
    {
      "cell_type": "code",
      "source": [
        "~arr1"
      ],
      "metadata": {
        "id": "SIc5eWCfaYCY",
        "outputId": "9706776a-0093-4930-83bb-564e4d37f461",
        "colab": {
          "base_uri": "https://localhost:8080/"
        }
      },
      "execution_count": 34,
      "outputs": [
        {
          "output_type": "execute_result",
          "data": {
            "text/plain": [
              "array([[-7, -2, -5],\n",
              "       [-4, -2, -3],\n",
              "       [-2, -6, -4]])"
            ]
          },
          "metadata": {},
          "execution_count": 34
        }
      ]
    },
    {
      "cell_type": "code",
      "source": [
        "arr1>arr2"
      ],
      "metadata": {
        "id": "rpHzZoSJaYvN",
        "outputId": "a6e171d6-24c7-401b-9dd4-9ffa0ae35c8c",
        "colab": {
          "base_uri": "https://localhost:8080/"
        }
      },
      "execution_count": 35,
      "outputs": [
        {
          "output_type": "execute_result",
          "data": {
            "text/plain": [
              "array([[False, False,  True],\n",
              "       [False, False,  True],\n",
              "       [False, False,  True]])"
            ]
          },
          "metadata": {},
          "execution_count": 35
        }
      ]
    },
    {
      "cell_type": "code",
      "source": [
        "# numpy in string"
      ],
      "metadata": {
        "id": "u2IOMg3NaY78"
      },
      "execution_count": null,
      "outputs": []
    },
    {
      "cell_type": "code",
      "source": [
        "arr=np.array([\"hello\",\"world\"])"
      ],
      "metadata": {
        "id": "5hMkoYgeaZHl"
      },
      "execution_count": 36,
      "outputs": []
    },
    {
      "cell_type": "code",
      "source": [
        "arr"
      ],
      "metadata": {
        "id": "p-fe56H5eyUk",
        "outputId": "f376b90b-bd92-4a7a-aa90-98c5c93ea483",
        "colab": {
          "base_uri": "https://localhost:8080/"
        }
      },
      "execution_count": 37,
      "outputs": [
        {
          "output_type": "execute_result",
          "data": {
            "text/plain": [
              "array(['hello', 'world'], dtype='<U5')"
            ]
          },
          "metadata": {},
          "execution_count": 37
        }
      ]
    },
    {
      "cell_type": "code",
      "source": [
        "np.char.upper(arr)"
      ],
      "metadata": {
        "id": "RVkfM9xkaZTP",
        "outputId": "7d57d02b-5fd2-4a90-df52-7cad6e9859bd",
        "colab": {
          "base_uri": "https://localhost:8080/"
        }
      },
      "execution_count": 39,
      "outputs": [
        {
          "output_type": "execute_result",
          "data": {
            "text/plain": [
              "array(['HELLO', 'WORLD'], dtype='<U5')"
            ]
          },
          "metadata": {},
          "execution_count": 39
        }
      ]
    },
    {
      "cell_type": "code",
      "source": [
        "np.char.capitalize(arr)"
      ],
      "metadata": {
        "id": "BhhpNSfhaZfK",
        "outputId": "6b98a5bf-54e6-40fb-cdb0-165098d3c643",
        "colab": {
          "base_uri": "https://localhost:8080/"
        }
      },
      "execution_count": 41,
      "outputs": [
        {
          "output_type": "execute_result",
          "data": {
            "text/plain": [
              "array(['Hello', 'World'], dtype='<U5')"
            ]
          },
          "metadata": {},
          "execution_count": 41
        }
      ]
    },
    {
      "cell_type": "code",
      "source": [
        "np.char.title(arr)"
      ],
      "metadata": {
        "id": "Hn3_iOKOaZr5",
        "outputId": "5fbcbe6e-0e8a-4621-a73e-79ba1366416e",
        "colab": {
          "base_uri": "https://localhost:8080/"
        }
      },
      "execution_count": 43,
      "outputs": [
        {
          "output_type": "execute_result",
          "data": {
            "text/plain": [
              "array(['Hello', 'World'], dtype='<U5')"
            ]
          },
          "metadata": {},
          "execution_count": 43
        }
      ]
    },
    {
      "cell_type": "code",
      "source": [
        "np.sin(arr1)"
      ],
      "metadata": {
        "id": "u_bCRgInaZ4T",
        "outputId": "ba435962-b996-4c8b-f978-83c6409e3d77",
        "colab": {
          "base_uri": "https://localhost:8080/"
        }
      },
      "execution_count": 45,
      "outputs": [
        {
          "output_type": "execute_result",
          "data": {
            "text/plain": [
              "array([[-0.2794155 ,  0.84147098, -0.7568025 ],\n",
              "       [ 0.14112001,  0.84147098,  0.90929743],\n",
              "       [ 0.84147098, -0.95892427,  0.14112001]])"
            ]
          },
          "metadata": {},
          "execution_count": 45
        }
      ]
    },
    {
      "cell_type": "code",
      "source": [
        "np.cos(arr1)"
      ],
      "metadata": {
        "id": "WMCpk8ckfDRc",
        "outputId": "aa7f9460-0337-48bc-a249-7eadf302d27d",
        "colab": {
          "base_uri": "https://localhost:8080/"
        }
      },
      "execution_count": 46,
      "outputs": [
        {
          "output_type": "execute_result",
          "data": {
            "text/plain": [
              "array([[ 0.96017029,  0.54030231, -0.65364362],\n",
              "       [-0.9899925 ,  0.54030231, -0.41614684],\n",
              "       [ 0.54030231,  0.28366219, -0.9899925 ]])"
            ]
          },
          "metadata": {},
          "execution_count": 46
        }
      ]
    },
    {
      "cell_type": "code",
      "source": [
        "np.tan(arr1)"
      ],
      "metadata": {
        "id": "Jzc3axx-fDbH",
        "outputId": "609a3b35-0739-48b3-a912-11758aa7e49b",
        "colab": {
          "base_uri": "https://localhost:8080/"
        }
      },
      "execution_count": 47,
      "outputs": [
        {
          "output_type": "execute_result",
          "data": {
            "text/plain": [
              "array([[-0.29100619,  1.55740772,  1.15782128],\n",
              "       [-0.14254654,  1.55740772, -2.18503986],\n",
              "       [ 1.55740772, -3.38051501, -0.14254654]])"
            ]
          },
          "metadata": {},
          "execution_count": 47
        }
      ]
    },
    {
      "cell_type": "code",
      "source": [
        "np.log(arr1)"
      ],
      "metadata": {
        "id": "nfC0jc_TfD-A",
        "outputId": "09f0bb05-7d28-4976-ca9e-52aa8f044910",
        "colab": {
          "base_uri": "https://localhost:8080/"
        }
      },
      "execution_count": 48,
      "outputs": [
        {
          "output_type": "execute_result",
          "data": {
            "text/plain": [
              "array([[1.79175947, 0.        , 1.38629436],\n",
              "       [1.09861229, 0.        , 0.69314718],\n",
              "       [0.        , 1.60943791, 1.09861229]])"
            ]
          },
          "metadata": {},
          "execution_count": 48
        }
      ]
    },
    {
      "cell_type": "code",
      "source": [
        "np.power(arr1,2)"
      ],
      "metadata": {
        "id": "y14lkpEBfEnU",
        "outputId": "66464e11-84e4-47e7-ecd6-dc4042c1e0d1",
        "colab": {
          "base_uri": "https://localhost:8080/"
        }
      },
      "execution_count": 52,
      "outputs": [
        {
          "output_type": "execute_result",
          "data": {
            "text/plain": [
              "array([[36,  1, 16],\n",
              "       [ 9,  1,  4],\n",
              "       [ 1, 25,  9]])"
            ]
          },
          "metadata": {},
          "execution_count": 52
        }
      ]
    },
    {
      "cell_type": "code",
      "source": [
        "np.median(arr1)"
      ],
      "metadata": {
        "id": "nml2MD7ifE6q",
        "outputId": "48a4294f-8c60-459d-c52c-7ac8a1895e7f",
        "colab": {
          "base_uri": "https://localhost:8080/"
        }
      },
      "execution_count": 53,
      "outputs": [
        {
          "output_type": "execute_result",
          "data": {
            "text/plain": [
              "3.0"
            ]
          },
          "metadata": {},
          "execution_count": 53
        }
      ]
    },
    {
      "cell_type": "code",
      "source": [
        "np.max(arr1)"
      ],
      "metadata": {
        "id": "Xc19G2IIfFJw",
        "outputId": "f7c20e68-cfba-4a7b-dea2-042aca44e89d",
        "colab": {
          "base_uri": "https://localhost:8080/"
        }
      },
      "execution_count": 54,
      "outputs": [
        {
          "output_type": "execute_result",
          "data": {
            "text/plain": [
              "6"
            ]
          },
          "metadata": {},
          "execution_count": 54
        }
      ]
    },
    {
      "cell_type": "code",
      "source": [
        "np.min(arr1)"
      ],
      "metadata": {
        "id": "Bgbn1xRtfFWq",
        "outputId": "091adc4a-719d-4445-b1e6-858f6268e972",
        "colab": {
          "base_uri": "https://localhost:8080/"
        }
      },
      "execution_count": 55,
      "outputs": [
        {
          "output_type": "execute_result",
          "data": {
            "text/plain": [
              "1"
            ]
          },
          "metadata": {},
          "execution_count": 55
        }
      ]
    },
    {
      "cell_type": "code",
      "source": [
        "np.multiply(arr1,arr2)"
      ],
      "metadata": {
        "id": "nhzSKe_ffF8F",
        "outputId": "4721ca81-4acd-4da7-81b0-04499913f84c",
        "colab": {
          "base_uri": "https://localhost:8080/"
        }
      },
      "execution_count": 56,
      "outputs": [
        {
          "output_type": "execute_result",
          "data": {
            "text/plain": [
              "array([[42,  9, 12],\n",
              "       [15,  3,  2],\n",
              "       [ 6, 45,  3]])"
            ]
          },
          "metadata": {},
          "execution_count": 56
        }
      ]
    },
    {
      "cell_type": "code",
      "source": [
        "np.sqrt(arr1)"
      ],
      "metadata": {
        "id": "zCwQW60hfGMj",
        "outputId": "80500b91-e55f-4d8c-80c4-5c4472ec6ab7",
        "colab": {
          "base_uri": "https://localhost:8080/"
        }
      },
      "execution_count": 57,
      "outputs": [
        {
          "output_type": "execute_result",
          "data": {
            "text/plain": [
              "array([[2.44948974, 1.        , 2.        ],\n",
              "       [1.73205081, 1.        , 1.41421356],\n",
              "       [1.        , 2.23606798, 1.73205081]])"
            ]
          },
          "metadata": {},
          "execution_count": 57
        }
      ]
    },
    {
      "cell_type": "code",
      "source": [
        "# statistical operation"
      ],
      "metadata": {
        "id": "SnMKXGM-fGat"
      },
      "execution_count": null,
      "outputs": []
    },
    {
      "cell_type": "code",
      "source": [
        "np.mean(arr1)"
      ],
      "metadata": {
        "id": "recQxwknfGn_",
        "outputId": "b7da1cde-a340-44fb-eff4-3f3a172a4d60",
        "colab": {
          "base_uri": "https://localhost:8080/"
        }
      },
      "execution_count": 58,
      "outputs": [
        {
          "output_type": "execute_result",
          "data": {
            "text/plain": [
              "2.888888888888889"
            ]
          },
          "metadata": {},
          "execution_count": 58
        }
      ]
    },
    {
      "cell_type": "code",
      "source": [
        "np.median(arr1)"
      ],
      "metadata": {
        "id": "CWs7SawZfG0v",
        "outputId": "754c27f4-f946-4da3-d92a-4483fb8fe397",
        "colab": {
          "base_uri": "https://localhost:8080/"
        }
      },
      "execution_count": 59,
      "outputs": [
        {
          "output_type": "execute_result",
          "data": {
            "text/plain": [
              "3.0"
            ]
          },
          "metadata": {},
          "execution_count": 59
        }
      ]
    },
    {
      "cell_type": "code",
      "source": [
        "# sort, search,counting operations"
      ],
      "metadata": {
        "id": "QV-dlLyifHA-"
      },
      "execution_count": null,
      "outputs": []
    },
    {
      "cell_type": "code",
      "source": [
        "import numpy as np"
      ],
      "metadata": {
        "id": "QraDu55ufHOK"
      },
      "execution_count": 60,
      "outputs": []
    },
    {
      "cell_type": "code",
      "source": [
        "arr=np.array([5,1,9,3,6])"
      ],
      "metadata": {
        "id": "euPt8dhNfHbZ"
      },
      "execution_count": 64,
      "outputs": []
    },
    {
      "cell_type": "code",
      "source": [
        "np.sort(arr)"
      ],
      "metadata": {
        "id": "VDXEcDOyfHnR",
        "outputId": "cb208eb2-cfd4-43d5-bed2-393e86a166d3",
        "colab": {
          "base_uri": "https://localhost:8080/"
        }
      },
      "execution_count": 65,
      "outputs": [
        {
          "output_type": "execute_result",
          "data": {
            "text/plain": [
              "array([1, 3, 5, 6, 9])"
            ]
          },
          "metadata": {},
          "execution_count": 65
        }
      ]
    },
    {
      "cell_type": "code",
      "source": [
        "np.searchsorted(arr,4)"
      ],
      "metadata": {
        "id": "nKKGdGHnfH0O",
        "outputId": "b3d90ee3-14e2-4476-9d5b-7126d610914a",
        "colab": {
          "base_uri": "https://localhost:8080/"
        }
      },
      "execution_count": 70,
      "outputs": [
        {
          "output_type": "execute_result",
          "data": {
            "text/plain": [
              "2"
            ]
          },
          "metadata": {},
          "execution_count": 70
        }
      ]
    },
    {
      "cell_type": "code",
      "source": [
        "arr1=np.array([1,2,3,0,0,7,0,5,0,3,0,4,4,4,4])"
      ],
      "metadata": {
        "id": "QwolHK_RfIA4"
      },
      "execution_count": 73,
      "outputs": []
    },
    {
      "cell_type": "code",
      "source": [
        "np.count_nonzero(arr1)"
      ],
      "metadata": {
        "id": "ZKexkWixfINz",
        "outputId": "c1ee9235-38f5-40c5-d11b-dd132e0c7bfb",
        "colab": {
          "base_uri": "https://localhost:8080/"
        }
      },
      "execution_count": 74,
      "outputs": [
        {
          "output_type": "execute_result",
          "data": {
            "text/plain": [
              "10"
            ]
          },
          "metadata": {},
          "execution_count": 74
        }
      ]
    },
    {
      "cell_type": "code",
      "source": [
        "np.where(arr1>0)  //on which indices the numbers are greater than zero"
      ],
      "metadata": {
        "id": "ywHEWOunfIaQ",
        "outputId": "e115d43c-c70a-4f04-f68d-048748c4cf97",
        "colab": {
          "base_uri": "https://localhost:8080/"
        }
      },
      "execution_count": 75,
      "outputs": [
        {
          "output_type": "execute_result",
          "data": {
            "text/plain": [
              "(array([ 0,  1,  2,  5,  7,  9, 11, 12, 13, 14]),)"
            ]
          },
          "metadata": {},
          "execution_count": 75
        }
      ]
    },
    {
      "cell_type": "code",
      "source": [
        "np.extract(arr1>2,arr1)"
      ],
      "metadata": {
        "id": "PfUOgEByfIml",
        "outputId": "8f94a65f-b478-4aa4-8479-c6490913307a",
        "colab": {
          "base_uri": "https://localhost:8080/"
        }
      },
      "execution_count": 76,
      "outputs": [
        {
          "output_type": "execute_result",
          "data": {
            "text/plain": [
              "array([3, 7, 5, 3, 4, 4, 4, 4])"
            ]
          },
          "metadata": {},
          "execution_count": 76
        }
      ]
    },
    {
      "cell_type": "code",
      "source": [
        "# byte swapping"
      ],
      "metadata": {
        "id": "wR-VktapfIz7"
      },
      "execution_count": null,
      "outputs": []
    },
    {
      "cell_type": "code",
      "source": [
        "arr1.byteswap()"
      ],
      "metadata": {
        "id": "wPVGSFS0fJBt",
        "outputId": "c0543ddd-5d28-42f2-b3f4-b817ecba2967",
        "colab": {
          "base_uri": "https://localhost:8080/"
        }
      },
      "execution_count": 78,
      "outputs": [
        {
          "output_type": "execute_result",
          "data": {
            "text/plain": [
              "array([ 72057594037927936, 144115188075855872, 216172782113783808,\n",
              "                        0,                  0, 504403158265495552,\n",
              "                        0, 360287970189639680,                  0,\n",
              "       216172782113783808,                  0, 288230376151711744,\n",
              "       288230376151711744, 288230376151711744, 288230376151711744])"
            ]
          },
          "metadata": {},
          "execution_count": 78
        }
      ]
    },
    {
      "cell_type": "code",
      "source": [
        "# cpies and views"
      ],
      "metadata": {
        "id": "Bf4vH4iEfJO3"
      },
      "execution_count": null,
      "outputs": []
    },
    {
      "cell_type": "code",
      "source": [
        "a=np.copy(arr1)"
      ],
      "metadata": {
        "id": "cZKmw2oRfJbo"
      },
      "execution_count": 79,
      "outputs": []
    },
    {
      "cell_type": "code",
      "source": [
        "b=arr1.view()"
      ],
      "metadata": {
        "id": "xt86os4WfJn6"
      },
      "execution_count": 81,
      "outputs": []
    },
    {
      "cell_type": "code",
      "source": [
        "b[0]=234"
      ],
      "metadata": {
        "id": "6N717e8GfJ1P"
      },
      "execution_count": 82,
      "outputs": []
    },
    {
      "cell_type": "code",
      "source": [
        "b"
      ],
      "metadata": {
        "id": "bGjzdNSgfKCw",
        "outputId": "8d41df20-64f6-49fe-9bdb-9625644e645f",
        "colab": {
          "base_uri": "https://localhost:8080/"
        }
      },
      "execution_count": 83,
      "outputs": [
        {
          "output_type": "execute_result",
          "data": {
            "text/plain": [
              "array([234,   2,   3,   0,   0,   7,   0,   5,   0,   3,   0,   4,   4,\n",
              "         4,   4])"
            ]
          },
          "metadata": {},
          "execution_count": 83
        }
      ]
    },
    {
      "cell_type": "code",
      "source": [
        "# matrix library"
      ],
      "metadata": {
        "id": "p9Ulzo0NfKOo"
      },
      "execution_count": null,
      "outputs": []
    },
    {
      "cell_type": "code",
      "source": [
        "import numpy.matlib as nm"
      ],
      "metadata": {
        "id": "sFibQ1jIfKbO"
      },
      "execution_count": 84,
      "outputs": []
    },
    {
      "cell_type": "code",
      "source": [
        "nm.zeros(5)"
      ],
      "metadata": {
        "id": "G34-AfRJfKnp"
      },
      "execution_count": null,
      "outputs": []
    },
    {
      "cell_type": "code",
      "source": [],
      "metadata": {
        "id": "gwHcHQgofK1V"
      },
      "execution_count": null,
      "outputs": []
    },
    {
      "cell_type": "code",
      "source": [],
      "metadata": {
        "id": "imXb_WzDfLAT"
      },
      "execution_count": null,
      "outputs": []
    },
    {
      "cell_type": "code",
      "source": [],
      "metadata": {
        "id": "0UaErTqofLLz"
      },
      "execution_count": null,
      "outputs": []
    },
    {
      "cell_type": "code",
      "source": [],
      "metadata": {
        "id": "NVC4P4y6fLWy"
      },
      "execution_count": null,
      "outputs": []
    },
    {
      "cell_type": "code",
      "source": [],
      "metadata": {
        "id": "g_hRnuyLaaDQ"
      },
      "execution_count": null,
      "outputs": []
    }
  ],
  "metadata": {
    "colab": {
      "name": "Welcome To Colaboratory",
      "provenance": [],
      "include_colab_link": true
    },
    "kernelspec": {
      "display_name": "Python 3",
      "name": "python3"
    }
  },
  "nbformat": 4,
  "nbformat_minor": 0
}